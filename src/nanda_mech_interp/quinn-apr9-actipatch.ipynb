{
  "nbformat": 4,
  "nbformat_minor": 0,
  "metadata": {
    "colab": {
      "provenance": [],
      "collapsed_sections": [
        "4tMUXBzZfFBT",
        "DA58_fsdfVe_"
      ],
      "gpuType": "T4"
    },
    "kernelspec": {
      "name": "python3",
      "display_name": "Python 3"
    },
    "language_info": {
      "name": "python"
    },
    "accelerator": "GPU",
    "widgets": {
      "application/vnd.jupyter.widget-state+json": {
        "9c25b73e8d6748298c86f372951b6282": {
          "model_module": "@jupyter-widgets/controls",
          "model_name": "HBoxModel",
          "model_module_version": "1.5.0",
          "state": {
            "_dom_classes": [],
            "_model_module": "@jupyter-widgets/controls",
            "_model_module_version": "1.5.0",
            "_model_name": "HBoxModel",
            "_view_count": null,
            "_view_module": "@jupyter-widgets/controls",
            "_view_module_version": "1.5.0",
            "_view_name": "HBoxView",
            "box_style": "",
            "children": [
              "IPY_MODEL_684e2a4a3e3f440c818abce02ef95fb1",
              "IPY_MODEL_d09b151caac64e95a19af89767a3197d",
              "IPY_MODEL_9415b74fa2374de787af4981736ece9e"
            ],
            "layout": "IPY_MODEL_a12f69b3e19744d09e23ad4c0ebff4ac"
          }
        },
        "684e2a4a3e3f440c818abce02ef95fb1": {
          "model_module": "@jupyter-widgets/controls",
          "model_name": "HTMLModel",
          "model_module_version": "1.5.0",
          "state": {
            "_dom_classes": [],
            "_model_module": "@jupyter-widgets/controls",
            "_model_module_version": "1.5.0",
            "_model_name": "HTMLModel",
            "_view_count": null,
            "_view_module": "@jupyter-widgets/controls",
            "_view_module_version": "1.5.0",
            "_view_name": "HTMLView",
            "description": "",
            "description_tooltip": null,
            "layout": "IPY_MODEL_8b1f8151ec7644e3a90fbddff5820f30",
            "placeholder": "​",
            "style": "IPY_MODEL_581f5119f0b24a48bacfa58e29e2bffa",
            "value": "100%"
          }
        },
        "d09b151caac64e95a19af89767a3197d": {
          "model_module": "@jupyter-widgets/controls",
          "model_name": "FloatProgressModel",
          "model_module_version": "1.5.0",
          "state": {
            "_dom_classes": [],
            "_model_module": "@jupyter-widgets/controls",
            "_model_module_version": "1.5.0",
            "_model_name": "FloatProgressModel",
            "_view_count": null,
            "_view_module": "@jupyter-widgets/controls",
            "_view_module_version": "1.5.0",
            "_view_name": "ProgressView",
            "bar_style": "success",
            "description": "",
            "description_tooltip": null,
            "layout": "IPY_MODEL_fecf9214ba4940f08f8e8e84c8dedf35",
            "max": 180,
            "min": 0,
            "orientation": "horizontal",
            "style": "IPY_MODEL_17bc7e00339f4542b9f57916d3fa0785",
            "value": 180
          }
        },
        "9415b74fa2374de787af4981736ece9e": {
          "model_module": "@jupyter-widgets/controls",
          "model_name": "HTMLModel",
          "model_module_version": "1.5.0",
          "state": {
            "_dom_classes": [],
            "_model_module": "@jupyter-widgets/controls",
            "_model_module_version": "1.5.0",
            "_model_name": "HTMLModel",
            "_view_count": null,
            "_view_module": "@jupyter-widgets/controls",
            "_view_module_version": "1.5.0",
            "_view_name": "HTMLView",
            "description": "",
            "description_tooltip": null,
            "layout": "IPY_MODEL_2a0ca69c9e0e461184a1a5e736ba5a3f",
            "placeholder": "​",
            "style": "IPY_MODEL_fd2034d6995d4424a1293e2f460e0604",
            "value": " 180/180 [00:27&lt;00:00,  6.25it/s]"
          }
        },
        "a12f69b3e19744d09e23ad4c0ebff4ac": {
          "model_module": "@jupyter-widgets/base",
          "model_name": "LayoutModel",
          "model_module_version": "1.2.0",
          "state": {
            "_model_module": "@jupyter-widgets/base",
            "_model_module_version": "1.2.0",
            "_model_name": "LayoutModel",
            "_view_count": null,
            "_view_module": "@jupyter-widgets/base",
            "_view_module_version": "1.2.0",
            "_view_name": "LayoutView",
            "align_content": null,
            "align_items": null,
            "align_self": null,
            "border": null,
            "bottom": null,
            "display": null,
            "flex": null,
            "flex_flow": null,
            "grid_area": null,
            "grid_auto_columns": null,
            "grid_auto_flow": null,
            "grid_auto_rows": null,
            "grid_column": null,
            "grid_gap": null,
            "grid_row": null,
            "grid_template_areas": null,
            "grid_template_columns": null,
            "grid_template_rows": null,
            "height": null,
            "justify_content": null,
            "justify_items": null,
            "left": null,
            "margin": null,
            "max_height": null,
            "max_width": null,
            "min_height": null,
            "min_width": null,
            "object_fit": null,
            "object_position": null,
            "order": null,
            "overflow": null,
            "overflow_x": null,
            "overflow_y": null,
            "padding": null,
            "right": null,
            "top": null,
            "visibility": null,
            "width": null
          }
        },
        "8b1f8151ec7644e3a90fbddff5820f30": {
          "model_module": "@jupyter-widgets/base",
          "model_name": "LayoutModel",
          "model_module_version": "1.2.0",
          "state": {
            "_model_module": "@jupyter-widgets/base",
            "_model_module_version": "1.2.0",
            "_model_name": "LayoutModel",
            "_view_count": null,
            "_view_module": "@jupyter-widgets/base",
            "_view_module_version": "1.2.0",
            "_view_name": "LayoutView",
            "align_content": null,
            "align_items": null,
            "align_self": null,
            "border": null,
            "bottom": null,
            "display": null,
            "flex": null,
            "flex_flow": null,
            "grid_area": null,
            "grid_auto_columns": null,
            "grid_auto_flow": null,
            "grid_auto_rows": null,
            "grid_column": null,
            "grid_gap": null,
            "grid_row": null,
            "grid_template_areas": null,
            "grid_template_columns": null,
            "grid_template_rows": null,
            "height": null,
            "justify_content": null,
            "justify_items": null,
            "left": null,
            "margin": null,
            "max_height": null,
            "max_width": null,
            "min_height": null,
            "min_width": null,
            "object_fit": null,
            "object_position": null,
            "order": null,
            "overflow": null,
            "overflow_x": null,
            "overflow_y": null,
            "padding": null,
            "right": null,
            "top": null,
            "visibility": null,
            "width": null
          }
        },
        "581f5119f0b24a48bacfa58e29e2bffa": {
          "model_module": "@jupyter-widgets/controls",
          "model_name": "DescriptionStyleModel",
          "model_module_version": "1.5.0",
          "state": {
            "_model_module": "@jupyter-widgets/controls",
            "_model_module_version": "1.5.0",
            "_model_name": "DescriptionStyleModel",
            "_view_count": null,
            "_view_module": "@jupyter-widgets/base",
            "_view_module_version": "1.2.0",
            "_view_name": "StyleView",
            "description_width": ""
          }
        },
        "fecf9214ba4940f08f8e8e84c8dedf35": {
          "model_module": "@jupyter-widgets/base",
          "model_name": "LayoutModel",
          "model_module_version": "1.2.0",
          "state": {
            "_model_module": "@jupyter-widgets/base",
            "_model_module_version": "1.2.0",
            "_model_name": "LayoutModel",
            "_view_count": null,
            "_view_module": "@jupyter-widgets/base",
            "_view_module_version": "1.2.0",
            "_view_name": "LayoutView",
            "align_content": null,
            "align_items": null,
            "align_self": null,
            "border": null,
            "bottom": null,
            "display": null,
            "flex": null,
            "flex_flow": null,
            "grid_area": null,
            "grid_auto_columns": null,
            "grid_auto_flow": null,
            "grid_auto_rows": null,
            "grid_column": null,
            "grid_gap": null,
            "grid_row": null,
            "grid_template_areas": null,
            "grid_template_columns": null,
            "grid_template_rows": null,
            "height": null,
            "justify_content": null,
            "justify_items": null,
            "left": null,
            "margin": null,
            "max_height": null,
            "max_width": null,
            "min_height": null,
            "min_width": null,
            "object_fit": null,
            "object_position": null,
            "order": null,
            "overflow": null,
            "overflow_x": null,
            "overflow_y": null,
            "padding": null,
            "right": null,
            "top": null,
            "visibility": null,
            "width": null
          }
        },
        "17bc7e00339f4542b9f57916d3fa0785": {
          "model_module": "@jupyter-widgets/controls",
          "model_name": "ProgressStyleModel",
          "model_module_version": "1.5.0",
          "state": {
            "_model_module": "@jupyter-widgets/controls",
            "_model_module_version": "1.5.0",
            "_model_name": "ProgressStyleModel",
            "_view_count": null,
            "_view_module": "@jupyter-widgets/base",
            "_view_module_version": "1.2.0",
            "_view_name": "StyleView",
            "bar_color": null,
            "description_width": ""
          }
        },
        "2a0ca69c9e0e461184a1a5e736ba5a3f": {
          "model_module": "@jupyter-widgets/base",
          "model_name": "LayoutModel",
          "model_module_version": "1.2.0",
          "state": {
            "_model_module": "@jupyter-widgets/base",
            "_model_module_version": "1.2.0",
            "_model_name": "LayoutModel",
            "_view_count": null,
            "_view_module": "@jupyter-widgets/base",
            "_view_module_version": "1.2.0",
            "_view_name": "LayoutView",
            "align_content": null,
            "align_items": null,
            "align_self": null,
            "border": null,
            "bottom": null,
            "display": null,
            "flex": null,
            "flex_flow": null,
            "grid_area": null,
            "grid_auto_columns": null,
            "grid_auto_flow": null,
            "grid_auto_rows": null,
            "grid_column": null,
            "grid_gap": null,
            "grid_row": null,
            "grid_template_areas": null,
            "grid_template_columns": null,
            "grid_template_rows": null,
            "height": null,
            "justify_content": null,
            "justify_items": null,
            "left": null,
            "margin": null,
            "max_height": null,
            "max_width": null,
            "min_height": null,
            "min_width": null,
            "object_fit": null,
            "object_position": null,
            "order": null,
            "overflow": null,
            "overflow_x": null,
            "overflow_y": null,
            "padding": null,
            "right": null,
            "top": null,
            "visibility": null,
            "width": null
          }
        },
        "fd2034d6995d4424a1293e2f460e0604": {
          "model_module": "@jupyter-widgets/controls",
          "model_name": "DescriptionStyleModel",
          "model_module_version": "1.5.0",
          "state": {
            "_model_module": "@jupyter-widgets/controls",
            "_model_module_version": "1.5.0",
            "_model_name": "DescriptionStyleModel",
            "_view_count": null,
            "_view_module": "@jupyter-widgets/base",
            "_view_module_version": "1.2.0",
            "_view_name": "StyleView",
            "description_width": ""
          }
        },
        "53c87ce459fb4f58a45acb1468b91da1": {
          "model_module": "@jupyter-widgets/controls",
          "model_name": "HBoxModel",
          "model_module_version": "1.5.0",
          "state": {
            "_dom_classes": [],
            "_model_module": "@jupyter-widgets/controls",
            "_model_module_version": "1.5.0",
            "_model_name": "HBoxModel",
            "_view_count": null,
            "_view_module": "@jupyter-widgets/controls",
            "_view_module_version": "1.5.0",
            "_view_name": "HBoxView",
            "box_style": "",
            "children": [
              "IPY_MODEL_b439435b417c416eb042b0951ecb0075",
              "IPY_MODEL_2844b9cf88e54e00a98dbc60f1672778",
              "IPY_MODEL_4fcae5953b8a40209bc920e3a10ce522"
            ],
            "layout": "IPY_MODEL_21b1f72fa36446829c7e879df4c1a39f"
          }
        },
        "b439435b417c416eb042b0951ecb0075": {
          "model_module": "@jupyter-widgets/controls",
          "model_name": "HTMLModel",
          "model_module_version": "1.5.0",
          "state": {
            "_dom_classes": [],
            "_model_module": "@jupyter-widgets/controls",
            "_model_module_version": "1.5.0",
            "_model_name": "HTMLModel",
            "_view_count": null,
            "_view_module": "@jupyter-widgets/controls",
            "_view_module_version": "1.5.0",
            "_view_name": "HTMLView",
            "description": "",
            "description_tooltip": null,
            "layout": "IPY_MODEL_754628d1de4f47c7aa44250bbc3f0a9c",
            "placeholder": "​",
            "style": "IPY_MODEL_5ab226494a194f2cabb29b14fcb631b4",
            "value": "100%"
          }
        },
        "2844b9cf88e54e00a98dbc60f1672778": {
          "model_module": "@jupyter-widgets/controls",
          "model_name": "FloatProgressModel",
          "model_module_version": "1.5.0",
          "state": {
            "_dom_classes": [],
            "_model_module": "@jupyter-widgets/controls",
            "_model_module_version": "1.5.0",
            "_model_name": "FloatProgressModel",
            "_view_count": null,
            "_view_module": "@jupyter-widgets/controls",
            "_view_module_version": "1.5.0",
            "_view_name": "ProgressView",
            "bar_style": "success",
            "description": "",
            "description_tooltip": null,
            "layout": "IPY_MODEL_04cb37deca0f496db169af843dcc88da",
            "max": 144,
            "min": 0,
            "orientation": "horizontal",
            "style": "IPY_MODEL_2d780f5c5fe843fda60f516e6c796fd1",
            "value": 144
          }
        },
        "4fcae5953b8a40209bc920e3a10ce522": {
          "model_module": "@jupyter-widgets/controls",
          "model_name": "HTMLModel",
          "model_module_version": "1.5.0",
          "state": {
            "_dom_classes": [],
            "_model_module": "@jupyter-widgets/controls",
            "_model_module_version": "1.5.0",
            "_model_name": "HTMLModel",
            "_view_count": null,
            "_view_module": "@jupyter-widgets/controls",
            "_view_module_version": "1.5.0",
            "_view_name": "HTMLView",
            "description": "",
            "description_tooltip": null,
            "layout": "IPY_MODEL_d9f9aa84c5c1489aabc53394aefd030f",
            "placeholder": "​",
            "style": "IPY_MODEL_fa98e9cb589d4aa2867aec5788842964",
            "value": " 144/144 [00:16&lt;00:00, 10.78it/s]"
          }
        },
        "21b1f72fa36446829c7e879df4c1a39f": {
          "model_module": "@jupyter-widgets/base",
          "model_name": "LayoutModel",
          "model_module_version": "1.2.0",
          "state": {
            "_model_module": "@jupyter-widgets/base",
            "_model_module_version": "1.2.0",
            "_model_name": "LayoutModel",
            "_view_count": null,
            "_view_module": "@jupyter-widgets/base",
            "_view_module_version": "1.2.0",
            "_view_name": "LayoutView",
            "align_content": null,
            "align_items": null,
            "align_self": null,
            "border": null,
            "bottom": null,
            "display": null,
            "flex": null,
            "flex_flow": null,
            "grid_area": null,
            "grid_auto_columns": null,
            "grid_auto_flow": null,
            "grid_auto_rows": null,
            "grid_column": null,
            "grid_gap": null,
            "grid_row": null,
            "grid_template_areas": null,
            "grid_template_columns": null,
            "grid_template_rows": null,
            "height": null,
            "justify_content": null,
            "justify_items": null,
            "left": null,
            "margin": null,
            "max_height": null,
            "max_width": null,
            "min_height": null,
            "min_width": null,
            "object_fit": null,
            "object_position": null,
            "order": null,
            "overflow": null,
            "overflow_x": null,
            "overflow_y": null,
            "padding": null,
            "right": null,
            "top": null,
            "visibility": null,
            "width": null
          }
        },
        "754628d1de4f47c7aa44250bbc3f0a9c": {
          "model_module": "@jupyter-widgets/base",
          "model_name": "LayoutModel",
          "model_module_version": "1.2.0",
          "state": {
            "_model_module": "@jupyter-widgets/base",
            "_model_module_version": "1.2.0",
            "_model_name": "LayoutModel",
            "_view_count": null,
            "_view_module": "@jupyter-widgets/base",
            "_view_module_version": "1.2.0",
            "_view_name": "LayoutView",
            "align_content": null,
            "align_items": null,
            "align_self": null,
            "border": null,
            "bottom": null,
            "display": null,
            "flex": null,
            "flex_flow": null,
            "grid_area": null,
            "grid_auto_columns": null,
            "grid_auto_flow": null,
            "grid_auto_rows": null,
            "grid_column": null,
            "grid_gap": null,
            "grid_row": null,
            "grid_template_areas": null,
            "grid_template_columns": null,
            "grid_template_rows": null,
            "height": null,
            "justify_content": null,
            "justify_items": null,
            "left": null,
            "margin": null,
            "max_height": null,
            "max_width": null,
            "min_height": null,
            "min_width": null,
            "object_fit": null,
            "object_position": null,
            "order": null,
            "overflow": null,
            "overflow_x": null,
            "overflow_y": null,
            "padding": null,
            "right": null,
            "top": null,
            "visibility": null,
            "width": null
          }
        },
        "5ab226494a194f2cabb29b14fcb631b4": {
          "model_module": "@jupyter-widgets/controls",
          "model_name": "DescriptionStyleModel",
          "model_module_version": "1.5.0",
          "state": {
            "_model_module": "@jupyter-widgets/controls",
            "_model_module_version": "1.5.0",
            "_model_name": "DescriptionStyleModel",
            "_view_count": null,
            "_view_module": "@jupyter-widgets/base",
            "_view_module_version": "1.2.0",
            "_view_name": "StyleView",
            "description_width": ""
          }
        },
        "04cb37deca0f496db169af843dcc88da": {
          "model_module": "@jupyter-widgets/base",
          "model_name": "LayoutModel",
          "model_module_version": "1.2.0",
          "state": {
            "_model_module": "@jupyter-widgets/base",
            "_model_module_version": "1.2.0",
            "_model_name": "LayoutModel",
            "_view_count": null,
            "_view_module": "@jupyter-widgets/base",
            "_view_module_version": "1.2.0",
            "_view_name": "LayoutView",
            "align_content": null,
            "align_items": null,
            "align_self": null,
            "border": null,
            "bottom": null,
            "display": null,
            "flex": null,
            "flex_flow": null,
            "grid_area": null,
            "grid_auto_columns": null,
            "grid_auto_flow": null,
            "grid_auto_rows": null,
            "grid_column": null,
            "grid_gap": null,
            "grid_row": null,
            "grid_template_areas": null,
            "grid_template_columns": null,
            "grid_template_rows": null,
            "height": null,
            "justify_content": null,
            "justify_items": null,
            "left": null,
            "margin": null,
            "max_height": null,
            "max_width": null,
            "min_height": null,
            "min_width": null,
            "object_fit": null,
            "object_position": null,
            "order": null,
            "overflow": null,
            "overflow_x": null,
            "overflow_y": null,
            "padding": null,
            "right": null,
            "top": null,
            "visibility": null,
            "width": null
          }
        },
        "2d780f5c5fe843fda60f516e6c796fd1": {
          "model_module": "@jupyter-widgets/controls",
          "model_name": "ProgressStyleModel",
          "model_module_version": "1.5.0",
          "state": {
            "_model_module": "@jupyter-widgets/controls",
            "_model_module_version": "1.5.0",
            "_model_name": "ProgressStyleModel",
            "_view_count": null,
            "_view_module": "@jupyter-widgets/base",
            "_view_module_version": "1.2.0",
            "_view_name": "StyleView",
            "bar_color": null,
            "description_width": ""
          }
        },
        "d9f9aa84c5c1489aabc53394aefd030f": {
          "model_module": "@jupyter-widgets/base",
          "model_name": "LayoutModel",
          "model_module_version": "1.2.0",
          "state": {
            "_model_module": "@jupyter-widgets/base",
            "_model_module_version": "1.2.0",
            "_model_name": "LayoutModel",
            "_view_count": null,
            "_view_module": "@jupyter-widgets/base",
            "_view_module_version": "1.2.0",
            "_view_name": "LayoutView",
            "align_content": null,
            "align_items": null,
            "align_self": null,
            "border": null,
            "bottom": null,
            "display": null,
            "flex": null,
            "flex_flow": null,
            "grid_area": null,
            "grid_auto_columns": null,
            "grid_auto_flow": null,
            "grid_auto_rows": null,
            "grid_column": null,
            "grid_gap": null,
            "grid_row": null,
            "grid_template_areas": null,
            "grid_template_columns": null,
            "grid_template_rows": null,
            "height": null,
            "justify_content": null,
            "justify_items": null,
            "left": null,
            "margin": null,
            "max_height": null,
            "max_width": null,
            "min_height": null,
            "min_width": null,
            "object_fit": null,
            "object_position": null,
            "order": null,
            "overflow": null,
            "overflow_x": null,
            "overflow_y": null,
            "padding": null,
            "right": null,
            "top": null,
            "visibility": null,
            "width": null
          }
        },
        "fa98e9cb589d4aa2867aec5788842964": {
          "model_module": "@jupyter-widgets/controls",
          "model_name": "DescriptionStyleModel",
          "model_module_version": "1.5.0",
          "state": {
            "_model_module": "@jupyter-widgets/controls",
            "_model_module_version": "1.5.0",
            "_model_name": "DescriptionStyleModel",
            "_view_count": null,
            "_view_module": "@jupyter-widgets/base",
            "_view_module_version": "1.2.0",
            "_view_name": "StyleView",
            "description_width": ""
          }
        }
      }
    }
  },
  "cells": [
    {
      "cell_type": "markdown",
      "source": [
        "# Setup"
      ],
      "metadata": {
        "id": "4tMUXBzZfFBT"
      }
    },
    {
      "cell_type": "code",
      "execution_count": 1,
      "metadata": {
        "colab": {
          "base_uri": "https://localhost:8080/"
        },
        "id": "m36zuZfPy7Qc",
        "outputId": "ddd23bb0-0f1e-4cd6-a353-0c257fcfe3d1"
      },
      "outputs": [
        {
          "output_type": "stream",
          "name": "stdout",
          "text": [
            "Running as a Colab notebook\n",
            "Requirement already satisfied: circuitsvis in /usr/local/lib/python3.10/dist-packages (1.43.2)\n",
            "Requirement already satisfied: importlib-metadata>=5.1.0 in /usr/local/lib/python3.10/dist-packages (from circuitsvis) (7.1.0)\n",
            "Requirement already satisfied: numpy>=1.24 in /usr/local/lib/python3.10/dist-packages (from circuitsvis) (1.25.2)\n",
            "Requirement already satisfied: nvidia-cublas-cu12==12.1.3.1 in /usr/local/lib/python3.10/dist-packages (from circuitsvis) (12.1.3.1)\n",
            "Requirement already satisfied: nvidia-cuda-cupti-cu12==12.1.105 in /usr/local/lib/python3.10/dist-packages (from circuitsvis) (12.1.105)\n",
            "Requirement already satisfied: nvidia-cuda-nvrtc-cu12==12.1.105 in /usr/local/lib/python3.10/dist-packages (from circuitsvis) (12.1.105)\n",
            "Requirement already satisfied: nvidia-cuda-runtime-cu12==12.1.105 in /usr/local/lib/python3.10/dist-packages (from circuitsvis) (12.1.105)\n",
            "Requirement already satisfied: nvidia-cudnn-cu12==8.9.2.26 in /usr/local/lib/python3.10/dist-packages (from circuitsvis) (8.9.2.26)\n",
            "Requirement already satisfied: nvidia-cufft-cu12==11.0.2.54 in /usr/local/lib/python3.10/dist-packages (from circuitsvis) (11.0.2.54)\n",
            "Requirement already satisfied: nvidia-curand-cu12==10.3.2.106 in /usr/local/lib/python3.10/dist-packages (from circuitsvis) (10.3.2.106)\n",
            "Requirement already satisfied: nvidia-cusolver-cu12==11.4.5.107 in /usr/local/lib/python3.10/dist-packages (from circuitsvis) (11.4.5.107)\n",
            "Requirement already satisfied: nvidia-cusparse-cu12==12.1.0.106 in /usr/local/lib/python3.10/dist-packages (from circuitsvis) (12.1.0.106)\n",
            "Requirement already satisfied: nvidia-nccl-cu12==2.18.1 in /usr/local/lib/python3.10/dist-packages (from circuitsvis) (2.18.1)\n",
            "Requirement already satisfied: nvidia-nvtx-cu12==12.1.105 in /usr/local/lib/python3.10/dist-packages (from circuitsvis) (12.1.105)\n",
            "Requirement already satisfied: torch>=1.10 in /usr/local/lib/python3.10/dist-packages (from circuitsvis) (2.1.2)\n",
            "Requirement already satisfied: triton==2.1.0 in /usr/local/lib/python3.10/dist-packages (from circuitsvis) (2.1.0)\n",
            "Requirement already satisfied: nvidia-nvjitlink-cu12 in /usr/local/lib/python3.10/dist-packages (from nvidia-cusolver-cu12==11.4.5.107->circuitsvis) (12.4.127)\n",
            "Requirement already satisfied: filelock in /usr/local/lib/python3.10/dist-packages (from triton==2.1.0->circuitsvis) (3.13.3)\n",
            "Requirement already satisfied: zipp>=0.5 in /usr/local/lib/python3.10/dist-packages (from importlib-metadata>=5.1.0->circuitsvis) (3.18.1)\n",
            "Requirement already satisfied: typing-extensions in /usr/local/lib/python3.10/dist-packages (from torch>=1.10->circuitsvis) (4.10.0)\n",
            "Requirement already satisfied: sympy in /usr/local/lib/python3.10/dist-packages (from torch>=1.10->circuitsvis) (1.12)\n",
            "Requirement already satisfied: networkx in /usr/local/lib/python3.10/dist-packages (from torch>=1.10->circuitsvis) (3.2.1)\n",
            "Requirement already satisfied: jinja2 in /usr/local/lib/python3.10/dist-packages (from torch>=1.10->circuitsvis) (3.1.3)\n",
            "Requirement already satisfied: fsspec in /usr/local/lib/python3.10/dist-packages (from torch>=1.10->circuitsvis) (2023.6.0)\n",
            "Requirement already satisfied: MarkupSafe>=2.0 in /usr/local/lib/python3.10/dist-packages (from jinja2->torch>=1.10->circuitsvis) (2.1.5)\n",
            "Requirement already satisfied: mpmath>=0.19 in /usr/local/lib/python3.10/dist-packages (from sympy->torch>=1.10->circuitsvis) (1.3.0)\n",
            "Requirement already satisfied: transformer_lens in /usr/local/lib/python3.10/dist-packages (1.15.0)\n",
            "Requirement already satisfied: accelerate>=0.23.0 in /usr/local/lib/python3.10/dist-packages (from transformer_lens) (0.29.2)\n",
            "Requirement already satisfied: beartype<0.15.0,>=0.14.1 in /usr/local/lib/python3.10/dist-packages (from transformer_lens) (0.14.1)\n",
            "Requirement already satisfied: better-abc<0.0.4,>=0.0.3 in /usr/local/lib/python3.10/dist-packages (from transformer_lens) (0.0.3)\n",
            "Requirement already satisfied: datasets>=2.7.1 in /usr/local/lib/python3.10/dist-packages (from transformer_lens) (2.18.0)\n",
            "Requirement already satisfied: einops>=0.6.0 in /usr/local/lib/python3.10/dist-packages (from transformer_lens) (0.7.0)\n",
            "Requirement already satisfied: fancy-einsum>=0.0.3 in /usr/local/lib/python3.10/dist-packages (from transformer_lens) (0.0.3)\n",
            "Requirement already satisfied: jaxtyping>=0.2.11 in /usr/local/lib/python3.10/dist-packages (from transformer_lens) (0.2.28)\n",
            "Requirement already satisfied: numpy>=1.24 in /usr/local/lib/python3.10/dist-packages (from transformer_lens) (1.25.2)\n",
            "Requirement already satisfied: pandas>=1.1.5 in /usr/local/lib/python3.10/dist-packages (from transformer_lens) (2.0.3)\n",
            "Requirement already satisfied: rich>=12.6.0 in /usr/local/lib/python3.10/dist-packages (from transformer_lens) (13.7.1)\n",
            "Requirement already satisfied: torch!=2.0,!=2.1.0,>=1.10 in /usr/local/lib/python3.10/dist-packages (from transformer_lens) (2.1.2)\n",
            "Requirement already satisfied: tqdm>=4.64.1 in /usr/local/lib/python3.10/dist-packages (from transformer_lens) (4.66.2)\n",
            "Requirement already satisfied: transformers>=4.37.2 in /usr/local/lib/python3.10/dist-packages (from transformer_lens) (4.38.2)\n",
            "Requirement already satisfied: typing-extensions in /usr/local/lib/python3.10/dist-packages (from transformer_lens) (4.10.0)\n",
            "Requirement already satisfied: wandb>=0.13.5 in /usr/local/lib/python3.10/dist-packages (from transformer_lens) (0.16.6)\n",
            "Requirement already satisfied: packaging>=20.0 in /usr/local/lib/python3.10/dist-packages (from accelerate>=0.23.0->transformer_lens) (24.0)\n",
            "Requirement already satisfied: psutil in /usr/local/lib/python3.10/dist-packages (from accelerate>=0.23.0->transformer_lens) (5.9.5)\n",
            "Requirement already satisfied: pyyaml in /usr/local/lib/python3.10/dist-packages (from accelerate>=0.23.0->transformer_lens) (6.0.1)\n",
            "Requirement already satisfied: huggingface-hub in /usr/local/lib/python3.10/dist-packages (from accelerate>=0.23.0->transformer_lens) (0.20.3)\n",
            "Requirement already satisfied: safetensors>=0.3.1 in /usr/local/lib/python3.10/dist-packages (from accelerate>=0.23.0->transformer_lens) (0.4.2)\n",
            "Requirement already satisfied: filelock in /usr/local/lib/python3.10/dist-packages (from datasets>=2.7.1->transformer_lens) (3.13.3)\n",
            "Requirement already satisfied: pyarrow>=12.0.0 in /usr/local/lib/python3.10/dist-packages (from datasets>=2.7.1->transformer_lens) (14.0.2)\n",
            "Requirement already satisfied: pyarrow-hotfix in /usr/local/lib/python3.10/dist-packages (from datasets>=2.7.1->transformer_lens) (0.6)\n",
            "Requirement already satisfied: dill<0.3.9,>=0.3.0 in /usr/local/lib/python3.10/dist-packages (from datasets>=2.7.1->transformer_lens) (0.3.8)\n",
            "Requirement already satisfied: requests>=2.19.0 in /usr/local/lib/python3.10/dist-packages (from datasets>=2.7.1->transformer_lens) (2.31.0)\n",
            "Requirement already satisfied: xxhash in /usr/local/lib/python3.10/dist-packages (from datasets>=2.7.1->transformer_lens) (3.4.1)\n",
            "Requirement already satisfied: multiprocess in /usr/local/lib/python3.10/dist-packages (from datasets>=2.7.1->transformer_lens) (0.70.16)\n",
            "Requirement already satisfied: fsspec[http]<=2024.2.0,>=2023.1.0 in /usr/local/lib/python3.10/dist-packages (from datasets>=2.7.1->transformer_lens) (2023.6.0)\n",
            "Requirement already satisfied: aiohttp in /usr/local/lib/python3.10/dist-packages (from datasets>=2.7.1->transformer_lens) (3.9.3)\n",
            "Requirement already satisfied: typeguard==2.13.3 in /usr/local/lib/python3.10/dist-packages (from jaxtyping>=0.2.11->transformer_lens) (2.13.3)\n",
            "Requirement already satisfied: python-dateutil>=2.8.2 in /usr/local/lib/python3.10/dist-packages (from pandas>=1.1.5->transformer_lens) (2.8.2)\n",
            "Requirement already satisfied: pytz>=2020.1 in /usr/local/lib/python3.10/dist-packages (from pandas>=1.1.5->transformer_lens) (2023.4)\n",
            "Requirement already satisfied: tzdata>=2022.1 in /usr/local/lib/python3.10/dist-packages (from pandas>=1.1.5->transformer_lens) (2024.1)\n",
            "Requirement already satisfied: markdown-it-py>=2.2.0 in /usr/local/lib/python3.10/dist-packages (from rich>=12.6.0->transformer_lens) (3.0.0)\n",
            "Requirement already satisfied: pygments<3.0.0,>=2.13.0 in /usr/local/lib/python3.10/dist-packages (from rich>=12.6.0->transformer_lens) (2.16.1)\n",
            "Requirement already satisfied: sympy in /usr/local/lib/python3.10/dist-packages (from torch!=2.0,!=2.1.0,>=1.10->transformer_lens) (1.12)\n",
            "Requirement already satisfied: networkx in /usr/local/lib/python3.10/dist-packages (from torch!=2.0,!=2.1.0,>=1.10->transformer_lens) (3.2.1)\n",
            "Requirement already satisfied: jinja2 in /usr/local/lib/python3.10/dist-packages (from torch!=2.0,!=2.1.0,>=1.10->transformer_lens) (3.1.3)\n",
            "Requirement already satisfied: nvidia-cuda-nvrtc-cu12==12.1.105 in /usr/local/lib/python3.10/dist-packages (from torch!=2.0,!=2.1.0,>=1.10->transformer_lens) (12.1.105)\n",
            "Requirement already satisfied: nvidia-cuda-runtime-cu12==12.1.105 in /usr/local/lib/python3.10/dist-packages (from torch!=2.0,!=2.1.0,>=1.10->transformer_lens) (12.1.105)\n",
            "Requirement already satisfied: nvidia-cuda-cupti-cu12==12.1.105 in /usr/local/lib/python3.10/dist-packages (from torch!=2.0,!=2.1.0,>=1.10->transformer_lens) (12.1.105)\n",
            "Requirement already satisfied: nvidia-cudnn-cu12==8.9.2.26 in /usr/local/lib/python3.10/dist-packages (from torch!=2.0,!=2.1.0,>=1.10->transformer_lens) (8.9.2.26)\n",
            "Requirement already satisfied: nvidia-cublas-cu12==12.1.3.1 in /usr/local/lib/python3.10/dist-packages (from torch!=2.0,!=2.1.0,>=1.10->transformer_lens) (12.1.3.1)\n",
            "Requirement already satisfied: nvidia-cufft-cu12==11.0.2.54 in /usr/local/lib/python3.10/dist-packages (from torch!=2.0,!=2.1.0,>=1.10->transformer_lens) (11.0.2.54)\n",
            "Requirement already satisfied: nvidia-curand-cu12==10.3.2.106 in /usr/local/lib/python3.10/dist-packages (from torch!=2.0,!=2.1.0,>=1.10->transformer_lens) (10.3.2.106)\n",
            "Requirement already satisfied: nvidia-cusolver-cu12==11.4.5.107 in /usr/local/lib/python3.10/dist-packages (from torch!=2.0,!=2.1.0,>=1.10->transformer_lens) (11.4.5.107)\n",
            "Requirement already satisfied: nvidia-cusparse-cu12==12.1.0.106 in /usr/local/lib/python3.10/dist-packages (from torch!=2.0,!=2.1.0,>=1.10->transformer_lens) (12.1.0.106)\n",
            "Requirement already satisfied: nvidia-nccl-cu12==2.18.1 in /usr/local/lib/python3.10/dist-packages (from torch!=2.0,!=2.1.0,>=1.10->transformer_lens) (2.18.1)\n",
            "Requirement already satisfied: nvidia-nvtx-cu12==12.1.105 in /usr/local/lib/python3.10/dist-packages (from torch!=2.0,!=2.1.0,>=1.10->transformer_lens) (12.1.105)\n",
            "Requirement already satisfied: triton==2.1.0 in /usr/local/lib/python3.10/dist-packages (from torch!=2.0,!=2.1.0,>=1.10->transformer_lens) (2.1.0)\n",
            "Requirement already satisfied: nvidia-nvjitlink-cu12 in /usr/local/lib/python3.10/dist-packages (from nvidia-cusolver-cu12==11.4.5.107->torch!=2.0,!=2.1.0,>=1.10->transformer_lens) (12.4.127)\n",
            "Requirement already satisfied: regex!=2019.12.17 in /usr/local/lib/python3.10/dist-packages (from transformers>=4.37.2->transformer_lens) (2023.12.25)\n",
            "Requirement already satisfied: tokenizers<0.19,>=0.14 in /usr/local/lib/python3.10/dist-packages (from transformers>=4.37.2->transformer_lens) (0.15.2)\n",
            "Requirement already satisfied: Click!=8.0.0,>=7.1 in /usr/local/lib/python3.10/dist-packages (from wandb>=0.13.5->transformer_lens) (8.1.7)\n",
            "Requirement already satisfied: GitPython!=3.1.29,>=1.0.0 in /usr/local/lib/python3.10/dist-packages (from wandb>=0.13.5->transformer_lens) (3.1.43)\n",
            "Requirement already satisfied: sentry-sdk>=1.0.0 in /usr/local/lib/python3.10/dist-packages (from wandb>=0.13.5->transformer_lens) (1.44.1)\n",
            "Requirement already satisfied: docker-pycreds>=0.4.0 in /usr/local/lib/python3.10/dist-packages (from wandb>=0.13.5->transformer_lens) (0.4.0)\n",
            "Requirement already satisfied: setproctitle in /usr/local/lib/python3.10/dist-packages (from wandb>=0.13.5->transformer_lens) (1.3.3)\n",
            "Requirement already satisfied: setuptools in /usr/local/lib/python3.10/dist-packages (from wandb>=0.13.5->transformer_lens) (67.7.2)\n",
            "Requirement already satisfied: appdirs>=1.4.3 in /usr/local/lib/python3.10/dist-packages (from wandb>=0.13.5->transformer_lens) (1.4.4)\n",
            "Requirement already satisfied: protobuf!=4.21.0,<5,>=3.19.0 in /usr/local/lib/python3.10/dist-packages (from wandb>=0.13.5->transformer_lens) (3.20.3)\n",
            "Requirement already satisfied: six>=1.4.0 in /usr/local/lib/python3.10/dist-packages (from docker-pycreds>=0.4.0->wandb>=0.13.5->transformer_lens) (1.16.0)\n",
            "Requirement already satisfied: aiosignal>=1.1.2 in /usr/local/lib/python3.10/dist-packages (from aiohttp->datasets>=2.7.1->transformer_lens) (1.3.1)\n",
            "Requirement already satisfied: attrs>=17.3.0 in /usr/local/lib/python3.10/dist-packages (from aiohttp->datasets>=2.7.1->transformer_lens) (23.2.0)\n",
            "Requirement already satisfied: frozenlist>=1.1.1 in /usr/local/lib/python3.10/dist-packages (from aiohttp->datasets>=2.7.1->transformer_lens) (1.4.1)\n",
            "Requirement already satisfied: multidict<7.0,>=4.5 in /usr/local/lib/python3.10/dist-packages (from aiohttp->datasets>=2.7.1->transformer_lens) (6.0.5)\n",
            "Requirement already satisfied: yarl<2.0,>=1.0 in /usr/local/lib/python3.10/dist-packages (from aiohttp->datasets>=2.7.1->transformer_lens) (1.9.4)\n",
            "Requirement already satisfied: async-timeout<5.0,>=4.0 in /usr/local/lib/python3.10/dist-packages (from aiohttp->datasets>=2.7.1->transformer_lens) (4.0.3)\n",
            "Requirement already satisfied: gitdb<5,>=4.0.1 in /usr/local/lib/python3.10/dist-packages (from GitPython!=3.1.29,>=1.0.0->wandb>=0.13.5->transformer_lens) (4.0.11)\n",
            "Requirement already satisfied: mdurl~=0.1 in /usr/local/lib/python3.10/dist-packages (from markdown-it-py>=2.2.0->rich>=12.6.0->transformer_lens) (0.1.2)\n",
            "Requirement already satisfied: charset-normalizer<4,>=2 in /usr/local/lib/python3.10/dist-packages (from requests>=2.19.0->datasets>=2.7.1->transformer_lens) (3.3.2)\n",
            "Requirement already satisfied: idna<4,>=2.5 in /usr/local/lib/python3.10/dist-packages (from requests>=2.19.0->datasets>=2.7.1->transformer_lens) (3.6)\n",
            "Requirement already satisfied: urllib3<3,>=1.21.1 in /usr/local/lib/python3.10/dist-packages (from requests>=2.19.0->datasets>=2.7.1->transformer_lens) (2.0.7)\n",
            "Requirement already satisfied: certifi>=2017.4.17 in /usr/local/lib/python3.10/dist-packages (from requests>=2.19.0->datasets>=2.7.1->transformer_lens) (2024.2.2)\n",
            "Requirement already satisfied: MarkupSafe>=2.0 in /usr/local/lib/python3.10/dist-packages (from jinja2->torch!=2.0,!=2.1.0,>=1.10->transformer_lens) (2.1.5)\n",
            "Requirement already satisfied: mpmath>=0.19 in /usr/local/lib/python3.10/dist-packages (from sympy->torch!=2.0,!=2.1.0,>=1.10->transformer_lens) (1.3.0)\n",
            "Requirement already satisfied: smmap<6,>=3.0.1 in /usr/local/lib/python3.10/dist-packages (from gitdb<5,>=4.0.1->GitPython!=3.1.29,>=1.0.0->wandb>=0.13.5->transformer_lens) (5.0.1)\n",
            "Requirement already satisfied: einops in /usr/local/lib/python3.10/dist-packages (0.7.0)\n",
            "Collecting git+https://github.com/neelnanda-io/neel-plotly.git\n",
            "  Cloning https://github.com/neelnanda-io/neel-plotly.git to /tmp/pip-req-build-leknxam7\n",
            "  Running command git clone --filter=blob:none --quiet https://github.com/neelnanda-io/neel-plotly.git /tmp/pip-req-build-leknxam7\n",
            "  Resolved https://github.com/neelnanda-io/neel-plotly.git to commit 6dc24b26f8dec991908479d7445dae496b3430b7\n",
            "  Preparing metadata (setup.py) ... \u001b[?25l\u001b[?25hdone\n",
            "Requirement already satisfied: einops in /usr/local/lib/python3.10/dist-packages (from neel-plotly==0.0.0) (0.7.0)\n",
            "Requirement already satisfied: numpy in /usr/local/lib/python3.10/dist-packages (from neel-plotly==0.0.0) (1.25.2)\n",
            "Requirement already satisfied: torch in /usr/local/lib/python3.10/dist-packages (from neel-plotly==0.0.0) (2.1.2)\n",
            "Requirement already satisfied: plotly in /usr/local/lib/python3.10/dist-packages (from neel-plotly==0.0.0) (5.15.0)\n",
            "Requirement already satisfied: tqdm in /usr/local/lib/python3.10/dist-packages (from neel-plotly==0.0.0) (4.66.2)\n",
            "Requirement already satisfied: pandas in /usr/local/lib/python3.10/dist-packages (from neel-plotly==0.0.0) (2.0.3)\n",
            "Requirement already satisfied: python-dateutil>=2.8.2 in /usr/local/lib/python3.10/dist-packages (from pandas->neel-plotly==0.0.0) (2.8.2)\n",
            "Requirement already satisfied: pytz>=2020.1 in /usr/local/lib/python3.10/dist-packages (from pandas->neel-plotly==0.0.0) (2023.4)\n",
            "Requirement already satisfied: tzdata>=2022.1 in /usr/local/lib/python3.10/dist-packages (from pandas->neel-plotly==0.0.0) (2024.1)\n",
            "Requirement already satisfied: tenacity>=6.2.0 in /usr/local/lib/python3.10/dist-packages (from plotly->neel-plotly==0.0.0) (8.2.3)\n",
            "Requirement already satisfied: packaging in /usr/local/lib/python3.10/dist-packages (from plotly->neel-plotly==0.0.0) (24.0)\n",
            "Requirement already satisfied: filelock in /usr/local/lib/python3.10/dist-packages (from torch->neel-plotly==0.0.0) (3.13.3)\n",
            "Requirement already satisfied: typing-extensions in /usr/local/lib/python3.10/dist-packages (from torch->neel-plotly==0.0.0) (4.10.0)\n",
            "Requirement already satisfied: sympy in /usr/local/lib/python3.10/dist-packages (from torch->neel-plotly==0.0.0) (1.12)\n",
            "Requirement already satisfied: networkx in /usr/local/lib/python3.10/dist-packages (from torch->neel-plotly==0.0.0) (3.2.1)\n",
            "Requirement already satisfied: jinja2 in /usr/local/lib/python3.10/dist-packages (from torch->neel-plotly==0.0.0) (3.1.3)\n",
            "Requirement already satisfied: fsspec in /usr/local/lib/python3.10/dist-packages (from torch->neel-plotly==0.0.0) (2023.6.0)\n",
            "Requirement already satisfied: nvidia-cuda-nvrtc-cu12==12.1.105 in /usr/local/lib/python3.10/dist-packages (from torch->neel-plotly==0.0.0) (12.1.105)\n",
            "Requirement already satisfied: nvidia-cuda-runtime-cu12==12.1.105 in /usr/local/lib/python3.10/dist-packages (from torch->neel-plotly==0.0.0) (12.1.105)\n",
            "Requirement already satisfied: nvidia-cuda-cupti-cu12==12.1.105 in /usr/local/lib/python3.10/dist-packages (from torch->neel-plotly==0.0.0) (12.1.105)\n",
            "Requirement already satisfied: nvidia-cudnn-cu12==8.9.2.26 in /usr/local/lib/python3.10/dist-packages (from torch->neel-plotly==0.0.0) (8.9.2.26)\n",
            "Requirement already satisfied: nvidia-cublas-cu12==12.1.3.1 in /usr/local/lib/python3.10/dist-packages (from torch->neel-plotly==0.0.0) (12.1.3.1)\n",
            "Requirement already satisfied: nvidia-cufft-cu12==11.0.2.54 in /usr/local/lib/python3.10/dist-packages (from torch->neel-plotly==0.0.0) (11.0.2.54)\n",
            "Requirement already satisfied: nvidia-curand-cu12==10.3.2.106 in /usr/local/lib/python3.10/dist-packages (from torch->neel-plotly==0.0.0) (10.3.2.106)\n",
            "Requirement already satisfied: nvidia-cusolver-cu12==11.4.5.107 in /usr/local/lib/python3.10/dist-packages (from torch->neel-plotly==0.0.0) (11.4.5.107)\n",
            "Requirement already satisfied: nvidia-cusparse-cu12==12.1.0.106 in /usr/local/lib/python3.10/dist-packages (from torch->neel-plotly==0.0.0) (12.1.0.106)\n",
            "Requirement already satisfied: nvidia-nccl-cu12==2.18.1 in /usr/local/lib/python3.10/dist-packages (from torch->neel-plotly==0.0.0) (2.18.1)\n",
            "Requirement already satisfied: nvidia-nvtx-cu12==12.1.105 in /usr/local/lib/python3.10/dist-packages (from torch->neel-plotly==0.0.0) (12.1.105)\n",
            "Requirement already satisfied: triton==2.1.0 in /usr/local/lib/python3.10/dist-packages (from torch->neel-plotly==0.0.0) (2.1.0)\n",
            "Requirement already satisfied: nvidia-nvjitlink-cu12 in /usr/local/lib/python3.10/dist-packages (from nvidia-cusolver-cu12==11.4.5.107->torch->neel-plotly==0.0.0) (12.4.127)\n",
            "Requirement already satisfied: six>=1.5 in /usr/local/lib/python3.10/dist-packages (from python-dateutil>=2.8.2->pandas->neel-plotly==0.0.0) (1.16.0)\n",
            "Requirement already satisfied: MarkupSafe>=2.0 in /usr/local/lib/python3.10/dist-packages (from jinja2->torch->neel-plotly==0.0.0) (2.1.5)\n",
            "Requirement already satisfied: mpmath>=0.19 in /usr/local/lib/python3.10/dist-packages (from sympy->torch->neel-plotly==0.0.0) (1.3.0)\n",
            "Requirement already satisfied: kaleido in /usr/local/lib/python3.10/dist-packages (0.2.1)\n"
          ]
        }
      ],
      "source": [
        "# Detect if we're running in Google Colab\n",
        "try:\n",
        "  import google.colab\n",
        "  IN_COLAB = True\n",
        "  print(\"Running as a Colab notebook\")\n",
        "except:\n",
        "  IN_COLAB = False\n",
        "\n",
        "if IN_COLAB:\n",
        "  # %pip install nnsight\n",
        "  %pip install circuitsvis\n",
        "  %pip install transformer_lens\n",
        "  %pip install einops\n",
        "  %pip install git+https://github.com/neelnanda-io/neel-plotly.git\n",
        "  %pip install kaleido"
      ]
    },
    {
      "cell_type": "markdown",
      "source": [
        "## imports"
      ],
      "metadata": {
        "id": "Cc1e2kitfPdV"
      }
    },
    {
      "cell_type": "code",
      "source": [
        "import circuitsvis as cv\n",
        "import einops\n",
        "import torch\n",
        "from functools import partial\n",
        "from typing import List, Optional, Union\n",
        "\n",
        "import einops\n",
        "import numpy as np\n",
        "import plotly.express as px\n",
        "import plotly.io as pio\n",
        "import torch\n",
        "from circuitsvis.attention import attention_heads\n",
        "from fancy_einsum import einsum\n",
        "from IPython.display import HTML, IFrame\n",
        "from jaxtyping import Float\n",
        "\n",
        "import transformer_lens.utils as utils\n",
        "from transformer_lens import ActivationCache, HookedTransformer"
      ],
      "metadata": {
        "id": "BgAWJs8kzcql"
      },
      "execution_count": null,
      "outputs": []
    },
    {
      "cell_type": "markdown",
      "source": [
        "# messing around"
      ],
      "metadata": {
        "id": "DA58_fsdfVe_"
      }
    },
    {
      "cell_type": "code",
      "source": [
        "torch.set_grad_enabled(False)\n",
        "print(\"turn off gradients to save memory\")"
      ],
      "metadata": {
        "id": "lQt1CTkY9CqX",
        "colab": {
          "base_uri": "https://localhost:8080/"
        },
        "outputId": "8360f492-dd3b-4451-ed24-6014c942a5cd"
      },
      "execution_count": null,
      "outputs": [
        {
          "output_type": "stream",
          "name": "stdout",
          "text": [
            "turn off gradients to save memory\n"
          ]
        }
      ]
    },
    {
      "cell_type": "code",
      "source": [
        "def imshow(tensor, **kwargs):\n",
        "    px.imshow(\n",
        "        utils.to_numpy(tensor),\n",
        "        color_continuous_midpoint=0.0,\n",
        "        color_continuous_scale=\"RdBu\",\n",
        "        **kwargs,\n",
        "    ).show()\n",
        "\n",
        "\n",
        "def line(tensor, **kwargs):\n",
        "    px.line(\n",
        "        y=utils.to_numpy(tensor),\n",
        "        **kwargs,\n",
        "    ).show()\n",
        "\n",
        "\n",
        "def scatter(x, y, xaxis=\"\", yaxis=\"\", caxis=\"\", **kwargs):\n",
        "    x = utils.to_numpy(x)\n",
        "    y = utils.to_numpy(y)\n",
        "    px.scatter(\n",
        "        y=y,\n",
        "        x=x,\n",
        "        labels={\"x\": xaxis, \"y\": yaxis, \"color\": caxis},\n",
        "        **kwargs,\n",
        "    ).show()"
      ],
      "metadata": {
        "id": "ssPT_aV-HtCa"
      },
      "execution_count": null,
      "outputs": []
    },
    {
      "cell_type": "code",
      "source": [
        "# NBVAL_IGNORE_OUTPUT\n",
        "model = HookedTransformer.from_pretrained(\n",
        "    \"gpt2-small\",\n",
        "    center_unembed=True,\n",
        "    center_writing_weights=True,\n",
        "    fold_ln=True,\n",
        "    refactor_factored_attn_matrices=True,\n",
        ")\n",
        "\n",
        "# Get the default device used\n",
        "device: torch.device = utils.get_device()"
      ],
      "metadata": {
        "id": "r270PMYiIDX4",
        "colab": {
          "base_uri": "https://localhost:8080/"
        },
        "outputId": "957587ff-5180-4e32-99ca-f69623f29e52"
      },
      "execution_count": null,
      "outputs": [
        {
          "output_type": "stream",
          "name": "stderr",
          "text": [
            "/usr/local/lib/python3.10/dist-packages/huggingface_hub/utils/_token.py:88: UserWarning: \n",
            "The secret `HF_TOKEN` does not exist in your Colab secrets.\n",
            "To authenticate with the Hugging Face Hub, create a token in your settings tab (https://huggingface.co/settings/tokens), set it as secret in your Google Colab and restart your session.\n",
            "You will be able to reuse this secret in all of your notebooks.\n",
            "Please note that authentication is recommended but still optional to access public models or datasets.\n",
            "  warnings.warn(\n"
          ]
        },
        {
          "output_type": "stream",
          "name": "stdout",
          "text": [
            "Loaded pretrained model gpt2-small into HookedTransformer\n"
          ]
        }
      ]
    },
    {
      "cell_type": "code",
      "source": [
        "example_prompt = \"I am going to feed the group of cat\"\n",
        "example_answer = \"s\"\n",
        "utils.test_prompt(example_prompt, example_answer, model, prepend_bos=True)"
      ],
      "metadata": {
        "colab": {
          "base_uri": "https://localhost:8080/",
          "height": 280
        },
        "id": "uIKwkVK_K2-u",
        "outputId": "0104af9c-ce59-4634-b07a-88db4210bf1a"
      },
      "execution_count": null,
      "outputs": [
        {
          "output_type": "stream",
          "name": "stdout",
          "text": [
            "Tokenized prompt: ['<|endoftext|>', 'I', ' am', ' going', ' to', ' feed', ' the', ' group', ' of', ' cat']\n",
            "Tokenized answer: [' s']\n"
          ]
        },
        {
          "output_type": "display_data",
          "data": {
            "text/plain": [
              "Performance on answer token:\n",
              "\u001b[1mRank: \u001b[0m\u001b[1;36m182\u001b[0m\u001b[1m      Logit:  \u001b[0m\u001b[1;36m7.48\u001b[0m\u001b[1m Prob:  \u001b[0m\u001b[1;36m0.06\u001b[0m\u001b[1m% Token: | s|\u001b[0m\n"
            ],
            "text/html": [
              "<pre style=\"white-space:pre;overflow-x:auto;line-height:normal;font-family:Menlo,'DejaVu Sans Mono',consolas,'Courier New',monospace\">Performance on answer token:\n",
              "<span style=\"font-weight: bold\">Rank: </span><span style=\"color: #008080; text-decoration-color: #008080; font-weight: bold\">182</span><span style=\"font-weight: bold\">      Logit:  </span><span style=\"color: #008080; text-decoration-color: #008080; font-weight: bold\">7.48</span><span style=\"font-weight: bold\"> Prob:  </span><span style=\"color: #008080; text-decoration-color: #008080; font-weight: bold\">0.06</span><span style=\"font-weight: bold\">% Token: | s|</span>\n",
              "</pre>\n"
            ]
          },
          "metadata": {}
        },
        {
          "output_type": "stream",
          "name": "stdout",
          "text": [
            "Top 0th token. Logit: 12.33 Prob:  7.07% Token: | lovers|\n",
            "Top 1th token. Logit: 12.23 Prob:  6.37% Token: |fish|\n",
            "Top 2th token. Logit: 12.15 Prob:  5.90% Token: | people|\n",
            "Top 3th token. Logit: 11.89 Prob:  4.53% Token: | owners|\n",
            "Top 4th token. Logit: 11.76 Prob:  3.97% Token: |-|\n",
            "Top 5th token. Logit: 11.63 Prob:  3.50% Token: | that|\n",
            "Top 6th token. Logit: 11.61 Prob:  3.44% Token: |chers|\n",
            "Top 7th token. Logit: 11.10 Prob:  2.07% Token: |girls|\n",
            "Top 8th token. Logit: 10.88 Prob:  1.66% Token: |'s|\n",
            "Top 9th token. Logit: 10.70 Prob:  1.38% Token: | who|\n"
          ]
        },
        {
          "output_type": "display_data",
          "data": {
            "text/plain": [
              "\u001b[1mRanks of the answer tokens:\u001b[0m \u001b[1m[\u001b[0m\u001b[1m(\u001b[0m\u001b[32m' s'\u001b[0m, \u001b[1;36m182\u001b[0m\u001b[1m)\u001b[0m\u001b[1m]\u001b[0m\n"
            ],
            "text/html": [
              "<pre style=\"white-space:pre;overflow-x:auto;line-height:normal;font-family:Menlo,'DejaVu Sans Mono',consolas,'Courier New',monospace\"><span style=\"font-weight: bold\">Ranks of the answer tokens:</span> <span style=\"font-weight: bold\">[(</span><span style=\"color: #008000; text-decoration-color: #008000\">' s'</span>, <span style=\"color: #008080; text-decoration-color: #008080; font-weight: bold\">182</span><span style=\"font-weight: bold\">)]</span>\n",
              "</pre>\n"
            ]
          },
          "metadata": {}
        }
      ]
    },
    {
      "cell_type": "code",
      "source": [
        "prompt_format = [\n",
        "    \"When John and Mary went to the shops,{} gave the bag to\",\n",
        "    \"When Tom and James went to the park,{} gave the ball to\",\n",
        "    \"When Dan and Sid went to the shops,{} gave an apple to\",\n",
        "    \"After Martin and Amy went to the park,{} gave a drink to\",\n",
        "]\n",
        "names = [\n",
        "    (\" Mary\", \" John\"),\n",
        "    (\" Tom\", \" James\"),\n",
        "    (\" Dan\", \" Sid\"),\n",
        "    (\" Martin\", \" Amy\"),\n",
        "]\n",
        "# List of prompts\n",
        "prompts = []\n",
        "# List of answers, in the format (correct, incorrect)\n",
        "answers = []\n",
        "# List of the token (ie an integer) corresponding to each answer, in the format (correct_token, incorrect_token)\n",
        "answer_tokens = []\n",
        "for i in range(len(prompt_format)):\n",
        "    for j in range(2):\n",
        "        answers.append((names[i][j], names[i][1 - j]))\n",
        "        answer_tokens.append(\n",
        "            (\n",
        "                model.to_single_token(answers[-1][0]),\n",
        "                model.to_single_token(answers[-1][1]),\n",
        "            )\n",
        "        )\n",
        "        # Insert the *incorrect* answer to the prompt, making the correct answer the indirect object.\n",
        "        prompts.append(prompt_format[i].format(answers[-1][1]))\n",
        "answer_tokens = torch.tensor(answer_tokens).to(device)\n",
        "print(prompts)\n",
        "print(answers)"
      ],
      "metadata": {
        "colab": {
          "base_uri": "https://localhost:8080/"
        },
        "id": "_FOdFkkALL8p",
        "outputId": "4d6ecb33-0b6b-4408-c294-65d74dc2a699"
      },
      "execution_count": null,
      "outputs": [
        {
          "output_type": "stream",
          "name": "stdout",
          "text": [
            "['When John and Mary went to the shops, John gave the bag to', 'When John and Mary went to the shops, Mary gave the bag to', 'When Tom and James went to the park, James gave the ball to', 'When Tom and James went to the park, Tom gave the ball to', 'When Dan and Sid went to the shops, Sid gave an apple to', 'When Dan and Sid went to the shops, Dan gave an apple to', 'After Martin and Amy went to the park, Amy gave a drink to', 'After Martin and Amy went to the park, Martin gave a drink to']\n",
            "[(' Mary', ' John'), (' John', ' Mary'), (' Tom', ' James'), (' James', ' Tom'), (' Dan', ' Sid'), (' Sid', ' Dan'), (' Martin', ' Amy'), (' Amy', ' Martin')]\n"
          ]
        }
      ]
    },
    {
      "cell_type": "code",
      "source": [
        "tokens = model.to_tokens(prompts, prepend_bos=True)\n",
        "\n",
        "# Run the model and cache all activations\n",
        "original_logits, cache = model.run_with_cache(tokens)\n",
        "\n",
        "def logits_to_ave_logit_diff(logits, answer_tokens, per_prompt=False):\n",
        "    # Only the final logits are relevant for the answer\n",
        "    final_logits = logits[:, -1, :]\n",
        "    answer_logits = final_logits.gather(dim=-1, index=answer_tokens)\n",
        "    answer_logit_diff = answer_logits[:, 0] - answer_logits[:, 1]\n",
        "    if per_prompt:\n",
        "        return answer_logit_diff\n",
        "    else:\n",
        "        return answer_logit_diff.mean()\n",
        "\n",
        "\n",
        "print(\n",
        "    \"Per prompt logit difference:\",\n",
        "    logits_to_ave_logit_diff(original_logits, answer_tokens, per_prompt=True)\n",
        "    .detach()\n",
        "    .cpu()\n",
        "    .round(decimals=3),\n",
        ")\n",
        "original_average_logit_diff = logits_to_ave_logit_diff(original_logits, answer_tokens)\n",
        "print(\n",
        "    \"Average logit difference:\",\n",
        "    round(logits_to_ave_logit_diff(original_logits, answer_tokens).item(), 3),\n",
        ")"
      ],
      "metadata": {
        "colab": {
          "base_uri": "https://localhost:8080/"
        },
        "id": "9ulWtNrp4OGM",
        "outputId": "32589809-968d-4d2d-83ce-d378fa939b31"
      },
      "execution_count": null,
      "outputs": [
        {
          "output_type": "stream",
          "name": "stdout",
          "text": [
            "Per prompt logit difference: tensor([3.3370, 3.2020, 2.7090, 3.7970, 1.7200, 5.2810, 2.6010, 5.7670])\n",
            "Average logit difference: 3.552\n"
          ]
        }
      ]
    },
    {
      "cell_type": "code",
      "source": [
        "x = model.tokens_to_residual_directions(answer_tokens)[2]\n",
        "scatter(x[0], x[1])"
      ],
      "metadata": {
        "colab": {
          "base_uri": "https://localhost:8080/",
          "height": 542
        },
        "id": "fUV8Zmd1LnuJ",
        "outputId": "134e3a96-bd53-4b41-db96-41f8d7fa1c3e"
      },
      "execution_count": null,
      "outputs": [
        {
          "output_type": "display_data",
          "data": {
            "text/html": [
              "<html>\n",
              "<head><meta charset=\"utf-8\" /></head>\n",
              "<body>\n",
              "    <div>            <script src=\"https://cdnjs.cloudflare.com/ajax/libs/mathjax/2.7.5/MathJax.js?config=TeX-AMS-MML_SVG\"></script><script type=\"text/javascript\">if (window.MathJax && window.MathJax.Hub && window.MathJax.Hub.Config) {window.MathJax.Hub.Config({SVG: {font: \"STIX-Web\"}});}</script>                <script type=\"text/javascript\">window.PlotlyConfig = {MathJaxConfig: 'local'};</script>\n",
              "        <script charset=\"utf-8\" src=\"https://cdn.plot.ly/plotly-2.24.1.min.js\"></script>                <div id=\"ac7ff443-fc8e-48dd-b5d2-63dc12448707\" class=\"plotly-graph-div\" style=\"height:525px; width:100%;\"></div>            <script type=\"text/javascript\">                                    window.PLOTLYENV=window.PLOTLYENV || {};                                    if (document.getElementById(\"ac7ff443-fc8e-48dd-b5d2-63dc12448707\")) {                    Plotly.newPlot(                        \"ac7ff443-fc8e-48dd-b5d2-63dc12448707\",                        [{\"hovertemplate\":\"=%{y}\\u003cextra\\u003e\\u003c\\u002fextra\\u003e\",\"legendgroup\":\"\",\"marker\":{\"color\":\"#636efa\",\"symbol\":\"circle\"},\"mode\":\"markers\",\"name\":\"\",\"orientation\":\"v\",\"showlegend\":false,\"x\":[0.14646507799625397,0.21899698674678802,0.11152757704257965,-0.15641885995864868,0.1402541846036911,-0.06428419053554535,0.7560837268829346,-0.05627008527517319,0.07105818390846252,0.022506335750222206,-0.1561034768819809,0.22605934739112854,0.03719770908355713,0.13182762265205383,-0.019888244569301605,0.042971979826688766,0.22002753615379333,0.018587492406368256,0.007105754688382149,-0.19818079471588135,0.053774334490299225,-0.16483548283576965,0.0636698380112648,0.14728336036205292,-0.1505832076072693,-0.019951611757278442,0.10584306716918945,-0.04647374153137207,-0.09765543043613434,-0.02385401353240013,-0.19399414956569672,-0.030627988278865814,-0.11261133849620819,0.11512552201747894,0.12896347045898438,0.0993390902876854,0.020786285400390625,-0.10403908044099808,-0.08709761500358582,0.17271658778190613,0.18415820598602295,0.2984069287776947,0.029772209003567696,0.006289878860116005,0.07774141430854797,-0.03698529303073883,0.13399095833301544,0.05676272138953209,-0.03282457962632179,-0.07450762391090393,0.3035552203655243,-0.21943418681621552,-0.18093183636665344,-0.005548938177525997,0.04489260911941528,0.2391292005777359,0.050912026315927505,0.08139310032129288,-0.18024583160877228,0.06647569686174393,0.043831463903188705,0.06865391880273819,0.11751009523868561,-0.07237445563077927,-0.003084038384258747,-0.060467563569545746,0.036908265203237534,0.13978728652000427,-0.19781270623207092,0.2586926817893982,0.26461419463157654,0.08133825659751892,-0.061117738485336304,0.09141382575035095,-0.18159867823123932,0.11370739340782166,-0.07317662239074707,-0.22423887252807617,0.1341513693332672,-0.06641000509262085,0.06926358491182327,0.1344774067401886,0.1317334920167923,0.20168617367744446,0.07390134781599045,0.019510645419359207,0.0868220329284668,-0.0022114021703600883,0.02219128981232643,0.13354375958442688,-0.023076873272657394,-0.007728070020675659,0.10436314344406128,0.17874446511268616,0.09854628145694733,0.2201288789510727,-0.12302584201097488,-0.03545656427741051,0.04041580110788345,-0.033756524324417114,0.0477144829928875,0.1981699913740158,-0.20379334688186646,-0.07553114742040634,0.15730853378772736,-0.04060809314250946,0.14973783493041992,-0.2195373773574829,-0.0355234295129776,-0.14165344834327698,0.04280194267630577,0.0468841977417469,0.07859503477811813,-0.05723356455564499,0.16455675661563873,0.18256621062755585,-0.08043871819972992,0.09158650040626526,0.033192843198776245,-0.11889362335205078,0.02306828834116459,0.07417823374271393,0.045469120144844055,0.06896090507507324,0.04261338338255882,-0.02630580961704254,0.0009893830865621567,-0.10574497282505035,0.17873471975326538,0.03649570047855377,-0.21127066016197205,0.010136028751730919,0.04215946048498154,-0.19111448526382446,-0.07297464460134506,-0.22859036922454834,0.11074242740869522,0.0465501993894577,0.02991287037730217,0.21580295264720917,0.09602513909339905,0.12879608571529388,-0.10884231328964233,-0.16522379219532013,-0.20677965879440308,0.2466742843389511,0.025068901479244232,-0.002031051553785801,-0.04391269385814667,-0.02492203749716282,5.422532558441162e-05,0.13025176525115967,0.13252195715904236,0.02026868611574173,0.11348613351583481,0.08791980892419815,-0.11890383064746857,0.12748126685619354,-0.1584169864654541,0.21592095494270325,-0.18817630410194397,0.11321039497852325,-0.04473394900560379,0.20749402046203613,0.061139967292547226,0.02850724756717682,-0.1469457745552063,-0.291556715965271,0.05161697044968605,-0.010954245924949646,-0.152098149061203,-0.03479618951678276,0.1058763712644577,0.11989407241344452,0.022157080471515656,-0.07535955309867859,-0.025696009397506714,-0.03765372931957245,-0.16945232450962067,0.11683625727891922,-0.05104070156812668,-0.26704901456832886,-0.14561127126216888,-0.10193970799446106,0.0009420700371265411,-0.013204619288444519,-0.05309633910655975,0.012610560283064842,0.1346246600151062,0.018174469470977783,0.029731247574090958,0.07160599529743195,0.00879504531621933,0.06763425469398499,-0.15906654298305511,-0.17039264738559723,-0.14761093258857727,0.12190008163452148,-0.1889163851737976,-0.13190476596355438,0.07802972197532654,-0.05597522854804993,-0.03685859963297844,0.07316314429044724,0.047852374613285065,-0.022304046899080276,-0.026729755103588104,-0.2071123868227005,-0.10031025856733322,-0.12567304074764252,0.13489319384098053,-0.18385614454746246,0.05888428911566734,-0.3387579321861267,-0.09757716953754425,-0.01613059639930725,-0.20775450766086578,-0.010334105230867863,0.092588409781456,0.13706178963184357,-0.03383351117372513,-0.1534104347229004,-0.14714062213897705,-0.007798653095960617,0.2344706654548645,0.054382458329200745,0.07764504849910736,0.044860128313302994,0.2940981984138489,-0.061410315334796906,0.22202245891094208,-0.14495494961738586,0.439229279756546,-0.09150388836860657,0.10284008830785751,0.1666589379310608,0.13130402565002441,0.042723312973976135,0.05649137496948242,0.10867086052894592,-0.1885930895805359,0.00934138149023056,0.02681533619761467,-0.11536766588687897,-0.14921268820762634,0.07015563547611237,-0.01731150597333908,-0.25126913189888,0.033957503736019135,-0.13543987274169922,0.0819031298160553,-0.11587415635585785,0.14157411456108093,0.033063311129808426,-0.19661256670951843,-0.16348965466022491,-0.2569037079811096,0.14063969254493713,0.05251064896583557,-0.041621603071689606,0.03851836547255516,-0.17028680443763733,-0.17527997493743896,0.2357720136642456,0.14722396433353424,-0.10078190267086029,-0.0029777251183986664,0.11090274900197983,0.010067395865917206,0.13870760798454285,-0.21484284102916718,0.0477980375289917,0.0028116926550865173,0.17866896092891693,-0.12923964858055115,0.06155521422624588,-0.17801672220230103,-0.20598259568214417,-0.1874985545873642,-0.0928080603480339,-0.15448987483978271,-0.037020135670900345,0.10303536057472229,-0.1865137368440628,-0.08420583605766296,0.18457692861557007,0.04249666631221771,-0.34028691053390503,-0.0016287118196487427,-0.03376546502113342,0.02004113793373108,-0.03748154640197754,-0.08738408237695694,-0.05863167345523834,0.0570695623755455,-0.1679469645023346,0.049652233719825745,-0.17260149121284485,0.12458458542823792,-0.009936338290572166,-0.09240129590034485,0.08689442276954651,0.056962646543979645,0.05566044896841049,-0.07509063184261322,-0.2529280483722687,0.11182262748479843,-0.08576540648937225,0.27235931158065796,0.22659723460674286,-0.20491012930870056,0.1441524624824524,0.22285297513008118,-0.15641894936561584,-0.18564343452453613,-0.18413789570331573,-0.018295537680387497,0.014070345088839531,0.02968059480190277,-0.0357765257358551,0.14066806435585022,0.0055832285434007645,-0.03833799064159393,-0.13510878384113312,-0.16862034797668457,0.21517789363861084,0.19136564433574677,0.03203095123171806,0.10322621464729309,-0.17846079170703888,-0.07113955169916153,0.017702741548419,-0.04236794263124466,0.14365997910499573,-0.055304303765296936,0.013520612381398678,-0.05145600065588951,0.030441995710134506,0.04403144121170044,0.11495567113161087,-0.13312335312366486,0.00218120776116848,0.14552612602710724,0.06763774156570435,-0.08647994697093964,0.2673415541648865,0.0368710495531559,-0.0018443875014781952,-0.09648474305868149,-0.040393296629190445,0.006328219547867775,-0.0018886774778366089,-0.01744053140282631,0.1924256831407547,0.20630580186843872,0.06321071833372116,0.08622079342603683,0.15281282365322113,-0.08121339976787567,-0.12407265603542328,-0.05052271485328674,0.07781797647476196,0.29569801688194275,-0.06458490341901779,-0.24219346046447754,-0.24337530136108398,0.001984318718314171,0.23491698503494263,-0.10075078904628754,-0.00979833398014307,0.050491802394390106,-0.07261093705892563,-0.1112733855843544,-0.00998567696660757,0.07544875144958496,0.06593724340200424,0.1638038158416748,0.20469625294208527,-0.2453911006450653,-0.10518767684698105,0.01102396473288536,-0.0006753727793693542,-0.13810068368911743,-0.10768136382102966,0.16975881159305573,-0.029942743480205536,0.04725206270813942,-0.02270028553903103,0.08433116972446442,0.06828171014785767,0.01647873781621456,-0.15410670638084412,-0.019736938178539276,0.131086528301239,0.1521109938621521,-0.08262966573238373,0.10358387231826782,-0.19839943945407867,-0.10762260854244232,-0.08189979940652847,0.17475664615631104,0.10542292892932892,-0.15959610044956207,0.31586208939552307,0.04733598232269287,0.06861858069896698,-0.06020445376634598,-0.07487734407186508,0.40923166275024414,0.10453304648399353,-0.14068973064422607,0.3088970184326172,0.3000928461551666,-0.24725058674812317,-0.008608393371105194,-0.16994693875312805,-0.04267200827598572,-0.06259975582361221,0.029124289751052856,0.07891695946455002,0.011739790439605713,0.043489970266819,-0.16927090287208557,-0.038921017199754715,0.12104040384292603,0.05313901603221893,0.2109384387731552,0.047175172716379166,-0.00872698426246643,0.03924430534243584,0.025810718536376953,-0.2311178743839264,-0.08445913344621658,-0.02430727332830429,0.07169406116008759,0.057925134897232056,-0.131125807762146,-0.0985935628414154,-0.23164688050746918,0.08183453977108002,0.24892400205135345,0.05980445444583893,-0.16190075874328613,-0.3400903344154358,-0.025254108011722565,-0.17541298270225525,0.043684303760528564,0.008196350187063217,-0.29194551706314087,-0.13745510578155518,-0.07863139361143112,-0.06853937357664108,-0.00044864416122436523,0.013811223208904266,0.20752611756324768,-0.2793283760547638,0.11047820746898651,0.0040893517434597015,0.18376171588897705,-0.12032199651002884,-0.030534081161022186,-0.23616167902946472,-0.0859549343585968,0.09319401532411575,-0.17189161479473114,-0.24823033809661865,-0.05500954017043114,0.18399007618427277,0.053404517471790314,-0.07651020586490631,-0.01245536282658577,0.09252586215734482,0.13491807878017426,0.11430752277374268,-0.08096367120742798,0.029763799160718918,0.13999183475971222,-0.03140883892774582,0.03801536560058594,0.1889328956604004,-0.0025682421401143074,0.00996642466634512,0.0060690538957715034,0.11811354756355286,-0.19219756126403809,0.11047536134719849,-0.06696902215480804,0.18816889822483063,0.18175122141838074,-0.16396412253379822,-0.1817464381456375,0.27928823232650757,0.10678575932979584,0.05643117427825928,-0.24101760983467102,0.0035361293703317642,0.0059092044830322266,-0.10835571587085724,0.09481137990951538,0.1243848204612732,0.15382160246372223,0.038071196526288986,0.03849978744983673,-0.29989057779312134,-0.22392864525318146,0.007890132255852222,0.07899609208106995,-0.07958699762821198,-0.0842055007815361,-0.15147215127944946,0.23133380711078644,-0.054666757583618164,0.13835620880126953,-0.01355750858783722,0.006107758730649948,0.1064818799495697,0.12230174243450165,-0.09417880326509476,0.06322594732046127,-0.11902350187301636,0.010239649564027786,0.1884593963623047,0.1958860456943512,-0.3467594385147095,0.05626550689339638,0.006217330694198608,-0.20283864438533783,-0.05272313952445984,0.1352047324180603,0.036325860768556595,0.05449482426047325,-0.014726448804140091,-0.036930833011865616,-0.08441600203514099,-0.20015524327754974,-0.12465804815292358,0.08371823281049728,-0.14147841930389404,0.23768606781959534,-0.1261250227689743,-0.1458740085363388,-0.012583145871758461,0.3450993299484253,0.3155151605606079,-0.030257636681199074,-0.16949641704559326,0.17781807482242584,0.19781699776649475,-0.20332756638526917,0.07120336592197418,-0.10645502805709839,-0.15601608157157898,-0.16466498374938965,0.159139484167099,0.010951399803161621,0.24640196561813354,-0.024266161024570465,-0.09494674205780029,-0.005493383854627609,0.034026138484478,-0.18549658358097076,-0.010954052209854126,0.009430879727005959,-0.015981175005435944,0.06634978950023651,0.06272801756858826,0.08513593673706055,-0.3012023866176605,-0.23101645708084106,-0.011762917041778564,-0.12577573955059052,0.07213867455720901,-0.00860961526632309,-0.0038085076957941055,0.10405126214027405,0.007643906399607658,-0.17883728444576263,-0.2558409869670868,-0.07029611617326736,0.14533451199531555,-0.04276072233915329,0.09223310649394989,0.08574031293392181,0.3016095757484436,-0.17733845114707947,-0.0779203400015831,0.016744691878557205,-0.10193228721618652,0.004248470067977905,-0.07251882553100586,0.07817822694778442,0.16111475229263306,0.06569710373878479,0.009125441312789917,0.2014407217502594,0.0012454036623239517,-0.04511196166276932,0.011453399434685707,-0.03559713810682297,0.01037011668086052,-0.192401722073555,-0.011467120610177517,-0.1623428463935852,0.12220168113708496,0.11315780878067017,0.01398797519505024,-0.2213086485862732,0.1969716101884842,0.11176282167434692,-0.014689496718347073,0.1422492265701294,-0.0581536665558815,-0.26669400930404663,0.047983743250370026,0.0323108546435833,-0.20269083976745605,-0.15816286206245422,-0.009164713323116302,-0.039941392838954926,-0.1269034892320633,-0.1587364673614502,0.09839420020580292,-0.011741437017917633,-0.07202503830194473,-0.2734057307243347,0.03956522047519684,0.12424421310424805,0.2972809076309204,-0.2061164826154709,0.047732170671224594,0.37119555473327637,0.20231816172599792,-0.07191136479377747,0.06806035339832306,0.13823340833187103,-0.25554460287094116,-0.07583948224782944,0.04003965109586716,0.029276110231876373,0.11507119983434677,-0.07044771313667297,0.14521533250808716,-0.03712261840701103,-0.030330359935760498,0.05080239474773407,-0.05312074348330498,-0.1530514359474182,0.036017000675201416,0.011307772248983383,-0.07801398634910583,-0.02061900869011879,0.17596256732940674,0.11702580004930496,-0.035612963140010834,-0.03673875331878662,-0.007286086678504944,0.11765249073505402,-0.10045173764228821,-0.11915751546621323,0.1127910166978836,0.05795472115278244,0.07671889662742615,0.06585197895765305,0.05264108628034592,-0.20915430784225464,-0.017299950122833252,-0.05606047809123993,-0.1687656044960022,-0.05482730269432068,0.15485824644565582,-0.023934096097946167,-0.13144062459468842,-0.1561834216117859,0.03602394461631775,-0.07793615758419037,0.08357749879360199,0.105367012321949,-0.09261263161897659,0.02144208550453186,0.18137982487678528,-0.09872820973396301,0.10296833515167236,-0.050915997475385666,-0.08499567955732346,-0.24655427038669586,0.07089902460575104,0.00442739762365818,-0.07303739339113235,-0.008393608033657074,-0.10835591703653336,-0.35375216603279114,0.09461741149425507,0.3142809271812439,0.025869615375995636,-0.04500124976038933,0.021413017064332962,0.057244427502155304,-0.09610245376825333,0.0658184364438057,-0.12130504846572876,-0.08981859683990479,-0.08403085172176361,-0.03645909205079079,0.3616030216217041,-0.1172606348991394,0.05448289215564728,-0.24112744629383087,0.18605226278305054,-0.09340260922908783,-0.10210908949375153,0.24617615342140198,-0.030779549852013588,0.016812551766633987,0.26416948437690735,-0.0500541515648365,-0.024643607437610626,0.025873441249132156,-0.12563234567642212,-0.04393738508224487,-0.1442057192325592,0.049948714673519135,-0.1765647828578949,-0.08992588520050049,0.030039751902222633,-0.16838574409484863,0.043652117252349854,0.049262333661317825,0.07268565148115158,0.12167871743440628,-0.2552648186683655,-0.13451062142848969,-0.10498979687690735,-0.22061923146247864,0.11250133812427521,0.10857745260000229,0.12749150395393372,-0.18314841389656067,-0.06725651025772095,-0.09856084734201431,-0.1512831449508667,-0.07176296412944794,0.18267956376075745,-0.3572443127632141,-0.18945959210395813,0.11617106199264526,-0.17505589127540588,0.05303901433944702,-0.06881143152713776,-0.019592657685279846,0.025317026302218437,0.20124684274196625,-0.07180352509021759,-0.005391564220190048,-0.05938446521759033,0.03494531661272049,0.011941663920879364,-0.024497777223587036,-0.15253537893295288,0.10036511719226837,0.29579922556877136,0.03849203884601593,-0.08283126354217529,0.015038371086120605,0.09314601123332977,0.015509155578911304,-0.06566062569618225,-0.08151612430810928,-0.07549341022968292],\"xaxis\":\"x\",\"y\":[0.14475125074386597,0.21613192558288574,0.349791944026947,0.005224226042628288,0.0013362783938646317,0.06533034890890121,0.7388365268707275,0.10329845547676086,0.007359637878835201,0.023040372878313065,-0.08395501971244812,0.10339084267616272,-0.2151603400707245,0.03485329449176788,-0.0096922367811203,0.1295560598373413,0.10450144112110138,0.1572858691215515,-0.029688887298107147,-0.13527923822402954,0.15723730623722076,0.027968935668468475,0.1525747925043106,0.18782299757003784,-0.13907957077026367,-0.09524048864841461,0.022017937153577805,-0.06825809925794601,-0.18894928693771362,-0.07348237931728363,-0.06322252005338669,-0.0018332749605178833,0.1506650596857071,0.12018425762653351,-0.07922573387622833,0.15862098336219788,0.01933908462524414,0.07139620184898376,-0.021779630333185196,-0.1033603623509407,0.09958785772323608,0.22889378666877747,0.12281127274036407,-0.014221424236893654,-0.006839107722043991,0.17503276467323303,-0.03335363790392876,0.26163575053215027,0.15597105026245117,0.048877865076065063,0.08285539597272873,0.0038885939866304398,-0.2605539858341217,-0.04637081176042557,-0.06214628741145134,0.23794493079185486,-0.14972935616970062,-0.11194232106208801,0.07973282039165497,0.11387430876493454,0.007335115224123001,0.04296300560235977,0.16930466890335083,0.007264882326126099,-0.0035556303337216377,-0.012595824897289276,-0.0609821192920208,0.18070363998413086,-0.3045627474784851,-0.07330267131328583,0.15328240394592285,0.11842186748981476,0.03949819505214691,0.12079434096813202,0.01288980059325695,0.08956500887870789,0.09396718442440033,-0.2835316061973572,-0.004694707691669464,-0.00999678298830986,-0.0437939427793026,-0.07737908512353897,-0.03624190390110016,0.06891527771949768,-0.14898647367954254,0.1527014523744583,0.12507189810276031,-0.0026863161474466324,0.0668269544839859,0.06819859892129898,-0.1792832463979721,0.1973021924495697,0.02497522532939911,0.04767186939716339,-0.06897861510515213,-0.026135481894016266,-0.020306047052145004,0.11376066505908966,0.03917207196354866,0.10098550468683243,-0.17702563107013702,0.06330306082963943,-0.05727106332778931,0.16895762085914612,0.14543502032756805,0.01649424619972706,0.04793207347393036,-0.05823171138763428,0.007977524772286415,0.31255704164505005,0.048570845276117325,-0.06500851362943649,0.10037300735712051,-0.01933923549950123,-0.054799072444438934,-0.062193918973207474,-0.04508344829082489,0.1981513649225235,-0.11535929888486862,0.001287207007408142,-0.013204498216509819,0.11953972280025482,0.19373354315757751,0.05453735589981079,-0.031153179705142975,0.03563371300697327,0.10749076306819916,-0.23453938961029053,0.1379101574420929,-0.17520396411418915,-0.08003074675798416,0.06431642919778824,0.3366227447986603,-0.054576899856328964,-0.0510055348277092,-0.039718449115753174,-0.038205474615097046,0.1682073175907135,0.030782870948314667,0.005601048469543457,0.16476573050022125,0.10674169659614563,0.2059599757194519,-0.13012510538101196,-0.058093149214982986,0.2581447958946228,0.10000777244567871,0.07975209504365921,-0.17846821248531342,0.08206631243228912,0.016526393592357635,-0.01849949359893799,0.2634734511375427,-0.11263933032751083,-0.13755112886428833,0.19257184863090515,-0.14621885120868683,-0.049843594431877136,-0.05999229848384857,0.011201679706573486,-0.26476970314979553,0.40417492389678955,0.1582966297864914,0.017257720232009888,-0.04382018744945526,0.012686699628829956,-0.12357618659734726,-0.2986215353012085,0.010991241782903671,-0.03971756994724274,-0.11222220957279205,-0.1367877870798111,0.17725880444049835,0.011508462950587273,0.029112927615642548,0.03960364684462547,-0.06811103224754333,0.04744219034910202,0.028424281626939774,-0.13320210576057434,0.01401875726878643,-0.06721776723861694,-0.01976652443408966,-0.275997132062912,0.11738811433315277,-0.09638723731040955,0.04462675377726555,-0.0004228581674396992,0.0653771162033081,0.03705745190382004,-0.14552567899227142,-0.067537322640419,0.18396104872226715,0.050344470888376236,0.1106959730386734,-0.2367222011089325,-0.002763558179140091,-0.014544397592544556,-0.055080678313970566,-0.2974538505077362,0.1192232221364975,-0.13198326528072357,0.03891453891992569,0.015864498913288116,0.25752222537994385,0.15966521203517914,-0.1706899255514145,0.006909798830747604,-0.25856560468673706,0.014452852308750153,-0.013710664585232735,0.05007772147655487,0.11737753450870514,-0.12630058825016022,0.04973549023270607,-0.07167133688926697,-0.020725436508655548,0.029420634731650352,0.03732709214091301,0.15032413601875305,-0.10349847376346588,-0.17789101600646973,0.006789742037653923,0.12234549224376678,0.2061358392238617,-0.07333855330944061,-0.013878270983695984,0.046787943691015244,0.04077005386352539,0.07785063982009888,0.07660821825265884,-0.09056521952152252,0.43379539251327515,0.039505697786808014,-0.009173134341835976,0.06507499516010284,-0.012505196034908295,-0.04093277081847191,0.10958599299192429,-0.0127934031188488,-0.08796046674251556,0.019245542585849762,-0.02295011840760708,-0.12114721536636353,-0.06509492546319962,0.011975091882050037,0.10287605226039886,-0.027994513511657715,-0.07873127609491348,-0.0814177542924881,0.05761498212814331,-0.20633181929588318,-0.08863172680139542,0.007001266814768314,-0.25552991032600403,-0.13345597684383392,-0.06924307346343994,0.055198200047016144,0.0519469678401947,-0.15203724801540375,0.029376044869422913,0.22586172819137573,-0.16734041273593903,0.13853028416633606,0.09231172502040863,0.11011911928653717,-0.0034248586744070053,-0.030499964952468872,-0.15218937397003174,0.2083137482404709,-0.1974286586046219,0.0037986040115356445,-0.10630708932876587,0.21401570737361908,-0.13464386761188507,0.057437457144260406,-0.18701176345348358,-0.03282174468040466,-0.1987709254026413,0.05943453684449196,0.1539444476366043,-0.1726991832256317,0.037682898342609406,0.09100541472434998,-0.22873277962207794,0.04065314307808876,-0.0862680971622467,-0.08919256925582886,0.025540903210639954,-0.16225045919418335,0.06432624161243439,-0.010557280853390694,-0.07599534839391708,0.17466706037521362,-0.2987613379955292,-0.11477115005254745,0.1874355524778366,-0.05243326351046562,0.008768819272518158,0.011851215735077858,-0.07275839149951935,0.07222867012023926,-0.05363542586565018,0.04460062086582184,-0.1524176299571991,0.06927039474248886,-0.07360515743494034,-0.11930854618549347,0.1237252950668335,0.15221025049686432,-0.20121297240257263,0.05418309569358826,0.0965496152639389,-0.20623178780078888,-0.18622684478759766,0.08106829226016998,0.0875077024102211,0.05600766837596893,0.12480314075946808,0.11700300127267838,0.23386117815971375,0.13112638890743256,-0.1966753453016281,-0.032078247517347336,-0.07738053798675537,-0.117103211581707,-0.030109494924545288,0.07151636481285095,0.2067267745733261,-0.2488229125738144,-0.06414679437875748,-0.010368128307163715,-0.0453094020485878,0.12023338675498962,0.05009374022483826,0.24842332303524017,-0.15663155913352966,-0.09729650616645813,0.030371539294719696,0.09752761572599411,-0.4111340045928955,0.14127741754055023,-0.025815879926085472,0.010483439080417156,-0.11742733418941498,-0.023193519562482834,0.11107848584651947,-0.034345608204603195,-0.12213151901960373,0.04918106645345688,0.039761319756507874,0.06347256898880005,-0.16261760890483856,0.0537232980132103,0.17842885851860046,0.14584431052207947,0.20451083779335022,0.21532604098320007,-0.006284240633249283,-0.1435656100511551,0.19228748977184296,-0.038758181035518646,0.33027249574661255,-0.12996041774749756,-0.10830044001340866,-0.2767471373081207,0.04568517208099365,0.006448186002671719,-0.019192978739738464,0.05670412629842758,0.012507766485214233,0.025560539215803146,-0.008003361523151398,-0.010673342272639275,0.020508289337158203,-0.0359298400580883,0.12127551436424255,0.16427943110466003,-0.14421693980693817,0.09711132198572159,0.1250457614660263,0.023138057440519333,0.06247309222817421,-0.1903175711631775,0.15620820224285126,0.09260010719299316,0.08371348679065704,0.19917485117912292,-0.05055299401283264,-0.13672801852226257,-0.04521504044532776,-0.22433800995349884,0.032979436218738556,0.04096801206469536,-0.19488710165023804,0.04407263547182083,0.07678984105587006,0.11480854451656342,0.018139999359846115,0.04806748032569885,-0.19126757979393005,-0.09830307960510254,-0.07686983048915863,0.0834285244345665,-0.03566625714302063,-0.07517506182193756,-0.0479714497923851,0.0774134024977684,0.4027223587036133,0.11931805312633514,-0.17686033248901367,-0.14691950380802155,0.07482067495584488,0.053363535553216934,-0.05056910216808319,0.015604927204549313,0.08592415601015091,0.2895323634147644,-0.13822361826896667,0.23512114584445953,0.06740857660770416,0.10362619161605835,0.16627196967601776,-0.23038312792778015,0.18389083445072174,-0.11375129967927933,-0.090182363986969,-0.09124918282032013,0.06690455973148346,-0.07189039885997772,0.02576160430908203,-0.1838279366493225,0.027093250304460526,-0.03280651941895485,0.06071200594305992,-0.10369791090488434,-0.07818114012479782,0.06130007654428482,0.03547067940235138,-0.08658581972122192,0.15742075443267822,0.0803365483880043,-0.29668283462524414,0.07062895596027374,0.010499437339603901,-0.15505234897136688,0.11445337533950806,0.007788241840898991,-0.1288164258003235,-0.0693996399641037,-0.2606253921985626,-0.03651965782046318,-0.0235917828977108,-0.14471544325351715,-0.07318953424692154,-0.048666805028915405,0.29766011238098145,0.1056935116648674,0.039004333317279816,-0.0746493712067604,0.026327937841415405,0.10270465910434723,0.01915760710835457,0.055627379566431046,0.02594037540256977,-0.257455974817276,0.31768515706062317,0.03136461228132248,0.17821523547172546,-0.06104321777820587,-0.19958174228668213,-0.15226121246814728,0.19210414588451385,-0.07307138293981552,-0.11622901260852814,0.014003697782754898,0.0019285734742879868,-0.0171385258436203,-0.14658674597740173,0.28671836853027344,-0.0030664782971143723,0.009935821406543255,0.0693802759051323,-0.021892009302973747,0.077973872423172,0.16916482150554657,-0.09413318336009979,-0.0924379900097847,-0.02465275675058365,-0.0009159184992313385,-0.09653054177761078,0.059403061866760254,-0.008193273097276688,0.0549243688583374,-0.3401695787906647,-0.029339130967855453,0.005445241928100586,-0.10377819836139679,0.18842633068561554,0.1991708129644394,0.23050537705421448,0.0522882416844368,0.03862094506621361,-0.1670169234275818,0.2660260498523712,0.13646496832370758,0.15363115072250366,-0.07337427139282227,-0.11445189267396927,0.07688110321760178,-0.07461276650428772,-0.045268505811691284,0.1669672727584839,0.06379158049821854,-0.07118657231330872,0.013149779289960861,0.1186596006155014,-0.13906514644622803,-0.015696531161665916,-0.0184110626578331,0.1380079686641693,-0.21108749508857727,0.012151002883911133,-0.016669539734721184,0.12626037001609802,-0.023653198033571243,-0.2638471722602844,-0.049017369747161865,0.01901666447520256,-0.036832500249147415,0.12905451655387878,-0.12921936810016632,-0.16220685839653015,0.008110109716653824,-0.05826638638973236,-0.10846130549907684,-0.004837455227971077,-0.13378436863422394,0.019549783319234848,-0.03344764560461044,0.022365614771842957,0.06806136667728424,0.19893518090248108,0.27191805839538574,-0.20862874388694763,0.017859913408756256,0.11479663103818893,0.010391275398433208,-0.15893223881721497,-0.21585287153720856,0.027933264151215553,0.15859659016132355,-0.01423582248389721,-0.004605110734701157,0.00819331407546997,0.14099016785621643,-0.07234954833984375,-0.2828487157821655,-0.12041240185499191,0.2556392550468445,-0.08740450441837311,0.1262090653181076,-0.02867862768471241,0.12497221678495407,0.04734428972005844,-0.22640083730220795,-0.13861820101737976,-0.03940695524215698,0.033619269728660583,-0.022882923483848572,-0.1987350434064865,0.008445389568805695,-0.016981661319732666,0.16059234738349915,0.038864895701408386,-0.11261729151010513,-0.030162405222654343,0.22974856197834015,-0.0981425940990448,-0.043845511972904205,0.10850072652101517,-0.08706709742546082,0.01589294523000717,-0.1529170572757721,0.15909311175346375,0.1008310616016388,0.09895449876785278,0.018347442150115967,-0.1692647635936737,-0.0227816179394722,-0.05664040148258209,0.03546101599931717,-0.01640954241156578,-0.0726519227027893,0.0912356823682785,-0.2487451285123825,-0.009462937712669373,-0.03423695266246796,-0.10741600394248962,0.006719350814819336,-0.242156520485878,0.1621546745300293,-0.02074243128299713,0.022236917167901993,0.21431134641170502,0.1681673228740692,-0.32209762930870056,-0.0018137432634830475,0.1325467824935913,-0.025068581104278564,-0.004837203770875931,-0.1820390522480011,-0.35226970911026,0.21741919219493866,-0.06584259867668152,-0.0023825913667678833,-0.09521406888961792,-0.14627452194690704,0.031102068722248077,-0.19357508420944214,-0.14806315302848816,-0.23208971321582794,0.10552872717380524,-0.1549597978591919,-0.23671245574951172,0.03592516481876373,-0.060402385890483856,0.5556881427764893,-0.11349882930517197,-0.0716727003455162,0.08599135279655457,0.07305030524730682,0.0895095020532608,0.05625241622328758,0.09442613273859024,-0.30108892917633057,0.22865810990333557,-0.05716579034924507,-0.07272881269454956,-0.12217754870653152,-0.05286790430545807,-0.037986867129802704,-0.0410650260746479,-0.1309545636177063,-0.2526131868362427,-0.22889494895935059,-0.18381477892398834,-0.1296294778585434,-0.1482420265674591,-0.08631224930286407,-0.05964841693639755,-0.030054615810513496,-0.01620352827012539,-0.12017510831356049,0.0791725367307663,-0.22628560662269592,-0.06790350377559662,0.07263343036174774,-0.0920092761516571,0.16921678185462952,-0.18128301203250885,-0.16016250848770142,0.27501457929611206,0.17960336804389954,-0.2501891851425171,-0.2470443695783615,0.05861006677150726,-0.1418682038784027,-0.040526390075683594,0.08981624990701675,0.06467665731906891,-0.273959755897522,-0.051838383078575134,-0.07095397263765335,-0.13258486986160278,0.1901492178440094,-0.1925092190504074,0.054006993770599365,0.20892614126205444,0.1579715609550476,0.029594510793685913,0.14317716658115387,0.09782509505748749,0.04163669794797897,0.15198001265525818,0.0021564792841672897,-0.1445835828781128,-0.07465920597314835,0.1905399113893509,0.029478874057531357,-0.1790260672569275,0.1660805344581604,-0.13910885155200958,0.06725583970546722,-0.011951930820941925,-0.08770301192998886,-0.16223174333572388,0.07557632774114609,0.16196592152118683,-0.030662544071674347,0.12765349447727203,0.011694997549057007,-0.0273763295263052,0.2809126377105713,0.022714173421263695,-0.15802016854286194,-0.15059499442577362,0.17608261108398438,-0.19214734435081482,-0.12087801098823547,0.18600590527057648,-0.1318543404340744,0.1446862369775772,-0.0019433517009019852,-0.03248357027769089,-0.031135641038417816,-0.09328454732894897,-0.1940128356218338,-0.19641295075416565,-0.06096867471933365,0.012052733451128006,0.051830798387527466,0.1671188771724701,0.03292086720466614,0.12461955845355988,0.09009876847267151,-0.1547989845275879,0.30632320046424866,0.12234824150800705,-0.2883855104446411,-0.043201714754104614,-0.1900075525045395,0.06565587967634201,0.024458587169647217,-0.1207878515124321,-0.26498547196388245,0.019396476447582245,0.056108471006155014,-0.19566382467746735,-0.23470133543014526,-0.1115996241569519,0.005913980305194855,-0.07597500085830688,-0.1849951148033142,0.05098285153508186,-0.1995551437139511,-0.2416449636220932,-0.18896527588367462,0.041347481310367584,0.08182825148105621,-0.058744631707668304,-0.07618345320224762,-0.09374397248029709,0.0003874637186527252,0.002637948840856552,0.03554574027657509,-0.04555979371070862,0.11204849183559418,0.13518895208835602,0.054956644773483276,0.18055453896522522,0.028242047876119614,0.16758859157562256,0.05612606182694435,-0.03048882447183132,0.14441396296024323,0.06695549190044403,-0.03933969885110855],\"yaxis\":\"y\",\"type\":\"scatter\"}],                        {\"template\":{\"data\":{\"histogram2dcontour\":[{\"type\":\"histogram2dcontour\",\"colorbar\":{\"outlinewidth\":0,\"ticks\":\"\"},\"colorscale\":[[0.0,\"#0d0887\"],[0.1111111111111111,\"#46039f\"],[0.2222222222222222,\"#7201a8\"],[0.3333333333333333,\"#9c179e\"],[0.4444444444444444,\"#bd3786\"],[0.5555555555555556,\"#d8576b\"],[0.6666666666666666,\"#ed7953\"],[0.7777777777777778,\"#fb9f3a\"],[0.8888888888888888,\"#fdca26\"],[1.0,\"#f0f921\"]]}],\"choropleth\":[{\"type\":\"choropleth\",\"colorbar\":{\"outlinewidth\":0,\"ticks\":\"\"}}],\"histogram2d\":[{\"type\":\"histogram2d\",\"colorbar\":{\"outlinewidth\":0,\"ticks\":\"\"},\"colorscale\":[[0.0,\"#0d0887\"],[0.1111111111111111,\"#46039f\"],[0.2222222222222222,\"#7201a8\"],[0.3333333333333333,\"#9c179e\"],[0.4444444444444444,\"#bd3786\"],[0.5555555555555556,\"#d8576b\"],[0.6666666666666666,\"#ed7953\"],[0.7777777777777778,\"#fb9f3a\"],[0.8888888888888888,\"#fdca26\"],[1.0,\"#f0f921\"]]}],\"heatmap\":[{\"type\":\"heatmap\",\"colorbar\":{\"outlinewidth\":0,\"ticks\":\"\"},\"colorscale\":[[0.0,\"#0d0887\"],[0.1111111111111111,\"#46039f\"],[0.2222222222222222,\"#7201a8\"],[0.3333333333333333,\"#9c179e\"],[0.4444444444444444,\"#bd3786\"],[0.5555555555555556,\"#d8576b\"],[0.6666666666666666,\"#ed7953\"],[0.7777777777777778,\"#fb9f3a\"],[0.8888888888888888,\"#fdca26\"],[1.0,\"#f0f921\"]]}],\"heatmapgl\":[{\"type\":\"heatmapgl\",\"colorbar\":{\"outlinewidth\":0,\"ticks\":\"\"},\"colorscale\":[[0.0,\"#0d0887\"],[0.1111111111111111,\"#46039f\"],[0.2222222222222222,\"#7201a8\"],[0.3333333333333333,\"#9c179e\"],[0.4444444444444444,\"#bd3786\"],[0.5555555555555556,\"#d8576b\"],[0.6666666666666666,\"#ed7953\"],[0.7777777777777778,\"#fb9f3a\"],[0.8888888888888888,\"#fdca26\"],[1.0,\"#f0f921\"]]}],\"contourcarpet\":[{\"type\":\"contourcarpet\",\"colorbar\":{\"outlinewidth\":0,\"ticks\":\"\"}}],\"contour\":[{\"type\":\"contour\",\"colorbar\":{\"outlinewidth\":0,\"ticks\":\"\"},\"colorscale\":[[0.0,\"#0d0887\"],[0.1111111111111111,\"#46039f\"],[0.2222222222222222,\"#7201a8\"],[0.3333333333333333,\"#9c179e\"],[0.4444444444444444,\"#bd3786\"],[0.5555555555555556,\"#d8576b\"],[0.6666666666666666,\"#ed7953\"],[0.7777777777777778,\"#fb9f3a\"],[0.8888888888888888,\"#fdca26\"],[1.0,\"#f0f921\"]]}],\"surface\":[{\"type\":\"surface\",\"colorbar\":{\"outlinewidth\":0,\"ticks\":\"\"},\"colorscale\":[[0.0,\"#0d0887\"],[0.1111111111111111,\"#46039f\"],[0.2222222222222222,\"#7201a8\"],[0.3333333333333333,\"#9c179e\"],[0.4444444444444444,\"#bd3786\"],[0.5555555555555556,\"#d8576b\"],[0.6666666666666666,\"#ed7953\"],[0.7777777777777778,\"#fb9f3a\"],[0.8888888888888888,\"#fdca26\"],[1.0,\"#f0f921\"]]}],\"mesh3d\":[{\"type\":\"mesh3d\",\"colorbar\":{\"outlinewidth\":0,\"ticks\":\"\"}}],\"scatter\":[{\"fillpattern\":{\"fillmode\":\"overlay\",\"size\":10,\"solidity\":0.2},\"type\":\"scatter\"}],\"parcoords\":[{\"type\":\"parcoords\",\"line\":{\"colorbar\":{\"outlinewidth\":0,\"ticks\":\"\"}}}],\"scatterpolargl\":[{\"type\":\"scatterpolargl\",\"marker\":{\"colorbar\":{\"outlinewidth\":0,\"ticks\":\"\"}}}],\"bar\":[{\"error_x\":{\"color\":\"#2a3f5f\"},\"error_y\":{\"color\":\"#2a3f5f\"},\"marker\":{\"line\":{\"color\":\"#E5ECF6\",\"width\":0.5},\"pattern\":{\"fillmode\":\"overlay\",\"size\":10,\"solidity\":0.2}},\"type\":\"bar\"}],\"scattergeo\":[{\"type\":\"scattergeo\",\"marker\":{\"colorbar\":{\"outlinewidth\":0,\"ticks\":\"\"}}}],\"scatterpolar\":[{\"type\":\"scatterpolar\",\"marker\":{\"colorbar\":{\"outlinewidth\":0,\"ticks\":\"\"}}}],\"histogram\":[{\"marker\":{\"pattern\":{\"fillmode\":\"overlay\",\"size\":10,\"solidity\":0.2}},\"type\":\"histogram\"}],\"scattergl\":[{\"type\":\"scattergl\",\"marker\":{\"colorbar\":{\"outlinewidth\":0,\"ticks\":\"\"}}}],\"scatter3d\":[{\"type\":\"scatter3d\",\"line\":{\"colorbar\":{\"outlinewidth\":0,\"ticks\":\"\"}},\"marker\":{\"colorbar\":{\"outlinewidth\":0,\"ticks\":\"\"}}}],\"scattermapbox\":[{\"type\":\"scattermapbox\",\"marker\":{\"colorbar\":{\"outlinewidth\":0,\"ticks\":\"\"}}}],\"scatterternary\":[{\"type\":\"scatterternary\",\"marker\":{\"colorbar\":{\"outlinewidth\":0,\"ticks\":\"\"}}}],\"scattercarpet\":[{\"type\":\"scattercarpet\",\"marker\":{\"colorbar\":{\"outlinewidth\":0,\"ticks\":\"\"}}}],\"carpet\":[{\"aaxis\":{\"endlinecolor\":\"#2a3f5f\",\"gridcolor\":\"white\",\"linecolor\":\"white\",\"minorgridcolor\":\"white\",\"startlinecolor\":\"#2a3f5f\"},\"baxis\":{\"endlinecolor\":\"#2a3f5f\",\"gridcolor\":\"white\",\"linecolor\":\"white\",\"minorgridcolor\":\"white\",\"startlinecolor\":\"#2a3f5f\"},\"type\":\"carpet\"}],\"table\":[{\"cells\":{\"fill\":{\"color\":\"#EBF0F8\"},\"line\":{\"color\":\"white\"}},\"header\":{\"fill\":{\"color\":\"#C8D4E3\"},\"line\":{\"color\":\"white\"}},\"type\":\"table\"}],\"barpolar\":[{\"marker\":{\"line\":{\"color\":\"#E5ECF6\",\"width\":0.5},\"pattern\":{\"fillmode\":\"overlay\",\"size\":10,\"solidity\":0.2}},\"type\":\"barpolar\"}],\"pie\":[{\"automargin\":true,\"type\":\"pie\"}]},\"layout\":{\"autotypenumbers\":\"strict\",\"colorway\":[\"#636efa\",\"#EF553B\",\"#00cc96\",\"#ab63fa\",\"#FFA15A\",\"#19d3f3\",\"#FF6692\",\"#B6E880\",\"#FF97FF\",\"#FECB52\"],\"font\":{\"color\":\"#2a3f5f\"},\"hovermode\":\"closest\",\"hoverlabel\":{\"align\":\"left\"},\"paper_bgcolor\":\"white\",\"plot_bgcolor\":\"#E5ECF6\",\"polar\":{\"bgcolor\":\"#E5ECF6\",\"angularaxis\":{\"gridcolor\":\"white\",\"linecolor\":\"white\",\"ticks\":\"\"},\"radialaxis\":{\"gridcolor\":\"white\",\"linecolor\":\"white\",\"ticks\":\"\"}},\"ternary\":{\"bgcolor\":\"#E5ECF6\",\"aaxis\":{\"gridcolor\":\"white\",\"linecolor\":\"white\",\"ticks\":\"\"},\"baxis\":{\"gridcolor\":\"white\",\"linecolor\":\"white\",\"ticks\":\"\"},\"caxis\":{\"gridcolor\":\"white\",\"linecolor\":\"white\",\"ticks\":\"\"}},\"coloraxis\":{\"colorbar\":{\"outlinewidth\":0,\"ticks\":\"\"}},\"colorscale\":{\"sequential\":[[0.0,\"#0d0887\"],[0.1111111111111111,\"#46039f\"],[0.2222222222222222,\"#7201a8\"],[0.3333333333333333,\"#9c179e\"],[0.4444444444444444,\"#bd3786\"],[0.5555555555555556,\"#d8576b\"],[0.6666666666666666,\"#ed7953\"],[0.7777777777777778,\"#fb9f3a\"],[0.8888888888888888,\"#fdca26\"],[1.0,\"#f0f921\"]],\"sequentialminus\":[[0.0,\"#0d0887\"],[0.1111111111111111,\"#46039f\"],[0.2222222222222222,\"#7201a8\"],[0.3333333333333333,\"#9c179e\"],[0.4444444444444444,\"#bd3786\"],[0.5555555555555556,\"#d8576b\"],[0.6666666666666666,\"#ed7953\"],[0.7777777777777778,\"#fb9f3a\"],[0.8888888888888888,\"#fdca26\"],[1.0,\"#f0f921\"]],\"diverging\":[[0,\"#8e0152\"],[0.1,\"#c51b7d\"],[0.2,\"#de77ae\"],[0.3,\"#f1b6da\"],[0.4,\"#fde0ef\"],[0.5,\"#f7f7f7\"],[0.6,\"#e6f5d0\"],[0.7,\"#b8e186\"],[0.8,\"#7fbc41\"],[0.9,\"#4d9221\"],[1,\"#276419\"]]},\"xaxis\":{\"gridcolor\":\"white\",\"linecolor\":\"white\",\"ticks\":\"\",\"title\":{\"standoff\":15},\"zerolinecolor\":\"white\",\"automargin\":true,\"zerolinewidth\":2},\"yaxis\":{\"gridcolor\":\"white\",\"linecolor\":\"white\",\"ticks\":\"\",\"title\":{\"standoff\":15},\"zerolinecolor\":\"white\",\"automargin\":true,\"zerolinewidth\":2},\"scene\":{\"xaxis\":{\"backgroundcolor\":\"#E5ECF6\",\"gridcolor\":\"white\",\"linecolor\":\"white\",\"showbackground\":true,\"ticks\":\"\",\"zerolinecolor\":\"white\",\"gridwidth\":2},\"yaxis\":{\"backgroundcolor\":\"#E5ECF6\",\"gridcolor\":\"white\",\"linecolor\":\"white\",\"showbackground\":true,\"ticks\":\"\",\"zerolinecolor\":\"white\",\"gridwidth\":2},\"zaxis\":{\"backgroundcolor\":\"#E5ECF6\",\"gridcolor\":\"white\",\"linecolor\":\"white\",\"showbackground\":true,\"ticks\":\"\",\"zerolinecolor\":\"white\",\"gridwidth\":2}},\"shapedefaults\":{\"line\":{\"color\":\"#2a3f5f\"}},\"annotationdefaults\":{\"arrowcolor\":\"#2a3f5f\",\"arrowhead\":0,\"arrowwidth\":1},\"geo\":{\"bgcolor\":\"white\",\"landcolor\":\"#E5ECF6\",\"subunitcolor\":\"white\",\"showland\":true,\"showlakes\":true,\"lakecolor\":\"white\"},\"title\":{\"x\":0.05},\"mapbox\":{\"style\":\"light\"}}},\"xaxis\":{\"anchor\":\"y\",\"domain\":[0.0,1.0],\"title\":{\"text\":\"\"}},\"yaxis\":{\"anchor\":\"x\",\"domain\":[0.0,1.0],\"title\":{\"text\":\"\"}},\"legend\":{\"tracegroupgap\":0},\"margin\":{\"t\":60}},                        {\"responsive\": true}                    ).then(function(){\n",
              "                            \n",
              "var gd = document.getElementById('ac7ff443-fc8e-48dd-b5d2-63dc12448707');\n",
              "var x = new MutationObserver(function (mutations, observer) {{\n",
              "        var display = window.getComputedStyle(gd).display;\n",
              "        if (!display || display === 'none') {{\n",
              "            console.log([gd, 'removed!']);\n",
              "            Plotly.purge(gd);\n",
              "            observer.disconnect();\n",
              "        }}\n",
              "}});\n",
              "\n",
              "// Listen for the removal of the full notebook cells\n",
              "var notebookContainer = gd.closest('#notebook-container');\n",
              "if (notebookContainer) {{\n",
              "    x.observe(notebookContainer, {childList: true});\n",
              "}}\n",
              "\n",
              "// Listen for the clearing of the current output cell\n",
              "var outputEl = gd.closest('.output');\n",
              "if (outputEl) {{\n",
              "    x.observe(outputEl, {childList: true});\n",
              "}}\n",
              "\n",
              "                        })                };                            </script>        </div>\n",
              "</body>\n",
              "</html>"
            ]
          },
          "metadata": {}
        }
      ]
    },
    {
      "cell_type": "code",
      "source": [
        "answer_residual_directions = model.tokens_to_residual_directions(answer_tokens)\n",
        "print(\"Answer residual directions shape:\", answer_residual_directions.shape)\n",
        "logit_diff_directions = (\n",
        "    answer_residual_directions[:, 0] - answer_residual_directions[:, 1]\n",
        ")\n",
        "print(\"Logit difference directions shape:\", logit_diff_directions.shape)"
      ],
      "metadata": {
        "colab": {
          "base_uri": "https://localhost:8080/"
        },
        "id": "tBnx4yZaLx54",
        "outputId": "432647a2-49d0-4249-fca2-26ff8ee8db58"
      },
      "execution_count": null,
      "outputs": [
        {
          "output_type": "stream",
          "name": "stdout",
          "text": [
            "Answer residual directions shape: torch.Size([8, 2, 768])\n",
            "Logit difference directions shape: torch.Size([8, 768])\n"
          ]
        }
      ]
    },
    {
      "cell_type": "code",
      "source": [],
      "metadata": {
        "id": "vU7Fj0x3dnQL"
      },
      "execution_count": null,
      "outputs": []
    },
    {
      "cell_type": "code",
      "source": [
        "def f(x, y) -> str:\n",
        "  return f\"{x} is greater than {y} means {y} is not\""
      ],
      "metadata": {
        "id": "k690N0A1_9Jr"
      },
      "execution_count": null,
      "outputs": []
    },
    {
      "cell_type": "code",
      "source": [
        "# sentences of the form (to be completed):\n",
        "# - thing1 is bigger than thing2, so thing2 is\n",
        "# - x is greater than y"
      ],
      "metadata": {
        "id": "qnHbvr-Q_9Hb"
      },
      "execution_count": null,
      "outputs": []
    },
    {
      "cell_type": "code",
      "source": [
        "test_prompt = \"thing1 is bigger than thing2, so thing2 is\"\n",
        "test_completion = \"smaller than thing1\"\n",
        "utils.test_prompt(test_prompt, test_completion, model, prepend_bos=True)"
      ],
      "metadata": {
        "colab": {
          "base_uri": "https://localhost:8080/",
          "height": 932
        },
        "id": "rTJf_-Ez_9FN",
        "outputId": "dd8c839f-b113-41c5-a74a-b46a85bd9079"
      },
      "execution_count": null,
      "outputs": [
        {
          "output_type": "stream",
          "name": "stdout",
          "text": [
            "Tokenized prompt: ['<|endoftext|>', 'thing', '1', ' is', ' bigger', ' than', ' thing', '2', ',', ' so', ' thing', '2', ' is']\n",
            "Tokenized answer: [' smaller', ' than', ' thing', '1']\n"
          ]
        },
        {
          "output_type": "display_data",
          "data": {
            "text/plain": [
              "Performance on answer token:\n",
              "\u001b[1mRank: \u001b[0m\u001b[1;36m1\u001b[0m\u001b[1m        Logit: \u001b[0m\u001b[1;36m14.60\u001b[0m\u001b[1m Prob: \u001b[0m\u001b[1;36m12.51\u001b[0m\u001b[1m% Token: | smaller|\u001b[0m\n"
            ],
            "text/html": [
              "<pre style=\"white-space:pre;overflow-x:auto;line-height:normal;font-family:Menlo,'DejaVu Sans Mono',consolas,'Courier New',monospace\">Performance on answer token:\n",
              "<span style=\"font-weight: bold\">Rank: </span><span style=\"color: #008080; text-decoration-color: #008080; font-weight: bold\">1</span><span style=\"font-weight: bold\">        Logit: </span><span style=\"color: #008080; text-decoration-color: #008080; font-weight: bold\">14.60</span><span style=\"font-weight: bold\"> Prob: </span><span style=\"color: #008080; text-decoration-color: #008080; font-weight: bold\">12.51</span><span style=\"font-weight: bold\">% Token: | smaller|</span>\n",
              "</pre>\n"
            ]
          },
          "metadata": {}
        },
        {
          "output_type": "stream",
          "name": "stdout",
          "text": [
            "Top 0th token. Logit: 15.97 Prob: 49.27% Token: | bigger|\n",
            "Top 1th token. Logit: 14.60 Prob: 12.51% Token: | smaller|\n",
            "Top 2th token. Logit: 13.60 Prob:  4.61% Token: | larger|\n",
            "Top 3th token. Logit: 12.49 Prob:  1.51% Token: | a|\n",
            "Top 4th token. Logit: 12.37 Prob:  1.35% Token: | more|\n",
            "Top 5th token. Logit: 12.17 Prob:  1.11% Token: | the|\n",
            "Top 6th token. Logit: 12.12 Prob:  1.05% Token: | not|\n",
            "Top 7th token. Logit: 12.11 Prob:  1.04% Token: | big|\n",
            "Top 8th token. Logit: 11.85 Prob:  0.81% Token: | also|\n",
            "Top 9th token. Logit: 11.84 Prob:  0.79% Token: | much|\n"
          ]
        },
        {
          "output_type": "display_data",
          "data": {
            "text/plain": [
              "Performance on answer token:\n",
              "\u001b[1mRank: \u001b[0m\u001b[1;36m0\u001b[0m\u001b[1m        Logit: \u001b[0m\u001b[1;36m17.25\u001b[0m\u001b[1m Prob: \u001b[0m\u001b[1;36m70.14\u001b[0m\u001b[1m% Token: | than|\u001b[0m\n"
            ],
            "text/html": [
              "<pre style=\"white-space:pre;overflow-x:auto;line-height:normal;font-family:Menlo,'DejaVu Sans Mono',consolas,'Courier New',monospace\">Performance on answer token:\n",
              "<span style=\"font-weight: bold\">Rank: </span><span style=\"color: #008080; text-decoration-color: #008080; font-weight: bold\">0</span><span style=\"font-weight: bold\">        Logit: </span><span style=\"color: #008080; text-decoration-color: #008080; font-weight: bold\">17.25</span><span style=\"font-weight: bold\"> Prob: </span><span style=\"color: #008080; text-decoration-color: #008080; font-weight: bold\">70.14</span><span style=\"font-weight: bold\">% Token: | than|</span>\n",
              "</pre>\n"
            ]
          },
          "metadata": {}
        },
        {
          "output_type": "stream",
          "name": "stdout",
          "text": [
            "Top 0th token. Logit: 17.25 Prob: 70.14% Token: | than|\n",
            "Top 1th token. Logit: 15.72 Prob: 15.15% Token: |.|\n",
            "Top 2th token. Logit: 13.97 Prob:  2.63% Token: |,|\n",
            "Top 3th token. Logit: 13.59 Prob:  1.80% Token: |\n",
            "|\n",
            "Top 4th token. Logit: 12.93 Prob:  0.93% Token: | then|\n",
            "Top 5th token. Logit: 12.74 Prob:  0.77% Token: | and|\n",
            "Top 6th token. Logit: 12.60 Prob:  0.67% Token: | too|\n",
            "Top 7th token. Logit: 12.29 Prob:  0.49% Token: | (|\n",
            "Top 8th token. Logit: 11.59 Prob:  0.24% Token: | because|\n",
            "Top 9th token. Logit: 11.59 Prob:  0.24% Token: | in|\n"
          ]
        },
        {
          "output_type": "display_data",
          "data": {
            "text/plain": [
              "Performance on answer token:\n",
              "\u001b[1mRank: \u001b[0m\u001b[1;36m0\u001b[0m\u001b[1m        Logit: \u001b[0m\u001b[1;36m17.82\u001b[0m\u001b[1m Prob: \u001b[0m\u001b[1;36m88.27\u001b[0m\u001b[1m% Token: | thing|\u001b[0m\n"
            ],
            "text/html": [
              "<pre style=\"white-space:pre;overflow-x:auto;line-height:normal;font-family:Menlo,'DejaVu Sans Mono',consolas,'Courier New',monospace\">Performance on answer token:\n",
              "<span style=\"font-weight: bold\">Rank: </span><span style=\"color: #008080; text-decoration-color: #008080; font-weight: bold\">0</span><span style=\"font-weight: bold\">        Logit: </span><span style=\"color: #008080; text-decoration-color: #008080; font-weight: bold\">17.82</span><span style=\"font-weight: bold\"> Prob: </span><span style=\"color: #008080; text-decoration-color: #008080; font-weight: bold\">88.27</span><span style=\"font-weight: bold\">% Token: | thing|</span>\n",
              "</pre>\n"
            ]
          },
          "metadata": {}
        },
        {
          "output_type": "stream",
          "name": "stdout",
          "text": [
            "Top 0th token. Logit: 17.82 Prob: 88.27% Token: | thing|\n",
            "Top 1th token. Logit: 13.51 Prob:  1.19% Token: | Thing|\n",
            "Top 2th token. Logit: 12.92 Prob:  0.66% Token: | things|\n",
            "Top 3th token. Logit: 12.88 Prob:  0.63% Token: | anything|\n",
            "Top 4th token. Logit: 12.79 Prob:  0.58% Token: | it|\n",
            "Top 5th token. Logit: 12.67 Prob:  0.51% Token: | stuff|\n",
            "Top 6th token. Logit: 12.42 Prob:  0.40% Token: | something|\n",
            "Top 7th token. Logit: 12.07 Prob:  0.28% Token: |thing|\n",
            "Top 8th token. Logit: 12.00 Prob:  0.26% Token: | the|\n",
            "Top 9th token. Logit: 11.88 Prob:  0.23% Token: | what|\n"
          ]
        },
        {
          "output_type": "display_data",
          "data": {
            "text/plain": [
              "Performance on answer token:\n",
              "\u001b[1mRank: \u001b[0m\u001b[1;36m0\u001b[0m\u001b[1m        Logit: \u001b[0m\u001b[1;36m19.00\u001b[0m\u001b[1m Prob: \u001b[0m\u001b[1;36m49.36\u001b[0m\u001b[1m% Token: |\u001b[0m\u001b[1;36m1\u001b[0m\u001b[1m|\u001b[0m\n"
            ],
            "text/html": [
              "<pre style=\"white-space:pre;overflow-x:auto;line-height:normal;font-family:Menlo,'DejaVu Sans Mono',consolas,'Courier New',monospace\">Performance on answer token:\n",
              "<span style=\"font-weight: bold\">Rank: </span><span style=\"color: #008080; text-decoration-color: #008080; font-weight: bold\">0</span><span style=\"font-weight: bold\">        Logit: </span><span style=\"color: #008080; text-decoration-color: #008080; font-weight: bold\">19.00</span><span style=\"font-weight: bold\"> Prob: </span><span style=\"color: #008080; text-decoration-color: #008080; font-weight: bold\">49.36</span><span style=\"font-weight: bold\">% Token: |</span><span style=\"color: #008080; text-decoration-color: #008080; font-weight: bold\">1</span><span style=\"font-weight: bold\">|</span>\n",
              "</pre>\n"
            ]
          },
          "metadata": {}
        },
        {
          "output_type": "stream",
          "name": "stdout",
          "text": [
            "Top 0th token. Logit: 19.00 Prob: 49.36% Token: |1|\n",
            "Top 1th token. Logit: 18.83 Prob: 41.57% Token: |3|\n",
            "Top 2th token. Logit: 16.97 Prob:  6.47% Token: |2|\n",
            "Top 3th token. Logit: 14.63 Prob:  0.62% Token: |4|\n",
            "Top 4th token. Logit: 14.63 Prob:  0.62% Token: |5|\n",
            "Top 5th token. Logit: 13.41 Prob:  0.18% Token: | 1|\n",
            "Top 6th token. Logit: 13.40 Prob:  0.18% Token: |0|\n",
            "Top 7th token. Logit: 13.01 Prob:  0.12% Token: | 3|\n",
            "Top 8th token. Logit: 12.61 Prob:  0.08% Token: |7|\n",
            "Top 9th token. Logit: 12.04 Prob:  0.05% Token: |6|\n"
          ]
        },
        {
          "output_type": "display_data",
          "data": {
            "text/plain": [
              "\u001b[1mRanks of the answer tokens:\u001b[0m \u001b[1m[\u001b[0m\u001b[1m(\u001b[0m\u001b[32m' smaller'\u001b[0m, \u001b[1;36m1\u001b[0m\u001b[1m)\u001b[0m, \u001b[1m(\u001b[0m\u001b[32m' than'\u001b[0m, \u001b[1;36m0\u001b[0m\u001b[1m)\u001b[0m, \u001b[1m(\u001b[0m\u001b[32m' thing'\u001b[0m, \u001b[1;36m0\u001b[0m\u001b[1m)\u001b[0m, \u001b[1m(\u001b[0m\u001b[32m'1'\u001b[0m, \u001b[1;36m0\u001b[0m\u001b[1m)\u001b[0m\u001b[1m]\u001b[0m\n"
            ],
            "text/html": [
              "<pre style=\"white-space:pre;overflow-x:auto;line-height:normal;font-family:Menlo,'DejaVu Sans Mono',consolas,'Courier New',monospace\"><span style=\"font-weight: bold\">Ranks of the answer tokens:</span> <span style=\"font-weight: bold\">[(</span><span style=\"color: #008000; text-decoration-color: #008000\">' smaller'</span>, <span style=\"color: #008080; text-decoration-color: #008080; font-weight: bold\">1</span><span style=\"font-weight: bold\">)</span>, <span style=\"font-weight: bold\">(</span><span style=\"color: #008000; text-decoration-color: #008000\">' than'</span>, <span style=\"color: #008080; text-decoration-color: #008080; font-weight: bold\">0</span><span style=\"font-weight: bold\">)</span>, <span style=\"font-weight: bold\">(</span><span style=\"color: #008000; text-decoration-color: #008000\">' thing'</span>, <span style=\"color: #008080; text-decoration-color: #008080; font-weight: bold\">0</span><span style=\"font-weight: bold\">)</span>, <span style=\"font-weight: bold\">(</span><span style=\"color: #008000; text-decoration-color: #008000\">'1'</span>, <span style=\"color: #008080; text-decoration-color: #008080; font-weight: bold\">0</span><span style=\"font-weight: bold\">)]</span>\n",
              "</pre>\n"
            ]
          },
          "metadata": {}
        }
      ]
    },
    {
      "cell_type": "code",
      "source": [
        "test_prompt = \"Andrew is smaller than Byron. Byron is not\"\n",
        "test_completion = \"smaller than Andrew\"\n",
        "utils.test_prompt(test_prompt, test_completion, model, prepend_bos=True)"
      ],
      "metadata": {
        "colab": {
          "base_uri": "https://localhost:8080/",
          "height": 703
        },
        "id": "5AWof2yzDYQj",
        "outputId": "431a0bb2-72de-47bf-d8ad-cec78209525d"
      },
      "execution_count": null,
      "outputs": [
        {
          "output_type": "stream",
          "name": "stdout",
          "text": [
            "Tokenized prompt: ['<|endoftext|>', 'Andrew', ' is', ' smaller', ' than', ' Byron', '.', ' Byron', ' is', ' not']\n",
            "Tokenized answer: [' smaller', ' than', ' Andrew']\n"
          ]
        },
        {
          "output_type": "display_data",
          "data": {
            "text/plain": [
              "Performance on answer token:\n",
              "\u001b[1mRank: \u001b[0m\u001b[1;36m4\u001b[0m\u001b[1m        Logit: \u001b[0m\u001b[1;36m14.04\u001b[0m\u001b[1m Prob:  \u001b[0m\u001b[1;36m4.90\u001b[0m\u001b[1m% Token: | smaller|\u001b[0m\n"
            ],
            "text/html": [
              "<pre style=\"white-space:pre;overflow-x:auto;line-height:normal;font-family:Menlo,'DejaVu Sans Mono',consolas,'Courier New',monospace\">Performance on answer token:\n",
              "<span style=\"font-weight: bold\">Rank: </span><span style=\"color: #008080; text-decoration-color: #008080; font-weight: bold\">4</span><span style=\"font-weight: bold\">        Logit: </span><span style=\"color: #008080; text-decoration-color: #008080; font-weight: bold\">14.04</span><span style=\"font-weight: bold\"> Prob:  </span><span style=\"color: #008080; text-decoration-color: #008080; font-weight: bold\">4.90</span><span style=\"font-weight: bold\">% Token: | smaller|</span>\n",
              "</pre>\n"
            ]
          },
          "metadata": {}
        },
        {
          "output_type": "stream",
          "name": "stdout",
          "text": [
            "Top 0th token. Logit: 15.29 Prob: 17.08% Token: |.|\n",
            "Top 1th token. Logit: 14.71 Prob:  9.61% Token: | big|\n",
            "Top 2th token. Logit: 14.34 Prob:  6.64% Token: | bigger|\n",
            "Top 3th token. Logit: 14.19 Prob:  5.71% Token: | as|\n",
            "Top 4th token. Logit: 14.04 Prob:  4.90% Token: | smaller|\n",
            "Top 5th token. Logit: 14.03 Prob:  4.87% Token: | a|\n",
            "Top 6th token. Logit: 13.45 Prob:  2.72% Token: | small|\n",
            "Top 7th token. Logit: 13.41 Prob:  2.61% Token: | large|\n",
            "Top 8th token. Logit: 13.36 Prob:  2.47% Token: | much|\n",
            "Top 9th token. Logit: 13.30 Prob:  2.33% Token: | larger|\n"
          ]
        },
        {
          "output_type": "display_data",
          "data": {
            "text/plain": [
              "Performance on answer token:\n",
              "\u001b[1mRank: \u001b[0m\u001b[1;36m0\u001b[0m\u001b[1m        Logit: \u001b[0m\u001b[1;36m19.60\u001b[0m\u001b[1m Prob: \u001b[0m\u001b[1;36m82.89\u001b[0m\u001b[1m% Token: | than|\u001b[0m\n"
            ],
            "text/html": [
              "<pre style=\"white-space:pre;overflow-x:auto;line-height:normal;font-family:Menlo,'DejaVu Sans Mono',consolas,'Courier New',monospace\">Performance on answer token:\n",
              "<span style=\"font-weight: bold\">Rank: </span><span style=\"color: #008080; text-decoration-color: #008080; font-weight: bold\">0</span><span style=\"font-weight: bold\">        Logit: </span><span style=\"color: #008080; text-decoration-color: #008080; font-weight: bold\">19.60</span><span style=\"font-weight: bold\"> Prob: </span><span style=\"color: #008080; text-decoration-color: #008080; font-weight: bold\">82.89</span><span style=\"font-weight: bold\">% Token: | than|</span>\n",
              "</pre>\n"
            ]
          },
          "metadata": {}
        },
        {
          "output_type": "stream",
          "name": "stdout",
          "text": [
            "Top 0th token. Logit: 19.60 Prob: 82.89% Token: | than|\n",
            "Top 1th token. Logit: 17.31 Prob:  8.36% Token: |.|\n",
            "Top 2th token. Logit: 15.87 Prob:  1.98% Token: |,|\n",
            "Top 3th token. Logit: 15.13 Prob:  0.95% Token: | then|\n",
            "Top 4th token. Logit: 14.87 Prob:  0.73% Token: | but|\n",
            "Top 5th token. Logit: 14.76 Prob:  0.65% Token: | at|\n",
            "Top 6th token. Logit: 14.44 Prob:  0.48% Token: | and|\n",
            "Top 7th token. Logit: 14.23 Prob:  0.39% Token: | because|\n",
            "Top 8th token. Logit: 13.89 Prob:  0.27% Token: | in|\n",
            "Top 9th token. Logit: 13.66 Prob:  0.22% Token: | like|\n"
          ]
        },
        {
          "output_type": "display_data",
          "data": {
            "text/plain": [
              "Performance on answer token:\n",
              "\u001b[1mRank: \u001b[0m\u001b[1;36m0\u001b[0m\u001b[1m        Logit: \u001b[0m\u001b[1;36m17.50\u001b[0m\u001b[1m Prob: \u001b[0m\u001b[1;36m81.42\u001b[0m\u001b[1m% Token: | Andrew|\u001b[0m\n"
            ],
            "text/html": [
              "<pre style=\"white-space:pre;overflow-x:auto;line-height:normal;font-family:Menlo,'DejaVu Sans Mono',consolas,'Courier New',monospace\">Performance on answer token:\n",
              "<span style=\"font-weight: bold\">Rank: </span><span style=\"color: #008080; text-decoration-color: #008080; font-weight: bold\">0</span><span style=\"font-weight: bold\">        Logit: </span><span style=\"color: #008080; text-decoration-color: #008080; font-weight: bold\">17.50</span><span style=\"font-weight: bold\"> Prob: </span><span style=\"color: #008080; text-decoration-color: #008080; font-weight: bold\">81.42</span><span style=\"font-weight: bold\">% Token: | Andrew|</span>\n",
              "</pre>\n"
            ]
          },
          "metadata": {}
        },
        {
          "output_type": "stream",
          "name": "stdout",
          "text": [
            "Top 0th token. Logit: 17.50 Prob: 81.42% Token: | Andrew|\n",
            "Top 1th token. Logit: 12.70 Prob:  0.67% Token: | Byron|\n",
            "Top 2th token. Logit: 12.60 Prob:  0.60% Token: | Andy|\n",
            "Top 3th token. Logit: 12.49 Prob:  0.54% Token: | him|\n",
            "Top 4th token. Logit: 12.26 Prob:  0.43% Token: | the|\n",
            "Top 5th token. Logit: 11.99 Prob:  0.33% Token: | his|\n",
            "Top 6th token. Logit: 11.79 Prob:  0.27% Token: | a|\n",
            "Top 7th token. Logit: 11.75 Prob:  0.26% Token: | Alex|\n",
            "Top 8th token. Logit: 11.65 Prob:  0.23% Token: | Nick|\n",
            "Top 9th token. Logit: 11.56 Prob:  0.22% Token: | Anthony|\n"
          ]
        },
        {
          "output_type": "display_data",
          "data": {
            "text/plain": [
              "\u001b[1mRanks of the answer tokens:\u001b[0m \u001b[1m[\u001b[0m\u001b[1m(\u001b[0m\u001b[32m' smaller'\u001b[0m, \u001b[1;36m4\u001b[0m\u001b[1m)\u001b[0m, \u001b[1m(\u001b[0m\u001b[32m' than'\u001b[0m, \u001b[1;36m0\u001b[0m\u001b[1m)\u001b[0m, \u001b[1m(\u001b[0m\u001b[32m' Andrew'\u001b[0m, \u001b[1;36m0\u001b[0m\u001b[1m)\u001b[0m\u001b[1m]\u001b[0m\n"
            ],
            "text/html": [
              "<pre style=\"white-space:pre;overflow-x:auto;line-height:normal;font-family:Menlo,'DejaVu Sans Mono',consolas,'Courier New',monospace\"><span style=\"font-weight: bold\">Ranks of the answer tokens:</span> <span style=\"font-weight: bold\">[(</span><span style=\"color: #008000; text-decoration-color: #008000\">' smaller'</span>, <span style=\"color: #008080; text-decoration-color: #008080; font-weight: bold\">4</span><span style=\"font-weight: bold\">)</span>, <span style=\"font-weight: bold\">(</span><span style=\"color: #008000; text-decoration-color: #008000\">' than'</span>, <span style=\"color: #008080; text-decoration-color: #008080; font-weight: bold\">0</span><span style=\"font-weight: bold\">)</span>, <span style=\"font-weight: bold\">(</span><span style=\"color: #008000; text-decoration-color: #008000\">' Andrew'</span>, <span style=\"color: #008080; text-decoration-color: #008080; font-weight: bold\">0</span><span style=\"font-weight: bold\">)]</span>\n",
              "</pre>\n"
            ]
          },
          "metadata": {}
        }
      ]
    },
    {
      "cell_type": "code",
      "source": [
        "# goal: what's up with this pathology where it completes to \"byron is not <.>\". It doesn't make semantic sense."
      ],
      "metadata": {
        "id": "uOGAJ6F7END5"
      },
      "execution_count": null,
      "outputs": []
    },
    {
      "cell_type": "code",
      "source": [
        "test_prompt = \"Andrew is bluer than Byron. Byron is not..\"\n",
        "test_completion = \"redder than Andrew\"\n",
        "utils.test_prompt(test_prompt, test_completion, model, prepend_bos=True)"
      ],
      "metadata": {
        "colab": {
          "base_uri": "https://localhost:8080/",
          "height": 932
        },
        "id": "Mal8k5foEM_J",
        "outputId": "1a2154f0-833d-4dac-96b4-8e4b127c0363"
      },
      "execution_count": null,
      "outputs": [
        {
          "output_type": "stream",
          "name": "stdout",
          "text": [
            "Tokenized prompt: ['<|endoftext|>', 'Andrew', ' is', ' bl', 'uer', ' than', ' Byron', '.', ' Byron', ' is', ' not', '..']\n",
            "Tokenized answer: [' red', 'der', ' than', ' Andrew']\n"
          ]
        },
        {
          "output_type": "display_data",
          "data": {
            "text/plain": [
              "Performance on answer token:\n",
              "\u001b[1mRank: \u001b[0m\u001b[1;36m1870\u001b[0m\u001b[1m     Logit:  \u001b[0m\u001b[1;36m4.26\u001b[0m\u001b[1m Prob:  \u001b[0m\u001b[1;36m0.00\u001b[0m\u001b[1m% Token: | red|\u001b[0m\n"
            ],
            "text/html": [
              "<pre style=\"white-space:pre;overflow-x:auto;line-height:normal;font-family:Menlo,'DejaVu Sans Mono',consolas,'Courier New',monospace\">Performance on answer token:\n",
              "<span style=\"font-weight: bold\">Rank: </span><span style=\"color: #008080; text-decoration-color: #008080; font-weight: bold\">1870</span><span style=\"font-weight: bold\">     Logit:  </span><span style=\"color: #008080; text-decoration-color: #008080; font-weight: bold\">4.26</span><span style=\"font-weight: bold\"> Prob:  </span><span style=\"color: #008080; text-decoration-color: #008080; font-weight: bold\">0.00</span><span style=\"font-weight: bold\">% Token: | red|</span>\n",
              "</pre>\n"
            ]
          },
          "metadata": {}
        },
        {
          "output_type": "stream",
          "name": "stdout",
          "text": [
            "Top 0th token. Logit: 11.94 Prob:  8.67% Token: |\n",
            "|\n",
            "Top 1th token. Logit: 11.31 Prob:  4.60% Token: | Byron|\n",
            "Top 2th token. Logit: 11.21 Prob:  4.16% Token: |well|\n",
            "Top 3th token. Logit: 11.03 Prob:  3.48% Token: | well|\n",
            "Top 4th token. Logit: 10.80 Prob:  2.76% Token: | he|\n",
            "Top 5th token. Logit: 10.78 Prob:  2.71% Token: | He|\n",
            "Top 6th token. Logit: 10.56 Prob:  2.17% Token: | Andrew|\n",
            "Top 7th token. Logit: 10.25 Prob:  1.59% Token: | I|\n",
            "Top 8th token. Logit: 10.06 Prob:  1.32% Token: |he|\n",
            "Top 9th token. Logit:  9.75 Prob:  0.96% Token: | you|\n"
          ]
        },
        {
          "output_type": "display_data",
          "data": {
            "text/plain": [
              "Performance on answer token:\n",
              "\u001b[1mRank: \u001b[0m\u001b[1;36m1\u001b[0m\u001b[1m        Logit: \u001b[0m\u001b[1;36m14.08\u001b[0m\u001b[1m Prob: \u001b[0m\u001b[1;36m13.33\u001b[0m\u001b[1m% Token: |der|\u001b[0m\n"
            ],
            "text/html": [
              "<pre style=\"white-space:pre;overflow-x:auto;line-height:normal;font-family:Menlo,'DejaVu Sans Mono',consolas,'Courier New',monospace\">Performance on answer token:\n",
              "<span style=\"font-weight: bold\">Rank: </span><span style=\"color: #008080; text-decoration-color: #008080; font-weight: bold\">1</span><span style=\"font-weight: bold\">        Logit: </span><span style=\"color: #008080; text-decoration-color: #008080; font-weight: bold\">14.08</span><span style=\"font-weight: bold\"> Prob: </span><span style=\"color: #008080; text-decoration-color: #008080; font-weight: bold\">13.33</span><span style=\"font-weight: bold\">% Token: |der|</span>\n",
              "</pre>\n"
            ]
          },
          "metadata": {}
        },
        {
          "output_type": "stream",
          "name": "stdout",
          "text": [
            "Top 0th token. Logit: 14.50 Prob: 20.32% Token: |.|\n",
            "Top 1th token. Logit: 14.08 Prob: 13.33% Token: |der|\n",
            "Top 2th token. Logit: 13.60 Prob:  8.28% Token: |-|\n",
            "Top 3th token. Logit: 13.04 Prob:  4.73% Token: |,|\n",
            "Top 4th token. Logit: 12.72 Prob:  3.43% Token: |neck|\n",
            "Top 5th token. Logit: 12.56 Prob:  2.91% Token: | and|\n",
            "Top 6th token. Logit: 12.55 Prob:  2.89% Token: |ne|\n",
            "Top 7th token. Logit: 12.41 Prob:  2.51% Token: | in|\n",
            "Top 8th token. Logit: 12.30 Prob:  2.25% Token: |head|\n",
            "Top 9th token. Logit: 11.99 Prob:  1.66% Token: | hot|\n"
          ]
        },
        {
          "output_type": "display_data",
          "data": {
            "text/plain": [
              "Performance on answer token:\n",
              "\u001b[1mRank: \u001b[0m\u001b[1;36m0\u001b[0m\u001b[1m        Logit: \u001b[0m\u001b[1;36m15.82\u001b[0m\u001b[1m Prob: \u001b[0m\u001b[1;36m51.96\u001b[0m\u001b[1m% Token: | than|\u001b[0m\n"
            ],
            "text/html": [
              "<pre style=\"white-space:pre;overflow-x:auto;line-height:normal;font-family:Menlo,'DejaVu Sans Mono',consolas,'Courier New',monospace\">Performance on answer token:\n",
              "<span style=\"font-weight: bold\">Rank: </span><span style=\"color: #008080; text-decoration-color: #008080; font-weight: bold\">0</span><span style=\"font-weight: bold\">        Logit: </span><span style=\"color: #008080; text-decoration-color: #008080; font-weight: bold\">15.82</span><span style=\"font-weight: bold\"> Prob: </span><span style=\"color: #008080; text-decoration-color: #008080; font-weight: bold\">51.96</span><span style=\"font-weight: bold\">% Token: | than|</span>\n",
              "</pre>\n"
            ]
          },
          "metadata": {}
        },
        {
          "output_type": "stream",
          "name": "stdout",
          "text": [
            "Top 0th token. Logit: 15.82 Prob: 51.96% Token: | than|\n",
            "Top 1th token. Logit: 14.94 Prob: 21.59% Token: |.|\n",
            "Top 2th token. Logit: 13.29 Prob:  4.15% Token: |,|\n",
            "Top 3th token. Logit: 12.72 Prob:  2.35% Token: |..|\n",
            "Top 4th token. Logit: 12.64 Prob:  2.17% Token: | and|\n",
            "Top 5th token. Logit: 11.98 Prob:  1.11% Token: |?|\n",
            "Top 6th token. Logit: 11.61 Prob:  0.77% Token: |!|\n",
            "Top 7th token. Logit: 11.59 Prob:  0.76% Token: |-|\n",
            "Top 8th token. Logit: 11.58 Prob:  0.75% Token: | like|\n",
            "Top 9th token. Logit: 11.57 Prob:  0.74% Token: | in|\n"
          ]
        },
        {
          "output_type": "display_data",
          "data": {
            "text/plain": [
              "Performance on answer token:\n",
              "\u001b[1mRank: \u001b[0m\u001b[1;36m0\u001b[0m\u001b[1m        Logit: \u001b[0m\u001b[1;36m15.07\u001b[0m\u001b[1m Prob: \u001b[0m\u001b[1;36m46.23\u001b[0m\u001b[1m% Token: | Andrew|\u001b[0m\n"
            ],
            "text/html": [
              "<pre style=\"white-space:pre;overflow-x:auto;line-height:normal;font-family:Menlo,'DejaVu Sans Mono',consolas,'Courier New',monospace\">Performance on answer token:\n",
              "<span style=\"font-weight: bold\">Rank: </span><span style=\"color: #008080; text-decoration-color: #008080; font-weight: bold\">0</span><span style=\"font-weight: bold\">        Logit: </span><span style=\"color: #008080; text-decoration-color: #008080; font-weight: bold\">15.07</span><span style=\"font-weight: bold\"> Prob: </span><span style=\"color: #008080; text-decoration-color: #008080; font-weight: bold\">46.23</span><span style=\"font-weight: bold\">% Token: | Andrew|</span>\n",
              "</pre>\n"
            ]
          },
          "metadata": {}
        },
        {
          "output_type": "stream",
          "name": "stdout",
          "text": [
            "Top 0th token. Logit: 15.07 Prob: 46.23% Token: | Andrew|\n",
            "Top 1th token. Logit: 12.79 Prob:  4.74% Token: | Byron|\n",
            "Top 2th token. Logit: 11.87 Prob:  1.89% Token: | Andy|\n",
            "Top 3th token. Logit: 11.72 Prob:  1.63% Token: | he|\n",
            "Top 4th token. Logit: 11.55 Prob:  1.38% Token: | the|\n",
            "Top 5th token. Logit: 11.47 Prob:  1.27% Token: | him|\n",
            "Top 6th token. Logit: 11.18 Prob:  0.95% Token: | his|\n",
            "Top 7th token. Logit: 11.00 Prob:  0.79% Token: | a|\n",
            "Top 8th token. Logit: 10.96 Prob:  0.76% Token: | you|\n",
            "Top 9th token. Logit: 10.69 Prob:  0.58% Token: | I|\n"
          ]
        },
        {
          "output_type": "display_data",
          "data": {
            "text/plain": [
              "\u001b[1mRanks of the answer tokens:\u001b[0m \u001b[1m[\u001b[0m\u001b[1m(\u001b[0m\u001b[32m' red'\u001b[0m, \u001b[1;36m1870\u001b[0m\u001b[1m)\u001b[0m, \u001b[1m(\u001b[0m\u001b[32m'der'\u001b[0m, \u001b[1;36m1\u001b[0m\u001b[1m)\u001b[0m, \u001b[1m(\u001b[0m\u001b[32m' than'\u001b[0m, \u001b[1;36m0\u001b[0m\u001b[1m)\u001b[0m, \u001b[1m(\u001b[0m\u001b[32m' Andrew'\u001b[0m, \u001b[1;36m0\u001b[0m\u001b[1m)\u001b[0m\u001b[1m]\u001b[0m\n"
            ],
            "text/html": [
              "<pre style=\"white-space:pre;overflow-x:auto;line-height:normal;font-family:Menlo,'DejaVu Sans Mono',consolas,'Courier New',monospace\"><span style=\"font-weight: bold\">Ranks of the answer tokens:</span> <span style=\"font-weight: bold\">[(</span><span style=\"color: #008000; text-decoration-color: #008000\">' red'</span>, <span style=\"color: #008080; text-decoration-color: #008080; font-weight: bold\">1870</span><span style=\"font-weight: bold\">)</span>, <span style=\"font-weight: bold\">(</span><span style=\"color: #008000; text-decoration-color: #008000\">'der'</span>, <span style=\"color: #008080; text-decoration-color: #008080; font-weight: bold\">1</span><span style=\"font-weight: bold\">)</span>, <span style=\"font-weight: bold\">(</span><span style=\"color: #008000; text-decoration-color: #008000\">' than'</span>, <span style=\"color: #008080; text-decoration-color: #008080; font-weight: bold\">0</span><span style=\"font-weight: bold\">)</span>, <span style=\"font-weight: bold\">(</span><span style=\"color: #008000; text-decoration-color: #008000\">' Andrew'</span>, <span style=\"color: #008080; text-decoration-color: #008080; font-weight: bold\">0</span><span style=\"font-weight: bold\">)]</span>\n",
              "</pre>\n"
            ]
          },
          "metadata": {}
        }
      ]
    },
    {
      "cell_type": "code",
      "source": [],
      "metadata": {
        "id": "L1RNLEHnEM9D"
      },
      "execution_count": null,
      "outputs": []
    },
    {
      "cell_type": "code",
      "source": [
        "test_prompt = \"Andrew is bluer than Byron. Byron is not\"\n",
        "test_completion = \"redder than Andrew\"\n",
        "utils.test_prompt(test_prompt, test_completion, model, prepend_bos=True)"
      ],
      "metadata": {
        "colab": {
          "base_uri": "https://localhost:8080/",
          "height": 914
        },
        "outputId": "ec33a0d2-aeb1-43d1-e834-3e2cfd5cda46",
        "id": "wi0UdgB7E71L"
      },
      "execution_count": null,
      "outputs": [
        {
          "output_type": "stream",
          "name": "stdout",
          "text": [
            "Tokenized prompt: ['<|endoftext|>', 'Andrew', ' is', ' bl', 'uer', ' than', ' Byron', '.', ' Byron', ' is', ' not']\n",
            "Tokenized answer: [' red', 'der', ' than', ' Andrew']\n"
          ]
        },
        {
          "output_type": "display_data",
          "data": {
            "text/plain": [
              "Performance on answer token:\n",
              "\u001b[1mRank: \u001b[0m\u001b[1;36m447\u001b[0m\u001b[1m      Logit:  \u001b[0m\u001b[1;36m7.96\u001b[0m\u001b[1m Prob:  \u001b[0m\u001b[1;36m0.01\u001b[0m\u001b[1m% Token: | red|\u001b[0m\n"
            ],
            "text/html": [
              "<pre style=\"white-space:pre;overflow-x:auto;line-height:normal;font-family:Menlo,'DejaVu Sans Mono',consolas,'Courier New',monospace\">Performance on answer token:\n",
              "<span style=\"font-weight: bold\">Rank: </span><span style=\"color: #008080; text-decoration-color: #008080; font-weight: bold\">447</span><span style=\"font-weight: bold\">      Logit:  </span><span style=\"color: #008080; text-decoration-color: #008080; font-weight: bold\">7.96</span><span style=\"font-weight: bold\"> Prob:  </span><span style=\"color: #008080; text-decoration-color: #008080; font-weight: bold\">0.01</span><span style=\"font-weight: bold\">% Token: | red|</span>\n",
              "</pre>\n"
            ]
          },
          "metadata": {}
        },
        {
          "output_type": "stream",
          "name": "stdout",
          "text": [
            "Top 0th token. Logit: 15.33 Prob: 23.08% Token: |.|\n",
            "Top 1th token. Logit: 14.32 Prob:  8.34% Token: | bl|\n",
            "Top 2th token. Logit: 14.29 Prob:  8.09% Token: | a|\n",
            "Top 3th token. Logit: 13.41 Prob:  3.37% Token: | as|\n",
            "Top 4th token. Logit: 13.30 Prob:  3.03% Token: | so|\n",
            "Top 5th token. Logit: 13.17 Prob:  2.65% Token: |,|\n",
            "Top 6th token. Logit: 13.15 Prob:  2.60% Token: | the|\n",
            "Top 7th token. Logit: 12.55 Prob:  1.42% Token: | just|\n",
            "Top 8th token. Logit: 12.50 Prob:  1.36% Token: | like|\n",
            "Top 9th token. Logit: 12.06 Prob:  0.88% Token: | an|\n"
          ]
        },
        {
          "output_type": "display_data",
          "data": {
            "text/plain": [
              "Performance on answer token:\n",
              "\u001b[1mRank: \u001b[0m\u001b[1;36m5\u001b[0m\u001b[1m        Logit: \u001b[0m\u001b[1;36m13.55\u001b[0m\u001b[1m Prob:  \u001b[0m\u001b[1;36m3.00\u001b[0m\u001b[1m% Token: |der|\u001b[0m\n"
            ],
            "text/html": [
              "<pre style=\"white-space:pre;overflow-x:auto;line-height:normal;font-family:Menlo,'DejaVu Sans Mono',consolas,'Courier New',monospace\">Performance on answer token:\n",
              "<span style=\"font-weight: bold\">Rank: </span><span style=\"color: #008080; text-decoration-color: #008080; font-weight: bold\">5</span><span style=\"font-weight: bold\">        Logit: </span><span style=\"color: #008080; text-decoration-color: #008080; font-weight: bold\">13.55</span><span style=\"font-weight: bold\"> Prob:  </span><span style=\"color: #008080; text-decoration-color: #008080; font-weight: bold\">3.00</span><span style=\"font-weight: bold\">% Token: |der|</span>\n",
              "</pre>\n"
            ]
          },
          "metadata": {}
        },
        {
          "output_type": "stream",
          "name": "stdout",
          "text": [
            "Top 0th token. Logit: 15.56 Prob: 22.21% Token: |.|\n",
            "Top 1th token. Logit: 15.50 Prob: 21.07% Token: |-|\n",
            "Top 2th token. Logit: 14.69 Prob:  9.33% Token: |,|\n",
            "Top 3th token. Logit: 14.13 Prob:  5.31% Token: | and|\n",
            "Top 4th token. Logit: 13.78 Prob:  3.75% Token: | as|\n",
            "Top 5th token. Logit: 13.55 Prob:  3.00% Token: |der|\n",
            "Top 6th token. Logit: 13.55 Prob:  2.98% Token: | hot|\n",
            "Top 7th token. Logit: 13.54 Prob:  2.96% Token: | in|\n",
            "Top 8th token. Logit: 13.34 Prob:  2.41% Token: | like|\n",
            "Top 9th token. Logit: 13.23 Prob:  2.17% Token: |ne|\n"
          ]
        },
        {
          "output_type": "display_data",
          "data": {
            "text/plain": [
              "Performance on answer token:\n",
              "\u001b[1mRank: \u001b[0m\u001b[1;36m1\u001b[0m\u001b[1m        Logit: \u001b[0m\u001b[1;36m16.43\u001b[0m\u001b[1m Prob: \u001b[0m\u001b[1;36m33.24\u001b[0m\u001b[1m% Token: | than|\u001b[0m\n"
            ],
            "text/html": [
              "<pre style=\"white-space:pre;overflow-x:auto;line-height:normal;font-family:Menlo,'DejaVu Sans Mono',consolas,'Courier New',monospace\">Performance on answer token:\n",
              "<span style=\"font-weight: bold\">Rank: </span><span style=\"color: #008080; text-decoration-color: #008080; font-weight: bold\">1</span><span style=\"font-weight: bold\">        Logit: </span><span style=\"color: #008080; text-decoration-color: #008080; font-weight: bold\">16.43</span><span style=\"font-weight: bold\"> Prob: </span><span style=\"color: #008080; text-decoration-color: #008080; font-weight: bold\">33.24</span><span style=\"font-weight: bold\">% Token: | than|</span>\n",
              "</pre>\n"
            ]
          },
          "metadata": {}
        },
        {
          "output_type": "stream",
          "name": "stdout",
          "text": [
            "Top 0th token. Logit: 16.53 Prob: 36.62% Token: |.|\n",
            "Top 1th token. Logit: 16.43 Prob: 33.24% Token: | than|\n",
            "Top 2th token. Logit: 15.08 Prob:  8.61% Token: |,|\n",
            "Top 3th token. Logit: 14.08 Prob:  3.17% Token: | and|\n",
            "Top 4th token. Logit: 13.53 Prob:  1.84% Token: | or|\n",
            "Top 5th token. Logit: 13.33 Prob:  1.50% Token: | in|\n",
            "Top 6th token. Logit: 13.00 Prob:  1.08% Token: | like|\n",
            "Top 7th token. Logit: 12.63 Prob:  0.74% Token: |;|\n",
            "Top 8th token. Logit: 12.46 Prob:  0.63% Token: |-|\n",
            "Top 9th token. Logit: 12.31 Prob:  0.54% Token: | but|\n"
          ]
        },
        {
          "output_type": "display_data",
          "data": {
            "text/plain": [
              "Performance on answer token:\n",
              "\u001b[1mRank: \u001b[0m\u001b[1;36m0\u001b[0m\u001b[1m        Logit: \u001b[0m\u001b[1;36m17.04\u001b[0m\u001b[1m Prob: \u001b[0m\u001b[1;36m78.96\u001b[0m\u001b[1m% Token: | Andrew|\u001b[0m\n"
            ],
            "text/html": [
              "<pre style=\"white-space:pre;overflow-x:auto;line-height:normal;font-family:Menlo,'DejaVu Sans Mono',consolas,'Courier New',monospace\">Performance on answer token:\n",
              "<span style=\"font-weight: bold\">Rank: </span><span style=\"color: #008080; text-decoration-color: #008080; font-weight: bold\">0</span><span style=\"font-weight: bold\">        Logit: </span><span style=\"color: #008080; text-decoration-color: #008080; font-weight: bold\">17.04</span><span style=\"font-weight: bold\"> Prob: </span><span style=\"color: #008080; text-decoration-color: #008080; font-weight: bold\">78.96</span><span style=\"font-weight: bold\">% Token: | Andrew|</span>\n",
              "</pre>\n"
            ]
          },
          "metadata": {}
        },
        {
          "output_type": "stream",
          "name": "stdout",
          "text": [
            "Top 0th token. Logit: 17.04 Prob: 78.96% Token: | Andrew|\n",
            "Top 1th token. Logit: 12.94 Prob:  1.30% Token: | Andy|\n",
            "Top 2th token. Logit: 12.84 Prob:  1.18% Token: | Byron|\n",
            "Top 3th token. Logit: 12.26 Prob:  0.66% Token: | him|\n",
            "Top 4th token. Logit: 12.15 Prob:  0.59% Token: | he|\n",
            "Top 5th token. Logit: 12.13 Prob:  0.58% Token: | the|\n",
            "Top 6th token. Logit: 11.94 Prob:  0.48% Token: | his|\n",
            "Top 7th token. Logit: 11.63 Prob:  0.35% Token: | a|\n",
            "Top 8th token. Logit: 11.45 Prob:  0.29% Token: | Andrews|\n",
            "Top 9th token. Logit: 11.17 Prob:  0.22% Token: | Alex|\n"
          ]
        },
        {
          "output_type": "display_data",
          "data": {
            "text/plain": [
              "\u001b[1mRanks of the answer tokens:\u001b[0m \u001b[1m[\u001b[0m\u001b[1m(\u001b[0m\u001b[32m' red'\u001b[0m, \u001b[1;36m447\u001b[0m\u001b[1m)\u001b[0m, \u001b[1m(\u001b[0m\u001b[32m'der'\u001b[0m, \u001b[1;36m5\u001b[0m\u001b[1m)\u001b[0m, \u001b[1m(\u001b[0m\u001b[32m' than'\u001b[0m, \u001b[1;36m1\u001b[0m\u001b[1m)\u001b[0m, \u001b[1m(\u001b[0m\u001b[32m' Andrew'\u001b[0m, \u001b[1;36m0\u001b[0m\u001b[1m)\u001b[0m\u001b[1m]\u001b[0m\n"
            ],
            "text/html": [
              "<pre style=\"white-space:pre;overflow-x:auto;line-height:normal;font-family:Menlo,'DejaVu Sans Mono',consolas,'Courier New',monospace\"><span style=\"font-weight: bold\">Ranks of the answer tokens:</span> <span style=\"font-weight: bold\">[(</span><span style=\"color: #008000; text-decoration-color: #008000\">' red'</span>, <span style=\"color: #008080; text-decoration-color: #008080; font-weight: bold\">447</span><span style=\"font-weight: bold\">)</span>, <span style=\"font-weight: bold\">(</span><span style=\"color: #008000; text-decoration-color: #008000\">'der'</span>, <span style=\"color: #008080; text-decoration-color: #008080; font-weight: bold\">5</span><span style=\"font-weight: bold\">)</span>, <span style=\"font-weight: bold\">(</span><span style=\"color: #008000; text-decoration-color: #008000\">' than'</span>, <span style=\"color: #008080; text-decoration-color: #008080; font-weight: bold\">1</span><span style=\"font-weight: bold\">)</span>, <span style=\"font-weight: bold\">(</span><span style=\"color: #008000; text-decoration-color: #008000\">' Andrew'</span>, <span style=\"color: #008080; text-decoration-color: #008080; font-weight: bold\">0</span><span style=\"font-weight: bold\">)]</span>\n",
              "</pre>\n"
            ]
          },
          "metadata": {}
        }
      ]
    },
    {
      "cell_type": "code",
      "source": [
        "utils.test_prompt(test_prompt, test_completion, model, prepend_bos=True)"
      ],
      "metadata": {
        "colab": {
          "base_uri": "https://localhost:8080/",
          "height": 932
        },
        "id": "ozteDIF8EM6g",
        "outputId": "c2f5cf86-dcfb-41fa-cba5-87a411faede3"
      },
      "execution_count": null,
      "outputs": [
        {
          "output_type": "stream",
          "name": "stdout",
          "text": [
            "Tokenized prompt: ['<|endoftext|>', 'thing', '1', ' is', ' bigger', ' than', ' thing', '2', '.', ' Thing', '2', ' is', ' not']\n",
            "Tokenized answer: [' smaller', ' than', ' thing', '1']\n"
          ]
        },
        {
          "output_type": "display_data",
          "data": {
            "text/plain": [
              "Performance on answer token:\n",
              "\u001b[1mRank: \u001b[0m\u001b[1;36m4\u001b[0m\u001b[1m        Logit: \u001b[0m\u001b[1;36m11.99\u001b[0m\u001b[1m Prob:  \u001b[0m\u001b[1;36m3.15\u001b[0m\u001b[1m% Token: | smaller|\u001b[0m\n"
            ],
            "text/html": [
              "<pre style=\"white-space:pre;overflow-x:auto;line-height:normal;font-family:Menlo,'DejaVu Sans Mono',consolas,'Courier New',monospace\">Performance on answer token:\n",
              "<span style=\"font-weight: bold\">Rank: </span><span style=\"color: #008080; text-decoration-color: #008080; font-weight: bold\">4</span><span style=\"font-weight: bold\">        Logit: </span><span style=\"color: #008080; text-decoration-color: #008080; font-weight: bold\">11.99</span><span style=\"font-weight: bold\"> Prob:  </span><span style=\"color: #008080; text-decoration-color: #008080; font-weight: bold\">3.15</span><span style=\"font-weight: bold\">% Token: | smaller|</span>\n",
              "</pre>\n"
            ]
          },
          "metadata": {}
        },
        {
          "output_type": "stream",
          "name": "stdout",
          "text": [
            "Top 0th token. Logit: 13.99 Prob: 23.18% Token: | bigger|\n",
            "Top 1th token. Logit: 12.76 Prob:  6.82% Token: | big|\n",
            "Top 2th token. Logit: 12.60 Prob:  5.77% Token: | a|\n",
            "Top 3th token. Logit: 12.05 Prob:  3.34% Token: | as|\n",
            "Top 4th token. Logit: 11.99 Prob:  3.15% Token: | smaller|\n",
            "Top 5th token. Logit: 11.85 Prob:  2.74% Token: | the|\n",
            "Top 6th token. Logit: 11.71 Prob:  2.39% Token: | larger|\n",
            "Top 7th token. Logit: 11.30 Prob:  1.58% Token: | really|\n",
            "Top 8th token. Logit: 11.28 Prob:  1.54% Token: |.|\n",
            "Top 9th token. Logit: 11.03 Prob:  1.20% Token: | that|\n"
          ]
        },
        {
          "output_type": "display_data",
          "data": {
            "text/plain": [
              "Performance on answer token:\n",
              "\u001b[1mRank: \u001b[0m\u001b[1;36m0\u001b[0m\u001b[1m        Logit: \u001b[0m\u001b[1;36m18.73\u001b[0m\u001b[1m Prob: \u001b[0m\u001b[1;36m89.84\u001b[0m\u001b[1m% Token: | than|\u001b[0m\n"
            ],
            "text/html": [
              "<pre style=\"white-space:pre;overflow-x:auto;line-height:normal;font-family:Menlo,'DejaVu Sans Mono',consolas,'Courier New',monospace\">Performance on answer token:\n",
              "<span style=\"font-weight: bold\">Rank: </span><span style=\"color: #008080; text-decoration-color: #008080; font-weight: bold\">0</span><span style=\"font-weight: bold\">        Logit: </span><span style=\"color: #008080; text-decoration-color: #008080; font-weight: bold\">18.73</span><span style=\"font-weight: bold\"> Prob: </span><span style=\"color: #008080; text-decoration-color: #008080; font-weight: bold\">89.84</span><span style=\"font-weight: bold\">% Token: | than|</span>\n",
              "</pre>\n"
            ]
          },
          "metadata": {}
        },
        {
          "output_type": "stream",
          "name": "stdout",
          "text": [
            "Top 0th token. Logit: 18.73 Prob: 89.84% Token: | than|\n",
            "Top 1th token. Logit: 15.77 Prob:  4.62% Token: |.|\n",
            "Top 2th token. Logit: 14.39 Prob:  1.17% Token: |,|\n",
            "Top 3th token. Logit: 13.92 Prob:  0.73% Token: | then|\n",
            "Top 4th token. Logit: 12.98 Prob:  0.29% Token: | because|\n",
            "Top 5th token. Logit: 12.72 Prob:  0.22% Token: | at|\n",
            "Top 6th token. Logit: 12.70 Prob:  0.22% Token: |;|\n",
            "Top 7th token. Logit: 12.69 Prob:  0.21% Token: | but|\n",
            "Top 8th token. Logit: 12.50 Prob:  0.18% Token: | and|\n",
            "Top 9th token. Logit: 12.28 Prob:  0.14% Token: | in|\n"
          ]
        },
        {
          "output_type": "display_data",
          "data": {
            "text/plain": [
              "Performance on answer token:\n",
              "\u001b[1mRank: \u001b[0m\u001b[1;36m0\u001b[0m\u001b[1m        Logit: \u001b[0m\u001b[1;36m17.07\u001b[0m\u001b[1m Prob: \u001b[0m\u001b[1;36m76.00\u001b[0m\u001b[1m% Token: | thing|\u001b[0m\n"
            ],
            "text/html": [
              "<pre style=\"white-space:pre;overflow-x:auto;line-height:normal;font-family:Menlo,'DejaVu Sans Mono',consolas,'Courier New',monospace\">Performance on answer token:\n",
              "<span style=\"font-weight: bold\">Rank: </span><span style=\"color: #008080; text-decoration-color: #008080; font-weight: bold\">0</span><span style=\"font-weight: bold\">        Logit: </span><span style=\"color: #008080; text-decoration-color: #008080; font-weight: bold\">17.07</span><span style=\"font-weight: bold\"> Prob: </span><span style=\"color: #008080; text-decoration-color: #008080; font-weight: bold\">76.00</span><span style=\"font-weight: bold\">% Token: | thing|</span>\n",
              "</pre>\n"
            ]
          },
          "metadata": {}
        },
        {
          "output_type": "stream",
          "name": "stdout",
          "text": [
            "Top 0th token. Logit: 17.07 Prob: 76.00% Token: | thing|\n",
            "Top 1th token. Logit: 15.23 Prob: 12.01% Token: | Thing|\n",
            "Top 2th token. Logit: 12.90 Prob:  1.18% Token: | anything|\n",
            "Top 3th token. Logit: 12.07 Prob:  0.51% Token: | the|\n",
            "Top 4th token. Logit: 12.03 Prob:  0.49% Token: | things|\n",
            "Top 5th token. Logit: 11.87 Prob:  0.42% Token: | something|\n",
            "Top 6th token. Logit: 11.71 Prob:  0.36% Token: | what|\n",
            "Top 7th token. Logit: 11.71 Prob:  0.36% Token: | it|\n",
            "Top 8th token. Logit: 11.23 Prob:  0.22% Token: | stuff|\n",
            "Top 9th token. Logit: 11.22 Prob:  0.22% Token: |thing|\n"
          ]
        },
        {
          "output_type": "display_data",
          "data": {
            "text/plain": [
              "Performance on answer token:\n",
              "\u001b[1mRank: \u001b[0m\u001b[1;36m0\u001b[0m\u001b[1m        Logit: \u001b[0m\u001b[1;36m18.80\u001b[0m\u001b[1m Prob: \u001b[0m\u001b[1;36m53.67\u001b[0m\u001b[1m% Token: |\u001b[0m\u001b[1;36m1\u001b[0m\u001b[1m|\u001b[0m\n"
            ],
            "text/html": [
              "<pre style=\"white-space:pre;overflow-x:auto;line-height:normal;font-family:Menlo,'DejaVu Sans Mono',consolas,'Courier New',monospace\">Performance on answer token:\n",
              "<span style=\"font-weight: bold\">Rank: </span><span style=\"color: #008080; text-decoration-color: #008080; font-weight: bold\">0</span><span style=\"font-weight: bold\">        Logit: </span><span style=\"color: #008080; text-decoration-color: #008080; font-weight: bold\">18.80</span><span style=\"font-weight: bold\"> Prob: </span><span style=\"color: #008080; text-decoration-color: #008080; font-weight: bold\">53.67</span><span style=\"font-weight: bold\">% Token: |</span><span style=\"color: #008080; text-decoration-color: #008080; font-weight: bold\">1</span><span style=\"font-weight: bold\">|</span>\n",
              "</pre>\n"
            ]
          },
          "metadata": {}
        },
        {
          "output_type": "stream",
          "name": "stdout",
          "text": [
            "Top 0th token. Logit: 18.80 Prob: 53.67% Token: |1|\n",
            "Top 1th token. Logit: 18.34 Prob: 33.91% Token: |3|\n",
            "Top 2th token. Logit: 17.05 Prob:  9.30% Token: |2|\n",
            "Top 3th token. Logit: 14.50 Prob:  0.72% Token: |5|\n",
            "Top 4th token. Logit: 14.43 Prob:  0.68% Token: |4|\n",
            "Top 5th token. Logit: 13.70 Prob:  0.33% Token: | 1|\n",
            "Top 6th token. Logit: 13.26 Prob:  0.21% Token: |0|\n",
            "Top 7th token. Logit: 13.11 Prob:  0.18% Token: | 3|\n",
            "Top 8th token. Logit: 12.45 Prob:  0.09% Token: |7|\n",
            "Top 9th token. Logit: 12.02 Prob:  0.06% Token: |6|\n"
          ]
        },
        {
          "output_type": "display_data",
          "data": {
            "text/plain": [
              "\u001b[1mRanks of the answer tokens:\u001b[0m \u001b[1m[\u001b[0m\u001b[1m(\u001b[0m\u001b[32m' smaller'\u001b[0m, \u001b[1;36m4\u001b[0m\u001b[1m)\u001b[0m, \u001b[1m(\u001b[0m\u001b[32m' than'\u001b[0m, \u001b[1;36m0\u001b[0m\u001b[1m)\u001b[0m, \u001b[1m(\u001b[0m\u001b[32m' thing'\u001b[0m, \u001b[1;36m0\u001b[0m\u001b[1m)\u001b[0m, \u001b[1m(\u001b[0m\u001b[32m'1'\u001b[0m, \u001b[1;36m0\u001b[0m\u001b[1m)\u001b[0m\u001b[1m]\u001b[0m\n"
            ],
            "text/html": [
              "<pre style=\"white-space:pre;overflow-x:auto;line-height:normal;font-family:Menlo,'DejaVu Sans Mono',consolas,'Courier New',monospace\"><span style=\"font-weight: bold\">Ranks of the answer tokens:</span> <span style=\"font-weight: bold\">[(</span><span style=\"color: #008000; text-decoration-color: #008000\">' smaller'</span>, <span style=\"color: #008080; text-decoration-color: #008080; font-weight: bold\">4</span><span style=\"font-weight: bold\">)</span>, <span style=\"font-weight: bold\">(</span><span style=\"color: #008000; text-decoration-color: #008000\">' than'</span>, <span style=\"color: #008080; text-decoration-color: #008080; font-weight: bold\">0</span><span style=\"font-weight: bold\">)</span>, <span style=\"font-weight: bold\">(</span><span style=\"color: #008000; text-decoration-color: #008000\">' thing'</span>, <span style=\"color: #008080; text-decoration-color: #008080; font-weight: bold\">0</span><span style=\"font-weight: bold\">)</span>, <span style=\"font-weight: bold\">(</span><span style=\"color: #008000; text-decoration-color: #008000\">'1'</span>, <span style=\"color: #008080; text-decoration-color: #008080; font-weight: bold\">0</span><span style=\"font-weight: bold\">)]</span>\n",
              "</pre>\n"
            ]
          },
          "metadata": {}
        },
        {
          "output_type": "execute_result",
          "data": {
            "text/plain": [
              "NoneType"
            ]
          },
          "metadata": {},
          "execution_count": 44
        }
      ]
    },
    {
      "cell_type": "code",
      "source": [
        "test_prompt = \"thing1 is bigger than thing2. Thing2 is not\"\n",
        "test_completion = \"smaller than thing1\"\n",
        "utils.test_prompt(test_prompt, test_completion, model, prepend_bos=True)"
      ],
      "metadata": {
        "colab": {
          "base_uri": "https://localhost:8080/",
          "height": 914
        },
        "id": "32f2b4bwBkLu",
        "outputId": "eb5c6ac9-5671-43d5-c1ec-18f78dce4931"
      },
      "execution_count": null,
      "outputs": [
        {
          "output_type": "stream",
          "name": "stdout",
          "text": [
            "Tokenized prompt: ['<|endoftext|>', 'thing', '1', ' is', ' bigger', ' than', ' thing', '2', '.', ' Thing', '2', ' is', ' not']\n",
            "Tokenized answer: [' smaller', ' than', ' thing', '1']\n"
          ]
        },
        {
          "output_type": "display_data",
          "data": {
            "text/plain": [
              "Performance on answer token:\n",
              "\u001b[1mRank: \u001b[0m\u001b[1;36m4\u001b[0m\u001b[1m        Logit: \u001b[0m\u001b[1;36m11.99\u001b[0m\u001b[1m Prob:  \u001b[0m\u001b[1;36m3.15\u001b[0m\u001b[1m% Token: | smaller|\u001b[0m\n"
            ],
            "text/html": [
              "<pre style=\"white-space:pre;overflow-x:auto;line-height:normal;font-family:Menlo,'DejaVu Sans Mono',consolas,'Courier New',monospace\">Performance on answer token:\n",
              "<span style=\"font-weight: bold\">Rank: </span><span style=\"color: #008080; text-decoration-color: #008080; font-weight: bold\">4</span><span style=\"font-weight: bold\">        Logit: </span><span style=\"color: #008080; text-decoration-color: #008080; font-weight: bold\">11.99</span><span style=\"font-weight: bold\"> Prob:  </span><span style=\"color: #008080; text-decoration-color: #008080; font-weight: bold\">3.15</span><span style=\"font-weight: bold\">% Token: | smaller|</span>\n",
              "</pre>\n"
            ]
          },
          "metadata": {}
        },
        {
          "output_type": "stream",
          "name": "stdout",
          "text": [
            "Top 0th token. Logit: 13.99 Prob: 23.18% Token: | bigger|\n",
            "Top 1th token. Logit: 12.76 Prob:  6.82% Token: | big|\n",
            "Top 2th token. Logit: 12.60 Prob:  5.77% Token: | a|\n",
            "Top 3th token. Logit: 12.05 Prob:  3.34% Token: | as|\n",
            "Top 4th token. Logit: 11.99 Prob:  3.15% Token: | smaller|\n",
            "Top 5th token. Logit: 11.85 Prob:  2.74% Token: | the|\n",
            "Top 6th token. Logit: 11.71 Prob:  2.39% Token: | larger|\n",
            "Top 7th token. Logit: 11.30 Prob:  1.58% Token: | really|\n",
            "Top 8th token. Logit: 11.28 Prob:  1.54% Token: |.|\n",
            "Top 9th token. Logit: 11.03 Prob:  1.20% Token: | that|\n"
          ]
        },
        {
          "output_type": "display_data",
          "data": {
            "text/plain": [
              "Performance on answer token:\n",
              "\u001b[1mRank: \u001b[0m\u001b[1;36m0\u001b[0m\u001b[1m        Logit: \u001b[0m\u001b[1;36m18.73\u001b[0m\u001b[1m Prob: \u001b[0m\u001b[1;36m89.84\u001b[0m\u001b[1m% Token: | than|\u001b[0m\n"
            ],
            "text/html": [
              "<pre style=\"white-space:pre;overflow-x:auto;line-height:normal;font-family:Menlo,'DejaVu Sans Mono',consolas,'Courier New',monospace\">Performance on answer token:\n",
              "<span style=\"font-weight: bold\">Rank: </span><span style=\"color: #008080; text-decoration-color: #008080; font-weight: bold\">0</span><span style=\"font-weight: bold\">        Logit: </span><span style=\"color: #008080; text-decoration-color: #008080; font-weight: bold\">18.73</span><span style=\"font-weight: bold\"> Prob: </span><span style=\"color: #008080; text-decoration-color: #008080; font-weight: bold\">89.84</span><span style=\"font-weight: bold\">% Token: | than|</span>\n",
              "</pre>\n"
            ]
          },
          "metadata": {}
        },
        {
          "output_type": "stream",
          "name": "stdout",
          "text": [
            "Top 0th token. Logit: 18.73 Prob: 89.84% Token: | than|\n",
            "Top 1th token. Logit: 15.77 Prob:  4.62% Token: |.|\n",
            "Top 2th token. Logit: 14.39 Prob:  1.17% Token: |,|\n",
            "Top 3th token. Logit: 13.92 Prob:  0.73% Token: | then|\n",
            "Top 4th token. Logit: 12.98 Prob:  0.29% Token: | because|\n",
            "Top 5th token. Logit: 12.72 Prob:  0.22% Token: | at|\n",
            "Top 6th token. Logit: 12.70 Prob:  0.22% Token: |;|\n",
            "Top 7th token. Logit: 12.69 Prob:  0.21% Token: | but|\n",
            "Top 8th token. Logit: 12.50 Prob:  0.18% Token: | and|\n",
            "Top 9th token. Logit: 12.28 Prob:  0.14% Token: | in|\n"
          ]
        },
        {
          "output_type": "display_data",
          "data": {
            "text/plain": [
              "Performance on answer token:\n",
              "\u001b[1mRank: \u001b[0m\u001b[1;36m0\u001b[0m\u001b[1m        Logit: \u001b[0m\u001b[1;36m17.07\u001b[0m\u001b[1m Prob: \u001b[0m\u001b[1;36m76.00\u001b[0m\u001b[1m% Token: | thing|\u001b[0m\n"
            ],
            "text/html": [
              "<pre style=\"white-space:pre;overflow-x:auto;line-height:normal;font-family:Menlo,'DejaVu Sans Mono',consolas,'Courier New',monospace\">Performance on answer token:\n",
              "<span style=\"font-weight: bold\">Rank: </span><span style=\"color: #008080; text-decoration-color: #008080; font-weight: bold\">0</span><span style=\"font-weight: bold\">        Logit: </span><span style=\"color: #008080; text-decoration-color: #008080; font-weight: bold\">17.07</span><span style=\"font-weight: bold\"> Prob: </span><span style=\"color: #008080; text-decoration-color: #008080; font-weight: bold\">76.00</span><span style=\"font-weight: bold\">% Token: | thing|</span>\n",
              "</pre>\n"
            ]
          },
          "metadata": {}
        },
        {
          "output_type": "stream",
          "name": "stdout",
          "text": [
            "Top 0th token. Logit: 17.07 Prob: 76.00% Token: | thing|\n",
            "Top 1th token. Logit: 15.23 Prob: 12.01% Token: | Thing|\n",
            "Top 2th token. Logit: 12.90 Prob:  1.18% Token: | anything|\n",
            "Top 3th token. Logit: 12.07 Prob:  0.51% Token: | the|\n",
            "Top 4th token. Logit: 12.03 Prob:  0.49% Token: | things|\n",
            "Top 5th token. Logit: 11.87 Prob:  0.42% Token: | something|\n",
            "Top 6th token. Logit: 11.71 Prob:  0.36% Token: | what|\n",
            "Top 7th token. Logit: 11.71 Prob:  0.36% Token: | it|\n",
            "Top 8th token. Logit: 11.23 Prob:  0.22% Token: | stuff|\n",
            "Top 9th token. Logit: 11.22 Prob:  0.22% Token: |thing|\n"
          ]
        },
        {
          "output_type": "display_data",
          "data": {
            "text/plain": [
              "Performance on answer token:\n",
              "\u001b[1mRank: \u001b[0m\u001b[1;36m0\u001b[0m\u001b[1m        Logit: \u001b[0m\u001b[1;36m18.80\u001b[0m\u001b[1m Prob: \u001b[0m\u001b[1;36m53.67\u001b[0m\u001b[1m% Token: |\u001b[0m\u001b[1;36m1\u001b[0m\u001b[1m|\u001b[0m\n"
            ],
            "text/html": [
              "<pre style=\"white-space:pre;overflow-x:auto;line-height:normal;font-family:Menlo,'DejaVu Sans Mono',consolas,'Courier New',monospace\">Performance on answer token:\n",
              "<span style=\"font-weight: bold\">Rank: </span><span style=\"color: #008080; text-decoration-color: #008080; font-weight: bold\">0</span><span style=\"font-weight: bold\">        Logit: </span><span style=\"color: #008080; text-decoration-color: #008080; font-weight: bold\">18.80</span><span style=\"font-weight: bold\"> Prob: </span><span style=\"color: #008080; text-decoration-color: #008080; font-weight: bold\">53.67</span><span style=\"font-weight: bold\">% Token: |</span><span style=\"color: #008080; text-decoration-color: #008080; font-weight: bold\">1</span><span style=\"font-weight: bold\">|</span>\n",
              "</pre>\n"
            ]
          },
          "metadata": {}
        },
        {
          "output_type": "stream",
          "name": "stdout",
          "text": [
            "Top 0th token. Logit: 18.80 Prob: 53.67% Token: |1|\n",
            "Top 1th token. Logit: 18.34 Prob: 33.91% Token: |3|\n",
            "Top 2th token. Logit: 17.05 Prob:  9.30% Token: |2|\n",
            "Top 3th token. Logit: 14.50 Prob:  0.72% Token: |5|\n",
            "Top 4th token. Logit: 14.43 Prob:  0.68% Token: |4|\n",
            "Top 5th token. Logit: 13.70 Prob:  0.33% Token: | 1|\n",
            "Top 6th token. Logit: 13.26 Prob:  0.21% Token: |0|\n",
            "Top 7th token. Logit: 13.11 Prob:  0.18% Token: | 3|\n",
            "Top 8th token. Logit: 12.45 Prob:  0.09% Token: |7|\n",
            "Top 9th token. Logit: 12.02 Prob:  0.06% Token: |6|\n"
          ]
        },
        {
          "output_type": "display_data",
          "data": {
            "text/plain": [
              "\u001b[1mRanks of the answer tokens:\u001b[0m \u001b[1m[\u001b[0m\u001b[1m(\u001b[0m\u001b[32m' smaller'\u001b[0m, \u001b[1;36m4\u001b[0m\u001b[1m)\u001b[0m, \u001b[1m(\u001b[0m\u001b[32m' than'\u001b[0m, \u001b[1;36m0\u001b[0m\u001b[1m)\u001b[0m, \u001b[1m(\u001b[0m\u001b[32m' thing'\u001b[0m, \u001b[1;36m0\u001b[0m\u001b[1m)\u001b[0m, \u001b[1m(\u001b[0m\u001b[32m'1'\u001b[0m, \u001b[1;36m0\u001b[0m\u001b[1m)\u001b[0m\u001b[1m]\u001b[0m\n"
            ],
            "text/html": [
              "<pre style=\"white-space:pre;overflow-x:auto;line-height:normal;font-family:Menlo,'DejaVu Sans Mono',consolas,'Courier New',monospace\"><span style=\"font-weight: bold\">Ranks of the answer tokens:</span> <span style=\"font-weight: bold\">[(</span><span style=\"color: #008000; text-decoration-color: #008000\">' smaller'</span>, <span style=\"color: #008080; text-decoration-color: #008080; font-weight: bold\">4</span><span style=\"font-weight: bold\">)</span>, <span style=\"font-weight: bold\">(</span><span style=\"color: #008000; text-decoration-color: #008000\">' than'</span>, <span style=\"color: #008080; text-decoration-color: #008080; font-weight: bold\">0</span><span style=\"font-weight: bold\">)</span>, <span style=\"font-weight: bold\">(</span><span style=\"color: #008000; text-decoration-color: #008000\">' thing'</span>, <span style=\"color: #008080; text-decoration-color: #008080; font-weight: bold\">0</span><span style=\"font-weight: bold\">)</span>, <span style=\"font-weight: bold\">(</span><span style=\"color: #008000; text-decoration-color: #008000\">'1'</span>, <span style=\"color: #008080; text-decoration-color: #008080; font-weight: bold\">0</span><span style=\"font-weight: bold\">)]</span>\n",
              "</pre>\n"
            ]
          },
          "metadata": {}
        }
      ]
    },
    {
      "cell_type": "code",
      "source": [
        "# help(attention_heads)\n",
        "attention_heads(model, [\"a\", \"b\", \"c\"])"
      ],
      "metadata": {
        "colab": {
          "base_uri": "https://localhost:8080/",
          "height": 310
        },
        "id": "JMsdQM_P_9C8",
        "outputId": "7bfd694e-0888-4171-8063-0860a97c744b"
      },
      "execution_count": null,
      "outputs": [
        {
          "output_type": "error",
          "ename": "TypeError",
          "evalue": "Object of type HookedTransformer is not JSON serializable",
          "traceback": [
            "\u001b[0;31m---------------------------------------------------------------------------\u001b[0m",
            "\u001b[0;31mTypeError\u001b[0m                                 Traceback (most recent call last)",
            "\u001b[0;32m<ipython-input-45-bdc189076f5a>\u001b[0m in \u001b[0;36m<cell line: 2>\u001b[0;34m()\u001b[0m\n\u001b[1;32m      1\u001b[0m \u001b[0;31m# help(attention_heads)\u001b[0m\u001b[0;34m\u001b[0m\u001b[0;34m\u001b[0m\u001b[0m\n\u001b[0;32m----> 2\u001b[0;31m \u001b[0mattention_heads\u001b[0m\u001b[0;34m(\u001b[0m\u001b[0mmodel\u001b[0m\u001b[0;34m,\u001b[0m \u001b[0;34m[\u001b[0m\u001b[0;34m\"a\"\u001b[0m\u001b[0;34m,\u001b[0m \u001b[0;34m\"b\"\u001b[0m\u001b[0;34m,\u001b[0m \u001b[0;34m\"c\"\u001b[0m\u001b[0;34m]\u001b[0m\u001b[0;34m)\u001b[0m\u001b[0;34m\u001b[0m\u001b[0;34m\u001b[0m\u001b[0m\n\u001b[0m",
            "\u001b[0;32m/usr/local/lib/python3.10/dist-packages/circuitsvis/attention.py\u001b[0m in \u001b[0;36mattention_heads\u001b[0;34m(attention, tokens, attention_head_names, max_value, min_value, negative_color, positive_color, mask_upper_tri)\u001b[0m\n\u001b[1;32m     57\u001b[0m     }\n\u001b[1;32m     58\u001b[0m \u001b[0;34m\u001b[0m\u001b[0m\n\u001b[0;32m---> 59\u001b[0;31m     return render(\n\u001b[0m\u001b[1;32m     60\u001b[0m         \u001b[0;34m\"AttentionHeads\"\u001b[0m\u001b[0;34m,\u001b[0m\u001b[0;34m\u001b[0m\u001b[0;34m\u001b[0m\u001b[0m\n\u001b[1;32m     61\u001b[0m         \u001b[0;34m**\u001b[0m\u001b[0mkwargs\u001b[0m\u001b[0;34m\u001b[0m\u001b[0;34m\u001b[0m\u001b[0m\n",
            "\u001b[0;32m/usr/local/lib/python3.10/dist-packages/circuitsvis/utils/render.py\u001b[0m in \u001b[0;36mrender\u001b[0;34m(react_element_name, **kwargs)\u001b[0m\n\u001b[1;32m    212\u001b[0m         \u001b[0mHtml\u001b[0m\u001b[0;34m:\u001b[0m \u001b[0mHTML\u001b[0m \u001b[0;32mfor\u001b[0m \u001b[0mthe\u001b[0m \u001b[0mvisualization\u001b[0m\u001b[0;34m\u001b[0m\u001b[0;34m\u001b[0m\u001b[0m\n\u001b[1;32m    213\u001b[0m     \"\"\"\n\u001b[0;32m--> 214\u001b[0;31m     \u001b[0mlocal_src\u001b[0m \u001b[0;34m=\u001b[0m \u001b[0mrender_local\u001b[0m\u001b[0;34m(\u001b[0m\u001b[0mreact_element_name\u001b[0m\u001b[0;34m,\u001b[0m \u001b[0;34m**\u001b[0m\u001b[0mkwargs\u001b[0m\u001b[0;34m)\u001b[0m\u001b[0;34m\u001b[0m\u001b[0;34m\u001b[0m\u001b[0m\n\u001b[0m\u001b[1;32m    215\u001b[0m     \u001b[0mcdn_src\u001b[0m \u001b[0;34m=\u001b[0m \u001b[0mrender_cdn\u001b[0m\u001b[0;34m(\u001b[0m\u001b[0mreact_element_name\u001b[0m\u001b[0;34m,\u001b[0m \u001b[0;34m**\u001b[0m\u001b[0mkwargs\u001b[0m\u001b[0;34m)\u001b[0m\u001b[0;34m\u001b[0m\u001b[0;34m\u001b[0m\u001b[0m\n\u001b[1;32m    216\u001b[0m     \u001b[0;32mreturn\u001b[0m \u001b[0mRenderedHTML\u001b[0m\u001b[0;34m(\u001b[0m\u001b[0mlocal_src\u001b[0m\u001b[0;34m,\u001b[0m \u001b[0mcdn_src\u001b[0m\u001b[0;34m)\u001b[0m\u001b[0;34m\u001b[0m\u001b[0;34m\u001b[0m\u001b[0m\n",
            "\u001b[0;32m/usr/local/lib/python3.10/dist-packages/circuitsvis/utils/render.py\u001b[0m in \u001b[0;36mrender_local\u001b[0;34m(react_element_name, **kwargs)\u001b[0m\n\u001b[1;32m    138\u001b[0m \u001b[0;34m\u001b[0m\u001b[0m\n\u001b[1;32m    139\u001b[0m     \u001b[0;31m# Stringify keyword args\u001b[0m\u001b[0;34m\u001b[0m\u001b[0;34m\u001b[0m\u001b[0m\n\u001b[0;32m--> 140\u001b[0;31m     \u001b[0mprops\u001b[0m \u001b[0;34m=\u001b[0m \u001b[0mconvert_props\u001b[0m\u001b[0;34m(\u001b[0m\u001b[0mkwargs\u001b[0m\u001b[0;34m)\u001b[0m\u001b[0;34m\u001b[0m\u001b[0;34m\u001b[0m\u001b[0m\n\u001b[0m\u001b[1;32m    141\u001b[0m \u001b[0;34m\u001b[0m\u001b[0m\n\u001b[1;32m    142\u001b[0m     \u001b[0;31m# Build if in dev mode\u001b[0m\u001b[0;34m\u001b[0m\u001b[0;34m\u001b[0m\u001b[0m\n",
            "\u001b[0;32m/usr/local/lib/python3.10/dist-packages/circuitsvis/utils/convert_props.py\u001b[0m in \u001b[0;36mconvert_props\u001b[0;34m(props)\u001b[0m\n\u001b[1;32m     60\u001b[0m     \u001b[0mprops_with_values\u001b[0m \u001b[0;34m=\u001b[0m \u001b[0;34m{\u001b[0m\u001b[0mk\u001b[0m\u001b[0;34m:\u001b[0m \u001b[0mv\u001b[0m \u001b[0;32mfor\u001b[0m \u001b[0mk\u001b[0m\u001b[0;34m,\u001b[0m \u001b[0mv\u001b[0m \u001b[0;32min\u001b[0m \u001b[0mprops\u001b[0m\u001b[0;34m.\u001b[0m\u001b[0mitems\u001b[0m\u001b[0;34m(\u001b[0m\u001b[0;34m)\u001b[0m \u001b[0;32mif\u001b[0m \u001b[0mv\u001b[0m \u001b[0;32mis\u001b[0m \u001b[0;32mnot\u001b[0m \u001b[0;32mNone\u001b[0m\u001b[0;34m}\u001b[0m\u001b[0;34m\u001b[0m\u001b[0;34m\u001b[0m\u001b[0m\n\u001b[1;32m     61\u001b[0m \u001b[0;34m\u001b[0m\u001b[0m\n\u001b[0;32m---> 62\u001b[0;31m     \u001b[0;32mreturn\u001b[0m \u001b[0mjson\u001b[0m\u001b[0;34m.\u001b[0m\u001b[0mdumps\u001b[0m\u001b[0;34m(\u001b[0m\u001b[0;34m{\u001b[0m\u001b[0mk\u001b[0m\u001b[0;34m:\u001b[0m \u001b[0mconvert_prop_type\u001b[0m\u001b[0;34m(\u001b[0m\u001b[0mv\u001b[0m\u001b[0;34m)\u001b[0m \u001b[0;32mfor\u001b[0m \u001b[0mk\u001b[0m\u001b[0;34m,\u001b[0m \u001b[0mv\u001b[0m \u001b[0;32min\u001b[0m \u001b[0mprops_with_values\u001b[0m\u001b[0;34m.\u001b[0m\u001b[0mitems\u001b[0m\u001b[0;34m(\u001b[0m\u001b[0;34m)\u001b[0m\u001b[0;34m}\u001b[0m\u001b[0;34m)\u001b[0m\u001b[0;34m\u001b[0m\u001b[0;34m\u001b[0m\u001b[0m\n\u001b[0m",
            "\u001b[0;32m/usr/lib/python3.10/json/__init__.py\u001b[0m in \u001b[0;36mdumps\u001b[0;34m(obj, skipkeys, ensure_ascii, check_circular, allow_nan, cls, indent, separators, default, sort_keys, **kw)\u001b[0m\n\u001b[1;32m    229\u001b[0m         \u001b[0mcls\u001b[0m \u001b[0;32mis\u001b[0m \u001b[0;32mNone\u001b[0m \u001b[0;32mand\u001b[0m \u001b[0mindent\u001b[0m \u001b[0;32mis\u001b[0m \u001b[0;32mNone\u001b[0m \u001b[0;32mand\u001b[0m \u001b[0mseparators\u001b[0m \u001b[0;32mis\u001b[0m \u001b[0;32mNone\u001b[0m \u001b[0;32mand\u001b[0m\u001b[0;34m\u001b[0m\u001b[0;34m\u001b[0m\u001b[0m\n\u001b[1;32m    230\u001b[0m         default is None and not sort_keys and not kw):\n\u001b[0;32m--> 231\u001b[0;31m         \u001b[0;32mreturn\u001b[0m \u001b[0m_default_encoder\u001b[0m\u001b[0;34m.\u001b[0m\u001b[0mencode\u001b[0m\u001b[0;34m(\u001b[0m\u001b[0mobj\u001b[0m\u001b[0;34m)\u001b[0m\u001b[0;34m\u001b[0m\u001b[0;34m\u001b[0m\u001b[0m\n\u001b[0m\u001b[1;32m    232\u001b[0m     \u001b[0;32mif\u001b[0m \u001b[0mcls\u001b[0m \u001b[0;32mis\u001b[0m \u001b[0;32mNone\u001b[0m\u001b[0;34m:\u001b[0m\u001b[0;34m\u001b[0m\u001b[0;34m\u001b[0m\u001b[0m\n\u001b[1;32m    233\u001b[0m         \u001b[0mcls\u001b[0m \u001b[0;34m=\u001b[0m \u001b[0mJSONEncoder\u001b[0m\u001b[0;34m\u001b[0m\u001b[0;34m\u001b[0m\u001b[0m\n",
            "\u001b[0;32m/usr/lib/python3.10/json/encoder.py\u001b[0m in \u001b[0;36mencode\u001b[0;34m(self, o)\u001b[0m\n\u001b[1;32m    197\u001b[0m         \u001b[0;31m# exceptions aren't as detailed.  The list call should be roughly\u001b[0m\u001b[0;34m\u001b[0m\u001b[0;34m\u001b[0m\u001b[0m\n\u001b[1;32m    198\u001b[0m         \u001b[0;31m# equivalent to the PySequence_Fast that ''.join() would do.\u001b[0m\u001b[0;34m\u001b[0m\u001b[0;34m\u001b[0m\u001b[0m\n\u001b[0;32m--> 199\u001b[0;31m         \u001b[0mchunks\u001b[0m \u001b[0;34m=\u001b[0m \u001b[0mself\u001b[0m\u001b[0;34m.\u001b[0m\u001b[0miterencode\u001b[0m\u001b[0;34m(\u001b[0m\u001b[0mo\u001b[0m\u001b[0;34m,\u001b[0m \u001b[0m_one_shot\u001b[0m\u001b[0;34m=\u001b[0m\u001b[0;32mTrue\u001b[0m\u001b[0;34m)\u001b[0m\u001b[0;34m\u001b[0m\u001b[0;34m\u001b[0m\u001b[0m\n\u001b[0m\u001b[1;32m    200\u001b[0m         \u001b[0;32mif\u001b[0m \u001b[0;32mnot\u001b[0m \u001b[0misinstance\u001b[0m\u001b[0;34m(\u001b[0m\u001b[0mchunks\u001b[0m\u001b[0;34m,\u001b[0m \u001b[0;34m(\u001b[0m\u001b[0mlist\u001b[0m\u001b[0;34m,\u001b[0m \u001b[0mtuple\u001b[0m\u001b[0;34m)\u001b[0m\u001b[0;34m)\u001b[0m\u001b[0;34m:\u001b[0m\u001b[0;34m\u001b[0m\u001b[0;34m\u001b[0m\u001b[0m\n\u001b[1;32m    201\u001b[0m             \u001b[0mchunks\u001b[0m \u001b[0;34m=\u001b[0m \u001b[0mlist\u001b[0m\u001b[0;34m(\u001b[0m\u001b[0mchunks\u001b[0m\u001b[0;34m)\u001b[0m\u001b[0;34m\u001b[0m\u001b[0;34m\u001b[0m\u001b[0m\n",
            "\u001b[0;32m/usr/lib/python3.10/json/encoder.py\u001b[0m in \u001b[0;36miterencode\u001b[0;34m(self, o, _one_shot)\u001b[0m\n\u001b[1;32m    255\u001b[0m                 \u001b[0mself\u001b[0m\u001b[0;34m.\u001b[0m\u001b[0mkey_separator\u001b[0m\u001b[0;34m,\u001b[0m \u001b[0mself\u001b[0m\u001b[0;34m.\u001b[0m\u001b[0mitem_separator\u001b[0m\u001b[0;34m,\u001b[0m \u001b[0mself\u001b[0m\u001b[0;34m.\u001b[0m\u001b[0msort_keys\u001b[0m\u001b[0;34m,\u001b[0m\u001b[0;34m\u001b[0m\u001b[0;34m\u001b[0m\u001b[0m\n\u001b[1;32m    256\u001b[0m                 self.skipkeys, _one_shot)\n\u001b[0;32m--> 257\u001b[0;31m         \u001b[0;32mreturn\u001b[0m \u001b[0m_iterencode\u001b[0m\u001b[0;34m(\u001b[0m\u001b[0mo\u001b[0m\u001b[0;34m,\u001b[0m \u001b[0;36m0\u001b[0m\u001b[0;34m)\u001b[0m\u001b[0;34m\u001b[0m\u001b[0;34m\u001b[0m\u001b[0m\n\u001b[0m\u001b[1;32m    258\u001b[0m \u001b[0;34m\u001b[0m\u001b[0m\n\u001b[1;32m    259\u001b[0m def _make_iterencode(markers, _default, _encoder, _indent, _floatstr,\n",
            "\u001b[0;32m/usr/lib/python3.10/json/encoder.py\u001b[0m in \u001b[0;36mdefault\u001b[0;34m(self, o)\u001b[0m\n\u001b[1;32m    177\u001b[0m \u001b[0;34m\u001b[0m\u001b[0m\n\u001b[1;32m    178\u001b[0m         \"\"\"\n\u001b[0;32m--> 179\u001b[0;31m         raise TypeError(f'Object of type {o.__class__.__name__} '\n\u001b[0m\u001b[1;32m    180\u001b[0m                         f'is not JSON serializable')\n\u001b[1;32m    181\u001b[0m \u001b[0;34m\u001b[0m\u001b[0m\n",
            "\u001b[0;31mTypeError\u001b[0m: Object of type HookedTransformer is not JSON serializable"
          ]
        }
      ]
    },
    {
      "cell_type": "code",
      "source": [
        "\n",
        "def remove_batch_dim(\n",
        "    tensor: Float[torch.Tensor, \"1 ...\"]\n",
        ") -> Float[torch.Tensor, \"...\"]:\n",
        "    \"\"\"\n",
        "    Removes the first dimension of a tensor if it is size 1, otherwise returns the tensor unchanged\n",
        "    \"\"\"\n",
        "    if tensor.shape[0] == 1:\n",
        "        return tensor.squeeze(0)\n",
        "    else:\n",
        "        return tensor\n",
        "\n",
        "def test_prompt(\n",
        "    prompt: str,\n",
        "    answer: str,\n",
        "    model,  # Can't give type hint due to circular imports\n",
        "    prepend_space_to_answer: bool = True,\n",
        "    print_details: bool = True,\n",
        "    prepend_bos: Optional[bool] = True,\n",
        "    top_k: int = 10,\n",
        ") -> None:\n",
        "    \"\"\"Test if the Model Can Give the Correct Answer to a Prompt.\n",
        "\n",
        "    Intended for exploratory analysis. Prints out the performance on the answer (rank, logit, prob),\n",
        "    as well as the top k tokens. Works for multi-token prompts and multi-token answers.\n",
        "\n",
        "    Warning:\n",
        "\n",
        "    This will print the results (it does not return them).\n",
        "\n",
        "    Examples:\n",
        "\n",
        "    >>> from transformer_lens import HookedTransformer, utils\n",
        "    >>> model = HookedTransformer.from_pretrained(\"tiny-stories-1M\")\n",
        "    Loaded pretrained model tiny-stories-1M into HookedTransformer\n",
        "\n",
        "    >>> prompt = \"Why did the elephant cross the\"\n",
        "    >>> answer = \"road\"\n",
        "    >>> utils.test_prompt(prompt, answer, model)\n",
        "    Tokenized prompt: ['<|endoftext|>', 'Why', ' did', ' the', ' elephant', ' cross', ' the']\n",
        "    Tokenized answer: [' road']\n",
        "    Performance on answer token:\n",
        "    Rank: 2        Logit: 14.24 Prob:  3.51% Token: | road|\n",
        "    Top 0th token. Logit: 14.51 Prob:  4.59% Token: | ground|\n",
        "    Top 1th token. Logit: 14.41 Prob:  4.18% Token: | tree|\n",
        "    Top 2th token. Logit: 14.24 Prob:  3.51% Token: | road|\n",
        "    Top 3th token. Logit: 14.22 Prob:  3.45% Token: | car|\n",
        "    Top 4th token. Logit: 13.92 Prob:  2.55% Token: | river|\n",
        "    Top 5th token. Logit: 13.79 Prob:  2.25% Token: | street|\n",
        "    Top 6th token. Logit: 13.77 Prob:  2.21% Token: | k|\n",
        "    Top 7th token. Logit: 13.75 Prob:  2.16% Token: | hill|\n",
        "    Top 8th token. Logit: 13.64 Prob:  1.92% Token: | swing|\n",
        "    Top 9th token. Logit: 13.46 Prob:  1.61% Token: | park|\n",
        "    Ranks of the answer tokens: [(' road', 2)]\n",
        "\n",
        "    Args:\n",
        "        prompt:\n",
        "            The prompt string, e.g. \"Why did the elephant cross the\".\n",
        "        answer:\n",
        "            The answer, e.g. \"road\". Note that if you set prepend_space_to_answer to False, you need\n",
        "            to think about if you have a space before the answer here (as e.g. in this example the\n",
        "            answer may really be \" road\" if the prompt ends without a trailing space).\n",
        "        model:\n",
        "            The model.\n",
        "        prepend_space_to_answer:\n",
        "            Whether or not to prepend a space to the answer. Note this will only ever prepend a\n",
        "            space if the answer doesn't already start with one.\n",
        "        print_details:\n",
        "            Print the prompt (as a string but broken up by token), answer and top k tokens (all\n",
        "            with logit, rank and probability).\n",
        "        prepend_bos:\n",
        "            Overrides self.cfg.default_prepend_bos if set. Whether to prepend\n",
        "            the BOS token to the input (applicable when input is a string). Models generally learn\n",
        "            to use the BOS token as a resting place for attention heads (i.e. a way for them to be\n",
        "            \"turned off\"). This therefore often improves performance slightly.\n",
        "        top_k:\n",
        "            Top k tokens to print details of (when print_details is set to True).\n",
        "\n",
        "    Returns:\n",
        "        None (just prints the results directly).\n",
        "    \"\"\"\n",
        "    if prepend_space_to_answer and not answer.startswith(\" \"):\n",
        "        answer = \" \" + answer\n",
        "    # GPT-2 often treats the first token weirdly, so lets give it a resting position\n",
        "    prompt_tokens = model.to_tokens(prompt, prepend_bos=prepend_bos)\n",
        "    answer_tokens = model.to_tokens(answer, prepend_bos=False)\n",
        "    tokens = torch.cat((prompt_tokens, answer_tokens), dim=1)\n",
        "    prompt_str_tokens = model.to_str_tokens(prompt, prepend_bos=prepend_bos)\n",
        "    answer_str_tokens = model.to_str_tokens(answer, prepend_bos=False)\n",
        "    prompt_length = len(prompt_str_tokens)\n",
        "    answer_length = len(answer_str_tokens)\n",
        "    if print_details:\n",
        "        print(\"Tokenized prompt:\", prompt_str_tokens)\n",
        "        print(\"Tokenized answer:\", answer_str_tokens)\n",
        "    logits = remove_batch_dim(model(tokens))\n",
        "    probs = logits.softmax(dim=-1)\n",
        "    answer_ranks = []\n",
        "    logits_ls = []\n",
        "    for index in range(prompt_length, prompt_length + answer_length):\n",
        "        answer_token = tokens[0, index]\n",
        "        answer_str_token = answer_str_tokens[index - prompt_length]\n",
        "        # Offset by 1 because models predict the NEXT token\n",
        "        token_probs = probs[index - 1]\n",
        "        sorted_token_probs, sorted_token_values = token_probs.sort(descending=True)\n",
        "        # Janky way to get the index of the token in the sorted list - I couldn't find a better way?\n",
        "        correct_rank = torch.arange(len(sorted_token_values))[\n",
        "            (sorted_token_values == answer_token).cpu()\n",
        "        ].item()\n",
        "        answer_ranks.append((answer_str_token, correct_rank))\n",
        "        if print_details:\n",
        "            # String formatting syntax - the first number gives the number of characters to pad to, the second number gives the number of decimal places.\n",
        "            # rprint gives rich text printing\n",
        "            print(\n",
        "                f\"Performance on answer token:\\n[b]Rank: {correct_rank: <8} Logit: {logits[index-1, answer_token].item():5.2f} Prob: {token_probs[answer_token].item():6.2%} Token: |{answer_str_token}|[/b]\"\n",
        "            )\n",
        "            for i in range(top_k):\n",
        "                top_logits = []\n",
        "                logit = logits[index-1, sorted_token_values[i]].item()\n",
        "                sorted_token_prob = sorted_token_probs[i].item()\n",
        "                print(\n",
        "                    f\"Top {i}th token. Logit: {logit:5.2f} Prob: {sorted_token_prob:6.2%} Token: |{model.to_string(sorted_token_values[i])}|\"\n",
        "                )\n",
        "                top_logits.append(logit)\n",
        "            logits_ls.append(top_logits)\n",
        "    print(f\"[b]Ranks of the answer tokens:[/b] {answer_ranks}\")\n",
        "    return logits_ls"
      ],
      "metadata": {
        "id": "LL8GEfJd_8-C"
      },
      "execution_count": null,
      "outputs": []
    },
    {
      "cell_type": "code",
      "source": [
        "p = \"thing1 is bigger than thing2. Thing2 is not\"\n",
        "c = \"smaller than thing1\"\n",
        "test_prompt(p, c, model, prepend_bos=True)"
      ],
      "metadata": {
        "colab": {
          "base_uri": "https://localhost:8080/"
        },
        "id": "_aeIb1Cx_8zL",
        "outputId": "380a1f0c-e53a-4da3-961a-e8616920b1d6"
      },
      "execution_count": null,
      "outputs": [
        {
          "output_type": "stream",
          "name": "stdout",
          "text": [
            "Tokenized prompt: ['<|endoftext|>', 'thing', '1', ' is', ' bigger', ' than', ' thing', '2', '.', ' Thing', '2', ' is', ' not']\n",
            "Tokenized answer: [' smaller', ' than', ' thing', '1']\n",
            "Performance on answer token:\n",
            "[b]Rank: 4        Logit: 11.99 Prob:  3.15% Token: | smaller|[/b]\n",
            "Top 0th token. Logit: 13.99 Prob: 23.18% Token: | bigger|\n",
            "Top 1th token. Logit: 12.76 Prob:  6.82% Token: | big|\n",
            "Top 2th token. Logit: 12.60 Prob:  5.77% Token: | a|\n",
            "Top 3th token. Logit: 12.05 Prob:  3.34% Token: | as|\n",
            "Top 4th token. Logit: 11.99 Prob:  3.15% Token: | smaller|\n",
            "Top 5th token. Logit: 11.85 Prob:  2.74% Token: | the|\n",
            "Top 6th token. Logit: 11.71 Prob:  2.39% Token: | larger|\n",
            "Top 7th token. Logit: 11.30 Prob:  1.58% Token: | really|\n",
            "Top 8th token. Logit: 11.28 Prob:  1.54% Token: |.|\n",
            "Top 9th token. Logit: 11.03 Prob:  1.20% Token: | that|\n",
            "Performance on answer token:\n",
            "[b]Rank: 0        Logit: 18.73 Prob: 89.84% Token: | than|[/b]\n",
            "Top 0th token. Logit: 18.73 Prob: 89.84% Token: | than|\n",
            "Top 1th token. Logit: 15.77 Prob:  4.62% Token: |.|\n",
            "Top 2th token. Logit: 14.39 Prob:  1.17% Token: |,|\n",
            "Top 3th token. Logit: 13.92 Prob:  0.73% Token: | then|\n",
            "Top 4th token. Logit: 12.98 Prob:  0.29% Token: | because|\n",
            "Top 5th token. Logit: 12.72 Prob:  0.22% Token: | at|\n",
            "Top 6th token. Logit: 12.70 Prob:  0.22% Token: |;|\n",
            "Top 7th token. Logit: 12.69 Prob:  0.21% Token: | but|\n",
            "Top 8th token. Logit: 12.50 Prob:  0.18% Token: | and|\n",
            "Top 9th token. Logit: 12.28 Prob:  0.14% Token: | in|\n",
            "Performance on answer token:\n",
            "[b]Rank: 0        Logit: 17.07 Prob: 76.00% Token: | thing|[/b]\n",
            "Top 0th token. Logit: 17.07 Prob: 76.00% Token: | thing|\n",
            "Top 1th token. Logit: 15.23 Prob: 12.01% Token: | Thing|\n",
            "Top 2th token. Logit: 12.90 Prob:  1.18% Token: | anything|\n",
            "Top 3th token. Logit: 12.07 Prob:  0.51% Token: | the|\n",
            "Top 4th token. Logit: 12.03 Prob:  0.49% Token: | things|\n",
            "Top 5th token. Logit: 11.87 Prob:  0.42% Token: | something|\n",
            "Top 6th token. Logit: 11.71 Prob:  0.36% Token: | what|\n",
            "Top 7th token. Logit: 11.71 Prob:  0.36% Token: | it|\n",
            "Top 8th token. Logit: 11.23 Prob:  0.22% Token: | stuff|\n",
            "Top 9th token. Logit: 11.22 Prob:  0.22% Token: |thing|\n",
            "Performance on answer token:\n",
            "[b]Rank: 0        Logit: 18.80 Prob: 53.67% Token: |1|[/b]\n",
            "Top 0th token. Logit: 18.80 Prob: 53.67% Token: |1|\n",
            "Top 1th token. Logit: 18.34 Prob: 33.91% Token: |3|\n",
            "Top 2th token. Logit: 17.05 Prob:  9.30% Token: |2|\n",
            "Top 3th token. Logit: 14.50 Prob:  0.72% Token: |5|\n",
            "Top 4th token. Logit: 14.43 Prob:  0.68% Token: |4|\n",
            "Top 5th token. Logit: 13.70 Prob:  0.33% Token: | 1|\n",
            "Top 6th token. Logit: 13.26 Prob:  0.21% Token: |0|\n",
            "Top 7th token. Logit: 13.11 Prob:  0.18% Token: | 3|\n",
            "Top 8th token. Logit: 12.45 Prob:  0.09% Token: |7|\n",
            "Top 9th token. Logit: 12.02 Prob:  0.06% Token: |6|\n",
            "[b]Ranks of the answer tokens:[/b] [(' smaller', 4), (' than', 0), (' thing', 0), ('1', 0)]\n"
          ]
        },
        {
          "output_type": "execute_result",
          "data": {
            "text/plain": [
              "[[11.027099609375],\n",
              " [12.284061431884766],\n",
              " [11.217214584350586],\n",
              " [12.022346496582031]]"
            ]
          },
          "metadata": {},
          "execution_count": 61
        }
      ]
    },
    {
      "cell_type": "code",
      "source": [
        "dir(model)"
      ],
      "metadata": {
        "colab": {
          "base_uri": "https://localhost:8080/"
        },
        "id": "RVdnOEDRdz6M",
        "outputId": "2f18c5c8-3c34-4890-cc54-579aba160257"
      },
      "execution_count": null,
      "outputs": [
        {
          "output_type": "execute_result",
          "data": {
            "text/plain": [
              "['OV',\n",
              " 'QK',\n",
              " 'T_destination',\n",
              " 'W_E',\n",
              " 'W_E_pos',\n",
              " 'W_K',\n",
              " 'W_O',\n",
              " 'W_Q',\n",
              " 'W_U',\n",
              " 'W_V',\n",
              " 'W_gate',\n",
              " 'W_in',\n",
              " 'W_out',\n",
              " 'W_pos',\n",
              " '__annotations__',\n",
              " '__call__',\n",
              " '__class__',\n",
              " '__delattr__',\n",
              " '__dict__',\n",
              " '__dir__',\n",
              " '__doc__',\n",
              " '__eq__',\n",
              " '__format__',\n",
              " '__ge__',\n",
              " '__getattr__',\n",
              " '__getattribute__',\n",
              " '__getstate__',\n",
              " '__gt__',\n",
              " '__hash__',\n",
              " '__init__',\n",
              " '__init_subclass__',\n",
              " '__le__',\n",
              " '__lt__',\n",
              " '__module__',\n",
              " '__ne__',\n",
              " '__new__',\n",
              " '__reduce__',\n",
              " '__reduce_ex__',\n",
              " '__repr__',\n",
              " '__setattr__',\n",
              " '__setstate__',\n",
              " '__sizeof__',\n",
              " '__str__',\n",
              " '__subclasshook__',\n",
              " '__weakref__',\n",
              " '_apply',\n",
              " '_backward_hooks',\n",
              " '_backward_pre_hooks',\n",
              " '_buffers',\n",
              " '_call_impl',\n",
              " '_compiled_call_impl',\n",
              " '_forward_hooks',\n",
              " '_forward_hooks_always_called',\n",
              " '_forward_hooks_with_kwargs',\n",
              " '_forward_pre_hooks',\n",
              " '_forward_pre_hooks_with_kwargs',\n",
              " '_get_backward_hooks',\n",
              " '_get_backward_pre_hooks',\n",
              " '_get_name',\n",
              " '_is_full_backward_hook',\n",
              " '_load_from_state_dict',\n",
              " '_load_state_dict_post_hooks',\n",
              " '_load_state_dict_pre_hooks',\n",
              " '_maybe_warn_non_full_backward_hook',\n",
              " '_modules',\n",
              " '_named_members',\n",
              " '_non_persistent_buffers_set',\n",
              " '_parameters',\n",
              " '_register_load_state_dict_pre_hook',\n",
              " '_register_state_dict_hook',\n",
              " '_replicate_for_data_parallel',\n",
              " '_save_to_state_dict',\n",
              " '_slow_forward',\n",
              " '_state_dict_hooks',\n",
              " '_state_dict_pre_hooks',\n",
              " '_version',\n",
              " '_wrapped_call_impl',\n",
              " 'accumulated_bias',\n",
              " 'add_caching_hooks',\n",
              " 'add_hook',\n",
              " 'add_module',\n",
              " 'add_perma_hook',\n",
              " 'all_composition_scores',\n",
              " 'all_head_labels',\n",
              " 'apply',\n",
              " 'b_K',\n",
              " 'b_O',\n",
              " 'b_Q',\n",
              " 'b_U',\n",
              " 'b_V',\n",
              " 'b_in',\n",
              " 'b_out',\n",
              " 'bfloat16',\n",
              " 'blocks',\n",
              " 'buffers',\n",
              " 'cache_all',\n",
              " 'cache_some',\n",
              " 'call_super_init',\n",
              " 'center_unembed',\n",
              " 'center_writing_weights',\n",
              " 'cfg',\n",
              " 'check_and_add_hook',\n",
              " 'check_hooks_to_add',\n",
              " 'children',\n",
              " 'clear_contexts',\n",
              " 'compile',\n",
              " 'context_level',\n",
              " 'cpu',\n",
              " 'cuda',\n",
              " 'dataset',\n",
              " 'double',\n",
              " 'dump_patches',\n",
              " 'embed',\n",
              " 'eval',\n",
              " 'extra_repr',\n",
              " 'fill_missing_keys',\n",
              " 'float',\n",
              " 'fold_layer_norm',\n",
              " 'fold_value_biases',\n",
              " 'forward',\n",
              " 'from_pretrained',\n",
              " 'from_pretrained_no_processing',\n",
              " 'generate',\n",
              " 'get_buffer',\n",
              " 'get_caching_hooks',\n",
              " 'get_extra_state',\n",
              " 'get_parameter',\n",
              " 'get_submodule',\n",
              " 'get_token_position',\n",
              " 'half',\n",
              " 'hook_dict',\n",
              " 'hook_embed',\n",
              " 'hook_points',\n",
              " 'hook_pos_embed',\n",
              " 'hooks',\n",
              " 'init_weights',\n",
              " 'input_to_embed',\n",
              " 'ipu',\n",
              " 'is_caching',\n",
              " 'ln_final',\n",
              " 'load_and_process_state_dict',\n",
              " 'load_sample_training_dataset',\n",
              " 'load_state_dict',\n",
              " 'loss_fn',\n",
              " 'mod_dict',\n",
              " 'modules',\n",
              " 'move_model_modules_to_device',\n",
              " 'mps',\n",
              " 'named_buffers',\n",
              " 'named_children',\n",
              " 'named_modules',\n",
              " 'named_parameters',\n",
              " 'parameters',\n",
              " 'pos_embed',\n",
              " 'process_weights_',\n",
              " 'refactor_factored_attn_matrices',\n",
              " 'register_backward_hook',\n",
              " 'register_buffer',\n",
              " 'register_forward_hook',\n",
              " 'register_forward_pre_hook',\n",
              " 'register_full_backward_hook',\n",
              " 'register_full_backward_pre_hook',\n",
              " 'register_load_state_dict_post_hook',\n",
              " 'register_module',\n",
              " 'register_parameter',\n",
              " 'register_state_dict_pre_hook',\n",
              " 'remove_all_hook_fns',\n",
              " 'requires_grad_',\n",
              " 'reset_hooks',\n",
              " 'run_with_cache',\n",
              " 'run_with_hooks',\n",
              " 'sample_datapoint',\n",
              " 'set_extra_state',\n",
              " 'set_tokenizer',\n",
              " 'set_use_attn_in',\n",
              " 'set_use_attn_result',\n",
              " 'set_use_hook_mlp_in',\n",
              " 'set_use_split_qkv_input',\n",
              " 'setup',\n",
              " 'share_memory',\n",
              " 'state_dict',\n",
              " 'to',\n",
              " 'to_empty',\n",
              " 'to_single_str_token',\n",
              " 'to_single_token',\n",
              " 'to_str_tokens',\n",
              " 'to_string',\n",
              " 'to_tokens',\n",
              " 'tokenizer',\n",
              " 'tokens_to_residual_directions',\n",
              " 'train',\n",
              " 'training',\n",
              " 'type',\n",
              " 'unembed',\n",
              " 'xpu',\n",
              " 'zero_grad']"
            ]
          },
          "metadata": {},
          "execution_count": 19
        }
      ]
    },
    {
      "cell_type": "markdown",
      "source": [
        "# activation patching"
      ],
      "metadata": {
        "id": "0dcMd6WofYo4"
      }
    },
    {
      "cell_type": "markdown",
      "source": [
        "## imports and junk"
      ],
      "metadata": {
        "id": "oWvBJQY_liNI"
      }
    },
    {
      "cell_type": "code",
      "source": [
        "# Import stuff\n",
        "import torch\n",
        "import torch.nn as nn\n",
        "import torch.nn.functional as F\n",
        "import torch.optim as optim\n",
        "import numpy as np\n",
        "import einops\n",
        "from fancy_einsum import einsum\n",
        "import tqdm.notebook as tqdm\n",
        "import random\n",
        "from pathlib import Path\n",
        "import plotly.express as px\n",
        "from torch.utils.data import DataLoader\n",
        "\n",
        "from typing import List, Union, Optional, NamedTuple\n",
        "from functools import partial\n",
        "import copy\n",
        "\n",
        "import itertools\n",
        "from transformers import AutoModelForCausalLM, AutoConfig, AutoTokenizer\n",
        "import dataclasses\n",
        "import datasets\n",
        "from IPython.display import HTML\n",
        "\n",
        "# Plotly needs a different renderer for VSCode/Notebooks vs Colab argh\n",
        "import plotly.io as pio\n",
        "# DEBUG_MODE = False\n",
        "# if IN_COLAB: # or not DEBUG_MODE:\n",
        "#     # Thanks to annoying rendering issues, Plotly graphics will either show up in colab OR Vscode depending on the renderer - this is bad for developing demos! Thus creating a debug mode.\n",
        "#     pio.renderers.default = \"colab\"\n",
        "# else:\n",
        "#     pio.renderers.default = \"png\"\n",
        "pio.renderers.default = \"png\"\n",
        "import transformer_lens\n",
        "import transformer_lens.utils as utils\n",
        "from transformer_lens.hook_points import (\n",
        "    HookedRootModule,\n",
        "    HookPoint,\n",
        ")  # Hooking utilities\n",
        "from transformer_lens import HookedTransformer, HookedTransformerConfig, FactoredMatrix, ActivationCache\n",
        "import transformer_lens.patching as patching\n",
        "from neel_plotly import line, imshow, scatter"
      ],
      "metadata": {
        "id": "vecKktUGfbnX"
      },
      "execution_count": 2,
      "outputs": []
    },
    {
      "cell_type": "code",
      "source": [
        "torch.set_grad_enabled(False)\n",
        "device = torch.device(\"cuda\" if torch.cuda.is_available() else \"cpu\")"
      ],
      "metadata": {
        "id": "gwut3HWpf825"
      },
      "execution_count": 3,
      "outputs": []
    },
    {
      "cell_type": "markdown",
      "source": [
        "### model download"
      ],
      "metadata": {
        "id": "fSBrphhCldS9"
      }
    },
    {
      "cell_type": "code",
      "source": [
        "model = HookedTransformer.from_pretrained(\"gpt2-small\")"
      ],
      "metadata": {
        "colab": {
          "base_uri": "https://localhost:8080/"
        },
        "id": "1z5fWC7BlhoO",
        "outputId": "d9c03fb5-0299-41e2-85ac-79bbce406cb9"
      },
      "execution_count": 4,
      "outputs": [
        {
          "output_type": "stream",
          "name": "stderr",
          "text": [
            "/usr/local/lib/python3.10/dist-packages/huggingface_hub/utils/_token.py:88: UserWarning:\n",
            "\n",
            "\n",
            "The secret `HF_TOKEN` does not exist in your Colab secrets.\n",
            "To authenticate with the Hugging Face Hub, create a token in your settings tab (https://huggingface.co/settings/tokens), set it as secret in your Google Colab and restart your session.\n",
            "You will be able to reuse this secret in all of your notebooks.\n",
            "Please note that authentication is recommended but still optional to access public models or datasets.\n",
            "\n"
          ]
        },
        {
          "output_type": "stream",
          "name": "stdout",
          "text": [
            "Loaded pretrained model gpt2-small into HookedTransformer\n"
          ]
        }
      ]
    },
    {
      "cell_type": "markdown",
      "source": [
        "## example prompts"
      ],
      "metadata": {
        "id": "VmCVp51WmL-w"
      }
    },
    {
      "cell_type": "code",
      "source": [
        "# manually pad with newlines\n",
        "prompts = [\n",
        "    \"\\n\\nInstead of turning left, the character turned\",\n",
        "    \"\\nThe bird did not fly up, it flew\",\n",
        "    \"\\n\\nThe data is not discrete, it is\",\n",
        "    \"She did not walk towards the right, she moved\",\n",
        "    \"\\n\\nThe approach was not continuous, it was\",\n",
        "    \"\\nTo avoid going down, the climber went\",\n",
        "    \"The vehicle couldn't turn left, so it turned\",\n",
        "]\n",
        "\n",
        "class Answer(NamedTuple):\n",
        "    correct: str\n",
        "    incorrect: str\n",
        "\n",
        "\n",
        "answers = [\n",
        "    Answer(correct=\" right\", incorrect=\" left\"),\n",
        "    Answer(correct=\" down\", incorrect=\" up\"),\n",
        "    Answer(correct=\" continuous\", incorrect=\" discrete\"),\n",
        "    Answer(correct=\" left\", incorrect=\" right\"),\n",
        "    Answer(correct=\" discrete\", incorrect=\" continuous\"),\n",
        "    Answer(correct=\" up\", incorrect=\" down\"),\n",
        "    Answer(correct=\" right\", incorrect=\" left\"),\n",
        "]\n",
        "\n",
        "prompt_tokens = [model.to_tokens(prompt) for prompt in prompts]\n",
        "\n",
        "correct_answer_tokens = torch.as_tensor(\n",
        "    [model.to_single_token(a.correct) for a in answers], device=device\n",
        ")\n",
        "incorrect_answer_tokens = torch.as_tensor([model.to_single_token(a.incorrect) for a in answers], device=device)\n",
        "\n"
      ],
      "metadata": {
        "id": "-dk1BTpdopuj"
      },
      "execution_count": 5,
      "outputs": []
    },
    {
      "cell_type": "code",
      "source": [
        "prompts = ['When John and Mary went to the shops, John gave the bag to', 'When John and Mary went to the shops, Mary gave the bag to', 'When Tom and James went to the park, James gave the ball to', 'When Tom and James went to the park, Tom gave the ball to', 'When Dan and Sid went to the shops, Sid gave an apple to', 'When Dan and Sid went to the shops, Dan gave an apple to', 'After Martin and Amy went to the park, Amy gave a drink to', 'After Martin and Amy went to the park, Martin gave a drink to']\n",
        "answers = [(' Mary', ' John'), (' John', ' Mary'), (' Tom', ' James'), (' James', ' Tom'), (' Dan', ' Sid'), (' Sid', ' Dan'), (' Martin', ' Amy'), (' Amy', ' Martin')]\n",
        "\n",
        "clean_tokens = model.to_tokens(prompts)\n",
        "# Swap each adjacent pair, with a hacky list comprehension\n",
        "corrupted_tokens = clean_tokens[\n",
        "    [(i+1 if i%2==0 else i-1) for i in range(len(clean_tokens)) ]\n",
        "    ]\n",
        "print(\"Clean string 0\", model.to_string(clean_tokens[0]))\n",
        "print(\"Corrupted string 0\", model.to_string(corrupted_tokens[0]))\n",
        "\n",
        "answer_token_indices = torch.tensor([[model.to_single_token(answers[i][j]) for j in range(2)] for i in range(len(answers))], device=model.cfg.device)\n",
        "print(\"Answer token indices\", answer_token_indices)"
      ],
      "metadata": {
        "colab": {
          "base_uri": "https://localhost:8080/"
        },
        "id": "ARJBAu3pmLdW",
        "outputId": "59cdfe14-4506-4799-91c3-9d2903413c2d"
      },
      "execution_count": 6,
      "outputs": [
        {
          "output_type": "stream",
          "name": "stdout",
          "text": [
            "Clean string 0 <|endoftext|>When John and Mary went to the shops, John gave the bag to\n",
            "Corrupted string 0 <|endoftext|>When John and Mary went to the shops, Mary gave the bag to\n",
            "Answer token indices tensor([[ 5335,  1757],\n",
            "        [ 1757,  5335],\n",
            "        [ 4186,  3700],\n",
            "        [ 3700,  4186],\n",
            "        [ 6035, 15686],\n",
            "        [15686,  6035],\n",
            "        [ 5780, 14235],\n",
            "        [14235,  5780]], device='cuda:0')\n"
          ]
        }
      ]
    },
    {
      "cell_type": "code",
      "source": [
        "def get_logit_diff(logits, answer_token_indices=answer_token_indices):\n",
        "    if len(logits.shape)==3:\n",
        "        # Get final logits only\n",
        "        logits = logits[:, -1, :]\n",
        "    correct_logits = logits.gather(1, answer_token_indices[:, 0].unsqueeze(1))\n",
        "    incorrect_logits = logits.gather(1, answer_token_indices[:, 1].unsqueeze(1))\n",
        "    return (correct_logits - incorrect_logits).mean()\n",
        "\n",
        "clean_logits, clean_cache = model.run_with_cache(clean_tokens)\n",
        "corrupted_logits, corrupted_cache = model.run_with_cache(corrupted_tokens)\n",
        "\n",
        "clean_logit_diff = get_logit_diff(clean_logits, answer_token_indices).item()\n",
        "print(f\"Clean logit diff: {clean_logit_diff:.4f}\")\n",
        "\n",
        "corrupted_logit_diff = get_logit_diff(corrupted_logits, answer_token_indices).item()\n",
        "print(f\"Corrupted logit diff: {corrupted_logit_diff:.4f}\")"
      ],
      "metadata": {
        "colab": {
          "base_uri": "https://localhost:8080/"
        },
        "id": "sok2mwX9m4wa",
        "outputId": "09d57f2c-5c49-4258-9228-3c234cf2cc01"
      },
      "execution_count": 7,
      "outputs": [
        {
          "output_type": "stream",
          "name": "stdout",
          "text": [
            "Clean logit diff: 3.5519\n",
            "Corrupted logit diff: -3.5519\n"
          ]
        }
      ]
    },
    {
      "cell_type": "code",
      "source": [
        "CLEAN_BASELINE = clean_logit_diff\n",
        "CORRUPTED_BASELINE = corrupted_logit_diff\n",
        "def ioi_metric(logits, answer_token_indices=answer_token_indices):\n",
        "    return (get_logit_diff(logits, answer_token_indices) - CORRUPTED_BASELINE) / (CLEAN_BASELINE  - CORRUPTED_BASELINE)\n",
        "\n",
        "print(f\"Clean Baseline is 1: {ioi_metric(clean_logits).item():.4f}\")\n",
        "print(f\"Corrupted Baseline is 0: {ioi_metric(corrupted_logits).item():.4f}\")"
      ],
      "metadata": {
        "colab": {
          "base_uri": "https://localhost:8080/"
        },
        "id": "ldapgNR8m84k",
        "outputId": "a7f03192-649e-477a-e202-3cd53ca6b014"
      },
      "execution_count": 8,
      "outputs": [
        {
          "output_type": "stream",
          "name": "stdout",
          "text": [
            "Clean Baseline is 1: 1.0000\n",
            "Corrupted Baseline is 0: 0.0000\n"
          ]
        }
      ]
    },
    {
      "cell_type": "code",
      "source": [],
      "metadata": {
        "id": "oCXLlYOjnAYc"
      },
      "execution_count": 8,
      "outputs": []
    },
    {
      "cell_type": "markdown",
      "source": [
        "### Vis"
      ],
      "metadata": {
        "id": "TFuaHAMFnGEx"
      }
    },
    {
      "cell_type": "code",
      "source": [
        "resid_pre_act_patch_results = patching.get_act_patch_resid_pre(model, corrupted_tokens, clean_cache, ioi_metric)\n",
        "imshow(\n",
        "    resid_pre_act_patch_results,\n",
        "    yaxis=\"Layer\",\n",
        "    xaxis=\"Position\",\n",
        "    x=[f\"{tok} {i}\" for i, tok in enumerate(model.to_str_tokens(clean_tokens[0]))],\n",
        "    title=\"resid_pre Activation Patching\"\n",
        ")"
      ],
      "metadata": {
        "colab": {
          "base_uri": "https://localhost:8080/",
          "height": 549,
          "referenced_widgets": [
            "9c25b73e8d6748298c86f372951b6282",
            "684e2a4a3e3f440c818abce02ef95fb1",
            "d09b151caac64e95a19af89767a3197d",
            "9415b74fa2374de787af4981736ece9e",
            "a12f69b3e19744d09e23ad4c0ebff4ac",
            "8b1f8151ec7644e3a90fbddff5820f30",
            "581f5119f0b24a48bacfa58e29e2bffa",
            "fecf9214ba4940f08f8e8e84c8dedf35",
            "17bc7e00339f4542b9f57916d3fa0785",
            "2a0ca69c9e0e461184a1a5e736ba5a3f",
            "fd2034d6995d4424a1293e2f460e0604"
          ]
        },
        "id": "8-nXwkjrnG2K",
        "outputId": "d079bb37-b9e6-4201-bd8a-d8d18d56e1dc"
      },
      "execution_count": 9,
      "outputs": [
        {
          "output_type": "display_data",
          "data": {
            "text/plain": [
              "  0%|          | 0/180 [00:00<?, ?it/s]"
            ],
            "application/vnd.jupyter.widget-view+json": {
              "version_major": 2,
              "version_minor": 0,
              "model_id": "9c25b73e8d6748298c86f372951b6282"
            }
          },
          "metadata": {}
        },
        {
          "output_type": "display_data",
          "data": {
            "image/png": "[encoded data removed]"
          },
          "metadata": {}
        }
      ]
    },
    {
      "cell_type": "code",
      "source": [
        "attn_head_out_all_pos_act_patch_results = patching.get_act_patch_attn_head_out_all_pos(model, corrupted_tokens, clean_cache, ioi_metric)\n",
        "imshow(attn_head_out_all_pos_act_patch_results,\n",
        "       yaxis=\"Layer\",\n",
        "       xaxis=\"Head\",\n",
        "       title=\"attn_head_out Activation Patching (All Pos)\"\n",
        "       )"
      ],
      "metadata": {
        "colab": {
          "base_uri": "https://localhost:8080/",
          "height": 549,
          "referenced_widgets": [
            "53c87ce459fb4f58a45acb1468b91da1",
            "b439435b417c416eb042b0951ecb0075",
            "2844b9cf88e54e00a98dbc60f1672778",
            "4fcae5953b8a40209bc920e3a10ce522",
            "21b1f72fa36446829c7e879df4c1a39f",
            "754628d1de4f47c7aa44250bbc3f0a9c",
            "5ab226494a194f2cabb29b14fcb631b4",
            "04cb37deca0f496db169af843dcc88da",
            "2d780f5c5fe843fda60f516e6c796fd1",
            "d9f9aa84c5c1489aabc53394aefd030f",
            "fa98e9cb589d4aa2867aec5788842964"
          ]
        },
        "id": "XBJfcyY6nH-y",
        "outputId": "dd7bfb05-f057-437c-e8a4-463ac5c656a7"
      },
      "execution_count": 10,
      "outputs": [
        {
          "output_type": "display_data",
          "data": {
            "text/plain": [
              "  0%|          | 0/144 [00:00<?, ?it/s]"
            ],
            "application/vnd.jupyter.widget-view+json": {
              "version_major": 2,
              "version_minor": 0,
              "model_id": "53c87ce459fb4f58a45acb1468b91da1"
            }
          },
          "metadata": {}
        },
        {
          "output_type": "display_data",
          "data": {
            "image/png": "[encoded data removed]"
          },
          "metadata": {}
        }
      ]
    },
    {
      "cell_type": "code",
      "source": [],
      "metadata": {
        "id": "4Nrlj4hxqzW4"
      },
      "execution_count": 10,
      "outputs": []
    }
  ]
}