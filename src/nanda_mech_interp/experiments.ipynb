{
  "cells": [
    {
      "cell_type": "markdown",
      "metadata": {
        "id": "IIh_Lac9UvUE"
      },
      "source": [
        "[![Open In Colab](https://colab.research.google.com/assets/colab-badge.svg)](https://colab.research.google.com/github/neelnanda-io/TransformerLens/blob/main/demos/Exploratory_Analysis_Demo.ipynb)"
      ]
    },
    {
      "cell_type": "markdown",
      "metadata": {
        "id": "BCEtKQjDUvUF"
      },
      "source": [
        "# Antonyms\n",
        "\n",
        "\n",
        " The notebook tries to find a circuit for antonyms."
      ]
    },
    {
      "cell_type": "markdown",
      "metadata": {
        "id": "xnWwTHy9UvUF"
      },
      "source": [
        "## Tips for Reading This\n",
        "\n",
        "* If running in Google Colab, go to Runtime > Change Runtime Type and select GPU as the hardware\n",
        "accelerator.\n",
        "* Look up unfamiliar terms in [the mech interp explainer](https://neelnanda.io/glossary)\n",
        "* You can run all this code for yourself\n",
        "* The graphs are interactive\n",
        "* Use the table of contents pane in the sidebar to navigate (in Colab) or VSCode's \"Outline\" in the\n",
        "  explorer tab.\n",
        "* Collapse irrelevant sections with the dropdown arrows\n",
        "* Search the page using the search in the sidebar (with Colab) not CTRL+F"
      ]
    },
    {
      "cell_type": "markdown",
      "metadata": {
        "id": "K8HckqcfUvUF"
      },
      "source": [
        "## Setup"
      ]
    },
    {
      "cell_type": "markdown",
      "metadata": {
        "id": "IVZRDsEdUvUF"
      },
      "source": [
        "### Environment Setup (ignore)"
      ]
    },
    {
      "cell_type": "markdown",
      "metadata": {
        "id": "k4l_yoZyUvUF"
      },
      "source": [
        "**You can ignore this part:** It's just for use internally to setup the tutorial in different\n",
        "environments. You can delete this section if using in your own repo."
      ]
    },
    {
      "cell_type": "code",
      "execution_count": 2,
      "metadata": {
        "colab": {
          "base_uri": "https://localhost:8080/"
        },
        "id": "O4w2hJCZUvUF",
        "outputId": "80cf9280-c376-4e33-8b6d-f7e27a7bc746"
      },
      "outputs": [],
      "source": [
        "\n",
        "# Detect if we're running in Google Colab\n",
        "try:\n",
        "    import google.colab\n",
        "    IN_COLAB = True\n",
        "    print(\"Running as a Colab notebook\")\n",
        "except:\n",
        "    IN_COLAB = False\n",
        "\n",
        "# Install if in Colab\n",
        "if IN_COLAB:\n",
        "    %pip install transformer_lens\n",
        "    %pip install circuitsvis\n",
        "    # Install a faster Node version\n",
        "    !curl -fsSL https://deb.nodesource.com/setup_16.x | sudo -E bash -; sudo apt-get install -y nodejs  # noqa\n",
        "\n",
        "# Hot reload in development mode & not running on the CD\n",
        "if not IN_COLAB:\n",
        "    from IPython import get_ipython\n",
        "    ip = get_ipython()\n",
        "    if not ip.extension_manager.loaded:\n",
        "        ip.extension_manager.load('autoreload')\n",
        "        %autoreload 2\n"
      ]
    },
    {
      "cell_type": "markdown",
      "metadata": {
        "id": "_vk_fNgmUvUG"
      },
      "source": [
        "### Imports"
      ]
    },
    {
      "cell_type": "code",
      "execution_count": 3,
      "metadata": {
        "id": "vsWkOfHxUvUG"
      },
      "outputs": [
        {
          "name": "stderr",
          "output_type": "stream",
          "text": [
            "/Users/alokbeniwal/nanda-mech-interp/.venv/lib/python3.12/site-packages/tqdm/auto.py:21: TqdmWarning: IProgress not found. Please update jupyter and ipywidgets. See https://ipywidgets.readthedocs.io/en/stable/user_install.html\n",
            "  from .autonotebook import tqdm as notebook_tqdm\n"
          ]
        }
      ],
      "source": [
        "from functools import partial\n",
        "from typing import List, Optional, Union\n",
        "\n",
        "import einops\n",
        "import numpy as np\n",
        "import plotly.express as px\n",
        "import matplotlib.pyplot as plt\n",
        "import plotly.io as pio\n",
        "import torch\n",
        "from circuitsvis.attention import attention_heads\n",
        "from fancy_einsum import einsum\n",
        "from IPython.display import HTML, IFrame\n",
        "from jaxtyping import Float\n",
        "\n",
        "import transformer_lens.utils as utils\n",
        "from transformer_lens import ActivationCache, HookedTransformer"
      ]
    },
    {
      "cell_type": "markdown",
      "metadata": {
        "id": "0iL9kWpKUvUG"
      },
      "source": [
        "### PyTorch Setup"
      ]
    },
    {
      "cell_type": "markdown",
      "metadata": {
        "id": "_QrhRcjFUvUG"
      },
      "source": [
        "We turn automatic differentiation off, to save GPU memory, as this notebook focuses on model inference not model training."
      ]
    },
    {
      "cell_type": "code",
      "execution_count": 4,
      "metadata": {
        "colab": {
          "base_uri": "https://localhost:8080/"
        },
        "id": "J5yg2vheUvUG",
        "outputId": "cfffa9bf-e3d3-4816-f727-c4e303ab00ec"
      },
      "outputs": [
        {
          "data": {
            "text/plain": [
              "<torch.autograd.grad_mode.set_grad_enabled at 0x32c17e810>"
            ]
          },
          "execution_count": 4,
          "metadata": {},
          "output_type": "execute_result"
        },
        {
          "name": "stdout",
          "output_type": "stream",
          "text": [
            "Disabled automatic differentiation\n"
          ]
        }
      ],
      "source": [
        "torch.set_grad_enabled(False)\n",
        "print(\"Disabled automatic differentiation\")"
      ]
    },
    {
      "cell_type": "markdown",
      "metadata": {
        "id": "HgtEaGYSUvUH"
      },
      "source": [
        "### Plotting Helper Functions (ignore)"
      ]
    },
    {
      "cell_type": "markdown",
      "metadata": {
        "id": "w3u0IGweUvUH"
      },
      "source": [
        "Some plotting helper functions are included here (for simplicity)."
      ]
    },
    {
      "cell_type": "code",
      "execution_count": 5,
      "metadata": {
        "id": "jxXxfotaUvUH"
      },
      "outputs": [],
      "source": [
        "def imshow(tensor, **kwargs):\n",
        "    px.imshow(\n",
        "        utils.to_numpy(tensor),\n",
        "        color_continuous_midpoint=0.0,\n",
        "        color_continuous_scale=\"RdBu\",\n",
        "        **kwargs,\n",
        "    ).show()\n",
        "\n",
        "\n",
        "def line(tensor, **kwargs):\n",
        "    px.line(\n",
        "        y=utils.to_numpy(tensor),\n",
        "        **kwargs,\n",
        "    ).show()\n",
        "\n",
        "\n",
        "def scatter(x, y, xaxis=\"\", yaxis=\"\", caxis=\"\", **kwargs):\n",
        "    x = utils.to_numpy(x)\n",
        "    y = utils.to_numpy(y)\n",
        "    px.scatter(\n",
        "        y=y,\n",
        "        x=x,\n",
        "        labels={\"x\": xaxis, \"y\": yaxis, \"color\": caxis},\n",
        "        **kwargs,\n",
        "    ).show()"
      ]
    },
    {
      "cell_type": "markdown",
      "metadata": {
        "id": "aT7gLsaBUvUH"
      },
      "source": [
        "## Introduction\n",
        "\n",
        "The capability we're trying to reverse engineer is the ability to find antonyms. An antonym is a word that is opposite in meaning to another word. For example, \"hot\" and \"cold\" are antonyms, as are \"up\" and \"down\".\n",
        "\n"
      ]
    },
    {
      "cell_type": "markdown",
      "metadata": {
        "id": "-Nm29D-OUvUH"
      },
      "source": [
        "### Indirect Object Identification\n",
        "\n",
        "The first step when trying to reverse engineer a circuit in a model is to identify *what* capability\n",
        "I want to reverse engineer. Indirect Object Identification is a task studied in Redwood Research's\n",
        "excellent [Interpretability in the Wild](https://arxiv.org/abs/2211.00593) paper (see [my interview\n",
        "with the authors](https://www.youtube.com/watch?v=gzwj0jWbvbo) or [Kevin Wang's Twitter\n",
        "thread](https://threadreaderapp.com/thread/1587601532639494146.html) for an overview). The task is\n",
        "to complete sentences like \"After John and Mary went to the shops, John gave a bottle of milk to\"\n",
        "with \" Mary\" rather than \" John\".\n",
        "\n",
        "In the paper they rigorously reverse engineer a 26 head circuit, with 7 separate categories of heads\n",
        "used to perform this capability. Their rigorous methods are fairly involved, so in this notebook,\n",
        "I'm going to skimp on rigour and instead try to speed run the process of finding suggestive evidence\n",
        "for this circuit!\n",
        "\n",
        "The circuit they found roughly breaks down into three parts:\n",
        "1. Identify what names are in the sentence\n",
        "2. Identify which names are duplicated\n",
        "3. Predict the name that is *not* duplicated"
      ]
    },
    {
      "cell_type": "markdown",
      "metadata": {
        "id": "580N0Xf8UvUH"
      },
      "source": [
        "The first step is to load in our model. I use GPT-Neo-2.7B because it ran fast enough and got clearer improvements over GPT-2 Small, but Small works pretty well too and Quinn used it."
      ]
    },
    {
      "cell_type": "code",
      "execution_count": 6,
      "metadata": {
        "colab": {
          "base_uri": "https://localhost:8080/",
          "height": 370,
          "referenced_widgets": [
            "9a9fae0f77ac4a8aaca9f2bdd0246c68",
            "0a18c08387854554814aa9add5afeeab",
            "6c41613d3c834ac5ac4cd415dda64c70",
            "7b63c56df4f04c199a94900280363265",
            "cdec85bab9ab43ee95f8f6d006d7a0c6",
            "cea8142b11e849f4bf116e2473fb7c7c",
            "4ba7db2b34274aa8a7e6294787227811",
            "37f96285cf10444d825f72c9c0639e5a",
            "2901ab9892fe4549935e17c02e3cd518",
            "4ece9f38b4a6494c9b534ce86e3000e4",
            "ca5d2a65d96f453dba5689899b3cf810",
            "2a7efa4301a449d18cab488fc677aa38",
            "447d6e89ffd64ba18cc97b1d7efb5bb0",
            "0050efa334d445c497b7e32d05b2b418",
            "51bb3746c81d487cac301f70e5e6dc4f",
            "180bd58c72c947589acc869bda6fad34",
            "9772dc35b853475f976aa820bd32ca92",
            "4c4cb693e8a34c9f92c9588899482ad9",
            "e553276b0656466fb9475d0191ec86e6",
            "5a78f2d0c99e41a7a9fa0d5d4fa9837e",
            "80ef0553e5ed416c9a93a440dea956ce",
            "23ac6ea0519e47009a8c5fb32fcaa784",
            "eda30a70270b4f32b6adefb0692b3cbe",
            "1b7826c43c594ad9bdb3a534b1408730",
            "5738d97e424b4ac498de11456d2b5552",
            "de44ce469f5b4f4fb0c0dffab210a073",
            "4592aa762bcf4e82884790bcbd29d75b",
            "ee079b60629a4bfe9ece69fb0498ec13",
            "7668936874a24615b4ac65b29ae10dbe",
            "02c4be08db3b4647b0acb3f6848b9b4a",
            "d703461ef1b94addbf870d28445a3d08",
            "6e1c774e55ac4311b65374fe4a077e0d",
            "565be69de12a45e49855063950fd42e7",
            "0d9e2b301a164982a88e5338b411fa52",
            "baf3b7e5c9e44640bb49484d8637e312",
            "8fdecb8c71ba4f70b536d80fcf683269",
            "6372e354db5b4978814f55e304a43bbf",
            "d57099823cfe4d8cb52fe39b0d425a91",
            "afeb094c4c204251b793f6c15a382569",
            "ca1603a475cd46b4a4138513d09dae16",
            "661a4f819c6648729d3eac0d4d5a22b8",
            "39bb1b106cce43039b62513491b19fdb",
            "f3f3f972cb28474c90bd95203ed65677",
            "6afee29c5d5e4b849a8331050c275d07",
            "4af43d9e8bed4ed1acf0a00ceeffc2e6",
            "7e7619127ae94376a1e5fc3c8d2bb161",
            "a844d8eb3b3d4584a18ebb4184c3ec7f",
            "2f19e662c8b64e31afbe36f20c353d19",
            "d79c15b322534595b46f211537e82801",
            "abf8d0a05204438da464db8c975c286c",
            "31267fb131bc4ec5ae8ea6a81a3121bd",
            "a2ff4eea105c4d70b8f08d354636b406",
            "85b0aad8f51346a6bcc6a492401d88a6",
            "93808192885f4a88bb9d24a916ff6518",
            "b3ed7930c6e2471c9112e1d22227928a",
            "426396e543ce4f44821bd2c2aeaf5984",
            "dbdc9fb7f0ad44f6a6951e694f844a54",
            "82bf2768ce934a21b344cb1fb8e2489b",
            "1d551623c7d545efbadb4625c3e32318",
            "b992a3cea7d04643a32054ab68eeb21a",
            "a42a30810c0a43299d36f7acd3b3d0f4",
            "350c5f32d6ca4d1fbea825f5efde6c1e",
            "5cdab890e268448a8823e0cb617f9be1",
            "8c06ef621708420faa398adc83a571b4",
            "fb7a11b2399b4f4abfc0783b891f771f",
            "97ef8a6d9f6a4c40b102df76662726f1",
            "28e300ddd9d04ca79a2deed1934c1350",
            "fe494df9fc9947d392f267cdf02ac11c",
            "7ab69441f18f48798083743fc0f9a082",
            "588c6b9447624feab359a089381d2da5",
            "7b53fea799b24ea0a1ff572142ebff70",
            "2a582ddf58a74d198dd20cd0379ccdb7",
            "45eb7146b0c34cb696fa67029ae982d4",
            "a20af70ea1134e4eb61b781ce4ef0893",
            "2728a9eeb93e4ad48591589f7773fb78",
            "17244fc31e5a4b3a9c90ed903e07d87a",
            "4dbcd8382cef4e67a240b64a8dba1f23"
          ]
        },
        "id": "fjsTRdwMUvUH",
        "outputId": "e98659c0-7c3d-4c79-cd1e-7c017d705042"
      },
      "outputs": [
        {
          "name": "stdout",
          "output_type": "stream",
          "text": [
            "Loaded pretrained model EleutherAI/gpt-neo-2.7B into HookedTransformer\n"
          ]
        }
      ],
      "source": [
        "MODEL_NAME = \"EleutherAI/gpt-neo-2.7B\"\n",
        "# NBVAL_IGNORE_OUTPUT\n",
        "model = HookedTransformer.from_pretrained(\n",
        "    MODEL_NAME,\n",
        "    center_unembed=True,\n",
        "    center_writing_weights=True,\n",
        "    fold_ln=True,\n",
        "    refactor_factored_attn_matrices=True,\n",
        ")\n",
        "# add left padding\n",
        "model.tokenizer.padding_side = \"left\"\n",
        "model.set_tokenizer(default_padding_side=\"left\", tokenizer=model.tokenizer)\n",
        "# Get the default device used\n",
        "device: torch.device = utils.get_device()"
      ]
    },
    {
      "cell_type": "markdown",
      "metadata": {},
      "source": [
        "## Verifying model can do task\n",
        "\n",
        "Alok: found that Neo doesn't seem to get syntax/semantics, but otherwise seems to understand opposition. \n",
        "\n",
        "See the graphs for evidence that they can do it\n"
      ]
    },
    {
      "cell_type": "code",
      "execution_count": 7,
      "metadata": {},
      "outputs": [],
      "source": [
        "from typing import NamedTuple\n",
        "\n",
        "from regex import D\n",
        "from sympy import PermutationMatrix\n",
        "\n",
        "\n",
        "def unzip(tuples):\n",
        "    return zip(*tuples)\n",
        "\n",
        "\n",
        "class Answer(NamedTuple):\n",
        "    correct: str\n",
        "    incorrect: str"
      ]
    },
    {
      "cell_type": "code",
      "execution_count": 8,
      "metadata": {},
      "outputs": [],
      "source": [
        "def get_answer_tokens(\n",
        "    answers: list[Answer], model=model, corrupted: bool = False\n",
        ") -> Float[torch.Tensor, \"batch 2\"]:\n",
        "    \"\"\"HACK: returns the tokens for the correct and incorrect answers, in that order.\n",
        "    If `corrupted` is True, then the correct and incorrect answers are swapped.\"\"\"\n",
        "    return torch.tensor(\n",
        "        [\n",
        "            (\n",
        "                model.to_single_token(a.incorrect if corrupted else a.correct),\n",
        "                model.to_single_token(a.correct if corrupted else a.incorrect),\n",
        "            )\n",
        "            for a in answers\n",
        "        ],\n",
        "        device=device,\n",
        "    )"
      ]
    },
    {
      "cell_type": "code",
      "execution_count": 9,
      "metadata": {},
      "outputs": [
        {
          "name": "stdout",
          "output_type": "stream",
          "text": [
            "('\\n\\nInstead of turning left, the character turned', '\\nThe bird did not fly up, it flew', '\\n\\nThe data is not discrete, it is', 'She did not walk towards the right, she moved to the', 'He did not walk towards the left, he moved to the', '\\n\\nThe data is not continuous, it is', '\\nTo avoid going down, the climber went', '\\nTo avoid going up, the climber went', \"The vehicle couldn't turn left, so it turned\", \"The vehicle couldn't turn right, so it turned\", 'he feels hot, but i feel', '\\nThe sun did not rise in the east, it rose in the', '\\n\\nThe player did not pass the ball forward, they passed it', \"\\n\\nThe door didn't open inward, it swung\") (Answer(correct=' right', incorrect=' left'), Answer(correct=' down', incorrect=' up'), Answer(correct=' continuous', incorrect=' discrete'), Answer(correct=' left', incorrect=' right'), Answer(correct=' right', incorrect=' left'), Answer(correct=' discrete', incorrect=' continuous'), Answer(correct=' up', incorrect=' down'), Answer(correct=' down', incorrect=' up'), Answer(correct=' right', incorrect=' left'), Answer(correct=' left', incorrect=' right'), Answer(correct=' cold', incorrect=' hot'), Answer(correct=' west', incorrect=' east'), Answer(correct=' backward', incorrect=' forward'), Answer(correct=' outward', incorrect=' inward'))\n"
          ]
        }
      ],
      "source": [
        "prompts_and_answers: list[tuple[str, Answer]] = [\n",
        "    (\"\\n\\nInstead of turning left, the character turned\", Answer(\" right\", \" left\")),\n",
        "    (\"\\nThe bird did not fly up, it flew\", Answer(\" down\", \" up\")),\n",
        "    (\"\\n\\nThe data is not discrete, it is\", Answer(\" continuous\", \" discrete\")),\n",
        "    (\"She did not walk towards the right, she moved to the\", Answer(\" left\", \" right\")),\n",
        "    (\"He did not walk towards the left, he moved to the\", Answer(\" right\", \" left\")),\n",
        "    (\"\\n\\nThe data is not continuous, it is\", Answer(\" discrete\", \" continuous\")),\n",
        "    (\"\\nTo avoid going down, the climber went\", Answer(\" up\", \" down\")),\n",
        "    (\"\\nTo avoid going up, the climber went\", Answer(\" down\", \" up\")),\n",
        "    (\"The vehicle couldn't turn left, so it turned\", Answer(\" right\", \" left\")),\n",
        "    (\"The vehicle couldn't turn right, so it turned\", Answer(\" left\", \" right\")),\n",
        "    # (\"syntax is dual to\", Answer(\" semantics\", \" syntax\")),\n",
        "    # TODO(alok): HACK. it gets the previous one, maybe bc 'syntax and semantics' is a set phrase but 'semantics and syntax' isn't\n",
        "    # (\"semantics is dual to\", Answer(\" syntax\", \" semantics\")),\n",
        "    (\"he feels hot, but i feel\", Answer(\" cold\", \" hot\")),\n",
        "    (\"\\nThe sun did not rise in the east, it rose in the\", Answer(\" west\", \" east\")),\n",
        "    (\n",
        "        \"\\n\\nThe player did not pass the ball forward, they passed it\",\n",
        "        Answer(\" backward\", \" forward\"),\n",
        "    ),\n",
        "    # (\"\\n The water did not freeze, it\", Answer(\" boiled\", \" froze\")),\n",
        "    (\"\\n\\nThe door didn't open inward, it swung\", Answer(\" outward\", \" inward\")),\n",
        "    # (\"\\nInstead of accepting the offer, she\", Answer(\" rejected\", \" accepted\")),  # does poorly here, maybe too open ended?\n",
        "]\n",
        "\n",
        "\n",
        "prompts, answers = unzip(prompts_and_answers)\n",
        "print(prompts, answers)\n",
        "prompt_tokens = [model.to_tokens(prompt) for prompt in prompts]\n",
        "answer_tokens = get_answer_tokens(answers)"
      ]
    },
    {
      "cell_type": "markdown",
      "metadata": {
        "id": "_uFNAqwWUvUI"
      },
      "source": [
        "**Gotcha**: It's important that all of your prompts have the same number of tokens. If they're different lengths, then the position of the \"final\" logit where you can check logit difference will differ between prompts, and this will break the below code. The easiest solution is just to choose your prompts carefully to have the same number of tokens (you can eg add filler words like The, or newlines to start).\n",
        "\n",
        "I fix this by left padding with newlines"
      ]
    },
    {
      "cell_type": "code",
      "execution_count": 10,
      "metadata": {
        "colab": {
          "base_uri": "https://localhost:8080/"
        },
        "id": "uez-shXsUvUI",
        "outputId": "cad993d8-8858-4ea6-e9cb-9ebfe14002a4"
      },
      "outputs": [],
      "source": [
        "def leftpad(strs: list[str], model, pad_char: str = \"\\n\") -> list[str]:\n",
        "    \"\"\"Left pads each string in the list to the length of the longest string.\"\"\"\n",
        "    lens = [len(model.to_str_tokens(s)) for s in strs]\n",
        "    maxlen = max(lens)\n",
        "    out = [pad_char * (maxlen - len(model.to_str_tokens(s))) + s for s in strs]\n",
        "\n",
        "    # TODO(alok): HACK sometimes the tokenizer merges newlines and adding a newline doesn't increase token count, so run until everything is same tokenized length.\n",
        "    while len(set(lens)) > 1:\n",
        "        out = leftpad(out, model)\n",
        "        lens = [len(model.to_str_tokens(s)) for s in out]\n",
        "    return out"
      ]
    },
    {
      "cell_type": "markdown",
      "metadata": {
        "id": "lEmhcTP_UvUI"
      },
      "source": [
        "We now run the model on these prompts and use `run_with_cache` to get both the logits and a cache of all internal activations for later analysis"
      ]
    },
    {
      "cell_type": "code",
      "execution_count": 11,
      "metadata": {
        "id": "fmBlRdQZUvUI"
      },
      "outputs": [],
      "source": [
        "tokens = model.to_tokens(leftpad(prompts, model), prepend_bos=True)\n",
        "original_logits: Float[torch.Tensor, \"batch tokens vocab\"]\n",
        "# Run the model and cache all activations\n",
        "original_logits, cache = model.run_with_cache(tokens)"
      ]
    },
    {
      "cell_type": "markdown",
      "metadata": {
        "id": "z7c0nHXWUvUI"
      },
      "source": [
        "We'll later be evaluating how model performance differs upon performing various interventions, so it's useful to have a metric to measure model performance. Our metric here will be the **logit difference**, the difference in logit between the indirect object's name and the subject's name (eg, `logit(Mary)-logit(John)`).\n",
        "\n",
        "Alok: my first metric will be the difference between the logits between a word and its opposite. For more robustness, we could compare to a set of opposing words and take some average."
      ]
    },
    {
      "cell_type": "code",
      "execution_count": 12,
      "metadata": {
        "id": "71p6m-cwUvUI",
        "outputId": "10b269be-fcb0-48c0-eb1d-f16488aec77a"
      },
      "outputs": [],
      "source": [
        "def logits_to_avg_logit_diff(\n",
        "    logits: Float[torch.Tensor, \"batch tokens vocab\"],\n",
        "    answer_tokens: Float[torch.Tensor, \"batch 2\"],\n",
        "    per_prompt=False,\n",
        "):\n",
        "    # Only the final logits are relevant for the answer\n",
        "    final_logits: Float[torch.Tensor, \"batch vocab\"] = logits[:, -1, :]\n",
        "\n",
        "    answer_logits = final_logits.gather(dim=-1, index=answer_tokens)\n",
        "    correct_logits, incorrect_logits = answer_logits[:, 0], answer_logits[:, 1]\n",
        "    answer_logit_diff = correct_logits - incorrect_logits\n",
        "    if per_prompt:\n",
        "        return answer_logit_diff\n",
        "    else:\n",
        "        return answer_logit_diff.mean()"
      ]
    },
    {
      "cell_type": "code",
      "execution_count": 29,
      "metadata": {},
      "outputs": [
        {
          "name": "stdout",
          "output_type": "stream",
          "text": [
            "Per prompt logit difference: tensor([ 2.1070,  1.7540,  3.3410,  2.6260,  2.8600,  3.2700, -0.4260,  2.2520,\n",
            "         3.1950,  2.4530,  2.6580,  4.1310,  1.6190,  0.7020])\n",
            "Average logit difference: 2.324\n",
            "Prompt: Instead of turning left, the character turned                          Answer:  right          Logit Difference: 2.11\n",
            "Prompt: The bird did not fly up, it flew                                       Answer:  down           Logit Difference: 1.75\n",
            "Prompt: The data is not discrete, it is                                        Answer:  continuous     Logit Difference: 3.34\n",
            "Prompt: She did not walk towards the right, she moved to the                   Answer:  left           Logit Difference: 2.63\n",
            "Prompt: He did not walk towards the left, he moved to the                      Answer:  right          Logit Difference: 2.86\n",
            "Prompt: The data is not continuous, it is                                      Answer:  discrete       Logit Difference: 3.27\n",
            "Prompt: To avoid going down, the climber went                                  Answer:  up             Logit Difference: -0.43\n",
            "Prompt: To avoid going up, the climber went                                    Answer:  down           Logit Difference: 2.25\n",
            "Prompt: The vehicle couldn't turn left, so it turned                           Answer:  right          Logit Difference: 3.19\n",
            "Prompt: The vehicle couldn't turn right, so it turned                          Answer:  left           Logit Difference: 2.45\n",
            "Prompt: he feels hot, but i feel                                               Answer:  cold           Logit Difference: 2.66\n",
            "Prompt: The sun did not rise in the east, it rose in the                       Answer:  west           Logit Difference: 4.13\n",
            "Prompt: The player did not pass the ball forward, they passed it               Answer:  backward       Logit Difference: 1.62\n",
            "Prompt: The door didn't open inward, it swung                                  Answer:  outward        Logit Difference: 0.70\n"
          ]
        },
        {
          "data": {
            "text/plain": [
              "<Figure size 1000x600 with 0 Axes>"
            ]
          },
          "execution_count": 29,
          "metadata": {},
          "output_type": "execute_result"
        },
        {
          "data": {
            "text/plain": [
              "Text(0.5, 1.0, 'Scatter Plot of Logit Differences for EleutherAI/gpt-neo-2.7B - Average Difference: 2.32')"
            ]
          },
          "execution_count": 29,
          "metadata": {},
          "output_type": "execute_result"
        },
        {
          "data": {
            "text/plain": [
              "Text(0.5, 0, 'Prompt Index')"
            ]
          },
          "execution_count": 29,
          "metadata": {},
          "output_type": "execute_result"
        },
        {
          "data": {
            "text/plain": [
              "Text(0, 0.5, 'Logit Difference')"
            ]
          },
          "execution_count": 29,
          "metadata": {},
          "output_type": "execute_result"
        },
        {
          "data": {
            "image/png": "[encoded data removed]",
            "text/plain": [
              "<Figure size 1000x600 with 1 Axes>"
            ]
          },
          "metadata": {},
          "output_type": "display_data"
        }
      ],
      "source": [
        "print(\n",
        "    \"Per prompt logit difference:\",\n",
        "    logits_to_avg_logit_diff(original_logits, answer_tokens, per_prompt=True)\n",
        "    .detach()\n",
        "    .cpu()\n",
        "    .round(decimals=3),\n",
        ")\n",
        "orig_average_logit_diff = logits_to_avg_logit_diff(original_logits, answer_tokens)\n",
        "print(\n",
        "    \"Average logit difference:\",\n",
        "    round(orig_average_logit_diff.item(), 3),\n",
        ")\n",
        "\n",
        "\n",
        "# Display prompts, answers, and logits in a side-by-side format with constant spacing\n",
        "logit_diffs = logits_to_avg_logit_diff(original_logits, answer_tokens, per_prompt=True)\n",
        "for prompt, answer, logit_diff in zip(prompts, answers, logit_diffs):\n",
        "    print(\n",
        "        f\"Prompt: {prompt.strip():<70} Answer: {answer.correct:<15} Logit Difference: {logit_diff.item():.2f}\"\n",
        "    )\n",
        "\n",
        "\n",
        "# Calculate logit differences for each prompt\n",
        "logit_diffs = (\n",
        "    logits_to_avg_logit_diff(original_logits, answer_tokens, per_prompt=True)\n",
        "    .detach()\n",
        "    .cpu()\n",
        "    .numpy()\n",
        ")\n",
        "# Generate a scatter plot of the logit differences with labels for each point\n",
        "plt.figure(figsize=(10, 6))\n",
        "for i, (logit_diff, answer) in enumerate(zip(logit_diffs, answers)):\n",
        "    _ = plt.scatter(i, logit_diff, color=\"blue\", alpha=0.5)\n",
        "    _ = plt.text(i, logit_diff, f\"{answer.correct}\", fontsize=9, ha=\"right\")\n",
        "\n",
        "# Calculate the average logit difference for the title\n",
        "average_logit_diff = np.mean(logit_diffs)\n",
        "plt.title(\n",
        "    f\"Scatter Plot of Logit Differences for {MODEL_NAME} - Average Difference: {average_logit_diff:.2f}\"\n",
        ")\n",
        "plt.xlabel(\"Prompt Index\")\n",
        "plt.ylabel(\"Logit Difference\")\n",
        "plt.grid(True)\n",
        "plt.show()"
      ]
    },
    {
      "cell_type": "code",
      "execution_count": 14,
      "metadata": {},
      "outputs": [
        {
          "name": "stdout",
          "output_type": "stream",
          "text": [
            "Tokenized prompt: ['<|endoftext|>', '\\n', '\\n', 'Instead', ' of', ' turning', ' left', ',', ' the', ' character', ' turned']\n",
            "Tokenized answer: [' right']\n"
          ]
        },
        {
          "data": {
            "text/html": [
              "<pre style=\"white-space:pre;overflow-x:auto;line-height:normal;font-family:Menlo,'DejaVu Sans Mono',consolas,'Courier New',monospace\">Performance on answer token:\n",
              "<span style=\"font-weight: bold\">Rank: </span><span style=\"color: #008080; text-decoration-color: #008080; font-weight: bold\">0</span><span style=\"font-weight: bold\">        Logit: </span><span style=\"color: #008080; text-decoration-color: #008080; font-weight: bold\">17.93</span><span style=\"font-weight: bold\"> Prob: </span><span style=\"color: #008080; text-decoration-color: #008080; font-weight: bold\">61.74</span><span style=\"font-weight: bold\">% Token: | right|</span>\n",
              "</pre>\n"
            ],
            "text/plain": [
              "Performance on answer token:\n",
              "\u001b[1mRank: \u001b[0m\u001b[1;36m0\u001b[0m\u001b[1m        Logit: \u001b[0m\u001b[1;36m17.93\u001b[0m\u001b[1m Prob: \u001b[0m\u001b[1;36m61.74\u001b[0m\u001b[1m% Token: | right|\u001b[0m\n"
            ]
          },
          "metadata": {},
          "output_type": "display_data"
        },
        {
          "name": "stdout",
          "output_type": "stream",
          "text": [
            "Top 0th token. Logit: 17.93 Prob: 61.74% Token: | right|\n",
            "Top 1th token. Logit: 15.94 Prob:  8.49% Token: | left|\n",
            "Top 2th token. Logit: 15.62 Prob:  6.13% Token: | to|\n",
            "Top 3th token. Logit: 14.81 Prob:  2.73% Token: | into|\n",
            "Top 4th token. Logit: 14.54 Prob:  2.08% Token: | the|\n",
            "Top 5th token. Logit: 14.40 Prob:  1.82% Token: | down|\n",
            "Top 6th token. Logit: 14.18 Prob:  1.46% Token: | around|\n",
            "Top 7th token. Logit: 14.11 Prob:  1.36% Token: | up|\n",
            "Top 8th token. Logit: 13.81 Prob:  1.00% Token: | back|\n",
            "Top 9th token. Logit: 13.64 Prob:  0.85% Token: | straight|\n"
          ]
        },
        {
          "data": {
            "text/html": [
              "<pre style=\"white-space:pre;overflow-x:auto;line-height:normal;font-family:Menlo,'DejaVu Sans Mono',consolas,'Courier New',monospace\"><span style=\"font-weight: bold\">Ranks of the answer tokens:</span> <span style=\"font-weight: bold\">[(</span><span style=\"color: #008000; text-decoration-color: #008000\">' right'</span>, <span style=\"color: #008080; text-decoration-color: #008080; font-weight: bold\">0</span><span style=\"font-weight: bold\">)]</span>\n",
              "</pre>\n"
            ],
            "text/plain": [
              "\u001b[1mRanks of the answer tokens:\u001b[0m \u001b[1m[\u001b[0m\u001b[1m(\u001b[0m\u001b[32m' right'\u001b[0m, \u001b[1;36m0\u001b[0m\u001b[1m)\u001b[0m\u001b[1m]\u001b[0m\n"
            ]
          },
          "metadata": {},
          "output_type": "display_data"
        },
        {
          "name": "stdout",
          "output_type": "stream",
          "text": [
            "TestPromptOutput(correct_rank=0, logit=17.929218292236328, prob=0.617433488368988, answer=' right', answer_str_token=' right')\n",
            "Tokenized prompt: ['<|endoftext|>', '\\n', 'The', ' bird', ' did', ' not', ' fly', ' up', ',', ' it', ' flew']\n",
            "Tokenized answer: [' down']\n"
          ]
        },
        {
          "data": {
            "text/html": [
              "<pre style=\"white-space:pre;overflow-x:auto;line-height:normal;font-family:Menlo,'DejaVu Sans Mono',consolas,'Courier New',monospace\">Performance on answer token:\n",
              "<span style=\"font-weight: bold\">Rank: </span><span style=\"color: #008080; text-decoration-color: #008080; font-weight: bold\">0</span><span style=\"font-weight: bold\">        Logit: </span><span style=\"color: #008080; text-decoration-color: #008080; font-weight: bold\">17.72</span><span style=\"font-weight: bold\"> Prob: </span><span style=\"color: #008080; text-decoration-color: #008080; font-weight: bold\">43.88</span><span style=\"font-weight: bold\">% Token: | down|</span>\n",
              "</pre>\n"
            ],
            "text/plain": [
              "Performance on answer token:\n",
              "\u001b[1mRank: \u001b[0m\u001b[1;36m0\u001b[0m\u001b[1m        Logit: \u001b[0m\u001b[1;36m17.72\u001b[0m\u001b[1m Prob: \u001b[0m\u001b[1;36m43.88\u001b[0m\u001b[1m% Token: | down|\u001b[0m\n"
            ]
          },
          "metadata": {},
          "output_type": "display_data"
        },
        {
          "name": "stdout",
          "output_type": "stream",
          "text": [
            "Top 0th token. Logit: 17.72 Prob: 43.88% Token: | down|\n",
            "Top 1th token. Logit: 16.15 Prob:  9.09% Token: | up|\n",
            "Top 2th token. Logit: 15.50 Prob:  4.75% Token: | straight|\n",
            "Top 3th token. Logit: 15.16 Prob:  3.38% Token: | into|\n",
            "Top 4th token. Logit: 14.99 Prob:  2.86% Token: | back|\n",
            "Top 5th token. Logit: 14.97 Prob:  2.80% Token: | away|\n",
            "Top 6th token. Logit: 14.82 Prob:  2.41% Token: | in|\n",
            "Top 7th token. Logit: 14.74 Prob:  2.21% Token: | to|\n",
            "Top 8th token. Logit: 14.63 Prob:  2.00% Token: | out|\n",
            "Top 9th token. Logit: 14.41 Prob:  1.60% Token: | right|\n"
          ]
        },
        {
          "data": {
            "text/html": [
              "<pre style=\"white-space:pre;overflow-x:auto;line-height:normal;font-family:Menlo,'DejaVu Sans Mono',consolas,'Courier New',monospace\"><span style=\"font-weight: bold\">Ranks of the answer tokens:</span> <span style=\"font-weight: bold\">[(</span><span style=\"color: #008000; text-decoration-color: #008000\">' down'</span>, <span style=\"color: #008080; text-decoration-color: #008080; font-weight: bold\">0</span><span style=\"font-weight: bold\">)]</span>\n",
              "</pre>\n"
            ],
            "text/plain": [
              "\u001b[1mRanks of the answer tokens:\u001b[0m \u001b[1m[\u001b[0m\u001b[1m(\u001b[0m\u001b[32m' down'\u001b[0m, \u001b[1;36m0\u001b[0m\u001b[1m)\u001b[0m\u001b[1m]\u001b[0m\n"
            ]
          },
          "metadata": {},
          "output_type": "display_data"
        },
        {
          "name": "stdout",
          "output_type": "stream",
          "text": [
            "TestPromptOutput(correct_rank=0, logit=17.72306251525879, prob=0.4388437867164612, answer=' down', answer_str_token=' down')\n",
            "Tokenized prompt: ['<|endoftext|>', '\\n', '\\n', 'The', ' data', ' is', ' not', ' discrete', ',', ' it', ' is']\n",
            "Tokenized answer: [' continuous']\n"
          ]
        },
        {
          "data": {
            "text/html": [
              "<pre style=\"white-space:pre;overflow-x:auto;line-height:normal;font-family:Menlo,'DejaVu Sans Mono',consolas,'Courier New',monospace\">Performance on answer token:\n",
              "<span style=\"font-weight: bold\">Rank: </span><span style=\"color: #008080; text-decoration-color: #008080; font-weight: bold\">0</span><span style=\"font-weight: bold\">        Logit: </span><span style=\"color: #008080; text-decoration-color: #008080; font-weight: bold\">15.44</span><span style=\"font-weight: bold\"> Prob: </span><span style=\"color: #008080; text-decoration-color: #008080; font-weight: bold\">33.67</span><span style=\"font-weight: bold\">% Token: | continuous|</span>\n",
              "</pre>\n"
            ],
            "text/plain": [
              "Performance on answer token:\n",
              "\u001b[1mRank: \u001b[0m\u001b[1;36m0\u001b[0m\u001b[1m        Logit: \u001b[0m\u001b[1;36m15.44\u001b[0m\u001b[1m Prob: \u001b[0m\u001b[1;36m33.67\u001b[0m\u001b[1m% Token: | continuous|\u001b[0m\n"
            ]
          },
          "metadata": {},
          "output_type": "display_data"
        },
        {
          "name": "stdout",
          "output_type": "stream",
          "text": [
            "Top 0th token. Logit: 15.44 Prob: 33.67% Token: | continuous|\n",
            "Top 1th token. Logit: 14.43 Prob: 12.30% Token: | a|\n",
            "Top 2th token. Logit: 13.59 Prob:  5.31% Token: | not|\n",
            "Top 3th token. Logit: 12.61 Prob:  1.99% Token: | an|\n",
            "Top 4th token. Logit: 12.44 Prob:  1.68% Token: | in|\n",
            "Top 5th token. Logit: 12.08 Prob:  1.18% Token: | the|\n",
            "Top 6th token. Logit: 11.96 Prob:  1.04% Token: | distributed|\n",
            "Top 7th token. Logit: 11.90 Prob:  0.98% Token: | continuously|\n",
            "Top 8th token. Logit: 11.84 Prob:  0.92% Token: | discrete|\n",
            "Top 9th token. Logit: 11.65 Prob:  0.76% Token: | spread|\n"
          ]
        },
        {
          "data": {
            "text/html": [
              "<pre style=\"white-space:pre;overflow-x:auto;line-height:normal;font-family:Menlo,'DejaVu Sans Mono',consolas,'Courier New',monospace\"><span style=\"font-weight: bold\">Ranks of the answer tokens:</span> <span style=\"font-weight: bold\">[(</span><span style=\"color: #008000; text-decoration-color: #008000\">' continuous'</span>, <span style=\"color: #008080; text-decoration-color: #008080; font-weight: bold\">0</span><span style=\"font-weight: bold\">)]</span>\n",
              "</pre>\n"
            ],
            "text/plain": [
              "\u001b[1mRanks of the answer tokens:\u001b[0m \u001b[1m[\u001b[0m\u001b[1m(\u001b[0m\u001b[32m' continuous'\u001b[0m, \u001b[1;36m0\u001b[0m\u001b[1m)\u001b[0m\u001b[1m]\u001b[0m\n"
            ]
          },
          "metadata": {},
          "output_type": "display_data"
        },
        {
          "name": "stdout",
          "output_type": "stream",
          "text": [
            "TestPromptOutput(correct_rank=0, logit=15.43745231628418, prob=0.33673566579818726, answer=' continuous', answer_str_token=' continuous')\n",
            "Tokenized prompt: ['<|endoftext|>', 'She', ' did', ' not', ' walk', ' towards', ' the', ' right', ',', ' she', ' moved', ' to', ' the']\n",
            "Tokenized answer: [' left']\n"
          ]
        },
        {
          "data": {
            "text/html": [
              "<pre style=\"white-space:pre;overflow-x:auto;line-height:normal;font-family:Menlo,'DejaVu Sans Mono',consolas,'Courier New',monospace\">Performance on answer token:\n",
              "<span style=\"font-weight: bold\">Rank: </span><span style=\"color: #008080; text-decoration-color: #008080; font-weight: bold\">0</span><span style=\"font-weight: bold\">        Logit: </span><span style=\"color: #008080; text-decoration-color: #008080; font-weight: bold\">17.57</span><span style=\"font-weight: bold\"> Prob: </span><span style=\"color: #008080; text-decoration-color: #008080; font-weight: bold\">79.57</span><span style=\"font-weight: bold\">% Token: | left|</span>\n",
              "</pre>\n"
            ],
            "text/plain": [
              "Performance on answer token:\n",
              "\u001b[1mRank: \u001b[0m\u001b[1;36m0\u001b[0m\u001b[1m        Logit: \u001b[0m\u001b[1;36m17.57\u001b[0m\u001b[1m Prob: \u001b[0m\u001b[1;36m79.57\u001b[0m\u001b[1m% Token: | left|\u001b[0m\n"
            ]
          },
          "metadata": {},
          "output_type": "display_data"
        },
        {
          "name": "stdout",
          "output_type": "stream",
          "text": [
            "Top 0th token. Logit: 17.57 Prob: 79.57% Token: | left|\n",
            "Top 1th token. Logit: 15.53 Prob: 10.40% Token: | right|\n",
            "Top 2th token. Logit: 13.60 Prob:  1.50% Token: | middle|\n",
            "Top 3th token. Logit: 12.99 Prob:  0.81% Token: | centre|\n",
            "Top 4th token. Logit: 12.91 Prob:  0.76% Token: | side|\n",
            "Top 5th token. Logit: 12.62 Prob:  0.56% Token: | center|\n",
            "Top 6th token. Logit: 12.26 Prob:  0.40% Token: | other|\n",
            "Top 7th token. Logit: 12.18 Prob:  0.36% Token: | far|\n",
            "Top 8th token. Logit: 12.03 Prob:  0.31% Token: | front|\n",
            "Top 9th token. Logit: 11.75 Prob:  0.24% Token: | very|\n"
          ]
        },
        {
          "data": {
            "text/html": [
              "<pre style=\"white-space:pre;overflow-x:auto;line-height:normal;font-family:Menlo,'DejaVu Sans Mono',consolas,'Courier New',monospace\"><span style=\"font-weight: bold\">Ranks of the answer tokens:</span> <span style=\"font-weight: bold\">[(</span><span style=\"color: #008000; text-decoration-color: #008000\">' left'</span>, <span style=\"color: #008080; text-decoration-color: #008080; font-weight: bold\">0</span><span style=\"font-weight: bold\">)]</span>\n",
              "</pre>\n"
            ],
            "text/plain": [
              "\u001b[1mRanks of the answer tokens:\u001b[0m \u001b[1m[\u001b[0m\u001b[1m(\u001b[0m\u001b[32m' left'\u001b[0m, \u001b[1;36m0\u001b[0m\u001b[1m)\u001b[0m\u001b[1m]\u001b[0m\n"
            ]
          },
          "metadata": {},
          "output_type": "display_data"
        },
        {
          "name": "stdout",
          "output_type": "stream",
          "text": [
            "TestPromptOutput(correct_rank=0, logit=17.568321228027344, prob=0.7956908345222473, answer=' left', answer_str_token=' left')\n",
            "Tokenized prompt: ['<|endoftext|>', 'He', ' did', ' not', ' walk', ' towards', ' the', ' left', ',', ' he', ' moved', ' to', ' the']\n",
            "Tokenized answer: [' right']\n"
          ]
        },
        {
          "data": {
            "text/html": [
              "<pre style=\"white-space:pre;overflow-x:auto;line-height:normal;font-family:Menlo,'DejaVu Sans Mono',consolas,'Courier New',monospace\">Performance on answer token:\n",
              "<span style=\"font-weight: bold\">Rank: </span><span style=\"color: #008080; text-decoration-color: #008080; font-weight: bold\">0</span><span style=\"font-weight: bold\">        Logit: </span><span style=\"color: #008080; text-decoration-color: #008080; font-weight: bold\">17.00</span><span style=\"font-weight: bold\"> Prob: </span><span style=\"color: #008080; text-decoration-color: #008080; font-weight: bold\">72.94</span><span style=\"font-weight: bold\">% Token: | right|</span>\n",
              "</pre>\n"
            ],
            "text/plain": [
              "Performance on answer token:\n",
              "\u001b[1mRank: \u001b[0m\u001b[1;36m0\u001b[0m\u001b[1m        Logit: \u001b[0m\u001b[1;36m17.00\u001b[0m\u001b[1m Prob: \u001b[0m\u001b[1;36m72.94\u001b[0m\u001b[1m% Token: | right|\u001b[0m\n"
            ]
          },
          "metadata": {},
          "output_type": "display_data"
        },
        {
          "name": "stdout",
          "output_type": "stream",
          "text": [
            "Top 0th token. Logit: 17.00 Prob: 72.94% Token: | right|\n",
            "Top 1th token. Logit: 14.83 Prob:  8.33% Token: | left|\n",
            "Top 2th token. Logit: 13.83 Prob:  3.09% Token: | centre|\n",
            "Top 3th token. Logit: 13.71 Prob:  2.73% Token: | middle|\n",
            "Top 4th token. Logit: 13.13 Prob:  1.53% Token: | center|\n",
            "Top 5th token. Logit: 12.88 Prob:  1.19% Token: | other|\n",
            "Top 6th token. Logit: 12.75 Prob:  1.05% Token: | far|\n",
            "Top 7th token. Logit: 12.05 Prob:  0.52% Token: | extreme|\n",
            "Top 8th token. Logit: 12.05 Prob:  0.52% Token: | side|\n",
            "Top 9th token. Logit: 11.91 Prob:  0.45% Token: | very|\n"
          ]
        },
        {
          "data": {
            "text/html": [
              "<pre style=\"white-space:pre;overflow-x:auto;line-height:normal;font-family:Menlo,'DejaVu Sans Mono',consolas,'Courier New',monospace\"><span style=\"font-weight: bold\">Ranks of the answer tokens:</span> <span style=\"font-weight: bold\">[(</span><span style=\"color: #008000; text-decoration-color: #008000\">' right'</span>, <span style=\"color: #008080; text-decoration-color: #008080; font-weight: bold\">0</span><span style=\"font-weight: bold\">)]</span>\n",
              "</pre>\n"
            ],
            "text/plain": [
              "\u001b[1mRanks of the answer tokens:\u001b[0m \u001b[1m[\u001b[0m\u001b[1m(\u001b[0m\u001b[32m' right'\u001b[0m, \u001b[1;36m0\u001b[0m\u001b[1m)\u001b[0m\u001b[1m]\u001b[0m\n"
            ]
          },
          "metadata": {},
          "output_type": "display_data"
        },
        {
          "name": "stdout",
          "output_type": "stream",
          "text": [
            "TestPromptOutput(correct_rank=0, logit=16.99580955505371, prob=0.7294237613677979, answer=' right', answer_str_token=' right')\n",
            "Tokenized prompt: ['<|endoftext|>', '\\n', '\\n', 'The', ' data', ' is', ' not', ' continuous', ',', ' it', ' is']\n",
            "Tokenized answer: [' discrete']\n"
          ]
        },
        {
          "data": {
            "text/html": [
              "<pre style=\"white-space:pre;overflow-x:auto;line-height:normal;font-family:Menlo,'DejaVu Sans Mono',consolas,'Courier New',monospace\">Performance on answer token:\n",
              "<span style=\"font-weight: bold\">Rank: </span><span style=\"color: #008080; text-decoration-color: #008080; font-weight: bold\">1</span><span style=\"font-weight: bold\">        Logit: </span><span style=\"color: #008080; text-decoration-color: #008080; font-weight: bold\">13.91</span><span style=\"font-weight: bold\"> Prob:  </span><span style=\"color: #008080; text-decoration-color: #008080; font-weight: bold\">8.18</span><span style=\"font-weight: bold\">% Token: | discrete|</span>\n",
              "</pre>\n"
            ],
            "text/plain": [
              "Performance on answer token:\n",
              "\u001b[1mRank: \u001b[0m\u001b[1;36m1\u001b[0m\u001b[1m        Logit: \u001b[0m\u001b[1;36m13.91\u001b[0m\u001b[1m Prob:  \u001b[0m\u001b[1;36m8.18\u001b[0m\u001b[1m% Token: | discrete|\u001b[0m\n"
            ]
          },
          "metadata": {},
          "output_type": "display_data"
        },
        {
          "name": "stdout",
          "output_type": "stream",
          "text": [
            "Top 0th token. Logit: 14.48 Prob: 14.50% Token: | a|\n",
            "Top 1th token. Logit: 13.91 Prob:  8.18% Token: | discrete|\n",
            "Top 2th token. Logit: 13.49 Prob:  5.37% Token: | not|\n",
            "Top 3th token. Logit: 12.56 Prob:  2.13% Token: | sampled|\n",
            "Top 4th token. Logit: 12.41 Prob:  1.82% Token: | only|\n",
            "Top 5th token. Logit: 12.39 Prob:  1.80% Token: | an|\n",
            "Top 6th token. Logit: 12.27 Prob:  1.59% Token: | in|\n",
            "Top 7th token. Logit: 12.16 Prob:  1.42% Token: | categ|\n",
            "Top 8th token. Logit: 12.06 Prob:  1.29% Token: | binary|\n",
            "Top 9th token. Logit: 12.03 Prob:  1.25% Token: | missing|\n"
          ]
        },
        {
          "data": {
            "text/html": [
              "<pre style=\"white-space:pre;overflow-x:auto;line-height:normal;font-family:Menlo,'DejaVu Sans Mono',consolas,'Courier New',monospace\"><span style=\"font-weight: bold\">Ranks of the answer tokens:</span> <span style=\"font-weight: bold\">[(</span><span style=\"color: #008000; text-decoration-color: #008000\">' discrete'</span>, <span style=\"color: #008080; text-decoration-color: #008080; font-weight: bold\">1</span><span style=\"font-weight: bold\">)]</span>\n",
              "</pre>\n"
            ],
            "text/plain": [
              "\u001b[1mRanks of the answer tokens:\u001b[0m \u001b[1m[\u001b[0m\u001b[1m(\u001b[0m\u001b[32m' discrete'\u001b[0m, \u001b[1;36m1\u001b[0m\u001b[1m)\u001b[0m\u001b[1m]\u001b[0m\n"
            ]
          },
          "metadata": {},
          "output_type": "display_data"
        },
        {
          "name": "stdout",
          "output_type": "stream",
          "text": [
            "TestPromptOutput(correct_rank=1, logit=13.908510208129883, prob=0.08183404058218002, answer=' discrete', answer_str_token=' discrete')\n",
            "Tokenized prompt: ['<|endoftext|>', '\\n', 'To', ' avoid', ' going', ' down', ',', ' the', ' clim', 'ber', ' went']\n",
            "Tokenized answer: [' up']\n"
          ]
        },
        {
          "data": {
            "text/html": [
              "<pre style=\"white-space:pre;overflow-x:auto;line-height:normal;font-family:Menlo,'DejaVu Sans Mono',consolas,'Courier New',monospace\">Performance on answer token:\n",
              "<span style=\"font-weight: bold\">Rank: </span><span style=\"color: #008080; text-decoration-color: #008080; font-weight: bold\">0</span><span style=\"font-weight: bold\">        Logit: </span><span style=\"color: #008080; text-decoration-color: #008080; font-weight: bold\">16.98</span><span style=\"font-weight: bold\"> Prob: </span><span style=\"color: #008080; text-decoration-color: #008080; font-weight: bold\">18.76</span><span style=\"font-weight: bold\">% Token: | up|</span>\n",
              "</pre>\n"
            ],
            "text/plain": [
              "Performance on answer token:\n",
              "\u001b[1mRank: \u001b[0m\u001b[1;36m0\u001b[0m\u001b[1m        Logit: \u001b[0m\u001b[1;36m16.98\u001b[0m\u001b[1m Prob: \u001b[0m\u001b[1;36m18.76\u001b[0m\u001b[1m% Token: | up|\u001b[0m\n"
            ]
          },
          "metadata": {},
          "output_type": "display_data"
        },
        {
          "name": "stdout",
          "output_type": "stream",
          "text": [
            "Top 0th token. Logit: 16.98 Prob: 18.76% Token: | up|\n",
            "Top 1th token. Logit: 16.78 Prob: 15.38% Token: | down|\n",
            "Top 2th token. Logit: 16.52 Prob: 11.91% Token: | to|\n",
            "Top 3th token. Logit: 16.15 Prob:  8.23% Token: | back|\n",
            "Top 4th token. Logit: 15.43 Prob:  3.97% Token: | around|\n",
            "Top 5th token. Logit: 15.35 Prob:  3.68% Token: | on|\n",
            "Top 6th token. Logit: 15.29 Prob:  3.49% Token: | over|\n",
            "Top 7th token. Logit: 15.11 Prob:  2.91% Token: | straight|\n",
            "Top 8th token. Logit: 14.84 Prob:  2.22% Token: | into|\n",
            "Top 9th token. Logit: 14.56 Prob:  1.67% Token: | through|\n"
          ]
        },
        {
          "data": {
            "text/html": [
              "<pre style=\"white-space:pre;overflow-x:auto;line-height:normal;font-family:Menlo,'DejaVu Sans Mono',consolas,'Courier New',monospace\"><span style=\"font-weight: bold\">Ranks of the answer tokens:</span> <span style=\"font-weight: bold\">[(</span><span style=\"color: #008000; text-decoration-color: #008000\">' up'</span>, <span style=\"color: #008080; text-decoration-color: #008080; font-weight: bold\">0</span><span style=\"font-weight: bold\">)]</span>\n",
              "</pre>\n"
            ],
            "text/plain": [
              "\u001b[1mRanks of the answer tokens:\u001b[0m \u001b[1m[\u001b[0m\u001b[1m(\u001b[0m\u001b[32m' up'\u001b[0m, \u001b[1;36m0\u001b[0m\u001b[1m)\u001b[0m\u001b[1m]\u001b[0m\n"
            ]
          },
          "metadata": {},
          "output_type": "display_data"
        },
        {
          "name": "stdout",
          "output_type": "stream",
          "text": [
            "TestPromptOutput(correct_rank=0, logit=16.977611541748047, prob=0.18761871755123138, answer=' up', answer_str_token=' up')\n",
            "Tokenized prompt: ['<|endoftext|>', '\\n', 'To', ' avoid', ' going', ' up', ',', ' the', ' clim', 'ber', ' went']\n",
            "Tokenized answer: [' down']\n"
          ]
        },
        {
          "data": {
            "text/html": [
              "<pre style=\"white-space:pre;overflow-x:auto;line-height:normal;font-family:Menlo,'DejaVu Sans Mono',consolas,'Courier New',monospace\">Performance on answer token:\n",
              "<span style=\"font-weight: bold\">Rank: </span><span style=\"color: #008080; text-decoration-color: #008080; font-weight: bold\">0</span><span style=\"font-weight: bold\">        Logit: </span><span style=\"color: #008080; text-decoration-color: #008080; font-weight: bold\">18.28</span><span style=\"font-weight: bold\"> Prob: </span><span style=\"color: #008080; text-decoration-color: #008080; font-weight: bold\">48.11</span><span style=\"font-weight: bold\">% Token: | down|</span>\n",
              "</pre>\n"
            ],
            "text/plain": [
              "Performance on answer token:\n",
              "\u001b[1mRank: \u001b[0m\u001b[1;36m0\u001b[0m\u001b[1m        Logit: \u001b[0m\u001b[1;36m18.28\u001b[0m\u001b[1m Prob: \u001b[0m\u001b[1;36m48.11\u001b[0m\u001b[1m% Token: | down|\u001b[0m\n"
            ]
          },
          "metadata": {},
          "output_type": "display_data"
        },
        {
          "name": "stdout",
          "output_type": "stream",
          "text": [
            "Top 0th token. Logit: 18.28 Prob: 48.11% Token: | down|\n",
            "Top 1th token. Logit: 16.60 Prob:  8.97% Token: | back|\n",
            "Top 2th token. Logit: 16.22 Prob:  6.12% Token: | to|\n",
            "Top 3th token. Logit: 15.91 Prob:  4.51% Token: | up|\n",
            "Top 4th token. Logit: 15.85 Prob:  4.23% Token: | around|\n",
            "Top 5th token. Logit: 15.29 Prob:  2.42% Token: | left|\n",
            "Top 6th token. Logit: 15.19 Prob:  2.18% Token: | over|\n",
            "Top 7th token. Logit: 15.06 Prob:  1.92% Token: | straight|\n",
            "Top 8th token. Logit: 14.96 Prob:  1.73% Token: | right|\n",
            "Top 9th token. Logit: 14.58 Prob:  1.19% Token: | on|\n"
          ]
        },
        {
          "data": {
            "text/html": [
              "<pre style=\"white-space:pre;overflow-x:auto;line-height:normal;font-family:Menlo,'DejaVu Sans Mono',consolas,'Courier New',monospace\"><span style=\"font-weight: bold\">Ranks of the answer tokens:</span> <span style=\"font-weight: bold\">[(</span><span style=\"color: #008000; text-decoration-color: #008000\">' down'</span>, <span style=\"color: #008080; text-decoration-color: #008080; font-weight: bold\">0</span><span style=\"font-weight: bold\">)]</span>\n",
              "</pre>\n"
            ],
            "text/plain": [
              "\u001b[1mRanks of the answer tokens:\u001b[0m \u001b[1m[\u001b[0m\u001b[1m(\u001b[0m\u001b[32m' down'\u001b[0m, \u001b[1;36m0\u001b[0m\u001b[1m)\u001b[0m\u001b[1m]\u001b[0m\n"
            ]
          },
          "metadata": {},
          "output_type": "display_data"
        },
        {
          "name": "stdout",
          "output_type": "stream",
          "text": [
            "TestPromptOutput(correct_rank=0, logit=18.280973434448242, prob=0.4810919463634491, answer=' down', answer_str_token=' down')\n",
            "Tokenized prompt: ['<|endoftext|>', 'The', ' vehicle', ' couldn', \"'t\", ' turn', ' left', ',', ' so', ' it', ' turned']\n",
            "Tokenized answer: [' right']\n"
          ]
        },
        {
          "data": {
            "text/html": [
              "<pre style=\"white-space:pre;overflow-x:auto;line-height:normal;font-family:Menlo,'DejaVu Sans Mono',consolas,'Courier New',monospace\">Performance on answer token:\n",
              "<span style=\"font-weight: bold\">Rank: </span><span style=\"color: #008080; text-decoration-color: #008080; font-weight: bold\">0</span><span style=\"font-weight: bold\">        Logit: </span><span style=\"color: #008080; text-decoration-color: #008080; font-weight: bold\">18.46</span><span style=\"font-weight: bold\"> Prob: </span><span style=\"color: #008080; text-decoration-color: #008080; font-weight: bold\">63.76</span><span style=\"font-weight: bold\">% Token: | right|</span>\n",
              "</pre>\n"
            ],
            "text/plain": [
              "Performance on answer token:\n",
              "\u001b[1mRank: \u001b[0m\u001b[1;36m0\u001b[0m\u001b[1m        Logit: \u001b[0m\u001b[1;36m18.46\u001b[0m\u001b[1m Prob: \u001b[0m\u001b[1;36m63.76\u001b[0m\u001b[1m% Token: | right|\u001b[0m\n"
            ]
          },
          "metadata": {},
          "output_type": "display_data"
        },
        {
          "name": "stdout",
          "output_type": "stream",
          "text": [
            "Top 0th token. Logit: 18.46 Prob: 63.76% Token: | right|\n",
            "Top 1th token. Logit: 15.99 Prob:  5.38% Token: | into|\n",
            "Top 2th token. Logit: 15.66 Prob:  3.88% Token: | to|\n",
            "Top 3th token. Logit: 15.40 Prob:  2.99% Token: | around|\n",
            "Top 4th token. Logit: 15.00 Prob:  2.00% Token: | left|\n",
            "Top 5th token. Logit: 14.96 Prob:  1.93% Token: | straight|\n",
            "Top 6th token. Logit: 14.87 Prob:  1.75% Token: | back|\n",
            "Top 7th token. Logit: 14.75 Prob:  1.55% Token: | in|\n",
            "Top 8th token. Logit: 14.52 Prob:  1.23% Token: | out|\n",
            "Top 9th token. Logit: 14.20 Prob:  0.90% Token: | on|\n"
          ]
        },
        {
          "data": {
            "text/html": [
              "<pre style=\"white-space:pre;overflow-x:auto;line-height:normal;font-family:Menlo,'DejaVu Sans Mono',consolas,'Courier New',monospace\"><span style=\"font-weight: bold\">Ranks of the answer tokens:</span> <span style=\"font-weight: bold\">[(</span><span style=\"color: #008000; text-decoration-color: #008000\">' right'</span>, <span style=\"color: #008080; text-decoration-color: #008080; font-weight: bold\">0</span><span style=\"font-weight: bold\">)]</span>\n",
              "</pre>\n"
            ],
            "text/plain": [
              "\u001b[1mRanks of the answer tokens:\u001b[0m \u001b[1m[\u001b[0m\u001b[1m(\u001b[0m\u001b[32m' right'\u001b[0m, \u001b[1;36m0\u001b[0m\u001b[1m)\u001b[0m\u001b[1m]\u001b[0m\n"
            ]
          },
          "metadata": {},
          "output_type": "display_data"
        },
        {
          "name": "stdout",
          "output_type": "stream",
          "text": [
            "TestPromptOutput(correct_rank=0, logit=18.463138580322266, prob=0.6376103758811951, answer=' right', answer_str_token=' right')\n",
            "Tokenized prompt: ['<|endoftext|>', 'The', ' vehicle', ' couldn', \"'t\", ' turn', ' right', ',', ' so', ' it', ' turned']\n",
            "Tokenized answer: [' left']\n"
          ]
        },
        {
          "data": {
            "text/html": [
              "<pre style=\"white-space:pre;overflow-x:auto;line-height:normal;font-family:Menlo,'DejaVu Sans Mono',consolas,'Courier New',monospace\">Performance on answer token:\n",
              "<span style=\"font-weight: bold\">Rank: </span><span style=\"color: #008080; text-decoration-color: #008080; font-weight: bold\">0</span><span style=\"font-weight: bold\">        Logit: </span><span style=\"color: #008080; text-decoration-color: #008080; font-weight: bold\">18.55</span><span style=\"font-weight: bold\"> Prob: </span><span style=\"color: #008080; text-decoration-color: #008080; font-weight: bold\">61.63</span><span style=\"font-weight: bold\">% Token: | left|</span>\n",
              "</pre>\n"
            ],
            "text/plain": [
              "Performance on answer token:\n",
              "\u001b[1mRank: \u001b[0m\u001b[1;36m0\u001b[0m\u001b[1m        Logit: \u001b[0m\u001b[1;36m18.55\u001b[0m\u001b[1m Prob: \u001b[0m\u001b[1;36m61.63\u001b[0m\u001b[1m% Token: | left|\u001b[0m\n"
            ]
          },
          "metadata": {},
          "output_type": "display_data"
        },
        {
          "name": "stdout",
          "output_type": "stream",
          "text": [
            "Top 0th token. Logit: 18.55 Prob: 61.63% Token: | left|\n",
            "Top 1th token. Logit: 16.02 Prob:  4.88% Token: | right|\n",
            "Top 2th token. Logit: 15.88 Prob:  4.27% Token: | into|\n",
            "Top 3th token. Logit: 15.57 Prob:  3.11% Token: | to|\n",
            "Top 4th token. Logit: 15.51 Prob:  2.92% Token: | around|\n",
            "Top 5th token. Logit: 15.02 Prob:  1.80% Token: | in|\n",
            "Top 6th token. Logit: 14.99 Prob:  1.74% Token: | out|\n",
            "Top 7th token. Logit: 14.90 Prob:  1.60% Token: | back|\n",
            "Top 8th token. Logit: 14.55 Prob:  1.12% Token: | on|\n",
            "Top 9th token. Logit: 14.45 Prob:  1.02% Token: | straight|\n"
          ]
        },
        {
          "data": {
            "text/html": [
              "<pre style=\"white-space:pre;overflow-x:auto;line-height:normal;font-family:Menlo,'DejaVu Sans Mono',consolas,'Courier New',monospace\"><span style=\"font-weight: bold\">Ranks of the answer tokens:</span> <span style=\"font-weight: bold\">[(</span><span style=\"color: #008000; text-decoration-color: #008000\">' left'</span>, <span style=\"color: #008080; text-decoration-color: #008080; font-weight: bold\">0</span><span style=\"font-weight: bold\">)]</span>\n",
              "</pre>\n"
            ],
            "text/plain": [
              "\u001b[1mRanks of the answer tokens:\u001b[0m \u001b[1m[\u001b[0m\u001b[1m(\u001b[0m\u001b[32m' left'\u001b[0m, \u001b[1;36m0\u001b[0m\u001b[1m)\u001b[0m\u001b[1m]\u001b[0m\n"
            ]
          },
          "metadata": {},
          "output_type": "display_data"
        },
        {
          "name": "stdout",
          "output_type": "stream",
          "text": [
            "TestPromptOutput(correct_rank=0, logit=18.55448341369629, prob=0.6162826418876648, answer=' left', answer_str_token=' left')\n",
            "Tokenized prompt: ['<|endoftext|>', 'he', ' feels', ' hot', ',', ' but', ' i', ' feel']\n",
            "Tokenized answer: [' cold']\n"
          ]
        },
        {
          "data": {
            "text/html": [
              "<pre style=\"white-space:pre;overflow-x:auto;line-height:normal;font-family:Menlo,'DejaVu Sans Mono',consolas,'Courier New',monospace\">Performance on answer token:\n",
              "<span style=\"font-weight: bold\">Rank: </span><span style=\"color: #008080; text-decoration-color: #008080; font-weight: bold\">0</span><span style=\"font-weight: bold\">        Logit: </span><span style=\"color: #008080; text-decoration-color: #008080; font-weight: bold\">15.55</span><span style=\"font-weight: bold\"> Prob: </span><span style=\"color: #008080; text-decoration-color: #008080; font-weight: bold\">21.66</span><span style=\"font-weight: bold\">% Token: | cold|</span>\n",
              "</pre>\n"
            ],
            "text/plain": [
              "Performance on answer token:\n",
              "\u001b[1mRank: \u001b[0m\u001b[1;36m0\u001b[0m\u001b[1m        Logit: \u001b[0m\u001b[1;36m15.55\u001b[0m\u001b[1m Prob: \u001b[0m\u001b[1;36m21.66\u001b[0m\u001b[1m% Token: | cold|\u001b[0m\n"
            ]
          },
          "metadata": {},
          "output_type": "display_data"
        },
        {
          "name": "stdout",
          "output_type": "stream",
          "text": [
            "Top 0th token. Logit: 15.55 Prob: 21.66% Token: | cold|\n",
            "Top 1th token. Logit: 14.98 Prob: 12.30% Token: | like|\n",
            "Top 2th token. Logit: 13.97 Prob:  4.44% Token: | cool|\n",
            "Top 3th token. Logit: 13.46 Prob:  2.69% Token: | a|\n",
            "Top 4th token. Logit: 13.44 Prob:  2.64% Token: | no|\n",
            "Top 5th token. Logit: 13.27 Prob:  2.21% Token: | good|\n",
            "Top 6th token. Logit: 13.22 Prob:  2.12% Token: | nothing|\n",
            "Top 7th token. Logit: 13.22 Prob:  2.10% Token: | hot|\n",
            "Top 8th token. Logit: 13.21 Prob:  2.08% Token: | fine|\n",
            "Top 9th token. Logit: 13.08 Prob:  1.83% Token: | so|\n"
          ]
        },
        {
          "data": {
            "text/html": [
              "<pre style=\"white-space:pre;overflow-x:auto;line-height:normal;font-family:Menlo,'DejaVu Sans Mono',consolas,'Courier New',monospace\"><span style=\"font-weight: bold\">Ranks of the answer tokens:</span> <span style=\"font-weight: bold\">[(</span><span style=\"color: #008000; text-decoration-color: #008000\">' cold'</span>, <span style=\"color: #008080; text-decoration-color: #008080; font-weight: bold\">0</span><span style=\"font-weight: bold\">)]</span>\n",
              "</pre>\n"
            ],
            "text/plain": [
              "\u001b[1mRanks of the answer tokens:\u001b[0m \u001b[1m[\u001b[0m\u001b[1m(\u001b[0m\u001b[32m' cold'\u001b[0m, \u001b[1;36m0\u001b[0m\u001b[1m)\u001b[0m\u001b[1m]\u001b[0m\n"
            ]
          },
          "metadata": {},
          "output_type": "display_data"
        },
        {
          "name": "stdout",
          "output_type": "stream",
          "text": [
            "TestPromptOutput(correct_rank=0, logit=15.549994468688965, prob=0.21660231053829193, answer=' cold', answer_str_token=' cold')\n",
            "Tokenized prompt: ['<|endoftext|>', '\\n', 'The', ' sun', ' did', ' not', ' rise', ' in', ' the', ' east', ',', ' it', ' rose', ' in', ' the']\n",
            "Tokenized answer: [' west']\n"
          ]
        },
        {
          "data": {
            "text/html": [
              "<pre style=\"white-space:pre;overflow-x:auto;line-height:normal;font-family:Menlo,'DejaVu Sans Mono',consolas,'Courier New',monospace\">Performance on answer token:\n",
              "<span style=\"font-weight: bold\">Rank: </span><span style=\"color: #008080; text-decoration-color: #008080; font-weight: bold\">0</span><span style=\"font-weight: bold\">        Logit: </span><span style=\"color: #008080; text-decoration-color: #008080; font-weight: bold\">17.19</span><span style=\"font-weight: bold\"> Prob: </span><span style=\"color: #008080; text-decoration-color: #008080; font-weight: bold\">82.47</span><span style=\"font-weight: bold\">% Token: | west|</span>\n",
              "</pre>\n"
            ],
            "text/plain": [
              "Performance on answer token:\n",
              "\u001b[1mRank: \u001b[0m\u001b[1;36m0\u001b[0m\u001b[1m        Logit: \u001b[0m\u001b[1;36m17.19\u001b[0m\u001b[1m Prob: \u001b[0m\u001b[1;36m82.47\u001b[0m\u001b[1m% Token: | west|\u001b[0m\n"
            ]
          },
          "metadata": {},
          "output_type": "display_data"
        },
        {
          "name": "stdout",
          "output_type": "stream",
          "text": [
            "Top 0th token. Logit: 17.19 Prob: 82.47% Token: | west|\n",
            "Top 1th token. Logit: 13.94 Prob:  3.19% Token: | West|\n",
            "Top 2th token. Logit: 13.62 Prob:  2.30% Token: | north|\n",
            "Top 3th token. Logit: 13.56 Prob:  2.17% Token: | south|\n",
            "Top 4th token. Logit: 13.06 Prob:  1.33% Token: | east|\n",
            "Top 5th token. Logit: 12.59 Prob:  0.82% Token: | sky|\n",
            "Top 6th token. Logit: 11.95 Prob:  0.43% Token: | middle|\n",
            "Top 7th token. Logit: 11.94 Prob:  0.43% Token: | western|\n",
            "Top 8th token. Logit: 11.77 Prob:  0.36% Token: |\n",
            "|\n",
            "Top 9th token. Logit: 11.07 Prob:  0.18% Token: | southwest|\n"
          ]
        },
        {
          "data": {
            "text/html": [
              "<pre style=\"white-space:pre;overflow-x:auto;line-height:normal;font-family:Menlo,'DejaVu Sans Mono',consolas,'Courier New',monospace\"><span style=\"font-weight: bold\">Ranks of the answer tokens:</span> <span style=\"font-weight: bold\">[(</span><span style=\"color: #008000; text-decoration-color: #008000\">' west'</span>, <span style=\"color: #008080; text-decoration-color: #008080; font-weight: bold\">0</span><span style=\"font-weight: bold\">)]</span>\n",
              "</pre>\n"
            ],
            "text/plain": [
              "\u001b[1mRanks of the answer tokens:\u001b[0m \u001b[1m[\u001b[0m\u001b[1m(\u001b[0m\u001b[32m' west'\u001b[0m, \u001b[1;36m0\u001b[0m\u001b[1m)\u001b[0m\u001b[1m]\u001b[0m\n"
            ]
          },
          "metadata": {},
          "output_type": "display_data"
        },
        {
          "name": "stdout",
          "output_type": "stream",
          "text": [
            "TestPromptOutput(correct_rank=0, logit=17.194602966308594, prob=0.8247151970863342, answer=' west', answer_str_token=' west')\n",
            "Tokenized prompt: ['<|endoftext|>', '\\n', '\\n', 'The', ' player', ' did', ' not', ' pass', ' the', ' ball', ' forward', ',', ' they', ' passed', ' it']\n",
            "Tokenized answer: [' backward']\n"
          ]
        },
        {
          "data": {
            "text/html": [
              "<pre style=\"white-space:pre;overflow-x:auto;line-height:normal;font-family:Menlo,'DejaVu Sans Mono',consolas,'Courier New',monospace\">Performance on answer token:\n",
              "<span style=\"font-weight: bold\">Rank: </span><span style=\"color: #008080; text-decoration-color: #008080; font-weight: bold\">1</span><span style=\"font-weight: bold\">        Logit: </span><span style=\"color: #008080; text-decoration-color: #008080; font-weight: bold\">16.42</span><span style=\"font-weight: bold\"> Prob: </span><span style=\"color: #008080; text-decoration-color: #008080; font-weight: bold\">11.43</span><span style=\"font-weight: bold\">% Token: | backward|</span>\n",
              "</pre>\n"
            ],
            "text/plain": [
              "Performance on answer token:\n",
              "\u001b[1mRank: \u001b[0m\u001b[1;36m1\u001b[0m\u001b[1m        Logit: \u001b[0m\u001b[1;36m16.42\u001b[0m\u001b[1m Prob: \u001b[0m\u001b[1;36m11.43\u001b[0m\u001b[1m% Token: | backward|\u001b[0m\n"
            ]
          },
          "metadata": {},
          "output_type": "display_data"
        },
        {
          "name": "stdout",
          "output_type": "stream",
          "text": [
            "Top 0th token. Logit: 17.42 Prob: 31.32% Token: | backwards|\n",
            "Top 1th token. Logit: 16.42 Prob: 11.43% Token: | backward|\n",
            "Top 2th token. Logit: 16.39 Prob: 11.17% Token: | back|\n",
            "Top 3th token. Logit: 16.38 Prob: 11.02% Token: | to|\n",
            "Top 4th token. Logit: 16.02 Prob:  7.65% Token: | sideways|\n",
            "Top 5th token. Logit: 14.80 Prob:  2.26% Token: | forward|\n",
            "Top 6th token. Logit: 14.26 Prob:  1.33% Token: | on|\n",
            "Top 7th token. Logit: 14.14 Prob:  1.17% Token: | in|\n",
            "Top 8th token. Logit: 14.00 Prob:  1.02% Token: | out|\n",
            "Top 9th token. Logit: 13.99 Prob:  1.01% Token: | around|\n"
          ]
        },
        {
          "data": {
            "text/html": [
              "<pre style=\"white-space:pre;overflow-x:auto;line-height:normal;font-family:Menlo,'DejaVu Sans Mono',consolas,'Courier New',monospace\"><span style=\"font-weight: bold\">Ranks of the answer tokens:</span> <span style=\"font-weight: bold\">[(</span><span style=\"color: #008000; text-decoration-color: #008000\">' backward'</span>, <span style=\"color: #008080; text-decoration-color: #008080; font-weight: bold\">1</span><span style=\"font-weight: bold\">)]</span>\n",
              "</pre>\n"
            ],
            "text/plain": [
              "\u001b[1mRanks of the answer tokens:\u001b[0m \u001b[1m[\u001b[0m\u001b[1m(\u001b[0m\u001b[32m' backward'\u001b[0m, \u001b[1;36m1\u001b[0m\u001b[1m)\u001b[0m\u001b[1m]\u001b[0m\n"
            ]
          },
          "metadata": {},
          "output_type": "display_data"
        },
        {
          "name": "stdout",
          "output_type": "stream",
          "text": [
            "TestPromptOutput(correct_rank=1, logit=16.416166305541992, prob=0.1142755001783371, answer=' backward', answer_str_token=' backward')\n",
            "Tokenized prompt: ['<|endoftext|>', '\\n', '\\n', 'The', ' door', ' didn', \"'t\", ' open', ' inward', ',', ' it', ' swung']\n",
            "Tokenized answer: [' outward']\n"
          ]
        },
        {
          "data": {
            "text/html": [
              "<pre style=\"white-space:pre;overflow-x:auto;line-height:normal;font-family:Menlo,'DejaVu Sans Mono',consolas,'Courier New',monospace\">Performance on answer token:\n",
              "<span style=\"font-weight: bold\">Rank: </span><span style=\"color: #008080; text-decoration-color: #008080; font-weight: bold\">1</span><span style=\"font-weight: bold\">        Logit: </span><span style=\"color: #008080; text-decoration-color: #008080; font-weight: bold\">17.75</span><span style=\"font-weight: bold\"> Prob: </span><span style=\"color: #008080; text-decoration-color: #008080; font-weight: bold\">11.58</span><span style=\"font-weight: bold\">% Token: | outward|</span>\n",
              "</pre>\n"
            ],
            "text/plain": [
              "Performance on answer token:\n",
              "\u001b[1mRank: \u001b[0m\u001b[1;36m1\u001b[0m\u001b[1m        Logit: \u001b[0m\u001b[1;36m17.75\u001b[0m\u001b[1m Prob: \u001b[0m\u001b[1;36m11.58\u001b[0m\u001b[1m% Token: | outward|\u001b[0m\n"
            ]
          },
          "metadata": {},
          "output_type": "display_data"
        },
        {
          "name": "stdout",
          "output_type": "stream",
          "text": [
            "Top 0th token. Logit: 18.97 Prob: 38.92% Token: | open|\n",
            "Top 1th token. Logit: 17.75 Prob: 11.58% Token: | outward|\n",
            "Top 2th token. Logit: 17.51 Prob:  9.06% Token: | out|\n",
            "Top 3th token. Logit: 17.40 Prob:  8.09% Token: | inward|\n",
            "Top 4th token. Logit: 17.17 Prob:  6.45% Token: | wide|\n",
            "Top 5th token. Logit: 16.93 Prob:  5.06% Token: | in|\n",
            "Top 6th token. Logit: 16.29 Prob:  2.69% Token: | back|\n",
            "Top 7th token. Logit: 15.58 Prob:  1.32% Token: | to|\n",
            "Top 8th token. Logit: 15.30 Prob:  0.99% Token: | shut|\n",
            "Top 9th token. Logit: 15.13 Prob:  0.84% Token: | on|\n"
          ]
        },
        {
          "data": {
            "text/html": [
              "<pre style=\"white-space:pre;overflow-x:auto;line-height:normal;font-family:Menlo,'DejaVu Sans Mono',consolas,'Courier New',monospace\"><span style=\"font-weight: bold\">Ranks of the answer tokens:</span> <span style=\"font-weight: bold\">[(</span><span style=\"color: #008000; text-decoration-color: #008000\">' outward'</span>, <span style=\"color: #008080; text-decoration-color: #008080; font-weight: bold\">1</span><span style=\"font-weight: bold\">)]</span>\n",
              "</pre>\n"
            ],
            "text/plain": [
              "\u001b[1mRanks of the answer tokens:\u001b[0m \u001b[1m[\u001b[0m\u001b[1m(\u001b[0m\u001b[32m' outward'\u001b[0m, \u001b[1;36m1\u001b[0m\u001b[1m)\u001b[0m\u001b[1m]\u001b[0m\n"
            ]
          },
          "metadata": {},
          "output_type": "display_data"
        },
        {
          "name": "stdout",
          "output_type": "stream",
          "text": [
            "TestPromptOutput(correct_rank=1, logit=17.754392623901367, prob=0.11583840847015381, answer=' outward', answer_str_token=' outward')\n"
          ]
        }
      ],
      "source": [
        "for prompt, answer in zip(prompts, answers):\n",
        "    print(utils.test_prompt(prompt, answer.correct, model, prepend_bos=True))"
      ]
    },
    {
      "cell_type": "markdown",
      "metadata": {
        "id": "1j_7pmgCUvUI"
      },
      "source": [
        "We see that the average logit difference is 2.3 - for context, this represents putting an $e^{2.3}\\approx 10\\times$ higher probability on the correct answer.\n",
        "\n"
      ]
    },
    {
      "cell_type": "markdown",
      "metadata": {
        "id": "XwOLZBb-UvUI"
      },
      "source": [
        "## Brainstorm What's Actually Going On (Optional)\n",
        "\n",
        "Before diving into running experiments, it's often useful to spend some time actually reasoning about how the behaviour in question could be implemented in the transformer. **This is optional, and you'll likely get the most out of engaging with this section if you have a decent understanding already of what a transformer is and how it works!**\n",
        "\n",
        "You don't have to do this and forming hypotheses after exploration is also reasonable, but I think it's often easier to explore and interpret results with some grounding in what you might find. In this particular case, I'm cheating somewhat, since I know the answer, but I'm trying to simulate the process of reasoning about it!\n",
        "\n",
        "Note that often your hypothesis will be wrong in some ways and often be completely off. We're doing science here, and the goal is to understand how the model *actually* works, and to form true beliefs! There are two separate traps here at two extremes that it's worth tracking:\n",
        "* Confusion: Having no hypotheses at all, getting a lot of data and not knowing what to do with it, and just floundering around\n",
        "* Dogmatism: Being overconfident in an incorrect hypothesis and being unwilling to let go of it when reality contradicts you, or flinching away from running the experiments that might disconfirm it.\n",
        "\n",
        "**Exercise:** Spend some time thinking through how you might imagine this behaviour being implemented in a transformer. Try to think through this for yourself before reading through my thoughts!\n",
        "\n",
        "<details> <summary>(*) <b>My reasoning</b></summary>\n",
        "\n",
        "<h3>Brainstorming:</h3>\n",
        "\n",
        "So, what's hard about the task? Let's focus on the concrete example of the first prompt, \"When John and Mary went to the shops, John gave the bag to\" -> \" Mary\".  \n",
        "\n",
        "A good starting point is thinking though whether a tiny model could do this, eg a <a href=\"https://transformer-circuits.pub/2021/framework/index.html\">1L Attn-Only model</a>. I'm pretty sure the answer is no! Attention is really good at the primitive operations of looking nearby, or copying information. I can believe a tiny model could figure out that at `to` it should look for names and predict that those names came next (eg the skip trigram \" John...to -> John\"). But it's much harder to tell how <i>many</i> of each previous name there are - attending 0.3 to each copy of John will look exactly the same as attending 0.6 to a single John token. So this will be pretty hard to figure out on the \" to\" token!\n",
        "\n",
        "The natural place to break this symmetry is on the second \" John\" token - telling whether there is an earlier copy of the <i>current</i> token should be a much easier task. So I might expect there to be a head which detects duplicate tokens on the second \" John\" token, and then another head which moves that information from the second \" John\" token to the \" to\" token.\n",
        "\n",
        "The model then needs to learn to predict \" Mary\" and <i>not</i> \" John\". I can see two natural ways to do this:\n",
        "1. Detect all preceding names and move this information to \" to\" and then delete the any name corresponding to the duplicate token feature. This feels easier done with a non-linearity, since precisely cancelling out vectors is hard, so I'd imagine an MLP layer deletes the \" John\" direction of the residual stream\n",
        "2. Have a head which attends to all previous names, but where the duplicate token features <i>inhibit</i> it from attending to specific names. So this only attends to Mary. And then the output of this head maps to the logits.  \n",
        "\n",
        "(Spoiler: It's the second one).\n",
        "\n",
        "<h3>Experiment Ideas</h3>\n",
        "\n",
        "A test that could distinguish these two is to look at which components of the model add directly to the logits - if it's mostly attention heads which attend to \" Mary\" and to neither \" John\" it's probably hypothesis 2, if it's mostly MLPs it's probably hypothesis 1.\n",
        "\n",
        "And we should be able to identify duplicate token heads by finding ones which attend from \" John\" to \" John\", and whose outputs are then moved to the \" to\" token by V-Composition with another head (Spoiler: It's more complicated than that!)\n",
        "\n",
        "Note that all of the above reasoning is very simplistic and could easily break in a real model! There'll be significant parts of the model that figure out whether to use this circuit at all (we don't want to inhibit duplicated names when, eg, figuring out what goes at the start of the <i>next</i> sentence), and may be parts towards the end of the model that do \"post-processing\" just before the final output. But it's a good starting point for thinking about what's going on."
      ]
    },
    {
      "cell_type": "markdown",
      "metadata": {},
      "source": [
        "# Brainstorm what's actually going on\n",
        "\n",
        "## Hypotheses\n",
        "\n",
        "- [x] words like 'instead, but..' should trigger somehow.\n",
        "\n",
        "\n",
        "## Experiments\n",
        "    - [x] Test 'instead' etc by deleting word and tracking perf\n",
        "\n",
        "## Tools/viz\n",
        "\n",
        "- Each layer's contribution to logit "
      ]
    },
    {
      "cell_type": "code",
      "execution_count": 15,
      "metadata": {},
      "outputs": [],
      "source": [
        "# test out prompts with 'clue words' like 'instead' deleted\n",
        "# hypothesis: replacing these words (with `...`) will wreck perf, idk how i'd do these without those words\n",
        "elided_prompts_and_answers: list[tuple[str, Answer]] = [\n",
        "    (\"\\n\\n... of turning left, the character turned\", Answer(\" right\", \" left\")),\n",
        "    (\"\\nThe bird did ... fly up, it flew\", Answer(\" down\", \" up\")),\n",
        "    (\"\\n\\nThe data is ... discrete, it is\", Answer(\" continuous\", \" discrete\")),\n",
        "    (\"She did ... walk towards the right, she moved to the\", Answer(\" left\", \" right\")),\n",
        "    (\"He did ... walk towards the left, he moved to the\", Answer(\" right\", \" left\")),\n",
        "    (\"\\n\\nThe data is ... continuous, it is\", Answer(\" discrete\", \" continuous\")),\n",
        "    (\"\\nTo ... going down, the climber went\", Answer(\" up\", \" down\")),\n",
        "    (\"\\nTo ... going up, the climber went\", Answer(\" down\", \" up\")),\n",
        "    (\"The vehicle ... turn left, so it turned\", Answer(\" right\", \" left\")),\n",
        "    (\"The vehicle ... turn right, so it turned\", Answer(\" left\", \" right\")),\n",
        "    # (\"syntax is ... to\", Answer(\" semantics\", \" syntax\")),\n",
        "    # TODO(alok): HACK. it gets the previous one, maybe bc 'syntax and semantics' is a set phrase but 'semantics and syntax' isn't\n",
        "    # (\"semantics is ... to\", Answer(\" syntax\", \" semantics\")),\n",
        "    (\"he feels hot, ... i feel\", Answer(\" cold\", \" hot\")),\n",
        "    (\"\\nThe sun did ... rise in the east, it rose in the\", Answer(\" west\", \" east\")),\n",
        "    (\n",
        "        \"\\n\\nThe player did ... pass the ball forward, they passed it\",\n",
        "        Answer(\" backward\", \" forward\"),\n",
        "    ),\n",
        "    # (\"\\n The water did ... freeze, it\", Answer(\" boiled\", \" froze\")),\n",
        "    (\"\\n\\nThe door ... open inward, it swung\", Answer(\" outward\", \" inward\")),\n",
        "    # (\"\\... of accepting the offer, she\", Answer(\" rejected\", \" accepted\")),  # does poorly here, maybe too open ended?\n",
        "]"
      ]
    },
    {
      "cell_type": "code",
      "execution_count": 16,
      "metadata": {},
      "outputs": [],
      "source": [
        "def test_prompts_and_answers(\n",
        "    prompts_and_answers: list[tuple[str, Answer]], model\n",
        ") -> ActivationCache:\n",
        "    \"\"\"\n",
        "    Test the given prompts and answers, plotting the logit differences for each prompt.\n",
        "\n",
        "    Args:\n",
        "    prompts_and_answers (list[tuple[str, Answer]]): A list of tuples containing prompts and their corresponding answers.\n",
        "\n",
        "    Returns:\n",
        "    plt.Figure: A matplotlib figure showing the logit differences.\n",
        "    \"\"\"\n",
        "    prompts: list[str]\n",
        "    answers: list[Answer]\n",
        "    prompts, answers = unzip(prompts_and_answers)\n",
        "\n",
        "    tokens = model.to_tokens(leftpad(prompts, model), prepend_bos=True)\n",
        "    original_logits: Float[torch.Tensor, \"batch tokens vocab\"]\n",
        "    original_logits, cache = model.run_with_cache(tokens)\n",
        "\n",
        "    # Convert prompts to tokens and answers to correct and incorrect tokens\n",
        "    # prompt_tokens = [model.to_tokens(prompt) for prompt in prompts]\n",
        "    answer_tokens = get_answer_tokens(answers, model=model)\n",
        "\n",
        "    # Display prompts, answers, and logits in a side-by-side format with constant spacing\n",
        "    logit_diffs = logits_to_avg_logit_diff(\n",
        "        original_logits, answer_tokens, per_prompt=True\n",
        "    )\n",
        "    for prompt, answer, logit_diff in zip(prompts, answers, logit_diffs):\n",
        "        print(\n",
        "            f\"Prompt: {prompt.strip():<70} Answer: {answer.correct:<15} Logit Difference: {logit_diff.item():.2f}\"\n",
        "        )\n",
        "\n",
        "    # Calculate logit differences for each prompt\n",
        "    logit_diffs = (\n",
        "        logits_to_avg_logit_diff(original_logits, answer_tokens, per_prompt=True)\n",
        "        .detach()\n",
        "        .cpu()\n",
        "        .numpy()\n",
        "    )\n",
        "    # Generate a scatter plot of the logit differences with labels for each point using the matplotlib OOP style\n",
        "    fig, ax = plt.subplots(figsize=(10, 6))\n",
        "    for i, (logit_diff, answer) in enumerate(zip(logit_diffs, answers)):\n",
        "        ax.scatter(i, logit_diff, color=\"blue\", alpha=0.5)\n",
        "        ax.text(i, logit_diff, f\"{answer.correct}\", fontsize=9, ha=\"right\")\n",
        "\n",
        "    # Calculate the average logit difference for the title\n",
        "    average_logit_diff = np.mean(logit_diffs)\n",
        "    ax.set_title(\n",
        "        f\"Logit Differences for {MODEL_NAME} - Average Difference: {average_logit_diff:.2f}\"\n",
        "    )\n",
        "    ax.set_xlabel(\"Prompt Index\")\n",
        "    ax.set_ylabel(\"Logit Difference\")\n",
        "    ax.grid(True)\n",
        "\n",
        "    return cache"
      ]
    },
    {
      "cell_type": "code",
      "execution_count": 17,
      "metadata": {},
      "outputs": [
        {
          "name": "stdout",
          "output_type": "stream",
          "text": [
            "Prompt: ... of turning left, the character turned                              Answer:  right          Logit Difference: 0.38\n",
            "Prompt: The bird did ... fly up, it flew                                       Answer:  down           Logit Difference: -3.30\n",
            "Prompt: The data is ... discrete, it is                                        Answer:  continuous     Logit Difference: -3.30\n",
            "Prompt: She did ... walk towards the right, she moved to the                   Answer:  left           Logit Difference: -0.54\n",
            "Prompt: He did ... walk towards the left, he moved to the                      Answer:  right          Logit Difference: -0.71\n",
            "Prompt: The data is ... continuous, it is                                      Answer:  discrete       Logit Difference: -3.02\n",
            "Prompt: To ... going down, the climber went                                    Answer:  up             Logit Difference: -1.50\n",
            "Prompt: To ... going up, the climber went                                      Answer:  down           Logit Difference: 0.19\n",
            "Prompt: The vehicle ... turn left, so it turned                                Answer:  right          Logit Difference: -0.19\n",
            "Prompt: The vehicle ... turn right, so it turned                               Answer:  left           Logit Difference: -0.35\n",
            "Prompt: he feels hot, ... i feel                                               Answer:  cold           Logit Difference: -0.63\n",
            "Prompt: The sun did ... rise in the east, it rose in the                       Answer:  west           Logit Difference: 0.88\n",
            "Prompt: The player did ... pass the ball forward, they passed it               Answer:  backward       Logit Difference: -2.11\n",
            "Prompt: The door ... open inward, it swung                                     Answer:  outward        Logit Difference: -1.26\n"
          ]
        },
        {
          "data": {
            "image/png": "[encoded data removed]",
            "text/plain": [
              "<Figure size 1000x600 with 1 Axes>"
            ]
          },
          "metadata": {},
          "output_type": "display_data"
        }
      ],
      "source": [
        "elided_cache = test_prompts_and_answers(elided_prompts_and_answers, model)"
      ]
    },
    {
      "cell_type": "code",
      "execution_count": 18,
      "metadata": {},
      "outputs": [
        {
          "name": "stdout",
          "output_type": "stream",
          "text": [
            "Prompt: Instead of turning left, the character turned                          Answer:  right          Logit Difference: 2.11\n",
            "Prompt: The bird did not fly up, it flew                                       Answer:  down           Logit Difference: 1.75\n",
            "Prompt: The data is not discrete, it is                                        Answer:  continuous     Logit Difference: 3.34\n",
            "Prompt: She did not walk towards the right, she moved to the                   Answer:  left           Logit Difference: 2.63\n",
            "Prompt: He did not walk towards the left, he moved to the                      Answer:  right          Logit Difference: 2.86\n",
            "Prompt: The data is not continuous, it is                                      Answer:  discrete       Logit Difference: 3.27\n",
            "Prompt: To avoid going down, the climber went                                  Answer:  up             Logit Difference: -0.43\n",
            "Prompt: To avoid going up, the climber went                                    Answer:  down           Logit Difference: 2.25\n",
            "Prompt: The vehicle couldn't turn left, so it turned                           Answer:  right          Logit Difference: 3.19\n",
            "Prompt: The vehicle couldn't turn right, so it turned                          Answer:  left           Logit Difference: 2.45\n",
            "Prompt: he feels hot, but i feel                                               Answer:  cold           Logit Difference: 2.66\n",
            "Prompt: The sun did not rise in the east, it rose in the                       Answer:  west           Logit Difference: 4.13\n",
            "Prompt: The player did not pass the ball forward, they passed it               Answer:  backward       Logit Difference: 1.62\n",
            "Prompt: The door didn't open inward, it swung                                  Answer:  outward        Logit Difference: 0.70\n"
          ]
        },
        {
          "data": {
            "image/png": "[encoded data removed]",
            "text/plain": [
              "<Figure size 1000x600 with 1 Axes>"
            ]
          },
          "metadata": {},
          "output_type": "display_data"
        }
      ],
      "source": [
        "orig_cache = test_prompts_and_answers(prompts_and_answers, model)"
      ]
    },
    {
      "cell_type": "markdown",
      "metadata": {
        "id": "RzooXpeOUvUJ"
      },
      "source": [
        "## Direct Logit Attribution"
      ]
    },
    {
      "cell_type": "markdown",
      "metadata": {
        "id": "G1_M1IvlUvUJ"
      },
      "source": [
        "*Look up unfamiliar terms in the [mech interp explainer](https://neelnanda.io/glossary)*\n",
        "\n",
        "Further, the easiest part of the model to understand is the output - this is what the model is trained to optimize, and so it can always be directly interpreted! Often the right approach to reverse engineering a circuit is to start at the end, understand how the model produces the right answer, and to then work backwards. The main technique used to do this is called **direct logit attribution**\n",
        "\n",
        "**Background:** The central object of a transformer is the **residual stream**. This is the sum of the outputs of each layer and of the original token and positional embedding. Importantly, this means that any linear function of the residual stream can be perfectly decomposed into the contribution of each layer of the transformer. Further, each attention layer's output can be broken down into the sum of the output of each head (See [A Mathematical Framework for Transformer Circuits](https://transformer-circuits.pub/2021/framework/index.html) for details), and each MLP layer's output can be broken down into the sum of the output of each neuron (and a bias term for each layer).\n",
        "\n",
        "The logits of a model are `logits=Unembed(LayerNorm(final_residual_stream))`. The Unembed is a linear map, and LayerNorm is approximately a linear map, so we can decompose the logits into the sum of the contributions of each component, and look at which components contribute the most to the logit of the correct token! This is called **direct logit attribution**. Here we look at the direct attribution to the logit difference!\n",
        "\n",
        "<details> <summary>(*) <b>Background and motivation of the logit difference</b></summary>\n",
        "\n",
        "Logit difference is actually a *really* nice and elegant metric and is a particularly nice aspect of the setup of Indirect Object Identification. In general, there are two natural ways to interpret the model's outputs: the output logits, or the output log probabilities (or probabilities).\n",
        "\n",
        "The logits are much nicer and easier to understand, as noted above. However, the model is trained to optimize the cross-entropy loss (the average of log probability of the correct token). This means it does not directly optimize the logits, and indeed if the model adds an arbitrary constant to every logit, the log probabilities are unchanged.\n",
        "\n",
        "But `log_probs == logits.log_softmax(dim=-1) == logits - logsumexp(logits)`, and so `log_probs(\" Mary\") - log_probs(\" John\") = logits(\" Mary\") - logits(\" John\")` - the ability to add an arbitrary constant cancels out!\n",
        "\n",
        "Further, the metric helps us isolate the precise capability we care about - figuring out *which* name is the Indirect Object. There are many other components of the task - deciding whether to return an article (the) or pronoun (her) or name, realising that the sentence wants a person next at all, etc. By taking the logit difference we control for all of that.\n",
        "\n",
        "Our metric is further refined, because each prompt is repeated twice, for each possible indirect object. This controls for irrelevant behaviour such as the model learning that John is a more frequent token than Mary (this actually happens! The final layernorm bias increases the John logit by 1 relative to the Mary logit)\n",
        "\n",
        "</details>\n",
        "\n",
        "<details> <summary>Ignoring LayerNorm</summary>\n",
        "\n",
        "LayerNorm is an analogous normalization technique to BatchNorm (that's friendlier to massive parallelization) that transformers use. Every time a transformer layer reads information from the residual stream, it applies a LayerNorm to normalize the vector at each position (translating to set the mean to 0 and scaling to set the variance to 1) and then applying a learned vector of weights and biases to scale and translate the normalized vector. This is *almost* a linear map, apart from the scaling step, because that divides by the norm of the vector and the norm is not a linear function. (The `fold_ln` flag when loading a model factors out all the linear parts).\n",
        "\n",
        "But if we fixed the scale factor, the LayerNorm would be fully linear. And the scale of the residual stream is a global property that's a function of *all* components of the stream, while in practice there is normally just a few directions relevant to any particular component, so in practice this is an acceptable approximation. So when doing direct logit attribution we use the `apply_ln` flag on the `cache` to apply the global layernorm scaling factor to each constant. See [my clean GPT-2 implementation](https://colab.research.google.com/github/neelnanda-io/TransformerLens/blob/clean-transformer-demo/Clean_Transformer_Demo.ipynb#scrollTo=Clean_Transformer_Implementation) for more on LayerNorm.\n",
        "</details>"
      ]
    },
    {
      "cell_type": "markdown",
      "metadata": {
        "id": "-wJhRGvSUvUJ"
      },
      "source": [
        "Getting an output logit is equivalent to projecting onto a direction in the residual stream. We use `model.tokens_to_residual_directions` to map the answer tokens to that direction, and then convert this to a logit difference direction for each batch"
      ]
    },
    {
      "cell_type": "markdown",
      "metadata": {
        "id": "ftpH4YN0UvUJ"
      },
      "source": [
        "To verify that this works, we can apply this to the final residual stream for our cached prompts (after applying LayerNorm scaling) and verify that we get the same answer.\n",
        "\n",
        "<details> <summary>Technical details</summary>\n",
        "\n",
        "`logits = Unembed(LayerNorm(final_residual_stream))`, so we technically need to account for the centering, and then learned translation and scaling of the layernorm, not just the variance 1 scaling.\n",
        "\n",
        "The centering is accounted for with the preprocessing flag `center_writing_weights` which ensures that every weight matrix writing to the residual stream has mean zero.\n",
        "\n",
        "The learned scaling is folded into the unembedding weights `model.unembed.W_U` via `W_U_fold = layer_norm.weights[:, None] * unembed.W_U`\n",
        "\n",
        "The learned translation is folded to `model.unembed.b_U`, a bias added to the logits (note that GPT-2 is not trained with an existing `b_U`). This roughly represents unigram statistics. But we can ignore this because each prompt occurs twice with names in the opposite order, so this perfectly cancels out.\n",
        "\n",
        "Note that rather than using layernorm scaling we could just study cache[\"ln_final.hook_normalised\"]\n",
        "\n",
        "</details>"
      ]
    },
    {
      "cell_type": "code",
      "execution_count": 30,
      "metadata": {},
      "outputs": [
        {
          "name": "stdout",
          "output_type": "stream",
          "text": [
            "Answer residual directions shape: torch.Size([14, 2, 2560])\n",
            "Logit difference directions shape: torch.Size([14, 2560])\n",
            "Final residual stream shape: torch.Size([14, 15, 2560])\n",
            "Calculated average logit diff: 2.384\n",
            "Original logit difference: 2.384\n"
          ]
        }
      ],
      "source": [
        "orig_answer_residual_directions = model.tokens_to_residual_directions(\n",
        "    get_answer_tokens([a[1] for a in prompts_and_answers], model=model, corrupted=False)\n",
        ")\n",
        "print(\"Answer residual directions shape:\", orig_answer_residual_directions.shape)\n",
        "orig_logit_diff_directions = (\n",
        "    orig_answer_residual_directions[:, 0] - orig_answer_residual_directions[:, 1]\n",
        ")\n",
        "print(\"Logit difference directions shape:\", orig_logit_diff_directions.shape)\n",
        "\n",
        "# cache syntax - resid_post is the residual stream at the end of the layer, -1 gets the final layer. The general syntax is [activation_name, layer_index, sub_layer_type].\n",
        "orig_final_residual_stream = orig_cache[\"resid_post\", -1]\n",
        "print(\"Final residual stream shape:\", orig_final_residual_stream.shape)\n",
        "orig_final_token_residual_stream = orig_final_residual_stream[:, -1, :]\n",
        "# Apply LayerNorm scaling\n",
        "# pos_slice is the subset of the positions we take - here the final token of each prompt\n",
        "orig_scaled_final_token_residual_stream = orig_cache.apply_ln_to_stack(\n",
        "    orig_final_token_residual_stream, layer=-1, pos_slice=-1\n",
        ")\n",
        "\n",
        "orig_average_logit_diff = einsum(\n",
        "    \"batch d_model, batch d_model -> \",\n",
        "    orig_scaled_final_token_residual_stream,\n",
        "    orig_logit_diff_directions,\n",
        ") / len(prompts)\n",
        "print(\"Calculated average logit diff:\", round(orig_average_logit_diff.item(), 3))\n",
        "print(\"Original logit difference:\", round(orig_average_logit_diff.item(), 3))\n",
        "\n"
      ]
    },
    {
      "cell_type": "code",
      "execution_count": 31,
      "metadata": {},
      "outputs": [
        {
          "name": "stdout",
          "output_type": "stream",
          "text": [
            "Answer residual directions shape: torch.Size([14, 2, 2560])\n",
            "Logit difference directions shape: torch.Size([14, 2560])\n",
            "Final residual stream shape: torch.Size([14, 15, 2560])\n",
            "Calculated average logit diff: -1.044\n"
          ]
        }
      ],
      "source": [
        "elided_answer_residual_directions = model.tokens_to_residual_directions(\n",
        "    get_answer_tokens(\n",
        "        [a[1] for a in elided_prompts_and_answers], model=model, corrupted=False\n",
        "    )\n",
        ")\n",
        "print(\"Answer residual directions shape:\", elided_answer_residual_directions.shape)\n",
        "elided_logit_diff_directions = (\n",
        "    elided_answer_residual_directions[:, 0] - elided_answer_residual_directions[:, 1]\n",
        ")\n",
        "print(\"Logit difference directions shape:\", elided_logit_diff_directions.shape)\n",
        "\n",
        "# cache syntax - resid_post is the residual stream at the end of the layer, -1 gets the final layer. The general syntax is [activation_name, layer_index, sub_layer_type].\n",
        "elided_final_residual_stream = elided_cache[\"resid_post\", -1]\n",
        "print(\"Final residual stream shape:\", elided_final_residual_stream.shape)\n",
        "elided_final_token_residual_stream = elided_final_residual_stream[:, -1, :]\n",
        "# Apply LayerNorm scaling\n",
        "# pos_slice is the subset of the positions we take - here the final token of each prompt\n",
        "scaled_final_token_residual_stream = elided_cache.apply_ln_to_stack(\n",
        "        elided_final_token_residual_stream, layer=-1, pos_slice=-1\n",
        ")\n",
        "\n",
        "elided_average_logit_diff = einsum(\n",
        "    \"batch d_model, batch d_model -> \",\n",
        "    scaled_final_token_residual_stream,\n",
        "    elided_logit_diff_directions,\n",
        ") / len(prompts)\n",
        "print(\"Calculated average logit diff:\", round(elided_average_logit_diff.item(), 3))\n"
      ]
    },
    {
      "cell_type": "markdown",
      "metadata": {
        "id": "mHXBKPw8UvUJ"
      },
      "source": [
        "### Logit Lens"
      ]
    },
    {
      "cell_type": "markdown",
      "metadata": {
        "id": "hKewgp1rUvUK"
      },
      "source": [
        "We can now decompose the residual stream! First we apply a technique called the [**logit lens**](https://www.alignmentforum.org/posts/AcKRB8wDpdaN6v6ru/interpreting-gpt-the-logit-lens) - this looks at the residual stream after each layer and calculates the logit difference from that. This simulates what happens if we delete all subsequence layers."
      ]
    },
    {
      "cell_type": "code",
      "execution_count": 34,
      "metadata": {
        "id": "B3A3LqJyUvUS"
      },
      "outputs": [],
      "source": [
        "def residual_stack_to_logit_diff(\n",
        "    residual_stack: Float[torch.Tensor, \"components batch d_model\"],\n",
        "    cache: ActivationCache,\n",
        "    logit_diff_directions: Float[torch.Tensor, \"batch d_model\"]\n",
        ") -> float:\n",
        "    scaled_residual_stack = cache.apply_ln_to_stack(\n",
        "        residual_stack, layer=-1, pos_slice=-1\n",
        "    )\n",
        "    return einsum(\n",
        "        \"... batch d_model, batch d_model -> ...\",\n",
        "        scaled_residual_stack,\n",
        "        logit_diff_directions,\n",
        "    ) / len(prompts)"
      ]
    },
    {
      "cell_type": "markdown",
      "metadata": {
        "id": "zp4zmzMoUvUS"
      },
      "source": [
        "We see that the model gains its performance in the middle and later layers."
      ]
    },
    {
      "cell_type": "code",
      "execution_count": 35,
      "metadata": {
        "id": "xagae0FIUvUS",
        "outputId": "79ce0e7d-ef42-40d5-f373-4be7a5b26ac6"
      },
      "outputs": [
        {
          "data": {
            "application/vnd.plotly.v1+json": {
              "config": {
                "plotlyServerURL": "https://plot.ly"
              },
              "data": [
                {
                  "hovertemplate": "<b>%{hovertext}</b><br><br>x=%{x}<br>y=%{y}<extra></extra>",
                  "hovertext": [
                    "0_pre",
                    "0_mid",
                    "1_pre",
                    "1_mid",
                    "2_pre",
                    "2_mid",
                    "3_pre",
                    "3_mid",
                    "4_pre",
                    "4_mid",
                    "5_pre",
                    "5_mid",
                    "6_pre",
                    "6_mid",
                    "7_pre",
                    "7_mid",
                    "8_pre",
                    "8_mid",
                    "9_pre",
                    "9_mid",
                    "10_pre",
                    "10_mid",
                    "11_pre",
                    "11_mid",
                    "12_pre",
                    "12_mid",
                    "13_pre",
                    "13_mid",
                    "14_pre",
                    "14_mid",
                    "15_pre",
                    "15_mid",
                    "16_pre",
                    "16_mid",
                    "17_pre",
                    "17_mid",
                    "18_pre",
                    "18_mid",
                    "19_pre",
                    "19_mid",
                    "20_pre",
                    "20_mid",
                    "21_pre",
                    "21_mid",
                    "22_pre",
                    "22_mid",
                    "23_pre",
                    "23_mid",
                    "24_pre",
                    "24_mid",
                    "25_pre",
                    "25_mid",
                    "26_pre",
                    "26_mid",
                    "27_pre",
                    "27_mid",
                    "28_pre",
                    "28_mid",
                    "29_pre",
                    "29_mid",
                    "30_pre",
                    "30_mid",
                    "31_pre",
                    "31_mid",
                    "final_post"
                  ],
                  "legendgroup": "",
                  "line": {
                    "color": "#636efa",
                    "dash": "solid"
                  },
                  "marker": {
                    "symbol": "circle"
                  },
                  "mode": "lines",
                  "name": "",
                  "orientation": "v",
                  "showlegend": false,
                  "type": "scatter",
                  "x": [
                    0,
                    0.5,
                    1,
                    1.5,
                    2,
                    2.5,
                    3,
                    3.5,
                    4,
                    4.5,
                    5,
                    5.5,
                    6,
                    6.5,
                    7,
                    7.5,
                    8,
                    8.5,
                    9,
                    9.5,
                    10,
                    10.5,
                    11,
                    11.5,
                    12,
                    12.5,
                    13,
                    13.5,
                    14,
                    14.5,
                    15,
                    15.5,
                    16,
                    16.5,
                    17,
                    17.5,
                    18,
                    18.5,
                    19,
                    19.5,
                    20,
                    20.5,
                    21,
                    21.5,
                    22,
                    22.5,
                    23,
                    23.5,
                    24,
                    24.5,
                    25,
                    25.5,
                    26,
                    26.5,
                    27,
                    27.5,
                    28,
                    28.5,
                    29,
                    29.5,
                    30,
                    30.5,
                    31,
                    31.5,
                    32
                  ],
                  "xaxis": "x",
                  "y": [
                    0.005523741245269775,
                    0.02606562152504921,
                    0.022433383390307426,
                    -0.011806393042206764,
                    0.008242355659604073,
                    0.0014237910509109497,
                    -0.014539425261318684,
                    0.008550584316253662,
                    0.01836252398788929,
                    0.034742504358291626,
                    0.05348402261734009,
                    0.06149158626794815,
                    0.08384871482849121,
                    0.09725996106863022,
                    0.08176577836275101,
                    0.09120222181081772,
                    0.09383416175842285,
                    0.06501324474811554,
                    0.008651857264339924,
                    0.029168514534831047,
                    0.0380203016102314,
                    0.012737797573208809,
                    0.024363884702324867,
                    0.14009398221969604,
                    0.17375902831554413,
                    0.12542088329792023,
                    0.1358233541250229,
                    0.12576226890087128,
                    0.08916497230529785,
                    0.12137914448976517,
                    0.06786704808473587,
                    0.47345712780952454,
                    0.4623975157737732,
                    0.47734335064888,
                    0.5278486609458923,
                    1.104066014289856,
                    1.158098816871643,
                    1.177459955215454,
                    1.2361409664154053,
                    1.97761070728302,
                    2.016688108444214,
                    1.9257477521896362,
                    2.0382132530212402,
                    2.40828537940979,
                    2.446375608444214,
                    2.383850574493408,
                    2.4197440147399902,
                    2.562896490097046,
                    2.516875982284546,
                    2.245833158493042,
                    2.2798879146575928,
                    2.1754796504974365,
                    2.1040453910827637,
                    2.0862319469451904,
                    2.104438304901123,
                    2.2325828075408936,
                    2.3117382526397705,
                    2.2679944038391113,
                    2.388594150543213,
                    2.4443130493164062,
                    2.517864227294922,
                    2.526602029800415,
                    2.551931142807007,
                    2.5125863552093506,
                    2.384345293045044
                  ],
                  "yaxis": "y"
                }
              ],
              "layout": {
                "legend": {
                  "tracegroupgap": 0
                },
                "template": {
                  "data": {
                    "bar": [
                      {
                        "error_x": {
                          "color": "#2a3f5f"
                        },
                        "error_y": {
                          "color": "#2a3f5f"
                        },
                        "marker": {
                          "line": {
                            "color": "#E5ECF6",
                            "width": 0.5
                          },
                          "pattern": {
                            "fillmode": "overlay",
                            "size": 10,
                            "solidity": 0.2
                          }
                        },
                        "type": "bar"
                      }
                    ],
                    "barpolar": [
                      {
                        "marker": {
                          "line": {
                            "color": "#E5ECF6",
                            "width": 0.5
                          },
                          "pattern": {
                            "fillmode": "overlay",
                            "size": 10,
                            "solidity": 0.2
                          }
                        },
                        "type": "barpolar"
                      }
                    ],
                    "carpet": [
                      {
                        "aaxis": {
                          "endlinecolor": "#2a3f5f",
                          "gridcolor": "white",
                          "linecolor": "white",
                          "minorgridcolor": "white",
                          "startlinecolor": "#2a3f5f"
                        },
                        "baxis": {
                          "endlinecolor": "#2a3f5f",
                          "gridcolor": "white",
                          "linecolor": "white",
                          "minorgridcolor": "white",
                          "startlinecolor": "#2a3f5f"
                        },
                        "type": "carpet"
                      }
                    ],
                    "choropleth": [
                      {
                        "colorbar": {
                          "outlinewidth": 0,
                          "ticks": ""
                        },
                        "type": "choropleth"
                      }
                    ],
                    "contour": [
                      {
                        "colorbar": {
                          "outlinewidth": 0,
                          "ticks": ""
                        },
                        "colorscale": [
                          [
                            0,
                            "#0d0887"
                          ],
                          [
                            0.1111111111111111,
                            "#46039f"
                          ],
                          [
                            0.2222222222222222,
                            "#7201a8"
                          ],
                          [
                            0.3333333333333333,
                            "#9c179e"
                          ],
                          [
                            0.4444444444444444,
                            "#bd3786"
                          ],
                          [
                            0.5555555555555556,
                            "#d8576b"
                          ],
                          [
                            0.6666666666666666,
                            "#ed7953"
                          ],
                          [
                            0.7777777777777778,
                            "#fb9f3a"
                          ],
                          [
                            0.8888888888888888,
                            "#fdca26"
                          ],
                          [
                            1,
                            "#f0f921"
                          ]
                        ],
                        "type": "contour"
                      }
                    ],
                    "contourcarpet": [
                      {
                        "colorbar": {
                          "outlinewidth": 0,
                          "ticks": ""
                        },
                        "type": "contourcarpet"
                      }
                    ],
                    "heatmap": [
                      {
                        "colorbar": {
                          "outlinewidth": 0,
                          "ticks": ""
                        },
                        "colorscale": [
                          [
                            0,
                            "#0d0887"
                          ],
                          [
                            0.1111111111111111,
                            "#46039f"
                          ],
                          [
                            0.2222222222222222,
                            "#7201a8"
                          ],
                          [
                            0.3333333333333333,
                            "#9c179e"
                          ],
                          [
                            0.4444444444444444,
                            "#bd3786"
                          ],
                          [
                            0.5555555555555556,
                            "#d8576b"
                          ],
                          [
                            0.6666666666666666,
                            "#ed7953"
                          ],
                          [
                            0.7777777777777778,
                            "#fb9f3a"
                          ],
                          [
                            0.8888888888888888,
                            "#fdca26"
                          ],
                          [
                            1,
                            "#f0f921"
                          ]
                        ],
                        "type": "heatmap"
                      }
                    ],
                    "heatmapgl": [
                      {
                        "colorbar": {
                          "outlinewidth": 0,
                          "ticks": ""
                        },
                        "colorscale": [
                          [
                            0,
                            "#0d0887"
                          ],
                          [
                            0.1111111111111111,
                            "#46039f"
                          ],
                          [
                            0.2222222222222222,
                            "#7201a8"
                          ],
                          [
                            0.3333333333333333,
                            "#9c179e"
                          ],
                          [
                            0.4444444444444444,
                            "#bd3786"
                          ],
                          [
                            0.5555555555555556,
                            "#d8576b"
                          ],
                          [
                            0.6666666666666666,
                            "#ed7953"
                          ],
                          [
                            0.7777777777777778,
                            "#fb9f3a"
                          ],
                          [
                            0.8888888888888888,
                            "#fdca26"
                          ],
                          [
                            1,
                            "#f0f921"
                          ]
                        ],
                        "type": "heatmapgl"
                      }
                    ],
                    "histogram": [
                      {
                        "marker": {
                          "pattern": {
                            "fillmode": "overlay",
                            "size": 10,
                            "solidity": 0.2
                          }
                        },
                        "type": "histogram"
                      }
                    ],
                    "histogram2d": [
                      {
                        "colorbar": {
                          "outlinewidth": 0,
                          "ticks": ""
                        },
                        "colorscale": [
                          [
                            0,
                            "#0d0887"
                          ],
                          [
                            0.1111111111111111,
                            "#46039f"
                          ],
                          [
                            0.2222222222222222,
                            "#7201a8"
                          ],
                          [
                            0.3333333333333333,
                            "#9c179e"
                          ],
                          [
                            0.4444444444444444,
                            "#bd3786"
                          ],
                          [
                            0.5555555555555556,
                            "#d8576b"
                          ],
                          [
                            0.6666666666666666,
                            "#ed7953"
                          ],
                          [
                            0.7777777777777778,
                            "#fb9f3a"
                          ],
                          [
                            0.8888888888888888,
                            "#fdca26"
                          ],
                          [
                            1,
                            "#f0f921"
                          ]
                        ],
                        "type": "histogram2d"
                      }
                    ],
                    "histogram2dcontour": [
                      {
                        "colorbar": {
                          "outlinewidth": 0,
                          "ticks": ""
                        },
                        "colorscale": [
                          [
                            0,
                            "#0d0887"
                          ],
                          [
                            0.1111111111111111,
                            "#46039f"
                          ],
                          [
                            0.2222222222222222,
                            "#7201a8"
                          ],
                          [
                            0.3333333333333333,
                            "#9c179e"
                          ],
                          [
                            0.4444444444444444,
                            "#bd3786"
                          ],
                          [
                            0.5555555555555556,
                            "#d8576b"
                          ],
                          [
                            0.6666666666666666,
                            "#ed7953"
                          ],
                          [
                            0.7777777777777778,
                            "#fb9f3a"
                          ],
                          [
                            0.8888888888888888,
                            "#fdca26"
                          ],
                          [
                            1,
                            "#f0f921"
                          ]
                        ],
                        "type": "histogram2dcontour"
                      }
                    ],
                    "mesh3d": [
                      {
                        "colorbar": {
                          "outlinewidth": 0,
                          "ticks": ""
                        },
                        "type": "mesh3d"
                      }
                    ],
                    "parcoords": [
                      {
                        "line": {
                          "colorbar": {
                            "outlinewidth": 0,
                            "ticks": ""
                          }
                        },
                        "type": "parcoords"
                      }
                    ],
                    "pie": [
                      {
                        "automargin": true,
                        "type": "pie"
                      }
                    ],
                    "scatter": [
                      {
                        "fillpattern": {
                          "fillmode": "overlay",
                          "size": 10,
                          "solidity": 0.2
                        },
                        "type": "scatter"
                      }
                    ],
                    "scatter3d": [
                      {
                        "line": {
                          "colorbar": {
                            "outlinewidth": 0,
                            "ticks": ""
                          }
                        },
                        "marker": {
                          "colorbar": {
                            "outlinewidth": 0,
                            "ticks": ""
                          }
                        },
                        "type": "scatter3d"
                      }
                    ],
                    "scattercarpet": [
                      {
                        "marker": {
                          "colorbar": {
                            "outlinewidth": 0,
                            "ticks": ""
                          }
                        },
                        "type": "scattercarpet"
                      }
                    ],
                    "scattergeo": [
                      {
                        "marker": {
                          "colorbar": {
                            "outlinewidth": 0,
                            "ticks": ""
                          }
                        },
                        "type": "scattergeo"
                      }
                    ],
                    "scattergl": [
                      {
                        "marker": {
                          "colorbar": {
                            "outlinewidth": 0,
                            "ticks": ""
                          }
                        },
                        "type": "scattergl"
                      }
                    ],
                    "scattermapbox": [
                      {
                        "marker": {
                          "colorbar": {
                            "outlinewidth": 0,
                            "ticks": ""
                          }
                        },
                        "type": "scattermapbox"
                      }
                    ],
                    "scatterpolar": [
                      {
                        "marker": {
                          "colorbar": {
                            "outlinewidth": 0,
                            "ticks": ""
                          }
                        },
                        "type": "scatterpolar"
                      }
                    ],
                    "scatterpolargl": [
                      {
                        "marker": {
                          "colorbar": {
                            "outlinewidth": 0,
                            "ticks": ""
                          }
                        },
                        "type": "scatterpolargl"
                      }
                    ],
                    "scatterternary": [
                      {
                        "marker": {
                          "colorbar": {
                            "outlinewidth": 0,
                            "ticks": ""
                          }
                        },
                        "type": "scatterternary"
                      }
                    ],
                    "surface": [
                      {
                        "colorbar": {
                          "outlinewidth": 0,
                          "ticks": ""
                        },
                        "colorscale": [
                          [
                            0,
                            "#0d0887"
                          ],
                          [
                            0.1111111111111111,
                            "#46039f"
                          ],
                          [
                            0.2222222222222222,
                            "#7201a8"
                          ],
                          [
                            0.3333333333333333,
                            "#9c179e"
                          ],
                          [
                            0.4444444444444444,
                            "#bd3786"
                          ],
                          [
                            0.5555555555555556,
                            "#d8576b"
                          ],
                          [
                            0.6666666666666666,
                            "#ed7953"
                          ],
                          [
                            0.7777777777777778,
                            "#fb9f3a"
                          ],
                          [
                            0.8888888888888888,
                            "#fdca26"
                          ],
                          [
                            1,
                            "#f0f921"
                          ]
                        ],
                        "type": "surface"
                      }
                    ],
                    "table": [
                      {
                        "cells": {
                          "fill": {
                            "color": "#EBF0F8"
                          },
                          "line": {
                            "color": "white"
                          }
                        },
                        "header": {
                          "fill": {
                            "color": "#C8D4E3"
                          },
                          "line": {
                            "color": "white"
                          }
                        },
                        "type": "table"
                      }
                    ]
                  },
                  "layout": {
                    "annotationdefaults": {
                      "arrowcolor": "#2a3f5f",
                      "arrowhead": 0,
                      "arrowwidth": 1
                    },
                    "autotypenumbers": "strict",
                    "coloraxis": {
                      "colorbar": {
                        "outlinewidth": 0,
                        "ticks": ""
                      }
                    },
                    "colorscale": {
                      "diverging": [
                        [
                          0,
                          "#8e0152"
                        ],
                        [
                          0.1,
                          "#c51b7d"
                        ],
                        [
                          0.2,
                          "#de77ae"
                        ],
                        [
                          0.3,
                          "#f1b6da"
                        ],
                        [
                          0.4,
                          "#fde0ef"
                        ],
                        [
                          0.5,
                          "#f7f7f7"
                        ],
                        [
                          0.6,
                          "#e6f5d0"
                        ],
                        [
                          0.7,
                          "#b8e186"
                        ],
                        [
                          0.8,
                          "#7fbc41"
                        ],
                        [
                          0.9,
                          "#4d9221"
                        ],
                        [
                          1,
                          "#276419"
                        ]
                      ],
                      "sequential": [
                        [
                          0,
                          "#0d0887"
                        ],
                        [
                          0.1111111111111111,
                          "#46039f"
                        ],
                        [
                          0.2222222222222222,
                          "#7201a8"
                        ],
                        [
                          0.3333333333333333,
                          "#9c179e"
                        ],
                        [
                          0.4444444444444444,
                          "#bd3786"
                        ],
                        [
                          0.5555555555555556,
                          "#d8576b"
                        ],
                        [
                          0.6666666666666666,
                          "#ed7953"
                        ],
                        [
                          0.7777777777777778,
                          "#fb9f3a"
                        ],
                        [
                          0.8888888888888888,
                          "#fdca26"
                        ],
                        [
                          1,
                          "#f0f921"
                        ]
                      ],
                      "sequentialminus": [
                        [
                          0,
                          "#0d0887"
                        ],
                        [
                          0.1111111111111111,
                          "#46039f"
                        ],
                        [
                          0.2222222222222222,
                          "#7201a8"
                        ],
                        [
                          0.3333333333333333,
                          "#9c179e"
                        ],
                        [
                          0.4444444444444444,
                          "#bd3786"
                        ],
                        [
                          0.5555555555555556,
                          "#d8576b"
                        ],
                        [
                          0.6666666666666666,
                          "#ed7953"
                        ],
                        [
                          0.7777777777777778,
                          "#fb9f3a"
                        ],
                        [
                          0.8888888888888888,
                          "#fdca26"
                        ],
                        [
                          1,
                          "#f0f921"
                        ]
                      ]
                    },
                    "colorway": [
                      "#636efa",
                      "#EF553B",
                      "#00cc96",
                      "#ab63fa",
                      "#FFA15A",
                      "#19d3f3",
                      "#FF6692",
                      "#B6E880",
                      "#FF97FF",
                      "#FECB52"
                    ],
                    "font": {
                      "color": "#2a3f5f"
                    },
                    "geo": {
                      "bgcolor": "white",
                      "lakecolor": "white",
                      "landcolor": "#E5ECF6",
                      "showlakes": true,
                      "showland": true,
                      "subunitcolor": "white"
                    },
                    "hoverlabel": {
                      "align": "left"
                    },
                    "hovermode": "closest",
                    "mapbox": {
                      "style": "light"
                    },
                    "paper_bgcolor": "white",
                    "plot_bgcolor": "#E5ECF6",
                    "polar": {
                      "angularaxis": {
                        "gridcolor": "white",
                        "linecolor": "white",
                        "ticks": ""
                      },
                      "bgcolor": "#E5ECF6",
                      "radialaxis": {
                        "gridcolor": "white",
                        "linecolor": "white",
                        "ticks": ""
                      }
                    },
                    "scene": {
                      "xaxis": {
                        "backgroundcolor": "#E5ECF6",
                        "gridcolor": "white",
                        "gridwidth": 2,
                        "linecolor": "white",
                        "showbackground": true,
                        "ticks": "",
                        "zerolinecolor": "white"
                      },
                      "yaxis": {
                        "backgroundcolor": "#E5ECF6",
                        "gridcolor": "white",
                        "gridwidth": 2,
                        "linecolor": "white",
                        "showbackground": true,
                        "ticks": "",
                        "zerolinecolor": "white"
                      },
                      "zaxis": {
                        "backgroundcolor": "#E5ECF6",
                        "gridcolor": "white",
                        "gridwidth": 2,
                        "linecolor": "white",
                        "showbackground": true,
                        "ticks": "",
                        "zerolinecolor": "white"
                      }
                    },
                    "shapedefaults": {
                      "line": {
                        "color": "#2a3f5f"
                      }
                    },
                    "ternary": {
                      "aaxis": {
                        "gridcolor": "white",
                        "linecolor": "white",
                        "ticks": ""
                      },
                      "baxis": {
                        "gridcolor": "white",
                        "linecolor": "white",
                        "ticks": ""
                      },
                      "bgcolor": "#E5ECF6",
                      "caxis": {
                        "gridcolor": "white",
                        "linecolor": "white",
                        "ticks": ""
                      }
                    },
                    "title": {
                      "x": 0.05
                    },
                    "xaxis": {
                      "automargin": true,
                      "gridcolor": "white",
                      "linecolor": "white",
                      "ticks": "",
                      "title": {
                        "standoff": 15
                      },
                      "zerolinecolor": "white",
                      "zerolinewidth": 2
                    },
                    "yaxis": {
                      "automargin": true,
                      "gridcolor": "white",
                      "linecolor": "white",
                      "ticks": "",
                      "title": {
                        "standoff": 15
                      },
                      "zerolinecolor": "white",
                      "zerolinewidth": 2
                    }
                  }
                },
                "title": {
                  "text": "Original Logit Difference From Accumulated Residual Stream"
                },
                "xaxis": {
                  "anchor": "y",
                  "domain": [
                    0,
                    1
                  ],
                  "title": {
                    "text": "x"
                  }
                },
                "yaxis": {
                  "anchor": "x",
                  "domain": [
                    0,
                    1
                  ],
                  "title": {
                    "text": "y"
                  }
                }
              }
            }
          },
          "metadata": {},
          "output_type": "display_data"
        }
      ],
      "source": [
        "orig_accumulated_residual, labels = orig_cache.accumulated_resid(\n",
        "    layer=-1, incl_mid=True, pos_slice=-1, return_labels=True\n",
        ")\n",
        "orig_logit_lens_logit_diffs = residual_stack_to_logit_diff(orig_accumulated_residual, orig_cache, orig_logit_diff_directions)\n",
        "line(\n",
        "    orig_logit_lens_logit_diffs,\n",
        "    x=np.arange(model.cfg.n_layers * 2 + 1) / 2,\n",
        "    hover_name=labels,\n",
        "    title=\"Original Logit Difference From Accumulated Residual Stream\",\n",
        ")"
      ]
    },
    {
      "cell_type": "markdown",
      "metadata": {},
      "source": [
        "Similar behavior in elided prompts, but in the opposite direction. The model only gets worse in later layers. "
      ]
    },
    {
      "cell_type": "code",
      "execution_count": 36,
      "metadata": {},
      "outputs": [
        {
          "data": {
            "application/vnd.plotly.v1+json": {
              "config": {
                "plotlyServerURL": "https://plot.ly"
              },
              "data": [
                {
                  "hovertemplate": "<b>%{hovertext}</b><br><br>x=%{x}<br>y=%{y}<extra></extra>",
                  "hovertext": [
                    "0_pre",
                    "0_mid",
                    "1_pre",
                    "1_mid",
                    "2_pre",
                    "2_mid",
                    "3_pre",
                    "3_mid",
                    "4_pre",
                    "4_mid",
                    "5_pre",
                    "5_mid",
                    "6_pre",
                    "6_mid",
                    "7_pre",
                    "7_mid",
                    "8_pre",
                    "8_mid",
                    "9_pre",
                    "9_mid",
                    "10_pre",
                    "10_mid",
                    "11_pre",
                    "11_mid",
                    "12_pre",
                    "12_mid",
                    "13_pre",
                    "13_mid",
                    "14_pre",
                    "14_mid",
                    "15_pre",
                    "15_mid",
                    "16_pre",
                    "16_mid",
                    "17_pre",
                    "17_mid",
                    "18_pre",
                    "18_mid",
                    "19_pre",
                    "19_mid",
                    "20_pre",
                    "20_mid",
                    "21_pre",
                    "21_mid",
                    "22_pre",
                    "22_mid",
                    "23_pre",
                    "23_mid",
                    "24_pre",
                    "24_mid",
                    "25_pre",
                    "25_mid",
                    "26_pre",
                    "26_mid",
                    "27_pre",
                    "27_mid",
                    "28_pre",
                    "28_mid",
                    "29_pre",
                    "29_mid",
                    "30_pre",
                    "30_mid",
                    "31_pre",
                    "31_mid",
                    "final_post"
                  ],
                  "legendgroup": "",
                  "line": {
                    "color": "#636efa",
                    "dash": "solid"
                  },
                  "marker": {
                    "symbol": "circle"
                  },
                  "mode": "lines",
                  "name": "",
                  "orientation": "v",
                  "showlegend": false,
                  "type": "scatter",
                  "x": [
                    0,
                    0.5,
                    1,
                    1.5,
                    2,
                    2.5,
                    3,
                    3.5,
                    4,
                    4.5,
                    5,
                    5.5,
                    6,
                    6.5,
                    7,
                    7.5,
                    8,
                    8.5,
                    9,
                    9.5,
                    10,
                    10.5,
                    11,
                    11.5,
                    12,
                    12.5,
                    13,
                    13.5,
                    14,
                    14.5,
                    15,
                    15.5,
                    16,
                    16.5,
                    17,
                    17.5,
                    18,
                    18.5,
                    19,
                    19.5,
                    20,
                    20.5,
                    21,
                    21.5,
                    22,
                    22.5,
                    23,
                    23.5,
                    24,
                    24.5,
                    25,
                    25.5,
                    26,
                    26.5,
                    27,
                    27.5,
                    28,
                    28.5,
                    29,
                    29.5,
                    30,
                    30.5,
                    31,
                    31.5,
                    32
                  ],
                  "xaxis": "x",
                  "y": [
                    0.004225567448884249,
                    0.026923174038529396,
                    0.02849958837032318,
                    -0.0020483476109802723,
                    0.01683690771460533,
                    0.011096879839897156,
                    -0.005655782762914896,
                    0.012099540792405605,
                    0.023172562941908836,
                    0.039041366428136826,
                    0.059026699513196945,
                    0.0643003061413765,
                    0.08807560056447983,
                    0.10329512506723404,
                    0.08439601957798004,
                    0.09448248147964478,
                    0.08784639835357666,
                    0.07486741244792938,
                    0.014149420894682407,
                    0.03846270218491554,
                    0.04461029917001724,
                    0.015690166503190994,
                    0.02880374900996685,
                    0.10827763378620148,
                    0.12279311567544937,
                    0.07137471437454224,
                    0.08438140898942947,
                    0.04787876084446907,
                    0.01921040005981922,
                    -0.118411123752594,
                    -0.15477856993675232,
                    -0.05536844581365585,
                    -0.057730697095394135,
                    -0.13623012602329254,
                    -0.09674088656902313,
                    -0.011787806637585163,
                    -0.06310702860355377,
                    -0.08262121677398682,
                    -0.137469083070755,
                    0.0011770810233429074,
                    -0.06180671229958534,
                    -0.1576778143644333,
                    -0.17031216621398926,
                    -0.09730402380228043,
                    -0.19874636828899384,
                    -0.48280254006385803,
                    -0.5337656736373901,
                    -0.5754502415657043,
                    -0.5838106870651245,
                    -1.0205578804016113,
                    -1.0236536264419556,
                    -1.214504361152649,
                    -1.2876805067062378,
                    -1.300535798072815,
                    -1.2533193826675415,
                    -1.2970283031463623,
                    -1.1330759525299072,
                    -1.193156361579895,
                    -1.085296630859375,
                    -1.0744038820266724,
                    -0.9760263562202454,
                    -0.975957453250885,
                    -0.9901189804077148,
                    -1.0425026416778564,
                    -1.044162392616272
                  ],
                  "yaxis": "y"
                }
              ],
              "layout": {
                "legend": {
                  "tracegroupgap": 0
                },
                "template": {
                  "data": {
                    "bar": [
                      {
                        "error_x": {
                          "color": "#2a3f5f"
                        },
                        "error_y": {
                          "color": "#2a3f5f"
                        },
                        "marker": {
                          "line": {
                            "color": "#E5ECF6",
                            "width": 0.5
                          },
                          "pattern": {
                            "fillmode": "overlay",
                            "size": 10,
                            "solidity": 0.2
                          }
                        },
                        "type": "bar"
                      }
                    ],
                    "barpolar": [
                      {
                        "marker": {
                          "line": {
                            "color": "#E5ECF6",
                            "width": 0.5
                          },
                          "pattern": {
                            "fillmode": "overlay",
                            "size": 10,
                            "solidity": 0.2
                          }
                        },
                        "type": "barpolar"
                      }
                    ],
                    "carpet": [
                      {
                        "aaxis": {
                          "endlinecolor": "#2a3f5f",
                          "gridcolor": "white",
                          "linecolor": "white",
                          "minorgridcolor": "white",
                          "startlinecolor": "#2a3f5f"
                        },
                        "baxis": {
                          "endlinecolor": "#2a3f5f",
                          "gridcolor": "white",
                          "linecolor": "white",
                          "minorgridcolor": "white",
                          "startlinecolor": "#2a3f5f"
                        },
                        "type": "carpet"
                      }
                    ],
                    "choropleth": [
                      {
                        "colorbar": {
                          "outlinewidth": 0,
                          "ticks": ""
                        },
                        "type": "choropleth"
                      }
                    ],
                    "contour": [
                      {
                        "colorbar": {
                          "outlinewidth": 0,
                          "ticks": ""
                        },
                        "colorscale": [
                          [
                            0,
                            "#0d0887"
                          ],
                          [
                            0.1111111111111111,
                            "#46039f"
                          ],
                          [
                            0.2222222222222222,
                            "#7201a8"
                          ],
                          [
                            0.3333333333333333,
                            "#9c179e"
                          ],
                          [
                            0.4444444444444444,
                            "#bd3786"
                          ],
                          [
                            0.5555555555555556,
                            "#d8576b"
                          ],
                          [
                            0.6666666666666666,
                            "#ed7953"
                          ],
                          [
                            0.7777777777777778,
                            "#fb9f3a"
                          ],
                          [
                            0.8888888888888888,
                            "#fdca26"
                          ],
                          [
                            1,
                            "#f0f921"
                          ]
                        ],
                        "type": "contour"
                      }
                    ],
                    "contourcarpet": [
                      {
                        "colorbar": {
                          "outlinewidth": 0,
                          "ticks": ""
                        },
                        "type": "contourcarpet"
                      }
                    ],
                    "heatmap": [
                      {
                        "colorbar": {
                          "outlinewidth": 0,
                          "ticks": ""
                        },
                        "colorscale": [
                          [
                            0,
                            "#0d0887"
                          ],
                          [
                            0.1111111111111111,
                            "#46039f"
                          ],
                          [
                            0.2222222222222222,
                            "#7201a8"
                          ],
                          [
                            0.3333333333333333,
                            "#9c179e"
                          ],
                          [
                            0.4444444444444444,
                            "#bd3786"
                          ],
                          [
                            0.5555555555555556,
                            "#d8576b"
                          ],
                          [
                            0.6666666666666666,
                            "#ed7953"
                          ],
                          [
                            0.7777777777777778,
                            "#fb9f3a"
                          ],
                          [
                            0.8888888888888888,
                            "#fdca26"
                          ],
                          [
                            1,
                            "#f0f921"
                          ]
                        ],
                        "type": "heatmap"
                      }
                    ],
                    "heatmapgl": [
                      {
                        "colorbar": {
                          "outlinewidth": 0,
                          "ticks": ""
                        },
                        "colorscale": [
                          [
                            0,
                            "#0d0887"
                          ],
                          [
                            0.1111111111111111,
                            "#46039f"
                          ],
                          [
                            0.2222222222222222,
                            "#7201a8"
                          ],
                          [
                            0.3333333333333333,
                            "#9c179e"
                          ],
                          [
                            0.4444444444444444,
                            "#bd3786"
                          ],
                          [
                            0.5555555555555556,
                            "#d8576b"
                          ],
                          [
                            0.6666666666666666,
                            "#ed7953"
                          ],
                          [
                            0.7777777777777778,
                            "#fb9f3a"
                          ],
                          [
                            0.8888888888888888,
                            "#fdca26"
                          ],
                          [
                            1,
                            "#f0f921"
                          ]
                        ],
                        "type": "heatmapgl"
                      }
                    ],
                    "histogram": [
                      {
                        "marker": {
                          "pattern": {
                            "fillmode": "overlay",
                            "size": 10,
                            "solidity": 0.2
                          }
                        },
                        "type": "histogram"
                      }
                    ],
                    "histogram2d": [
                      {
                        "colorbar": {
                          "outlinewidth": 0,
                          "ticks": ""
                        },
                        "colorscale": [
                          [
                            0,
                            "#0d0887"
                          ],
                          [
                            0.1111111111111111,
                            "#46039f"
                          ],
                          [
                            0.2222222222222222,
                            "#7201a8"
                          ],
                          [
                            0.3333333333333333,
                            "#9c179e"
                          ],
                          [
                            0.4444444444444444,
                            "#bd3786"
                          ],
                          [
                            0.5555555555555556,
                            "#d8576b"
                          ],
                          [
                            0.6666666666666666,
                            "#ed7953"
                          ],
                          [
                            0.7777777777777778,
                            "#fb9f3a"
                          ],
                          [
                            0.8888888888888888,
                            "#fdca26"
                          ],
                          [
                            1,
                            "#f0f921"
                          ]
                        ],
                        "type": "histogram2d"
                      }
                    ],
                    "histogram2dcontour": [
                      {
                        "colorbar": {
                          "outlinewidth": 0,
                          "ticks": ""
                        },
                        "colorscale": [
                          [
                            0,
                            "#0d0887"
                          ],
                          [
                            0.1111111111111111,
                            "#46039f"
                          ],
                          [
                            0.2222222222222222,
                            "#7201a8"
                          ],
                          [
                            0.3333333333333333,
                            "#9c179e"
                          ],
                          [
                            0.4444444444444444,
                            "#bd3786"
                          ],
                          [
                            0.5555555555555556,
                            "#d8576b"
                          ],
                          [
                            0.6666666666666666,
                            "#ed7953"
                          ],
                          [
                            0.7777777777777778,
                            "#fb9f3a"
                          ],
                          [
                            0.8888888888888888,
                            "#fdca26"
                          ],
                          [
                            1,
                            "#f0f921"
                          ]
                        ],
                        "type": "histogram2dcontour"
                      }
                    ],
                    "mesh3d": [
                      {
                        "colorbar": {
                          "outlinewidth": 0,
                          "ticks": ""
                        },
                        "type": "mesh3d"
                      }
                    ],
                    "parcoords": [
                      {
                        "line": {
                          "colorbar": {
                            "outlinewidth": 0,
                            "ticks": ""
                          }
                        },
                        "type": "parcoords"
                      }
                    ],
                    "pie": [
                      {
                        "automargin": true,
                        "type": "pie"
                      }
                    ],
                    "scatter": [
                      {
                        "fillpattern": {
                          "fillmode": "overlay",
                          "size": 10,
                          "solidity": 0.2
                        },
                        "type": "scatter"
                      }
                    ],
                    "scatter3d": [
                      {
                        "line": {
                          "colorbar": {
                            "outlinewidth": 0,
                            "ticks": ""
                          }
                        },
                        "marker": {
                          "colorbar": {
                            "outlinewidth": 0,
                            "ticks": ""
                          }
                        },
                        "type": "scatter3d"
                      }
                    ],
                    "scattercarpet": [
                      {
                        "marker": {
                          "colorbar": {
                            "outlinewidth": 0,
                            "ticks": ""
                          }
                        },
                        "type": "scattercarpet"
                      }
                    ],
                    "scattergeo": [
                      {
                        "marker": {
                          "colorbar": {
                            "outlinewidth": 0,
                            "ticks": ""
                          }
                        },
                        "type": "scattergeo"
                      }
                    ],
                    "scattergl": [
                      {
                        "marker": {
                          "colorbar": {
                            "outlinewidth": 0,
                            "ticks": ""
                          }
                        },
                        "type": "scattergl"
                      }
                    ],
                    "scattermapbox": [
                      {
                        "marker": {
                          "colorbar": {
                            "outlinewidth": 0,
                            "ticks": ""
                          }
                        },
                        "type": "scattermapbox"
                      }
                    ],
                    "scatterpolar": [
                      {
                        "marker": {
                          "colorbar": {
                            "outlinewidth": 0,
                            "ticks": ""
                          }
                        },
                        "type": "scatterpolar"
                      }
                    ],
                    "scatterpolargl": [
                      {
                        "marker": {
                          "colorbar": {
                            "outlinewidth": 0,
                            "ticks": ""
                          }
                        },
                        "type": "scatterpolargl"
                      }
                    ],
                    "scatterternary": [
                      {
                        "marker": {
                          "colorbar": {
                            "outlinewidth": 0,
                            "ticks": ""
                          }
                        },
                        "type": "scatterternary"
                      }
                    ],
                    "surface": [
                      {
                        "colorbar": {
                          "outlinewidth": 0,
                          "ticks": ""
                        },
                        "colorscale": [
                          [
                            0,
                            "#0d0887"
                          ],
                          [
                            0.1111111111111111,
                            "#46039f"
                          ],
                          [
                            0.2222222222222222,
                            "#7201a8"
                          ],
                          [
                            0.3333333333333333,
                            "#9c179e"
                          ],
                          [
                            0.4444444444444444,
                            "#bd3786"
                          ],
                          [
                            0.5555555555555556,
                            "#d8576b"
                          ],
                          [
                            0.6666666666666666,
                            "#ed7953"
                          ],
                          [
                            0.7777777777777778,
                            "#fb9f3a"
                          ],
                          [
                            0.8888888888888888,
                            "#fdca26"
                          ],
                          [
                            1,
                            "#f0f921"
                          ]
                        ],
                        "type": "surface"
                      }
                    ],
                    "table": [
                      {
                        "cells": {
                          "fill": {
                            "color": "#EBF0F8"
                          },
                          "line": {
                            "color": "white"
                          }
                        },
                        "header": {
                          "fill": {
                            "color": "#C8D4E3"
                          },
                          "line": {
                            "color": "white"
                          }
                        },
                        "type": "table"
                      }
                    ]
                  },
                  "layout": {
                    "annotationdefaults": {
                      "arrowcolor": "#2a3f5f",
                      "arrowhead": 0,
                      "arrowwidth": 1
                    },
                    "autotypenumbers": "strict",
                    "coloraxis": {
                      "colorbar": {
                        "outlinewidth": 0,
                        "ticks": ""
                      }
                    },
                    "colorscale": {
                      "diverging": [
                        [
                          0,
                          "#8e0152"
                        ],
                        [
                          0.1,
                          "#c51b7d"
                        ],
                        [
                          0.2,
                          "#de77ae"
                        ],
                        [
                          0.3,
                          "#f1b6da"
                        ],
                        [
                          0.4,
                          "#fde0ef"
                        ],
                        [
                          0.5,
                          "#f7f7f7"
                        ],
                        [
                          0.6,
                          "#e6f5d0"
                        ],
                        [
                          0.7,
                          "#b8e186"
                        ],
                        [
                          0.8,
                          "#7fbc41"
                        ],
                        [
                          0.9,
                          "#4d9221"
                        ],
                        [
                          1,
                          "#276419"
                        ]
                      ],
                      "sequential": [
                        [
                          0,
                          "#0d0887"
                        ],
                        [
                          0.1111111111111111,
                          "#46039f"
                        ],
                        [
                          0.2222222222222222,
                          "#7201a8"
                        ],
                        [
                          0.3333333333333333,
                          "#9c179e"
                        ],
                        [
                          0.4444444444444444,
                          "#bd3786"
                        ],
                        [
                          0.5555555555555556,
                          "#d8576b"
                        ],
                        [
                          0.6666666666666666,
                          "#ed7953"
                        ],
                        [
                          0.7777777777777778,
                          "#fb9f3a"
                        ],
                        [
                          0.8888888888888888,
                          "#fdca26"
                        ],
                        [
                          1,
                          "#f0f921"
                        ]
                      ],
                      "sequentialminus": [
                        [
                          0,
                          "#0d0887"
                        ],
                        [
                          0.1111111111111111,
                          "#46039f"
                        ],
                        [
                          0.2222222222222222,
                          "#7201a8"
                        ],
                        [
                          0.3333333333333333,
                          "#9c179e"
                        ],
                        [
                          0.4444444444444444,
                          "#bd3786"
                        ],
                        [
                          0.5555555555555556,
                          "#d8576b"
                        ],
                        [
                          0.6666666666666666,
                          "#ed7953"
                        ],
                        [
                          0.7777777777777778,
                          "#fb9f3a"
                        ],
                        [
                          0.8888888888888888,
                          "#fdca26"
                        ],
                        [
                          1,
                          "#f0f921"
                        ]
                      ]
                    },
                    "colorway": [
                      "#636efa",
                      "#EF553B",
                      "#00cc96",
                      "#ab63fa",
                      "#FFA15A",
                      "#19d3f3",
                      "#FF6692",
                      "#B6E880",
                      "#FF97FF",
                      "#FECB52"
                    ],
                    "font": {
                      "color": "#2a3f5f"
                    },
                    "geo": {
                      "bgcolor": "white",
                      "lakecolor": "white",
                      "landcolor": "#E5ECF6",
                      "showlakes": true,
                      "showland": true,
                      "subunitcolor": "white"
                    },
                    "hoverlabel": {
                      "align": "left"
                    },
                    "hovermode": "closest",
                    "mapbox": {
                      "style": "light"
                    },
                    "paper_bgcolor": "white",
                    "plot_bgcolor": "#E5ECF6",
                    "polar": {
                      "angularaxis": {
                        "gridcolor": "white",
                        "linecolor": "white",
                        "ticks": ""
                      },
                      "bgcolor": "#E5ECF6",
                      "radialaxis": {
                        "gridcolor": "white",
                        "linecolor": "white",
                        "ticks": ""
                      }
                    },
                    "scene": {
                      "xaxis": {
                        "backgroundcolor": "#E5ECF6",
                        "gridcolor": "white",
                        "gridwidth": 2,
                        "linecolor": "white",
                        "showbackground": true,
                        "ticks": "",
                        "zerolinecolor": "white"
                      },
                      "yaxis": {
                        "backgroundcolor": "#E5ECF6",
                        "gridcolor": "white",
                        "gridwidth": 2,
                        "linecolor": "white",
                        "showbackground": true,
                        "ticks": "",
                        "zerolinecolor": "white"
                      },
                      "zaxis": {
                        "backgroundcolor": "#E5ECF6",
                        "gridcolor": "white",
                        "gridwidth": 2,
                        "linecolor": "white",
                        "showbackground": true,
                        "ticks": "",
                        "zerolinecolor": "white"
                      }
                    },
                    "shapedefaults": {
                      "line": {
                        "color": "#2a3f5f"
                      }
                    },
                    "ternary": {
                      "aaxis": {
                        "gridcolor": "white",
                        "linecolor": "white",
                        "ticks": ""
                      },
                      "baxis": {
                        "gridcolor": "white",
                        "linecolor": "white",
                        "ticks": ""
                      },
                      "bgcolor": "#E5ECF6",
                      "caxis": {
                        "gridcolor": "white",
                        "linecolor": "white",
                        "ticks": ""
                      }
                    },
                    "title": {
                      "x": 0.05
                    },
                    "xaxis": {
                      "automargin": true,
                      "gridcolor": "white",
                      "linecolor": "white",
                      "ticks": "",
                      "title": {
                        "standoff": 15
                      },
                      "zerolinecolor": "white",
                      "zerolinewidth": 2
                    },
                    "yaxis": {
                      "automargin": true,
                      "gridcolor": "white",
                      "linecolor": "white",
                      "ticks": "",
                      "title": {
                        "standoff": 15
                      },
                      "zerolinecolor": "white",
                      "zerolinewidth": 2
                    }
                  }
                },
                "title": {
                  "text": "Elided Logit Difference From Accumulated Residual Stream"
                },
                "xaxis": {
                  "anchor": "y",
                  "domain": [
                    0,
                    1
                  ],
                  "title": {
                    "text": "x"
                  }
                },
                "yaxis": {
                  "anchor": "x",
                  "domain": [
                    0,
                    1
                  ],
                  "title": {
                    "text": "y"
                  }
                }
              }
            }
          },
          "metadata": {},
          "output_type": "display_data"
        }
      ],
      "source": [
        "elided_accumulated_residual, labels = elided_cache.accumulated_resid(\n",
        "    layer=-1, incl_mid=True, pos_slice=-1, return_labels=True\n",
        ")\n",
        "elided_logit_lens_logit_diffs = residual_stack_to_logit_diff(\n",
        "    elided_accumulated_residual, elided_cache, elided_logit_diff_directions\n",
        ")\n",
        "line(\n",
        "    elided_logit_lens_logit_diffs,\n",
        "    x=np.arange(model.cfg.n_layers * 2 + 1) / 2,\n",
        "    hover_name=labels,\n",
        "    title=\"Elided Logit Difference From Accumulated Residual Stream\",\n",
        ")"
      ]
    },
    {
      "cell_type": "markdown",
      "metadata": {
        "id": "_94rGeTBUvUS"
      },
      "source": [
        "### Layer Attribution"
      ]
    },
    {
      "cell_type": "markdown",
      "metadata": {},
      "source": [
        "Observe that most of the logit diffs are in the attention layers. This suggests that attending to words like 'instead' and moving that info is big. Whereas after eliding the prompts, the logit diffs are all over the place, and much weaker. My intuition is that once those key words are gone, info is diffused and the model can't just attend to find an answer. This suggests that the hypothesis \n",
        "\n"
      ]
    },
    {
      "cell_type": "code",
      "execution_count": 37,
      "metadata": {
        "id": "cYzCmy8CUvUS",
        "outputId": "85f8c258-a532-410d-c97e-266a176f8062"
      },
      "outputs": [
        {
          "data": {
            "application/vnd.plotly.v1+json": {
              "config": {
                "plotlyServerURL": "https://plot.ly"
              },
              "data": [
                {
                  "hovertemplate": "<b>%{hovertext}</b><br><br>x=%{x}<br>y=%{y}<extra></extra>",
                  "hovertext": [
                    "embed",
                    "pos_embed",
                    "0_attn_out",
                    "0_mlp_out",
                    "1_attn_out",
                    "1_mlp_out",
                    "2_attn_out",
                    "2_mlp_out",
                    "3_attn_out",
                    "3_mlp_out",
                    "4_attn_out",
                    "4_mlp_out",
                    "5_attn_out",
                    "5_mlp_out",
                    "6_attn_out",
                    "6_mlp_out",
                    "7_attn_out",
                    "7_mlp_out",
                    "8_attn_out",
                    "8_mlp_out",
                    "9_attn_out",
                    "9_mlp_out",
                    "10_attn_out",
                    "10_mlp_out",
                    "11_attn_out",
                    "11_mlp_out",
                    "12_attn_out",
                    "12_mlp_out",
                    "13_attn_out",
                    "13_mlp_out",
                    "14_attn_out",
                    "14_mlp_out",
                    "15_attn_out",
                    "15_mlp_out",
                    "16_attn_out",
                    "16_mlp_out",
                    "17_attn_out",
                    "17_mlp_out",
                    "18_attn_out",
                    "18_mlp_out",
                    "19_attn_out",
                    "19_mlp_out",
                    "20_attn_out",
                    "20_mlp_out",
                    "21_attn_out",
                    "21_mlp_out",
                    "22_attn_out",
                    "22_mlp_out",
                    "23_attn_out",
                    "23_mlp_out",
                    "24_attn_out",
                    "24_mlp_out",
                    "25_attn_out",
                    "25_mlp_out",
                    "26_attn_out",
                    "26_mlp_out",
                    "27_attn_out",
                    "27_mlp_out",
                    "28_attn_out",
                    "28_mlp_out",
                    "29_attn_out",
                    "29_mlp_out",
                    "30_attn_out",
                    "30_mlp_out",
                    "31_attn_out",
                    "31_mlp_out"
                  ],
                  "legendgroup": "",
                  "line": {
                    "color": "#636efa",
                    "dash": "solid"
                  },
                  "marker": {
                    "symbol": "circle"
                  },
                  "mode": "lines",
                  "name": "",
                  "orientation": "v",
                  "showlegend": false,
                  "type": "scatter",
                  "x": [
                    0,
                    1,
                    2,
                    3,
                    4,
                    5,
                    6,
                    7,
                    8,
                    9,
                    10,
                    11,
                    12,
                    13,
                    14,
                    15,
                    16,
                    17,
                    18,
                    19,
                    20,
                    21,
                    22,
                    23,
                    24,
                    25,
                    26,
                    27,
                    28,
                    29,
                    30,
                    31,
                    32,
                    33,
                    34,
                    35,
                    36,
                    37,
                    38,
                    39,
                    40,
                    41,
                    42,
                    43,
                    44,
                    45,
                    46,
                    47,
                    48,
                    49,
                    50,
                    51,
                    52,
                    53,
                    54,
                    55,
                    56,
                    57,
                    58,
                    59,
                    60,
                    61,
                    62,
                    63,
                    64,
                    65
                  ],
                  "xaxis": "x",
                  "y": [
                    0.005598092917352915,
                    -0.00007435071893269196,
                    0.02054188773036003,
                    -0.003632256994023919,
                    -0.034239765256643295,
                    0.020048709586262703,
                    -0.0068185171112418175,
                    -0.015963256359100342,
                    0.023090001195669174,
                    0.009811953641474247,
                    0.01637996733188629,
                    0.018741538748145103,
                    0.00800761766731739,
                    0.02235708199441433,
                    0.01341124065220356,
                    -0.015494192950427532,
                    0.009436385706067085,
                    0.0026320009492337704,
                    -0.028820902109146118,
                    -0.056361373513936996,
                    0.02051660418510437,
                    0.008851824328303337,
                    -0.02528252825140953,
                    0.011626064777374268,
                    0.11573009938001633,
                    0.03366505354642868,
                    -0.0483381450176239,
                    0.010402492247521877,
                    -0.010061112232506275,
                    -0.03659731149673462,
                    0.03221413865685463,
                    -0.053512025624513626,
                    0.4055900573730469,
                    -0.01105955708771944,
                    0.014945798553526402,
                    0.050505269318819046,
                    0.5762173533439636,
                    0.05403272435069084,
                    0.0193613450974226,
                    0.05868098512291908,
                    0.7414694428443909,
                    0.039077695459127426,
                    -0.09094059467315674,
                    0.11246554553508759,
                    0.37007245421409607,
                    0.03808998316526413,
                    -0.06252491474151611,
                    0.035893235355615616,
                    0.14315254986286163,
                    -0.046020302921533585,
                    -0.2710428535938263,
                    0.03405456617474556,
                    -0.10440822690725327,
                    -0.07143433392047882,
                    -0.01781366392970085,
                    0.018206629902124405,
                    0.12814466655254364,
                    0.0791550949215889,
                    -0.04374367371201515,
                    0.12059991806745529,
                    0.05571892485022545,
                    0.07355105131864548,
                    0.00873765628784895,
                    0.025328943505883217,
                    -0.039344217628240585,
                    -0.1282416582107544
                  ],
                  "yaxis": "y"
                }
              ],
              "layout": {
                "legend": {
                  "tracegroupgap": 0
                },
                "template": {
                  "data": {
                    "bar": [
                      {
                        "error_x": {
                          "color": "#2a3f5f"
                        },
                        "error_y": {
                          "color": "#2a3f5f"
                        },
                        "marker": {
                          "line": {
                            "color": "#E5ECF6",
                            "width": 0.5
                          },
                          "pattern": {
                            "fillmode": "overlay",
                            "size": 10,
                            "solidity": 0.2
                          }
                        },
                        "type": "bar"
                      }
                    ],
                    "barpolar": [
                      {
                        "marker": {
                          "line": {
                            "color": "#E5ECF6",
                            "width": 0.5
                          },
                          "pattern": {
                            "fillmode": "overlay",
                            "size": 10,
                            "solidity": 0.2
                          }
                        },
                        "type": "barpolar"
                      }
                    ],
                    "carpet": [
                      {
                        "aaxis": {
                          "endlinecolor": "#2a3f5f",
                          "gridcolor": "white",
                          "linecolor": "white",
                          "minorgridcolor": "white",
                          "startlinecolor": "#2a3f5f"
                        },
                        "baxis": {
                          "endlinecolor": "#2a3f5f",
                          "gridcolor": "white",
                          "linecolor": "white",
                          "minorgridcolor": "white",
                          "startlinecolor": "#2a3f5f"
                        },
                        "type": "carpet"
                      }
                    ],
                    "choropleth": [
                      {
                        "colorbar": {
                          "outlinewidth": 0,
                          "ticks": ""
                        },
                        "type": "choropleth"
                      }
                    ],
                    "contour": [
                      {
                        "colorbar": {
                          "outlinewidth": 0,
                          "ticks": ""
                        },
                        "colorscale": [
                          [
                            0,
                            "#0d0887"
                          ],
                          [
                            0.1111111111111111,
                            "#46039f"
                          ],
                          [
                            0.2222222222222222,
                            "#7201a8"
                          ],
                          [
                            0.3333333333333333,
                            "#9c179e"
                          ],
                          [
                            0.4444444444444444,
                            "#bd3786"
                          ],
                          [
                            0.5555555555555556,
                            "#d8576b"
                          ],
                          [
                            0.6666666666666666,
                            "#ed7953"
                          ],
                          [
                            0.7777777777777778,
                            "#fb9f3a"
                          ],
                          [
                            0.8888888888888888,
                            "#fdca26"
                          ],
                          [
                            1,
                            "#f0f921"
                          ]
                        ],
                        "type": "contour"
                      }
                    ],
                    "contourcarpet": [
                      {
                        "colorbar": {
                          "outlinewidth": 0,
                          "ticks": ""
                        },
                        "type": "contourcarpet"
                      }
                    ],
                    "heatmap": [
                      {
                        "colorbar": {
                          "outlinewidth": 0,
                          "ticks": ""
                        },
                        "colorscale": [
                          [
                            0,
                            "#0d0887"
                          ],
                          [
                            0.1111111111111111,
                            "#46039f"
                          ],
                          [
                            0.2222222222222222,
                            "#7201a8"
                          ],
                          [
                            0.3333333333333333,
                            "#9c179e"
                          ],
                          [
                            0.4444444444444444,
                            "#bd3786"
                          ],
                          [
                            0.5555555555555556,
                            "#d8576b"
                          ],
                          [
                            0.6666666666666666,
                            "#ed7953"
                          ],
                          [
                            0.7777777777777778,
                            "#fb9f3a"
                          ],
                          [
                            0.8888888888888888,
                            "#fdca26"
                          ],
                          [
                            1,
                            "#f0f921"
                          ]
                        ],
                        "type": "heatmap"
                      }
                    ],
                    "heatmapgl": [
                      {
                        "colorbar": {
                          "outlinewidth": 0,
                          "ticks": ""
                        },
                        "colorscale": [
                          [
                            0,
                            "#0d0887"
                          ],
                          [
                            0.1111111111111111,
                            "#46039f"
                          ],
                          [
                            0.2222222222222222,
                            "#7201a8"
                          ],
                          [
                            0.3333333333333333,
                            "#9c179e"
                          ],
                          [
                            0.4444444444444444,
                            "#bd3786"
                          ],
                          [
                            0.5555555555555556,
                            "#d8576b"
                          ],
                          [
                            0.6666666666666666,
                            "#ed7953"
                          ],
                          [
                            0.7777777777777778,
                            "#fb9f3a"
                          ],
                          [
                            0.8888888888888888,
                            "#fdca26"
                          ],
                          [
                            1,
                            "#f0f921"
                          ]
                        ],
                        "type": "heatmapgl"
                      }
                    ],
                    "histogram": [
                      {
                        "marker": {
                          "pattern": {
                            "fillmode": "overlay",
                            "size": 10,
                            "solidity": 0.2
                          }
                        },
                        "type": "histogram"
                      }
                    ],
                    "histogram2d": [
                      {
                        "colorbar": {
                          "outlinewidth": 0,
                          "ticks": ""
                        },
                        "colorscale": [
                          [
                            0,
                            "#0d0887"
                          ],
                          [
                            0.1111111111111111,
                            "#46039f"
                          ],
                          [
                            0.2222222222222222,
                            "#7201a8"
                          ],
                          [
                            0.3333333333333333,
                            "#9c179e"
                          ],
                          [
                            0.4444444444444444,
                            "#bd3786"
                          ],
                          [
                            0.5555555555555556,
                            "#d8576b"
                          ],
                          [
                            0.6666666666666666,
                            "#ed7953"
                          ],
                          [
                            0.7777777777777778,
                            "#fb9f3a"
                          ],
                          [
                            0.8888888888888888,
                            "#fdca26"
                          ],
                          [
                            1,
                            "#f0f921"
                          ]
                        ],
                        "type": "histogram2d"
                      }
                    ],
                    "histogram2dcontour": [
                      {
                        "colorbar": {
                          "outlinewidth": 0,
                          "ticks": ""
                        },
                        "colorscale": [
                          [
                            0,
                            "#0d0887"
                          ],
                          [
                            0.1111111111111111,
                            "#46039f"
                          ],
                          [
                            0.2222222222222222,
                            "#7201a8"
                          ],
                          [
                            0.3333333333333333,
                            "#9c179e"
                          ],
                          [
                            0.4444444444444444,
                            "#bd3786"
                          ],
                          [
                            0.5555555555555556,
                            "#d8576b"
                          ],
                          [
                            0.6666666666666666,
                            "#ed7953"
                          ],
                          [
                            0.7777777777777778,
                            "#fb9f3a"
                          ],
                          [
                            0.8888888888888888,
                            "#fdca26"
                          ],
                          [
                            1,
                            "#f0f921"
                          ]
                        ],
                        "type": "histogram2dcontour"
                      }
                    ],
                    "mesh3d": [
                      {
                        "colorbar": {
                          "outlinewidth": 0,
                          "ticks": ""
                        },
                        "type": "mesh3d"
                      }
                    ],
                    "parcoords": [
                      {
                        "line": {
                          "colorbar": {
                            "outlinewidth": 0,
                            "ticks": ""
                          }
                        },
                        "type": "parcoords"
                      }
                    ],
                    "pie": [
                      {
                        "automargin": true,
                        "type": "pie"
                      }
                    ],
                    "scatter": [
                      {
                        "fillpattern": {
                          "fillmode": "overlay",
                          "size": 10,
                          "solidity": 0.2
                        },
                        "type": "scatter"
                      }
                    ],
                    "scatter3d": [
                      {
                        "line": {
                          "colorbar": {
                            "outlinewidth": 0,
                            "ticks": ""
                          }
                        },
                        "marker": {
                          "colorbar": {
                            "outlinewidth": 0,
                            "ticks": ""
                          }
                        },
                        "type": "scatter3d"
                      }
                    ],
                    "scattercarpet": [
                      {
                        "marker": {
                          "colorbar": {
                            "outlinewidth": 0,
                            "ticks": ""
                          }
                        },
                        "type": "scattercarpet"
                      }
                    ],
                    "scattergeo": [
                      {
                        "marker": {
                          "colorbar": {
                            "outlinewidth": 0,
                            "ticks": ""
                          }
                        },
                        "type": "scattergeo"
                      }
                    ],
                    "scattergl": [
                      {
                        "marker": {
                          "colorbar": {
                            "outlinewidth": 0,
                            "ticks": ""
                          }
                        },
                        "type": "scattergl"
                      }
                    ],
                    "scattermapbox": [
                      {
                        "marker": {
                          "colorbar": {
                            "outlinewidth": 0,
                            "ticks": ""
                          }
                        },
                        "type": "scattermapbox"
                      }
                    ],
                    "scatterpolar": [
                      {
                        "marker": {
                          "colorbar": {
                            "outlinewidth": 0,
                            "ticks": ""
                          }
                        },
                        "type": "scatterpolar"
                      }
                    ],
                    "scatterpolargl": [
                      {
                        "marker": {
                          "colorbar": {
                            "outlinewidth": 0,
                            "ticks": ""
                          }
                        },
                        "type": "scatterpolargl"
                      }
                    ],
                    "scatterternary": [
                      {
                        "marker": {
                          "colorbar": {
                            "outlinewidth": 0,
                            "ticks": ""
                          }
                        },
                        "type": "scatterternary"
                      }
                    ],
                    "surface": [
                      {
                        "colorbar": {
                          "outlinewidth": 0,
                          "ticks": ""
                        },
                        "colorscale": [
                          [
                            0,
                            "#0d0887"
                          ],
                          [
                            0.1111111111111111,
                            "#46039f"
                          ],
                          [
                            0.2222222222222222,
                            "#7201a8"
                          ],
                          [
                            0.3333333333333333,
                            "#9c179e"
                          ],
                          [
                            0.4444444444444444,
                            "#bd3786"
                          ],
                          [
                            0.5555555555555556,
                            "#d8576b"
                          ],
                          [
                            0.6666666666666666,
                            "#ed7953"
                          ],
                          [
                            0.7777777777777778,
                            "#fb9f3a"
                          ],
                          [
                            0.8888888888888888,
                            "#fdca26"
                          ],
                          [
                            1,
                            "#f0f921"
                          ]
                        ],
                        "type": "surface"
                      }
                    ],
                    "table": [
                      {
                        "cells": {
                          "fill": {
                            "color": "#EBF0F8"
                          },
                          "line": {
                            "color": "white"
                          }
                        },
                        "header": {
                          "fill": {
                            "color": "#C8D4E3"
                          },
                          "line": {
                            "color": "white"
                          }
                        },
                        "type": "table"
                      }
                    ]
                  },
                  "layout": {
                    "annotationdefaults": {
                      "arrowcolor": "#2a3f5f",
                      "arrowhead": 0,
                      "arrowwidth": 1
                    },
                    "autotypenumbers": "strict",
                    "coloraxis": {
                      "colorbar": {
                        "outlinewidth": 0,
                        "ticks": ""
                      }
                    },
                    "colorscale": {
                      "diverging": [
                        [
                          0,
                          "#8e0152"
                        ],
                        [
                          0.1,
                          "#c51b7d"
                        ],
                        [
                          0.2,
                          "#de77ae"
                        ],
                        [
                          0.3,
                          "#f1b6da"
                        ],
                        [
                          0.4,
                          "#fde0ef"
                        ],
                        [
                          0.5,
                          "#f7f7f7"
                        ],
                        [
                          0.6,
                          "#e6f5d0"
                        ],
                        [
                          0.7,
                          "#b8e186"
                        ],
                        [
                          0.8,
                          "#7fbc41"
                        ],
                        [
                          0.9,
                          "#4d9221"
                        ],
                        [
                          1,
                          "#276419"
                        ]
                      ],
                      "sequential": [
                        [
                          0,
                          "#0d0887"
                        ],
                        [
                          0.1111111111111111,
                          "#46039f"
                        ],
                        [
                          0.2222222222222222,
                          "#7201a8"
                        ],
                        [
                          0.3333333333333333,
                          "#9c179e"
                        ],
                        [
                          0.4444444444444444,
                          "#bd3786"
                        ],
                        [
                          0.5555555555555556,
                          "#d8576b"
                        ],
                        [
                          0.6666666666666666,
                          "#ed7953"
                        ],
                        [
                          0.7777777777777778,
                          "#fb9f3a"
                        ],
                        [
                          0.8888888888888888,
                          "#fdca26"
                        ],
                        [
                          1,
                          "#f0f921"
                        ]
                      ],
                      "sequentialminus": [
                        [
                          0,
                          "#0d0887"
                        ],
                        [
                          0.1111111111111111,
                          "#46039f"
                        ],
                        [
                          0.2222222222222222,
                          "#7201a8"
                        ],
                        [
                          0.3333333333333333,
                          "#9c179e"
                        ],
                        [
                          0.4444444444444444,
                          "#bd3786"
                        ],
                        [
                          0.5555555555555556,
                          "#d8576b"
                        ],
                        [
                          0.6666666666666666,
                          "#ed7953"
                        ],
                        [
                          0.7777777777777778,
                          "#fb9f3a"
                        ],
                        [
                          0.8888888888888888,
                          "#fdca26"
                        ],
                        [
                          1,
                          "#f0f921"
                        ]
                      ]
                    },
                    "colorway": [
                      "#636efa",
                      "#EF553B",
                      "#00cc96",
                      "#ab63fa",
                      "#FFA15A",
                      "#19d3f3",
                      "#FF6692",
                      "#B6E880",
                      "#FF97FF",
                      "#FECB52"
                    ],
                    "font": {
                      "color": "#2a3f5f"
                    },
                    "geo": {
                      "bgcolor": "white",
                      "lakecolor": "white",
                      "landcolor": "#E5ECF6",
                      "showlakes": true,
                      "showland": true,
                      "subunitcolor": "white"
                    },
                    "hoverlabel": {
                      "align": "left"
                    },
                    "hovermode": "closest",
                    "mapbox": {
                      "style": "light"
                    },
                    "paper_bgcolor": "white",
                    "plot_bgcolor": "#E5ECF6",
                    "polar": {
                      "angularaxis": {
                        "gridcolor": "white",
                        "linecolor": "white",
                        "ticks": ""
                      },
                      "bgcolor": "#E5ECF6",
                      "radialaxis": {
                        "gridcolor": "white",
                        "linecolor": "white",
                        "ticks": ""
                      }
                    },
                    "scene": {
                      "xaxis": {
                        "backgroundcolor": "#E5ECF6",
                        "gridcolor": "white",
                        "gridwidth": 2,
                        "linecolor": "white",
                        "showbackground": true,
                        "ticks": "",
                        "zerolinecolor": "white"
                      },
                      "yaxis": {
                        "backgroundcolor": "#E5ECF6",
                        "gridcolor": "white",
                        "gridwidth": 2,
                        "linecolor": "white",
                        "showbackground": true,
                        "ticks": "",
                        "zerolinecolor": "white"
                      },
                      "zaxis": {
                        "backgroundcolor": "#E5ECF6",
                        "gridcolor": "white",
                        "gridwidth": 2,
                        "linecolor": "white",
                        "showbackground": true,
                        "ticks": "",
                        "zerolinecolor": "white"
                      }
                    },
                    "shapedefaults": {
                      "line": {
                        "color": "#2a3f5f"
                      }
                    },
                    "ternary": {
                      "aaxis": {
                        "gridcolor": "white",
                        "linecolor": "white",
                        "ticks": ""
                      },
                      "baxis": {
                        "gridcolor": "white",
                        "linecolor": "white",
                        "ticks": ""
                      },
                      "bgcolor": "#E5ECF6",
                      "caxis": {
                        "gridcolor": "white",
                        "linecolor": "white",
                        "ticks": ""
                      }
                    },
                    "title": {
                      "x": 0.05
                    },
                    "xaxis": {
                      "automargin": true,
                      "gridcolor": "white",
                      "linecolor": "white",
                      "ticks": "",
                      "title": {
                        "standoff": 15
                      },
                      "zerolinecolor": "white",
                      "zerolinewidth": 2
                    },
                    "yaxis": {
                      "automargin": true,
                      "gridcolor": "white",
                      "linecolor": "white",
                      "ticks": "",
                      "title": {
                        "standoff": 15
                      },
                      "zerolinecolor": "white",
                      "zerolinewidth": 2
                    }
                  }
                },
                "title": {
                  "text": "Logit Difference From Each Layer for Original Prompts"
                },
                "xaxis": {
                  "anchor": "y",
                  "domain": [
                    0,
                    1
                  ],
                  "title": {
                    "text": "x"
                  }
                },
                "yaxis": {
                  "anchor": "x",
                  "domain": [
                    0,
                    1
                  ],
                  "title": {
                    "text": "y"
                  }
                }
              }
            }
          },
          "metadata": {},
          "output_type": "display_data"
        }
      ],
      "source": [
        "orig_per_layer_residual, labels = orig_cache.decompose_resid(\n",
        "    layer=-1, pos_slice=-1, return_labels=True\n",
        ")\n",
        "orig_per_layer_logit_diffs = residual_stack_to_logit_diff(\n",
        "    orig_per_layer_residual, orig_cache, orig_logit_diff_directions\n",
        ")\n",
        "line(\n",
        "    orig_per_layer_logit_diffs,\n",
        "    hover_name=labels,\n",
        "    title=\"Logit Difference From Each Layer for Original Prompts\",\n",
        ")"
      ]
    },
    {
      "cell_type": "code",
      "execution_count": 38,
      "metadata": {},
      "outputs": [
        {
          "data": {
            "application/vnd.plotly.v1+json": {
              "config": {
                "plotlyServerURL": "https://plot.ly"
              },
              "data": [
                {
                  "hovertemplate": "<b>%{hovertext}</b><br><br>x=%{x}<br>y=%{y}<extra></extra>",
                  "hovertext": [
                    "embed",
                    "pos_embed",
                    "0_attn_out",
                    "0_mlp_out",
                    "1_attn_out",
                    "1_mlp_out",
                    "2_attn_out",
                    "2_mlp_out",
                    "3_attn_out",
                    "3_mlp_out",
                    "4_attn_out",
                    "4_mlp_out",
                    "5_attn_out",
                    "5_mlp_out",
                    "6_attn_out",
                    "6_mlp_out",
                    "7_attn_out",
                    "7_mlp_out",
                    "8_attn_out",
                    "8_mlp_out",
                    "9_attn_out",
                    "9_mlp_out",
                    "10_attn_out",
                    "10_mlp_out",
                    "11_attn_out",
                    "11_mlp_out",
                    "12_attn_out",
                    "12_mlp_out",
                    "13_attn_out",
                    "13_mlp_out",
                    "14_attn_out",
                    "14_mlp_out",
                    "15_attn_out",
                    "15_mlp_out",
                    "16_attn_out",
                    "16_mlp_out",
                    "17_attn_out",
                    "17_mlp_out",
                    "18_attn_out",
                    "18_mlp_out",
                    "19_attn_out",
                    "19_mlp_out",
                    "20_attn_out",
                    "20_mlp_out",
                    "21_attn_out",
                    "21_mlp_out",
                    "22_attn_out",
                    "22_mlp_out",
                    "23_attn_out",
                    "23_mlp_out",
                    "24_attn_out",
                    "24_mlp_out",
                    "25_attn_out",
                    "25_mlp_out",
                    "26_attn_out",
                    "26_mlp_out",
                    "27_attn_out",
                    "27_mlp_out",
                    "28_attn_out",
                    "28_mlp_out",
                    "29_attn_out",
                    "29_mlp_out",
                    "30_attn_out",
                    "30_mlp_out",
                    "31_attn_out",
                    "31_mlp_out"
                  ],
                  "legendgroup": "",
                  "line": {
                    "color": "#636efa",
                    "dash": "solid"
                  },
                  "marker": {
                    "symbol": "circle"
                  },
                  "mode": "lines",
                  "name": "",
                  "orientation": "v",
                  "showlegend": false,
                  "type": "scatter",
                  "x": [
                    0,
                    1,
                    2,
                    3,
                    4,
                    5,
                    6,
                    7,
                    8,
                    9,
                    10,
                    11,
                    12,
                    13,
                    14,
                    15,
                    16,
                    17,
                    18,
                    19,
                    20,
                    21,
                    22,
                    23,
                    24,
                    25,
                    26,
                    27,
                    28,
                    29,
                    30,
                    31,
                    32,
                    33,
                    34,
                    35,
                    36,
                    37,
                    38,
                    39,
                    40,
                    41,
                    42,
                    43,
                    44,
                    45,
                    46,
                    47,
                    48,
                    49,
                    50,
                    51,
                    52,
                    53,
                    54,
                    55,
                    56,
                    57,
                    58,
                    59,
                    60,
                    61,
                    62,
                    63,
                    64,
                    65
                  ],
                  "xaxis": "x",
                  "y": [
                    0.0042824698612093925,
                    -0.00005690051330020651,
                    0.02269759215414524,
                    0.001576420501805842,
                    -0.030547933652997017,
                    0.018885275349020958,
                    -0.005740028340369463,
                    -0.016752680763602257,
                    0.017755331471562386,
                    0.011073021218180656,
                    0.01586879789829254,
                    0.019985320046544075,
                    0.005273533519357443,
                    0.023775357753038406,
                    0.015219532884657383,
                    -0.01889912225306034,
                    0.010086444206535816,
                    -0.006636091973632574,
                    -0.012978949584066868,
                    -0.06071800738573074,
                    0.02431323751807213,
                    0.006147595588117838,
                    -0.028920138254761696,
                    0.013113555498421192,
                    0.07947389036417007,
                    0.014515555463731289,
                    -0.05141836777329445,
                    0.013006642460823059,
                    -0.03650263696908951,
                    -0.02866840735077858,
                    -0.13762153685092926,
                    -0.036367420107126236,
                    0.09941007196903229,
                    -0.0023621937725692987,
                    -0.07849942892789841,
                    0.039489250630140305,
                    0.08495300263166428,
                    -0.05131924897432327,
                    -0.019514117389917374,
                    -0.05484790354967117,
                    0.13864630460739136,
                    -0.0629839226603508,
                    -0.09587107598781586,
                    -0.012634345330297947,
                    0.07300831377506256,
                    -0.10144252330064774,
                    -0.2840560972690582,
                    -0.05096310004591942,
                    -0.04168456792831421,
                    -0.008360577747225761,
                    -0.4367470443248749,
                    -0.003095764433965087,
                    -0.1908508986234665,
                    -0.07317610830068588,
                    -0.01285500731319189,
                    0.04721619933843613,
                    -0.04370894283056259,
                    0.16395249962806702,
                    -0.060080576688051224,
                    0.10785973072052002,
                    0.010892665944993496,
                    0.09837787598371506,
                    0.00006863980524940416,
                    -0.014161450788378716,
                    -0.05238376930356026,
                    -0.0016598999500274658
                  ],
                  "yaxis": "y"
                }
              ],
              "layout": {
                "legend": {
                  "tracegroupgap": 0
                },
                "template": {
                  "data": {
                    "bar": [
                      {
                        "error_x": {
                          "color": "#2a3f5f"
                        },
                        "error_y": {
                          "color": "#2a3f5f"
                        },
                        "marker": {
                          "line": {
                            "color": "#E5ECF6",
                            "width": 0.5
                          },
                          "pattern": {
                            "fillmode": "overlay",
                            "size": 10,
                            "solidity": 0.2
                          }
                        },
                        "type": "bar"
                      }
                    ],
                    "barpolar": [
                      {
                        "marker": {
                          "line": {
                            "color": "#E5ECF6",
                            "width": 0.5
                          },
                          "pattern": {
                            "fillmode": "overlay",
                            "size": 10,
                            "solidity": 0.2
                          }
                        },
                        "type": "barpolar"
                      }
                    ],
                    "carpet": [
                      {
                        "aaxis": {
                          "endlinecolor": "#2a3f5f",
                          "gridcolor": "white",
                          "linecolor": "white",
                          "minorgridcolor": "white",
                          "startlinecolor": "#2a3f5f"
                        },
                        "baxis": {
                          "endlinecolor": "#2a3f5f",
                          "gridcolor": "white",
                          "linecolor": "white",
                          "minorgridcolor": "white",
                          "startlinecolor": "#2a3f5f"
                        },
                        "type": "carpet"
                      }
                    ],
                    "choropleth": [
                      {
                        "colorbar": {
                          "outlinewidth": 0,
                          "ticks": ""
                        },
                        "type": "choropleth"
                      }
                    ],
                    "contour": [
                      {
                        "colorbar": {
                          "outlinewidth": 0,
                          "ticks": ""
                        },
                        "colorscale": [
                          [
                            0,
                            "#0d0887"
                          ],
                          [
                            0.1111111111111111,
                            "#46039f"
                          ],
                          [
                            0.2222222222222222,
                            "#7201a8"
                          ],
                          [
                            0.3333333333333333,
                            "#9c179e"
                          ],
                          [
                            0.4444444444444444,
                            "#bd3786"
                          ],
                          [
                            0.5555555555555556,
                            "#d8576b"
                          ],
                          [
                            0.6666666666666666,
                            "#ed7953"
                          ],
                          [
                            0.7777777777777778,
                            "#fb9f3a"
                          ],
                          [
                            0.8888888888888888,
                            "#fdca26"
                          ],
                          [
                            1,
                            "#f0f921"
                          ]
                        ],
                        "type": "contour"
                      }
                    ],
                    "contourcarpet": [
                      {
                        "colorbar": {
                          "outlinewidth": 0,
                          "ticks": ""
                        },
                        "type": "contourcarpet"
                      }
                    ],
                    "heatmap": [
                      {
                        "colorbar": {
                          "outlinewidth": 0,
                          "ticks": ""
                        },
                        "colorscale": [
                          [
                            0,
                            "#0d0887"
                          ],
                          [
                            0.1111111111111111,
                            "#46039f"
                          ],
                          [
                            0.2222222222222222,
                            "#7201a8"
                          ],
                          [
                            0.3333333333333333,
                            "#9c179e"
                          ],
                          [
                            0.4444444444444444,
                            "#bd3786"
                          ],
                          [
                            0.5555555555555556,
                            "#d8576b"
                          ],
                          [
                            0.6666666666666666,
                            "#ed7953"
                          ],
                          [
                            0.7777777777777778,
                            "#fb9f3a"
                          ],
                          [
                            0.8888888888888888,
                            "#fdca26"
                          ],
                          [
                            1,
                            "#f0f921"
                          ]
                        ],
                        "type": "heatmap"
                      }
                    ],
                    "heatmapgl": [
                      {
                        "colorbar": {
                          "outlinewidth": 0,
                          "ticks": ""
                        },
                        "colorscale": [
                          [
                            0,
                            "#0d0887"
                          ],
                          [
                            0.1111111111111111,
                            "#46039f"
                          ],
                          [
                            0.2222222222222222,
                            "#7201a8"
                          ],
                          [
                            0.3333333333333333,
                            "#9c179e"
                          ],
                          [
                            0.4444444444444444,
                            "#bd3786"
                          ],
                          [
                            0.5555555555555556,
                            "#d8576b"
                          ],
                          [
                            0.6666666666666666,
                            "#ed7953"
                          ],
                          [
                            0.7777777777777778,
                            "#fb9f3a"
                          ],
                          [
                            0.8888888888888888,
                            "#fdca26"
                          ],
                          [
                            1,
                            "#f0f921"
                          ]
                        ],
                        "type": "heatmapgl"
                      }
                    ],
                    "histogram": [
                      {
                        "marker": {
                          "pattern": {
                            "fillmode": "overlay",
                            "size": 10,
                            "solidity": 0.2
                          }
                        },
                        "type": "histogram"
                      }
                    ],
                    "histogram2d": [
                      {
                        "colorbar": {
                          "outlinewidth": 0,
                          "ticks": ""
                        },
                        "colorscale": [
                          [
                            0,
                            "#0d0887"
                          ],
                          [
                            0.1111111111111111,
                            "#46039f"
                          ],
                          [
                            0.2222222222222222,
                            "#7201a8"
                          ],
                          [
                            0.3333333333333333,
                            "#9c179e"
                          ],
                          [
                            0.4444444444444444,
                            "#bd3786"
                          ],
                          [
                            0.5555555555555556,
                            "#d8576b"
                          ],
                          [
                            0.6666666666666666,
                            "#ed7953"
                          ],
                          [
                            0.7777777777777778,
                            "#fb9f3a"
                          ],
                          [
                            0.8888888888888888,
                            "#fdca26"
                          ],
                          [
                            1,
                            "#f0f921"
                          ]
                        ],
                        "type": "histogram2d"
                      }
                    ],
                    "histogram2dcontour": [
                      {
                        "colorbar": {
                          "outlinewidth": 0,
                          "ticks": ""
                        },
                        "colorscale": [
                          [
                            0,
                            "#0d0887"
                          ],
                          [
                            0.1111111111111111,
                            "#46039f"
                          ],
                          [
                            0.2222222222222222,
                            "#7201a8"
                          ],
                          [
                            0.3333333333333333,
                            "#9c179e"
                          ],
                          [
                            0.4444444444444444,
                            "#bd3786"
                          ],
                          [
                            0.5555555555555556,
                            "#d8576b"
                          ],
                          [
                            0.6666666666666666,
                            "#ed7953"
                          ],
                          [
                            0.7777777777777778,
                            "#fb9f3a"
                          ],
                          [
                            0.8888888888888888,
                            "#fdca26"
                          ],
                          [
                            1,
                            "#f0f921"
                          ]
                        ],
                        "type": "histogram2dcontour"
                      }
                    ],
                    "mesh3d": [
                      {
                        "colorbar": {
                          "outlinewidth": 0,
                          "ticks": ""
                        },
                        "type": "mesh3d"
                      }
                    ],
                    "parcoords": [
                      {
                        "line": {
                          "colorbar": {
                            "outlinewidth": 0,
                            "ticks": ""
                          }
                        },
                        "type": "parcoords"
                      }
                    ],
                    "pie": [
                      {
                        "automargin": true,
                        "type": "pie"
                      }
                    ],
                    "scatter": [
                      {
                        "fillpattern": {
                          "fillmode": "overlay",
                          "size": 10,
                          "solidity": 0.2
                        },
                        "type": "scatter"
                      }
                    ],
                    "scatter3d": [
                      {
                        "line": {
                          "colorbar": {
                            "outlinewidth": 0,
                            "ticks": ""
                          }
                        },
                        "marker": {
                          "colorbar": {
                            "outlinewidth": 0,
                            "ticks": ""
                          }
                        },
                        "type": "scatter3d"
                      }
                    ],
                    "scattercarpet": [
                      {
                        "marker": {
                          "colorbar": {
                            "outlinewidth": 0,
                            "ticks": ""
                          }
                        },
                        "type": "scattercarpet"
                      }
                    ],
                    "scattergeo": [
                      {
                        "marker": {
                          "colorbar": {
                            "outlinewidth": 0,
                            "ticks": ""
                          }
                        },
                        "type": "scattergeo"
                      }
                    ],
                    "scattergl": [
                      {
                        "marker": {
                          "colorbar": {
                            "outlinewidth": 0,
                            "ticks": ""
                          }
                        },
                        "type": "scattergl"
                      }
                    ],
                    "scattermapbox": [
                      {
                        "marker": {
                          "colorbar": {
                            "outlinewidth": 0,
                            "ticks": ""
                          }
                        },
                        "type": "scattermapbox"
                      }
                    ],
                    "scatterpolar": [
                      {
                        "marker": {
                          "colorbar": {
                            "outlinewidth": 0,
                            "ticks": ""
                          }
                        },
                        "type": "scatterpolar"
                      }
                    ],
                    "scatterpolargl": [
                      {
                        "marker": {
                          "colorbar": {
                            "outlinewidth": 0,
                            "ticks": ""
                          }
                        },
                        "type": "scatterpolargl"
                      }
                    ],
                    "scatterternary": [
                      {
                        "marker": {
                          "colorbar": {
                            "outlinewidth": 0,
                            "ticks": ""
                          }
                        },
                        "type": "scatterternary"
                      }
                    ],
                    "surface": [
                      {
                        "colorbar": {
                          "outlinewidth": 0,
                          "ticks": ""
                        },
                        "colorscale": [
                          [
                            0,
                            "#0d0887"
                          ],
                          [
                            0.1111111111111111,
                            "#46039f"
                          ],
                          [
                            0.2222222222222222,
                            "#7201a8"
                          ],
                          [
                            0.3333333333333333,
                            "#9c179e"
                          ],
                          [
                            0.4444444444444444,
                            "#bd3786"
                          ],
                          [
                            0.5555555555555556,
                            "#d8576b"
                          ],
                          [
                            0.6666666666666666,
                            "#ed7953"
                          ],
                          [
                            0.7777777777777778,
                            "#fb9f3a"
                          ],
                          [
                            0.8888888888888888,
                            "#fdca26"
                          ],
                          [
                            1,
                            "#f0f921"
                          ]
                        ],
                        "type": "surface"
                      }
                    ],
                    "table": [
                      {
                        "cells": {
                          "fill": {
                            "color": "#EBF0F8"
                          },
                          "line": {
                            "color": "white"
                          }
                        },
                        "header": {
                          "fill": {
                            "color": "#C8D4E3"
                          },
                          "line": {
                            "color": "white"
                          }
                        },
                        "type": "table"
                      }
                    ]
                  },
                  "layout": {
                    "annotationdefaults": {
                      "arrowcolor": "#2a3f5f",
                      "arrowhead": 0,
                      "arrowwidth": 1
                    },
                    "autotypenumbers": "strict",
                    "coloraxis": {
                      "colorbar": {
                        "outlinewidth": 0,
                        "ticks": ""
                      }
                    },
                    "colorscale": {
                      "diverging": [
                        [
                          0,
                          "#8e0152"
                        ],
                        [
                          0.1,
                          "#c51b7d"
                        ],
                        [
                          0.2,
                          "#de77ae"
                        ],
                        [
                          0.3,
                          "#f1b6da"
                        ],
                        [
                          0.4,
                          "#fde0ef"
                        ],
                        [
                          0.5,
                          "#f7f7f7"
                        ],
                        [
                          0.6,
                          "#e6f5d0"
                        ],
                        [
                          0.7,
                          "#b8e186"
                        ],
                        [
                          0.8,
                          "#7fbc41"
                        ],
                        [
                          0.9,
                          "#4d9221"
                        ],
                        [
                          1,
                          "#276419"
                        ]
                      ],
                      "sequential": [
                        [
                          0,
                          "#0d0887"
                        ],
                        [
                          0.1111111111111111,
                          "#46039f"
                        ],
                        [
                          0.2222222222222222,
                          "#7201a8"
                        ],
                        [
                          0.3333333333333333,
                          "#9c179e"
                        ],
                        [
                          0.4444444444444444,
                          "#bd3786"
                        ],
                        [
                          0.5555555555555556,
                          "#d8576b"
                        ],
                        [
                          0.6666666666666666,
                          "#ed7953"
                        ],
                        [
                          0.7777777777777778,
                          "#fb9f3a"
                        ],
                        [
                          0.8888888888888888,
                          "#fdca26"
                        ],
                        [
                          1,
                          "#f0f921"
                        ]
                      ],
                      "sequentialminus": [
                        [
                          0,
                          "#0d0887"
                        ],
                        [
                          0.1111111111111111,
                          "#46039f"
                        ],
                        [
                          0.2222222222222222,
                          "#7201a8"
                        ],
                        [
                          0.3333333333333333,
                          "#9c179e"
                        ],
                        [
                          0.4444444444444444,
                          "#bd3786"
                        ],
                        [
                          0.5555555555555556,
                          "#d8576b"
                        ],
                        [
                          0.6666666666666666,
                          "#ed7953"
                        ],
                        [
                          0.7777777777777778,
                          "#fb9f3a"
                        ],
                        [
                          0.8888888888888888,
                          "#fdca26"
                        ],
                        [
                          1,
                          "#f0f921"
                        ]
                      ]
                    },
                    "colorway": [
                      "#636efa",
                      "#EF553B",
                      "#00cc96",
                      "#ab63fa",
                      "#FFA15A",
                      "#19d3f3",
                      "#FF6692",
                      "#B6E880",
                      "#FF97FF",
                      "#FECB52"
                    ],
                    "font": {
                      "color": "#2a3f5f"
                    },
                    "geo": {
                      "bgcolor": "white",
                      "lakecolor": "white",
                      "landcolor": "#E5ECF6",
                      "showlakes": true,
                      "showland": true,
                      "subunitcolor": "white"
                    },
                    "hoverlabel": {
                      "align": "left"
                    },
                    "hovermode": "closest",
                    "mapbox": {
                      "style": "light"
                    },
                    "paper_bgcolor": "white",
                    "plot_bgcolor": "#E5ECF6",
                    "polar": {
                      "angularaxis": {
                        "gridcolor": "white",
                        "linecolor": "white",
                        "ticks": ""
                      },
                      "bgcolor": "#E5ECF6",
                      "radialaxis": {
                        "gridcolor": "white",
                        "linecolor": "white",
                        "ticks": ""
                      }
                    },
                    "scene": {
                      "xaxis": {
                        "backgroundcolor": "#E5ECF6",
                        "gridcolor": "white",
                        "gridwidth": 2,
                        "linecolor": "white",
                        "showbackground": true,
                        "ticks": "",
                        "zerolinecolor": "white"
                      },
                      "yaxis": {
                        "backgroundcolor": "#E5ECF6",
                        "gridcolor": "white",
                        "gridwidth": 2,
                        "linecolor": "white",
                        "showbackground": true,
                        "ticks": "",
                        "zerolinecolor": "white"
                      },
                      "zaxis": {
                        "backgroundcolor": "#E5ECF6",
                        "gridcolor": "white",
                        "gridwidth": 2,
                        "linecolor": "white",
                        "showbackground": true,
                        "ticks": "",
                        "zerolinecolor": "white"
                      }
                    },
                    "shapedefaults": {
                      "line": {
                        "color": "#2a3f5f"
                      }
                    },
                    "ternary": {
                      "aaxis": {
                        "gridcolor": "white",
                        "linecolor": "white",
                        "ticks": ""
                      },
                      "baxis": {
                        "gridcolor": "white",
                        "linecolor": "white",
                        "ticks": ""
                      },
                      "bgcolor": "#E5ECF6",
                      "caxis": {
                        "gridcolor": "white",
                        "linecolor": "white",
                        "ticks": ""
                      }
                    },
                    "title": {
                      "x": 0.05
                    },
                    "xaxis": {
                      "automargin": true,
                      "gridcolor": "white",
                      "linecolor": "white",
                      "ticks": "",
                      "title": {
                        "standoff": 15
                      },
                      "zerolinecolor": "white",
                      "zerolinewidth": 2
                    },
                    "yaxis": {
                      "automargin": true,
                      "gridcolor": "white",
                      "linecolor": "white",
                      "ticks": "",
                      "title": {
                        "standoff": 15
                      },
                      "zerolinecolor": "white",
                      "zerolinewidth": 2
                    }
                  }
                },
                "title": {
                  "text": "Logit Difference From Each Layer for Elided Prompts"
                },
                "xaxis": {
                  "anchor": "y",
                  "domain": [
                    0,
                    1
                  ],
                  "title": {
                    "text": "x"
                  }
                },
                "yaxis": {
                  "anchor": "x",
                  "domain": [
                    0,
                    1
                  ],
                  "title": {
                    "text": "y"
                  }
                }
              }
            }
          },
          "metadata": {},
          "output_type": "display_data"
        }
      ],
      "source": [
        "elided_per_layer_residual, labels = elided_cache.decompose_resid(\n",
        "    layer=-1, pos_slice=-1, return_labels=True\n",
        ")\n",
        "elided_per_layer_logit_diffs = residual_stack_to_logit_diff(\n",
        "    elided_per_layer_residual, elided_cache, elided_logit_diff_directions\n",
        ")\n",
        "line(\n",
        "    elided_per_layer_logit_diffs,\n",
        "    hover_name=labels,\n",
        "    title=\"Logit Difference From Each Layer for Elided Prompts\",\n",
        ")\n",
        "\n"
      ]
    },
    {
      "cell_type": "markdown",
      "metadata": {
        "id": "MMopFnxQUvUT"
      },
      "source": [
        "## Head Attribution"
      ]
    },
    {
      "cell_type": "markdown",
      "metadata": {
        "id": "GoJqUv0uUvUT"
      },
      "source": [
        "We can further break down the output of each attention layer into the sum of the outputs of each attention head. Each attention layer consists of 12 heads, which each act independently and additively.\n",
        "\n",
        "<details> <summary>Decomposing attention output into sums of heads</summary>\n",
        "The standard way to compute the output of an attention layer is by concatenating the mixed values of each head, and multiplying by a big output weight matrix. But as described in [A Mathematical Framework](https://transformer-circuits.pub/2021/framework/index.html) this is equivalent to splitting the output weight matrix into a per-head output (here `model.blocks[k].attn.W_O`) and adding them up (including an overall bias term for the entire layer)\n",
        "</details>\n",
        "\n",
        "We see that only a few heads really matter - heads L9H6 and L9H9 contribute a lot positively (explaining why attention layer 9 is so important), while heads L10H7 and L11H10 contribute a lot negatively (explaining why attention layer 10 and layer 11 are actively harmful). These correspond to (some of) the name movers and negative name movers discussed in the paper. There are also several heads that matter positively or negatively but less strongly (other name movers and backup name movers)\n",
        "\n",
        "There are a few meta observations worth making here - our model has 144 heads, yet we could localise this behaviour to a handful of specific heads, using straightforward, general techniques. This supports the claim in [A Mathematical Framework](https://transformer-circuits.pub/2021/framework/index.html) that attention heads are the right level of abstraction to understand attention. It also really surprising that there are *negative* heads - eg L10H7 makes the incorrect logit 7x *more* likely. I'm not sure what's going on there, though the paper discusses some possibilities."
      ]
    },
    {
      "cell_type": "code",
      "execution_count": 39,
      "metadata": {
        "id": "YdSjn7hcUvUT",
        "outputId": "11309296-b6a9-42e4-a56b-92c6ef38ef4e"
      },
      "outputs": [
        {
          "name": "stdout",
          "output_type": "stream",
          "text": [
            "Tried to stack head results when they weren't cached. Computing head results now\n"
          ]
        },
        {
          "data": {
            "application/vnd.plotly.v1+json": {
              "config": {
                "plotlyServerURL": "https://plot.ly"
              },
              "data": [
                {
                  "coloraxis": "coloraxis",
                  "hovertemplate": "Head: %{x}<br>Layer: %{y}<br>color: %{z}<extra></extra>",
                  "name": "0",
                  "type": "heatmap",
                  "xaxis": "x",
                  "yaxis": "y",
                  "z": [
                    [
                      0.006383593659847975,
                      0.011358163319528103,
                      0.031199874356389046,
                      0.007246898952871561,
                      0.005219016224145889,
                      0.012625978328287601,
                      0.0019384202314540744,
                      0.004966895096004009,
                      0.03662174195051193,
                      0.0011631522793322802,
                      0.010884125716984272,
                      -0.0023631122894585133,
                      0.06962540000677109,
                      0.0006232857704162598,
                      0.00306104333139956,
                      -0.00020106190640944988,
                      0.0030510115902870893,
                      -0.0056491633877158165,
                      0.010205273516476154,
                      0.030452677980065346
                    ],
                    [
                      0.00470259552821517,
                      -0.00888729840517044,
                      -0.008022052235901356,
                      -0.0018384840805083513,
                      0.002653429051861167,
                      -0.003376290900632739,
                      -0.0019500133348628879,
                      -0.005808074492961168,
                      -0.0028959328774362803,
                      -0.00600366061553359,
                      -0.0044273692183196545,
                      0.003590300213545561,
                      0.003217922756448388,
                      0.007001274265348911,
                      -0.00608329800888896,
                      -0.027610372751951218,
                      0.002973053604364395,
                      0.000587322807405144,
                      -0.0019159468356519938,
                      0.0013015040894970298
                    ],
                    [
                      0.004911062307655811,
                      -0.0010647403541952372,
                      0.002468397840857506,
                      0.002554503036662936,
                      0.0023756863083690405,
                      -0.00008660741150379181,
                      -0.0000755687797209248,
                      -0.0030417521484196186,
                      0.0006122738122940063,
                      -0.0016295425593852997,
                      -0.0015093026449903846,
                      0.0016746734036132693,
                      -0.0021096733398735523,
                      0.003764265915378928,
                      -0.0009109749225899577,
                      -0.000783106021117419,
                      -0.0011747644748538733,
                      -0.0012643721420317888,
                      0.00438521895557642,
                      0.001391461119055748
                    ],
                    [
                      -0.0010025522205978632,
                      0.0049003432504832745,
                      0.0005917434464208782,
                      -0.001058848574757576,
                      0.005779940634965897,
                      -0.0005188845098018646,
                      0.009109717793762684,
                      0.0005472283810377121,
                      0.001243062550202012,
                      -0.0014935319777578115,
                      0.0036449101753532887,
                      0.005441886372864246,
                      0.004281528294086456,
                      0.0022112771403044462,
                      0.0034361283760517836,
                      -0.0005267017404548824,
                      0.0024956115521490574,
                      0.0027888170443475246,
                      -0.0015405212761834264,
                      -0.008516110479831696
                    ],
                    [
                      0.0018162236083298922,
                      -0.0002681212790776044,
                      0.00018207263201475143,
                      0.00819216575473547,
                      0.0009918295545503497,
                      0.005546045955270529,
                      0.0006270415033213794,
                      -0.004329998511821032,
                      0.0017765481024980545,
                      0.0016090890858322382,
                      0.00134660757612437,
                      -0.0016245398437604308,
                      -0.0040616197511553764,
                      -0.0012546628713607788,
                      0.0010193599155172706,
                      0.0033005117438733578,
                      -0.0033974952530115843,
                      -0.0005306983948685229,
                      0.0017615737160667777,
                      0.0034443663898855448
                    ],
                    [
                      0.00397484889253974,
                      -0.0034449344966560602,
                      -0.0038008359260857105,
                      0.0011785316746681929,
                      -0.0022395041305571795,
                      0.004276116844266653,
                      0.00013257043610792607,
                      -0.0069909715093672276,
                      -0.004397750366479158,
                      -0.006621361244469881,
                      0.0034095975570380688,
                      0.0016585270641371608,
                      0.005463982466608286,
                      0.0005248170346021652,
                      0.0004943176172673702,
                      -0.004935090895742178,
                      -0.0002984896709676832,
                      -0.007082238793373108,
                      0.0038525157142430544,
                      0.001282588578760624
                    ],
                    [
                      -0.003450104733929038,
                      0.0013760160654783249,
                      0.0039269276894629,
                      0.002407598774880171,
                      -0.010345997288823128,
                      0.001902771065942943,
                      -0.0005120504647493362,
                      0.0007407455705106258,
                      -0.009661510586738586,
                      0.0008942343411035836,
                      0.0010164687409996986,
                      -0.0014933490892872214,
                      0.003237783908843994,
                      0.0000013206154108047485,
                      0.0002505238517187536,
                      -0.0017435854533687234,
                      0.0012209734413772821,
                      0.003146455157548189,
                      0.003302531084045768,
                      -0.0051492429338395596
                    ],
                    [
                      0.000757596455514431,
                      0.002110622823238373,
                      -0.0020616149995476007,
                      0.019092556089162827,
                      -0.0010309132048860192,
                      -0.0021087888162583113,
                      0.0022983320523053408,
                      0.0020417352207005024,
                      -0.003339444985613227,
                      -0.003264733124524355,
                      -0.009662745520472527,
                      0.0014484899584203959,
                      -0.002706639003008604,
                      0.0011802760418504477,
                      -0.0003665915864985436,
                      0.0006732711917720735,
                      -0.005818497855216265,
                      -0.003984885755926371,
                      -0.0025085099041461945,
                      -0.002684277016669512
                    ],
                    [
                      0.009120868518948555,
                      -0.01297271903604269,
                      0.0026327217929065228,
                      -0.007658943068236113,
                      0.00371827301569283,
                      0.004326139111071825,
                      -0.01072836946696043,
                      -0.0036104016471654177,
                      -0.003334255423396826,
                      -0.012292755767703056,
                      -0.002568414667621255,
                      -0.008981193415820599,
                      0.006814148742705584,
                      -0.007281981408596039,
                      0.00010942594235530123,
                      -0.0044091143645346165,
                      0.0009633026202209294,
                      -0.001885832636617124,
                      -0.00596576277166605,
                      -0.0063556889072060585
                    ],
                    [
                      0.006010240875184536,
                      -0.0022848008666187525,
                      0.0010614525526762009,
                      -0.0011827844427898526,
                      0.0026968936435878277,
                      -0.004254764411598444,
                      0.0009315046481788158,
                      0.0011993946973234415,
                      0.008781570009887218,
                      -0.012912271544337273,
                      -0.010273043997585773,
                      0.0086365956813097,
                      0.0017959860851988196,
                      0.010111606679856777,
                      0.001301996991969645,
                      -0.0025643594563007355,
                      -0.00008838703797664493,
                      -0.006342410109937191,
                      -0.0009764577262103558,
                      -0.0014243766199797392
                    ],
                    [
                      -0.04794115945696831,
                      -0.010701152496039867,
                      -0.0013775229454040527,
                      0.007886907085776329,
                      -0.004244247917085886,
                      -0.00017372578440699726,
                      0.0030110341031104326,
                      0.00002542537185945548,
                      0.03573337942361832,
                      0.0029189889319241047,
                      0.0030332475434988737,
                      0.004638354294002056,
                      0.004232744220644236,
                      -0.01577557809650898,
                      0.0032446887344121933,
                      -0.003340182127431035,
                      -0.0002797796914819628,
                      -0.005724207032471895,
                      -0.0022853054106235504,
                      -0.002679696073755622
                    ],
                    [
                      -0.0015914185205474496,
                      0.0039086672477424145,
                      -0.0010272965300828218,
                      0.012109896168112755,
                      0.04336898401379585,
                      0.0007560410303995013,
                      -0.004697597585618496,
                      0.008262847550213337,
                      -0.0016206962754949927,
                      -0.002719385549426079,
                      0.0017729364335536957,
                      -0.0026877750642597675,
                      -0.003707437077537179,
                      0.0013026650995016098,
                      -0.02807503007352352,
                      0.003241937607526779,
                      0.05208919197320938,
                      0.002580289961770177,
                      0.01370715070515871,
                      0.004395174328237772
                    ],
                    [
                      -0.035246871411800385,
                      0.0000857809282024391,
                      -0.005119284149259329,
                      0.0011129167396575212,
                      0.003102849703282118,
                      0.00874694436788559,
                      -0.00006365097215166315,
                      0.004498948343098164,
                      -0.011246712878346443,
                      -0.0051204608753323555,
                      -0.0034130599815398455,
                      -0.022381065413355827,
                      0.003423935268074274,
                      0.010987614281475544,
                      -0.021145859733223915,
                      0.002048921538516879,
                      -0.0029919645749032497,
                      0.004114963114261627,
                      0.005649100989103317,
                      -0.0016543290112167597
                    ],
                    [
                      -0.0010129883885383606,
                      0.007431521080434322,
                      -0.030993955209851265,
                      -0.013706783764064312,
                      0.0014086104929447174,
                      0.005134050268679857,
                      -0.002789417514577508,
                      0.0015423434088006616,
                      -0.003683114890009165,
                      0.0043420069850981236,
                      0.006341635249555111,
                      0.004979622084647417,
                      -0.006044337060302496,
                      0.01410354021936655,
                      0.0017973370850086212,
                      0.0013960642972961068,
                      0.00540788471698761,
                      0.0018321315292268991,
                      0.006548193749040365,
                      -0.008739319629967213
                    ],
                    [
                      -0.019521819427609444,
                      -0.01139154564589262,
                      0.001589136547408998,
                      -0.0019765179604291916,
                      -0.011796441860496998,
                      0.0032905167900025845,
                      0.05730792135000229,
                      -0.001744898734614253,
                      -0.0050649153999984264,
                      0.01386186946183443,
                      0.014692808501422405,
                      0.0008436454809270799,
                      0.0019402561010792851,
                      0.05214744061231613,
                      0.0023248319048434496,
                      0.0018366948934271932,
                      -0.049907561391592026,
                      -0.00372715899720788,
                      -0.0035263339523226023,
                      -0.0051660784520208836
                    ],
                    [
                      0.013158855959773064,
                      0.01392073929309845,
                      0.002099784789606929,
                      -0.0024806277360767126,
                      -0.0018372057238593698,
                      -0.008568359538912773,
                      -0.002346964552998543,
                      0.0006639899802394211,
                      0.0035068595316261053,
                      0.011796629056334496,
                      0.010198812000453472,
                      0.2772633731365204,
                      0.06338618695735931,
                      0.009937310591340065,
                      0.007629005704075098,
                      -0.014952530153095722,
                      -0.007106210105121136,
                      0.0007437436725012958,
                      -0.014549346640706062,
                      0.033796437084674835
                    ],
                    [
                      -0.006025419570505619,
                      -0.006932151969522238,
                      -0.0007099811919033527,
                      -0.001382937072776258,
                      0.0006238200003281236,
                      -0.0032542890403419733,
                      -0.004155289847403765,
                      -0.02519848942756653,
                      -0.0009056602721102536,
                      0.0032975433859974146,
                      0.00541295949369669,
                      0.00223351689055562,
                      0.11283456534147263,
                      0.009398159570991993,
                      -0.0009711906313896179,
                      -0.07206196337938309,
                      0.0004027209070045501,
                      -0.0009128601523116231,
                      0.00010414700955152512,
                      -0.0050054979510605335
                    ],
                    [
                      0.005067471880465746,
                      0.00204645493067801,
                      0.006665692664682865,
                      0.01120020542293787,
                      -0.006673168856650591,
                      0.0010519030038267374,
                      -0.02455909550189972,
                      -0.006912062410265207,
                      0.017172085121273994,
                      -0.007169788237661123,
                      0.02417248673737049,
                      0.4643416404724121,
                      -0.0033438035752624273,
                      -0.04138140752911568,
                      -0.005412413738667965,
                      -0.0036735457833856344,
                      -0.00041698678978718817,
                      -0.04260260984301567,
                      0.13782168924808502,
                      0.041161712259054184
                    ],
                    [
                      0.001385160838253796,
                      0.0029556336812675,
                      0.011066846549510956,
                      -0.00015004126180429012,
                      -0.0020813564769923687,
                      0.0027783862315118313,
                      0.0020842726808041334,
                      0.004267774987965822,
                      -0.003723554313182831,
                      -0.0038029588758945465,
                      -0.00002382289858360309,
                      -0.0032130354084074497,
                      -0.0018157514277845621,
                      0.03142428398132324,
                      -0.009477710351347923,
                      -0.005976587999612093,
                      0.0013218590756878257,
                      0.0011972819920629263,
                      -0.004006063099950552,
                      0.0026836555916815996
                    ],
                    [
                      -0.00003248825669288635,
                      -0.004201683681458235,
                      -0.001603960175998509,
                      -0.000015025293578219134,
                      -0.009537182748317719,
                      -0.011239150539040565,
                      0.023043116554617882,
                      0.004738664720207453,
                      0.0025253097992390394,
                      -0.003280951175838709,
                      -0.0001264626916963607,
                      -0.0011467317817732692,
                      0.031413640826940536,
                      0.006221718154847622,
                      0.12570293247699738,
                      -0.0018011130159720778,
                      0.051414649933576584,
                      -0.00296245189383626,
                      -0.005679067224264145,
                      0.542425274848938
                    ],
                    [
                      -0.001325719291344285,
                      -0.002577155828475952,
                      -0.0013161307433620095,
                      -0.05325744301080704,
                      -0.004037423990666866,
                      -0.00043650163570418954,
                      -0.00009283296822104603,
                      -0.0007296061376109719,
                      0.0014237100258469582,
                      0.0010158723453059793,
                      -0.021081898361444473,
                      0.00025899242609739304,
                      0.0005635368870571256,
                      0.0012606990057975054,
                      -0.003179974155500531,
                      -0.0032096735667437315,
                      -0.00009087366925086826,
                      -0.010285481810569763,
                      0.0036933741066604853,
                      -0.003763058688491583
                    ],
                    [
                      0.05598333105444908,
                      0.04447493702173233,
                      0.002581624547019601,
                      -0.0006333053461275995,
                      -0.0033137279096990824,
                      0.0011001620441675186,
                      0.0003873696259688586,
                      -0.020180538296699524,
                      0.00392608018592,
                      0.20129375159740448,
                      0.005856775678694248,
                      -0.005144230090081692,
                      0.011592057533562183,
                      -0.007410882972180843,
                      -0.005371800158172846,
                      0.041563812643289566,
                      -0.004339226987212896,
                      0.0006831634091213346,
                      0.04128032177686691,
                      0.005550446454435587
                    ],
                    [
                      0.0009451521909795702,
                      -0.0019523055525496602,
                      0.0037888691294938326,
                      -0.0025284457951784134,
                      -0.0004946241970174015,
                      -0.004931697156280279,
                      0.000543096277397126,
                      -0.00005860739838681184,
                      -0.005009218119084835,
                      0.0010743532329797745,
                      -0.024281900376081467,
                      -0.0009433129453100264,
                      -0.0009873240487650037,
                      -0.014082254841923714,
                      -0.010075176134705544,
                      -0.003548799315467477,
                      -0.007830044254660606,
                      0.0007381598697975278,
                      -0.001994993072003126,
                      -0.0021019193809479475
                    ],
                    [
                      -0.006541926879435778,
                      -0.005189041141420603,
                      0.00829572044312954,
                      -0.0041373553685843945,
                      -0.006506285630166531,
                      -0.0045374189503490925,
                      -0.004133278038352728,
                      -0.008232327178120613,
                      -0.001332334359176457,
                      -0.0009879691060632467,
                      0.003152827499434352,
                      -0.0013097067130729556,
                      0.0004111083981115371,
                      -0.0012131802504882216,
                      0.1860286444425583,
                      0.006772591732442379,
                      -0.01225077174603939,
                      -0.009335334412753582,
                      -0.0022725637536495924,
                      0.00016393479018006474
                    ],
                    [
                      0.003465799381956458,
                      -0.05202629789710045,
                      -0.002094343537464738,
                      0.008824635297060013,
                      0.0007588186417706311,
                      -0.0019393318798393011,
                      0.0005113710067234933,
                      0.0017046357970684767,
                      -0.0006076082936488092,
                      0.006578792352229357,
                      0.0028609686996787786,
                      -0.002285016467794776,
                      -0.004906140733510256,
                      -0.0009634186280891299,
                      -0.004948738031089306,
                      0.00013410432438831776,
                      0.0012050593504682183,
                      0.0023567581083625555,
                      0.006475626956671476,
                      -0.22511112689971924
                    ],
                    [
                      0.012162797152996063,
                      -0.0036290548741817474,
                      0.0006569857359863818,
                      -0.0039030916523188353,
                      -0.030899925157427788,
                      0.009491479955613613,
                      0.0012519584270194173,
                      0.0031077328603714705,
                      -0.00630056532099843,
                      -0.002874920144677162,
                      -0.004689953755587339,
                      -0.0032961091492325068,
                      -0.006977804005146027,
                      -0.006305663846433163,
                      0.0011849020374938846,
                      0.00339170778170228,
                      -0.002944773295894265,
                      0.0007851980626583099,
                      -0.06250757724046707,
                      -0.009139086119830608
                    ],
                    [
                      -0.0033813477493822575,
                      -0.0017391389701515436,
                      -0.0006861989386379719,
                      0.0015736717032268643,
                      0.0013582240790128708,
                      0.004286898300051689,
                      -0.00013529419084079564,
                      -0.0013935489114373922,
                      0.0013676687376573682,
                      0.0010895832674577832,
                      -0.00273465015925467,
                      -0.0006846262840554118,
                      0.0010269391350448132,
                      -0.003324415534734726,
                      0.0006017062696628273,
                      -0.0006203745724633336,
                      0.0017327237874269485,
                      -0.010213017463684082,
                      0.00045048684114590287,
                      -0.0035548084415495396
                    ],
                    [
                      0.013601063750684261,
                      -0.00042114261304959655,
                      0.049588412046432495,
                      0.05843053013086319,
                      -0.0010604638373479247,
                      -0.0016198905650526285,
                      0.003932879772037268,
                      0.000936065916903317,
                      -0.0019525366369634867,
                      0.00012889444769825786,
                      -0.005451680161058903,
                      -0.0002774879685603082,
                      -0.0013508469564840198,
                      0.0014076166553422809,
                      0.000020311612388468347,
                      -0.0003956948930863291,
                      0.01797567494213581,
                      -0.0013858407037332654,
                      -0.0027931646909564734,
                      -0.00059032958233729
                    ],
                    [
                      0.0019372627139091492,
                      -0.0013022433267906308,
                      -0.0006787400343455374,
                      0.0026049274019896984,
                      -0.0003579367767088115,
                      -0.0004466804093681276,
                      0.00009500980377197266,
                      0.001517838449217379,
                      -0.01359911821782589,
                      -0.008715791627764702,
                      -0.014804763719439507,
                      0.0012306200806051493,
                      -0.0002848259755410254,
                      -0.002177917631343007,
                      -0.005361036863178015,
                      -0.016319280490279198,
                      0.0002964817394968122,
                      -0.000195484739379026,
                      0.0020627223420888186,
                      -0.0035810309927910566
                    ],
                    [
                      0.020056677982211113,
                      -0.007740089204162359,
                      0.019983500242233276,
                      -0.008258075453341007,
                      0.0053293886594474316,
                      -0.003223126521334052,
                      -0.0017437926726415753,
                      0.000463641423266381,
                      0.0017891644965857267,
                      -0.00161288573872298,
                      -0.003176368772983551,
                      0.005373279098421335,
                      -0.005695153493434191,
                      -0.0002893680357374251,
                      0.008635742589831352,
                      0.01843189261853695,
                      0.0019147550920024514,
                      -0.0011315952287986875,
                      -0.004389588721096516,
                      -0.000024584778657299466
                    ],
                    [
                      0.0009048195206560194,
                      -0.0008691377006471157,
                      -0.002402657875791192,
                      0.0006072027608752251,
                      0.004565888084471226,
                      -0.0009895890252664685,
                      -0.00037178691127337515,
                      -0.0045369514264166355,
                      -0.0009746410651132464,
                      -0.000801761809270829,
                      0.005187633913010359,
                      -0.0061616478487849236,
                      -0.0015580629697069526,
                      -0.002233515726402402,
                      -0.0023531850893050432,
                      -0.001298735267482698,
                      0.0007473630830645561,
                      -0.001061346847563982,
                      -0.000560999265871942,
                      -0.0004825534124393016
                    ],
                    [
                      -0.0037756122183054686,
                      0.005177203565835953,
                      0.00087324483320117,
                      0.003153231693431735,
                      0.015677424147725105,
                      0.004980283789336681,
                      0.0006282719550654292,
                      0.019103404134511948,
                      -0.0016365556512027979,
                      -0.0015874749515205622,
                      0.004201812669634819,
                      -0.05597627907991409,
                      0.009872741997241974,
                      0.00021603211644105613,
                      -0.07740044593811035,
                      0.004645014647394419,
                      -0.004197453614324331,
                      -0.0011011672904714942,
                      -0.0018551481189206243,
                      0.001262559904716909
                    ]
                  ]
                }
              ],
              "layout": {
                "coloraxis": {
                  "cmid": 0,
                  "colorscale": [
                    [
                      0,
                      "rgb(103,0,31)"
                    ],
                    [
                      0.1,
                      "rgb(178,24,43)"
                    ],
                    [
                      0.2,
                      "rgb(214,96,77)"
                    ],
                    [
                      0.3,
                      "rgb(244,165,130)"
                    ],
                    [
                      0.4,
                      "rgb(253,219,199)"
                    ],
                    [
                      0.5,
                      "rgb(247,247,247)"
                    ],
                    [
                      0.6,
                      "rgb(209,229,240)"
                    ],
                    [
                      0.7,
                      "rgb(146,197,222)"
                    ],
                    [
                      0.8,
                      "rgb(67,147,195)"
                    ],
                    [
                      0.9,
                      "rgb(33,102,172)"
                    ],
                    [
                      1,
                      "rgb(5,48,97)"
                    ]
                  ]
                },
                "template": {
                  "data": {
                    "bar": [
                      {
                        "error_x": {
                          "color": "#2a3f5f"
                        },
                        "error_y": {
                          "color": "#2a3f5f"
                        },
                        "marker": {
                          "line": {
                            "color": "#E5ECF6",
                            "width": 0.5
                          },
                          "pattern": {
                            "fillmode": "overlay",
                            "size": 10,
                            "solidity": 0.2
                          }
                        },
                        "type": "bar"
                      }
                    ],
                    "barpolar": [
                      {
                        "marker": {
                          "line": {
                            "color": "#E5ECF6",
                            "width": 0.5
                          },
                          "pattern": {
                            "fillmode": "overlay",
                            "size": 10,
                            "solidity": 0.2
                          }
                        },
                        "type": "barpolar"
                      }
                    ],
                    "carpet": [
                      {
                        "aaxis": {
                          "endlinecolor": "#2a3f5f",
                          "gridcolor": "white",
                          "linecolor": "white",
                          "minorgridcolor": "white",
                          "startlinecolor": "#2a3f5f"
                        },
                        "baxis": {
                          "endlinecolor": "#2a3f5f",
                          "gridcolor": "white",
                          "linecolor": "white",
                          "minorgridcolor": "white",
                          "startlinecolor": "#2a3f5f"
                        },
                        "type": "carpet"
                      }
                    ],
                    "choropleth": [
                      {
                        "colorbar": {
                          "outlinewidth": 0,
                          "ticks": ""
                        },
                        "type": "choropleth"
                      }
                    ],
                    "contour": [
                      {
                        "colorbar": {
                          "outlinewidth": 0,
                          "ticks": ""
                        },
                        "colorscale": [
                          [
                            0,
                            "#0d0887"
                          ],
                          [
                            0.1111111111111111,
                            "#46039f"
                          ],
                          [
                            0.2222222222222222,
                            "#7201a8"
                          ],
                          [
                            0.3333333333333333,
                            "#9c179e"
                          ],
                          [
                            0.4444444444444444,
                            "#bd3786"
                          ],
                          [
                            0.5555555555555556,
                            "#d8576b"
                          ],
                          [
                            0.6666666666666666,
                            "#ed7953"
                          ],
                          [
                            0.7777777777777778,
                            "#fb9f3a"
                          ],
                          [
                            0.8888888888888888,
                            "#fdca26"
                          ],
                          [
                            1,
                            "#f0f921"
                          ]
                        ],
                        "type": "contour"
                      }
                    ],
                    "contourcarpet": [
                      {
                        "colorbar": {
                          "outlinewidth": 0,
                          "ticks": ""
                        },
                        "type": "contourcarpet"
                      }
                    ],
                    "heatmap": [
                      {
                        "colorbar": {
                          "outlinewidth": 0,
                          "ticks": ""
                        },
                        "colorscale": [
                          [
                            0,
                            "#0d0887"
                          ],
                          [
                            0.1111111111111111,
                            "#46039f"
                          ],
                          [
                            0.2222222222222222,
                            "#7201a8"
                          ],
                          [
                            0.3333333333333333,
                            "#9c179e"
                          ],
                          [
                            0.4444444444444444,
                            "#bd3786"
                          ],
                          [
                            0.5555555555555556,
                            "#d8576b"
                          ],
                          [
                            0.6666666666666666,
                            "#ed7953"
                          ],
                          [
                            0.7777777777777778,
                            "#fb9f3a"
                          ],
                          [
                            0.8888888888888888,
                            "#fdca26"
                          ],
                          [
                            1,
                            "#f0f921"
                          ]
                        ],
                        "type": "heatmap"
                      }
                    ],
                    "heatmapgl": [
                      {
                        "colorbar": {
                          "outlinewidth": 0,
                          "ticks": ""
                        },
                        "colorscale": [
                          [
                            0,
                            "#0d0887"
                          ],
                          [
                            0.1111111111111111,
                            "#46039f"
                          ],
                          [
                            0.2222222222222222,
                            "#7201a8"
                          ],
                          [
                            0.3333333333333333,
                            "#9c179e"
                          ],
                          [
                            0.4444444444444444,
                            "#bd3786"
                          ],
                          [
                            0.5555555555555556,
                            "#d8576b"
                          ],
                          [
                            0.6666666666666666,
                            "#ed7953"
                          ],
                          [
                            0.7777777777777778,
                            "#fb9f3a"
                          ],
                          [
                            0.8888888888888888,
                            "#fdca26"
                          ],
                          [
                            1,
                            "#f0f921"
                          ]
                        ],
                        "type": "heatmapgl"
                      }
                    ],
                    "histogram": [
                      {
                        "marker": {
                          "pattern": {
                            "fillmode": "overlay",
                            "size": 10,
                            "solidity": 0.2
                          }
                        },
                        "type": "histogram"
                      }
                    ],
                    "histogram2d": [
                      {
                        "colorbar": {
                          "outlinewidth": 0,
                          "ticks": ""
                        },
                        "colorscale": [
                          [
                            0,
                            "#0d0887"
                          ],
                          [
                            0.1111111111111111,
                            "#46039f"
                          ],
                          [
                            0.2222222222222222,
                            "#7201a8"
                          ],
                          [
                            0.3333333333333333,
                            "#9c179e"
                          ],
                          [
                            0.4444444444444444,
                            "#bd3786"
                          ],
                          [
                            0.5555555555555556,
                            "#d8576b"
                          ],
                          [
                            0.6666666666666666,
                            "#ed7953"
                          ],
                          [
                            0.7777777777777778,
                            "#fb9f3a"
                          ],
                          [
                            0.8888888888888888,
                            "#fdca26"
                          ],
                          [
                            1,
                            "#f0f921"
                          ]
                        ],
                        "type": "histogram2d"
                      }
                    ],
                    "histogram2dcontour": [
                      {
                        "colorbar": {
                          "outlinewidth": 0,
                          "ticks": ""
                        },
                        "colorscale": [
                          [
                            0,
                            "#0d0887"
                          ],
                          [
                            0.1111111111111111,
                            "#46039f"
                          ],
                          [
                            0.2222222222222222,
                            "#7201a8"
                          ],
                          [
                            0.3333333333333333,
                            "#9c179e"
                          ],
                          [
                            0.4444444444444444,
                            "#bd3786"
                          ],
                          [
                            0.5555555555555556,
                            "#d8576b"
                          ],
                          [
                            0.6666666666666666,
                            "#ed7953"
                          ],
                          [
                            0.7777777777777778,
                            "#fb9f3a"
                          ],
                          [
                            0.8888888888888888,
                            "#fdca26"
                          ],
                          [
                            1,
                            "#f0f921"
                          ]
                        ],
                        "type": "histogram2dcontour"
                      }
                    ],
                    "mesh3d": [
                      {
                        "colorbar": {
                          "outlinewidth": 0,
                          "ticks": ""
                        },
                        "type": "mesh3d"
                      }
                    ],
                    "parcoords": [
                      {
                        "line": {
                          "colorbar": {
                            "outlinewidth": 0,
                            "ticks": ""
                          }
                        },
                        "type": "parcoords"
                      }
                    ],
                    "pie": [
                      {
                        "automargin": true,
                        "type": "pie"
                      }
                    ],
                    "scatter": [
                      {
                        "fillpattern": {
                          "fillmode": "overlay",
                          "size": 10,
                          "solidity": 0.2
                        },
                        "type": "scatter"
                      }
                    ],
                    "scatter3d": [
                      {
                        "line": {
                          "colorbar": {
                            "outlinewidth": 0,
                            "ticks": ""
                          }
                        },
                        "marker": {
                          "colorbar": {
                            "outlinewidth": 0,
                            "ticks": ""
                          }
                        },
                        "type": "scatter3d"
                      }
                    ],
                    "scattercarpet": [
                      {
                        "marker": {
                          "colorbar": {
                            "outlinewidth": 0,
                            "ticks": ""
                          }
                        },
                        "type": "scattercarpet"
                      }
                    ],
                    "scattergeo": [
                      {
                        "marker": {
                          "colorbar": {
                            "outlinewidth": 0,
                            "ticks": ""
                          }
                        },
                        "type": "scattergeo"
                      }
                    ],
                    "scattergl": [
                      {
                        "marker": {
                          "colorbar": {
                            "outlinewidth": 0,
                            "ticks": ""
                          }
                        },
                        "type": "scattergl"
                      }
                    ],
                    "scattermapbox": [
                      {
                        "marker": {
                          "colorbar": {
                            "outlinewidth": 0,
                            "ticks": ""
                          }
                        },
                        "type": "scattermapbox"
                      }
                    ],
                    "scatterpolar": [
                      {
                        "marker": {
                          "colorbar": {
                            "outlinewidth": 0,
                            "ticks": ""
                          }
                        },
                        "type": "scatterpolar"
                      }
                    ],
                    "scatterpolargl": [
                      {
                        "marker": {
                          "colorbar": {
                            "outlinewidth": 0,
                            "ticks": ""
                          }
                        },
                        "type": "scatterpolargl"
                      }
                    ],
                    "scatterternary": [
                      {
                        "marker": {
                          "colorbar": {
                            "outlinewidth": 0,
                            "ticks": ""
                          }
                        },
                        "type": "scatterternary"
                      }
                    ],
                    "surface": [
                      {
                        "colorbar": {
                          "outlinewidth": 0,
                          "ticks": ""
                        },
                        "colorscale": [
                          [
                            0,
                            "#0d0887"
                          ],
                          [
                            0.1111111111111111,
                            "#46039f"
                          ],
                          [
                            0.2222222222222222,
                            "#7201a8"
                          ],
                          [
                            0.3333333333333333,
                            "#9c179e"
                          ],
                          [
                            0.4444444444444444,
                            "#bd3786"
                          ],
                          [
                            0.5555555555555556,
                            "#d8576b"
                          ],
                          [
                            0.6666666666666666,
                            "#ed7953"
                          ],
                          [
                            0.7777777777777778,
                            "#fb9f3a"
                          ],
                          [
                            0.8888888888888888,
                            "#fdca26"
                          ],
                          [
                            1,
                            "#f0f921"
                          ]
                        ],
                        "type": "surface"
                      }
                    ],
                    "table": [
                      {
                        "cells": {
                          "fill": {
                            "color": "#EBF0F8"
                          },
                          "line": {
                            "color": "white"
                          }
                        },
                        "header": {
                          "fill": {
                            "color": "#C8D4E3"
                          },
                          "line": {
                            "color": "white"
                          }
                        },
                        "type": "table"
                      }
                    ]
                  },
                  "layout": {
                    "annotationdefaults": {
                      "arrowcolor": "#2a3f5f",
                      "arrowhead": 0,
                      "arrowwidth": 1
                    },
                    "autotypenumbers": "strict",
                    "coloraxis": {
                      "colorbar": {
                        "outlinewidth": 0,
                        "ticks": ""
                      }
                    },
                    "colorscale": {
                      "diverging": [
                        [
                          0,
                          "#8e0152"
                        ],
                        [
                          0.1,
                          "#c51b7d"
                        ],
                        [
                          0.2,
                          "#de77ae"
                        ],
                        [
                          0.3,
                          "#f1b6da"
                        ],
                        [
                          0.4,
                          "#fde0ef"
                        ],
                        [
                          0.5,
                          "#f7f7f7"
                        ],
                        [
                          0.6,
                          "#e6f5d0"
                        ],
                        [
                          0.7,
                          "#b8e186"
                        ],
                        [
                          0.8,
                          "#7fbc41"
                        ],
                        [
                          0.9,
                          "#4d9221"
                        ],
                        [
                          1,
                          "#276419"
                        ]
                      ],
                      "sequential": [
                        [
                          0,
                          "#0d0887"
                        ],
                        [
                          0.1111111111111111,
                          "#46039f"
                        ],
                        [
                          0.2222222222222222,
                          "#7201a8"
                        ],
                        [
                          0.3333333333333333,
                          "#9c179e"
                        ],
                        [
                          0.4444444444444444,
                          "#bd3786"
                        ],
                        [
                          0.5555555555555556,
                          "#d8576b"
                        ],
                        [
                          0.6666666666666666,
                          "#ed7953"
                        ],
                        [
                          0.7777777777777778,
                          "#fb9f3a"
                        ],
                        [
                          0.8888888888888888,
                          "#fdca26"
                        ],
                        [
                          1,
                          "#f0f921"
                        ]
                      ],
                      "sequentialminus": [
                        [
                          0,
                          "#0d0887"
                        ],
                        [
                          0.1111111111111111,
                          "#46039f"
                        ],
                        [
                          0.2222222222222222,
                          "#7201a8"
                        ],
                        [
                          0.3333333333333333,
                          "#9c179e"
                        ],
                        [
                          0.4444444444444444,
                          "#bd3786"
                        ],
                        [
                          0.5555555555555556,
                          "#d8576b"
                        ],
                        [
                          0.6666666666666666,
                          "#ed7953"
                        ],
                        [
                          0.7777777777777778,
                          "#fb9f3a"
                        ],
                        [
                          0.8888888888888888,
                          "#fdca26"
                        ],
                        [
                          1,
                          "#f0f921"
                        ]
                      ]
                    },
                    "colorway": [
                      "#636efa",
                      "#EF553B",
                      "#00cc96",
                      "#ab63fa",
                      "#FFA15A",
                      "#19d3f3",
                      "#FF6692",
                      "#B6E880",
                      "#FF97FF",
                      "#FECB52"
                    ],
                    "font": {
                      "color": "#2a3f5f"
                    },
                    "geo": {
                      "bgcolor": "white",
                      "lakecolor": "white",
                      "landcolor": "#E5ECF6",
                      "showlakes": true,
                      "showland": true,
                      "subunitcolor": "white"
                    },
                    "hoverlabel": {
                      "align": "left"
                    },
                    "hovermode": "closest",
                    "mapbox": {
                      "style": "light"
                    },
                    "paper_bgcolor": "white",
                    "plot_bgcolor": "#E5ECF6",
                    "polar": {
                      "angularaxis": {
                        "gridcolor": "white",
                        "linecolor": "white",
                        "ticks": ""
                      },
                      "bgcolor": "#E5ECF6",
                      "radialaxis": {
                        "gridcolor": "white",
                        "linecolor": "white",
                        "ticks": ""
                      }
                    },
                    "scene": {
                      "xaxis": {
                        "backgroundcolor": "#E5ECF6",
                        "gridcolor": "white",
                        "gridwidth": 2,
                        "linecolor": "white",
                        "showbackground": true,
                        "ticks": "",
                        "zerolinecolor": "white"
                      },
                      "yaxis": {
                        "backgroundcolor": "#E5ECF6",
                        "gridcolor": "white",
                        "gridwidth": 2,
                        "linecolor": "white",
                        "showbackground": true,
                        "ticks": "",
                        "zerolinecolor": "white"
                      },
                      "zaxis": {
                        "backgroundcolor": "#E5ECF6",
                        "gridcolor": "white",
                        "gridwidth": 2,
                        "linecolor": "white",
                        "showbackground": true,
                        "ticks": "",
                        "zerolinecolor": "white"
                      }
                    },
                    "shapedefaults": {
                      "line": {
                        "color": "#2a3f5f"
                      }
                    },
                    "ternary": {
                      "aaxis": {
                        "gridcolor": "white",
                        "linecolor": "white",
                        "ticks": ""
                      },
                      "baxis": {
                        "gridcolor": "white",
                        "linecolor": "white",
                        "ticks": ""
                      },
                      "bgcolor": "#E5ECF6",
                      "caxis": {
                        "gridcolor": "white",
                        "linecolor": "white",
                        "ticks": ""
                      }
                    },
                    "title": {
                      "x": 0.05
                    },
                    "xaxis": {
                      "automargin": true,
                      "gridcolor": "white",
                      "linecolor": "white",
                      "ticks": "",
                      "title": {
                        "standoff": 15
                      },
                      "zerolinecolor": "white",
                      "zerolinewidth": 2
                    },
                    "yaxis": {
                      "automargin": true,
                      "gridcolor": "white",
                      "linecolor": "white",
                      "ticks": "",
                      "title": {
                        "standoff": 15
                      },
                      "zerolinecolor": "white",
                      "zerolinewidth": 2
                    }
                  }
                },
                "title": {
                  "text": "Logit Difference From Each Head for Original Prompts"
                },
                "xaxis": {
                  "anchor": "y",
                  "constrain": "domain",
                  "domain": [
                    0,
                    1
                  ],
                  "scaleanchor": "y",
                  "title": {
                    "text": "Head"
                  }
                },
                "yaxis": {
                  "anchor": "x",
                  "autorange": "reversed",
                  "constrain": "domain",
                  "domain": [
                    0,
                    1
                  ],
                  "title": {
                    "text": "Layer"
                  }
                }
              }
            }
          },
          "metadata": {},
          "output_type": "display_data"
        }
      ],
      "source": [
        "orig_per_head_residual, labels = orig_cache.stack_head_results(\n",
        "    layer=-1, pos_slice=-1, return_labels=True\n",
        ")\n",
        "orig_per_head_logit_diffs = residual_stack_to_logit_diff(\n",
        "    orig_per_head_residual, orig_cache, orig_logit_diff_directions\n",
        ")\n",
        "orig_per_head_logit_diffs = einops.rearrange(\n",
        "    orig_per_head_logit_diffs,\n",
        "    \"(layer head_index) -> layer head_index\",\n",
        "    layer=model.cfg.n_layers,\n",
        "    head_index=model.cfg.n_heads,\n",
        ")\n",
        "imshow(\n",
        "    orig_per_head_logit_diffs,\n",
        "    labels={\"x\": \"Head\", \"y\": \"Layer\"},\n",
        "    title=\"Logit Difference From Each Head for Original Prompts\",\n",
        ")"
      ]
    },
    {
      "cell_type": "code",
      "execution_count": 40,
      "metadata": {},
      "outputs": [
        {
          "name": "stdout",
          "output_type": "stream",
          "text": [
            "Tried to stack head results when they weren't cached. Computing head results now\n"
          ]
        },
        {
          "data": {
            "application/vnd.plotly.v1+json": {
              "config": {
                "plotlyServerURL": "https://plot.ly"
              },
              "data": [
                {
                  "coloraxis": "coloraxis",
                  "hovertemplate": "Head: %{x}<br>Layer: %{y}<br>color: %{z}<extra></extra>",
                  "name": "0",
                  "type": "heatmap",
                  "xaxis": "x",
                  "yaxis": "y",
                  "z": [
                    [
                      0.00602992856875062,
                      0.009585670195519924,
                      0.03232196718454361,
                      0.006517232861369848,
                      0.0049909865483641624,
                      0.01240032073110342,
                      0.00230746460147202,
                      0.004053618758916855,
                      0.033059582114219666,
                      0.0010371949756518006,
                      0.010109873488545418,
                      -0.0025267053861171007,
                      0.06255125999450684,
                      0.0003129488613922149,
                      0.0030504774767905474,
                      -0.0005953825311735272,
                      0.002770333318039775,
                      -0.004964143969118595,
                      0.009112740866839886,
                      0.029865583404898643
                    ],
                    [
                      0.003706998424604535,
                      -0.007609683554619551,
                      -0.007022383622825146,
                      -0.0010982502717524767,
                      0.002319629769772291,
                      -0.003446738701313734,
                      -0.0020908196456730366,
                      -0.005882541183382273,
                      -0.0021575982682406902,
                      -0.00506106112152338,
                      -0.003233402268961072,
                      0.003070484846830368,
                      0.003059819806367159,
                      0.006513684522360563,
                      -0.006719630677253008,
                      -0.0259979460388422,
                      0.003059428185224533,
                      0.00031148004927672446,
                      -0.0017136106034740806,
                      0.0013329131761565804
                    ],
                    [
                      0.004712257068604231,
                      -0.0013961979420855641,
                      0.002524548675864935,
                      0.0007987301796674728,
                      0.0023254603147506714,
                      0.00003192014992237091,
                      -0.0005640182644128799,
                      -0.0034348343033343554,
                      -0.0012283629039302468,
                      -0.0012755567440763116,
                      -0.0003829974157270044,
                      0.0011725303484126925,
                      -0.0020101366098970175,
                      0.004895242862403393,
                      -0.0008866659482009709,
                      0.001036285306327045,
                      -0.0016449670074507594,
                      -0.0007032082648947835,
                      0.004906863905489445,
                      0.0012736853677779436
                    ],
                    [
                      -0.001325418008491397,
                      0.004323351662606001,
                      0.0006692360038869083,
                      0.0001348555088043213,
                      0.005809173919260502,
                      -0.0008135444368235767,
                      0.00706260884180665,
                      -0.00239132484421134,
                      0.00042784478864632547,
                      -0.000550688651856035,
                      0.0035405580420047045,
                      0.004450561013072729,
                      0.004412282258272171,
                      0.002210560953244567,
                      0.003782742889598012,
                      -0.0016913482686504722,
                      0.001552012749016285,
                      0.004035938996821642,
                      -0.001549987238831818,
                      -0.007427844684571028
                    ],
                    [
                      0.0015883209416642785,
                      -0.0003877424751408398,
                      0.0004449189000297338,
                      0.008161268197000027,
                      0.001618551672436297,
                      0.005021507386118174,
                      0.00021409305918496102,
                      -0.00422319071367383,
                      0.0016138936625793576,
                      0.0021445322781801224,
                      0.001692555146291852,
                      -0.0034762469585984945,
                      -0.0039403378032147884,
                      -0.0006063039181753993,
                      0.0006855521351099014,
                      0.0012568982783704996,
                      -0.004181192256510258,
                      -0.0003834972158074379,
                      0.0036853854544460773,
                      0.002767918398603797
                    ],
                    [
                      0.002851201221346855,
                      -0.0039013910572975874,
                      -0.005155071150511503,
                      0.00047430902486667037,
                      -0.0018119014566764235,
                      0.0054673003032803535,
                      -0.0017748826649039984,
                      -0.006176779977977276,
                      -0.006003801245242357,
                      -0.0044435723684728146,
                      0.0027704467065632343,
                      0.0024953284300863743,
                      0.0064540705643594265,
                      0.0003103587368968874,
                      0.0007845995132811368,
                      -0.004108619410544634,
                      0.00041184201836586,
                      -0.0077543300576508045,
                      0.0032801590859889984,
                      0.0010254279477521777
                    ],
                    [
                      -0.0037133179139345884,
                      -0.0002480380644556135,
                      0.004641592036932707,
                      0.002021408174186945,
                      -0.009035155177116394,
                      0.001068385667167604,
                      0.00037144895759411156,
                      0.0006140515906736255,
                      -0.009721984155476093,
                      0.0014124818844720721,
                      0.00035121809924021363,
                      -0.00015132142289076,
                      0.004198647104203701,
                      -0.00016160888480953872,
                      0.0005626017227768898,
                      -0.001420206273905933,
                      0.0017060379032045603,
                      0.0026841650251299143,
                      0.0034530269913375378,
                      -0.004365504719316959
                    ],
                    [
                      0.0001521525700809434,
                      0.0034316759556531906,
                      -0.0012377050006762147,
                      0.01779109239578247,
                      -0.0022405381314456463,
                      -0.004764984827488661,
                      0.0024440716952085495,
                      0.0022129262797534466,
                      -0.002914995653554797,
                      -0.0011175080435350537,
                      -0.0054604364559054375,
                      0.0005287366802804172,
                      -0.0020388965494930744,
                      0.0006785939331166446,
                      -0.00042372834286652505,
                      -0.001034564571455121,
                      -0.0038088117726147175,
                      -0.0042986515909433365,
                      -0.001254888018593192,
                      -0.004311391618102789
                    ],
                    [
                      0.008781996555626392,
                      -0.010665318928658962,
                      0.006210561841726303,
                      -0.004715573973953724,
                      0.00326137850061059,
                      0.0026721644680947065,
                      -0.00921756774187088,
                      -0.0037333720829337835,
                      -0.002011421835049987,
                      -0.009494074620306492,
                      -0.003676363965496421,
                      -0.006564748007804155,
                      0.00789960939437151,
                      -0.007516980171203613,
                      0.0004354574193712324,
                      -0.005021612625569105,
                      0.0017112557543441653,
                      -0.0031379966530948877,
                      -0.002766139805316925,
                      -0.0044600167311728
                    ],
                    [
                      0.0035102139227092266,
                      -0.002122279955074191,
                      -0.0003208617854397744,
                      -0.0034597422927618027,
                      0.001955279614776373,
                      -0.004394367337226868,
                      0.0035872964654117823,
                      0.0018229606794193387,
                      0.007098372559994459,
                      -0.007262141909450293,
                      -0.008916202001273632,
                      0.006285172421485186,
                      -0.0013978228671476245,
                      0.009252222254872322,
                      0.0030229389667510986,
                      -0.0010278142290189862,
                      -0.0003321048279758543,
                      -0.00586937228217721,
                      0.004761442542076111,
                      -0.0011861288221552968
                    ],
                    [
                      -0.04108422249555588,
                      -0.01017215009778738,
                      0.000852854922413826,
                      0.006888794247061014,
                      -0.0033728887792676687,
                      -0.00001229877943842439,
                      0.003609858686104417,
                      -0.00028230808675289154,
                      0.0321081206202507,
                      0.0009968968806788325,
                      0.0011581267463043332,
                      0.0047887093387544155,
                      0.001346049946732819,
                      -0.017546525225043297,
                      0.0037377853877842426,
                      -0.0037864833138883114,
                      -0.000828322023153305,
                      -0.006665606051683426,
                      -0.0012270454317331314,
                      -0.004063715692609549
                    ],
                    [
                      -0.002316519385203719,
                      -0.0016219794051721692,
                      -0.0014360349159687757,
                      0.0044131833128631115,
                      0.007317931391298771,
                      0.0032669000793248415,
                      -0.003989049699157476,
                      0.0019781182054430246,
                      -0.004959204234182835,
                      -0.003152404446154833,
                      0.006247247569262981,
                      -0.004397547338157892,
                      0.003619944676756859,
                      0.016754189506173134,
                      -0.021980443969368935,
                      -0.00013068078260403126,
                      0.048948101699352264,
                      0.0002247696538688615,
                      0.013797932304441929,
                      0.0037419816944748163
                    ],
                    [
                      -0.03853221610188484,
                      0.0004395816067699343,
                      -0.005042991600930691,
                      -0.00001675668863754254,
                      0.002697019139304757,
                      -0.0023639015853405,
                      -0.0013559844810515642,
                      0.00421507190912962,
                      -0.010820546187460423,
                      -0.004464076831936836,
                      -0.0013784122420474887,
                      -0.020607564598321915,
                      0.005379857961088419,
                      0.012418688274919987,
                      -0.015723826363682747,
                      0.0036682754289358854,
                      -0.0028516706079244614,
                      0.010811974294483662,
                      0.004059258848428726,
                      -0.005426603835076094
                    ],
                    [
                      -0.001104270457290113,
                      0.00787158403545618,
                      -0.028320470824837685,
                      -0.01982361078262329,
                      0.00016842490003909916,
                      0.003906650003045797,
                      0.003173012053593993,
                      0.002741266507655382,
                      -0.01069923210889101,
                      0.007609326392412186,
                      0.0021664605010300875,
                      -0.002873061690479517,
                      -0.009630816988646984,
                      0.008547536097466946,
                      0.001537673408165574,
                      0.0049463012255728245,
                      0.0024864135775715113,
                      -0.00016231242625508457,
                      0.0014121526619419456,
                      -0.005724006798118353
                    ],
                    [
                      -0.11989323049783707,
                      -0.011906304396688938,
                      0.0011410668957978487,
                      -0.0014833755558356643,
                      -0.013550535775721073,
                      0.002866249531507492,
                      0.032445069402456284,
                      -0.018853668123483658,
                      -0.005406828131526709,
                      0.011245295405387878,
                      0.009841359220445156,
                      0.002440714044496417,
                      0.002017937134951353,
                      0.022918330505490303,
                      0.0033172406256198883,
                      0.004475940950214863,
                      -0.044097933918237686,
                      -0.0021897132974117994,
                      -0.003232727525755763,
                      -0.005351137835532427
                    ],
                    [
                      0.0018342796247452497,
                      0.013444448821246624,
                      0.007432641927152872,
                      -0.0016364598413929343,
                      0.00611945940181613,
                      -0.0017332835122942924,
                      -0.0016621791291981936,
                      -0.007208254653960466,
                      0.0015603548381477594,
                      0.006401349324733019,
                      -0.008322465233504772,
                      0.059230986982584,
                      0.020837077870965004,
                      0.010164693929255009,
                      -0.004391624592244625,
                      -0.014198318123817444,
                      -0.0071718767285346985,
                      0.0033338945358991623,
                      -0.0036055317614227533,
                      0.010956117883324623
                    ],
                    [
                      -0.00036977071431465447,
                      -0.0037228427827358246,
                      -0.0009892720263451338,
                      -0.0031726581510156393,
                      0.0014059331733733416,
                      -0.00863016489893198,
                      -0.0020998066756874323,
                      0.0005370783037506044,
                      -0.008318096399307251,
                      0.004942325409501791,
                      0.0024683743249624968,
                      0.0020347158424556255,
                      0.06027645617723465,
                      0.003906579222530127,
                      -0.002585357753559947,
                      -0.12242133170366287,
                      0.0007341259042732418,
                      -0.001619747607037425,
                      -0.004745681770145893,
                      -0.002431832253932953
                    ],
                    [
                      0.0018867922481149435,
                      0.018826765939593315,
                      0.005084164906293154,
                      -0.001476990059018135,
                      -0.007932514883577824,
                      0.004064436536282301,
                      -0.04604937508702278,
                      -0.004892834462225437,
                      -0.002980972407385707,
                      -0.0021623391658067703,
                      0.022606540471315384,
                      0.24168674647808075,
                      -0.00613275496289134,
                      -0.23919211328029633,
                      -0.0035783255007117987,
                      -0.004006533417850733,
                      -0.004471170715987682,
                      -0.023843755945563316,
                      0.12533898651599884,
                      0.006251963321119547
                    ],
                    [
                      0.0017549347830936313,
                      0.0020485406275838614,
                      0.008134587667882442,
                      -0.0018209833651781082,
                      -0.00013487933028955013,
                      0.0029711085371673107,
                      0.0020137110259383917,
                      0.00374077376909554,
                      0.0028059424366801977,
                      -0.007389988284558058,
                      -0.0037448168732225895,
                      -0.0054661124013364315,
                      -0.0002972430957015604,
                      0.02696366049349308,
                      -0.011783185414969921,
                      -0.0258169025182724,
                      0.0019402991747483611,
                      -0.00030383633566088974,
                      -0.007038280833512545,
                      0.00009377826063428074
                    ],
                    [
                      0.0018305426929146051,
                      -0.00899718888103962,
                      0.0004250767233315855,
                      0.00299658696167171,
                      -0.005247392691671848,
                      -0.009381973184645176,
                      0.01550613809376955,
                      0.0012841826537624002,
                      0.0017605955945327878,
                      -0.0021449013147503138,
                      -0.001412660232745111,
                      0.0003685031842906028,
                      0.01980816014111042,
                      0.004679140169173479,
                      0.014965223148465157,
                      -0.002181100193411112,
                      -0.12683764100074768,
                      -0.003332793712615967,
                      -0.0028506037779152393,
                      0.24106621742248535
                    ],
                    [
                      -0.002129847416654229,
                      -0.00002478748319845181,
                      -0.0027730348519980907,
                      -0.0598287396132946,
                      -0.0007120482623577118,
                      0.0000024166490675270325,
                      0.0004262972215656191,
                      -0.0007050890126265585,
                      -0.0027792155742645264,
                      0.001049805898219347,
                      -0.024192048236727715,
                      -0.0008338550687767565,
                      0.0036095641553401947,
                      0.001131208031438291,
                      -0.002647194778546691,
                      0.0010219133691862226,
                      0.0004446610400918871,
                      -0.012791923247277737,
                      0.0033886900637298822,
                      -0.0026805566158145666
                    ],
                    [
                      -0.008653782308101654,
                      0.006278741639107466,
                      0.002568333875387907,
                      -0.0008924499852582812,
                      0.0006115470896475017,
                      -0.0017381898360326886,
                      0.0026014246977865696,
                      -0.02124917134642601,
                      0.0021683964878320694,
                      0.096453957259655,
                      0.004974476061761379,
                      -0.003989641088992357,
                      0.009313158690929413,
                      -0.014905409887433052,
                      -0.011818892322480679,
                      0.03387269750237465,
                      -0.005056318361312151,
                      0.0011274630669504404,
                      -0.021480858325958252,
                      0.0031735289376229048
                    ],
                    [
                      0.0001992003817576915,
                      -0.0007677176618017256,
                      0.0050308918580412865,
                      -0.008211133070290089,
                      0.0006426767213270068,
                      -0.011019880883395672,
                      0.0006987974047660828,
                      0.0003061983734369278,
                      -0.010725726373493671,
                      0.0011471137404441833,
                      -0.07649902254343033,
                      -0.0017062880797311664,
                      -0.003184520872309804,
                      -0.16183792054653168,
                      -0.020676227286458015,
                      -0.0038428602274507284,
                      -0.004043110180646181,
                      0.0012442988809198141,
                      -0.0011314494768157601,
                      0.00013354288239497691
                    ],
                    [
                      -0.004273350816220045,
                      -0.004800742957741022,
                      -0.014528385363519192,
                      -0.005801030434668064,
                      -0.00834436435252428,
                      -0.0186530239880085,
                      -0.0042182873003184795,
                      -0.0009431057260371745,
                      -0.0012139917816966772,
                      -0.0008818141068331897,
                      0.0047570825554430485,
                      0.0005839908844791353,
                      0.0010410754475742579,
                      -0.0020615211687982082,
                      0.04033663868904114,
                      0.003807811066508293,
                      -0.014317001216113567,
                      -0.016759252175688744,
                      0.00018993645790033042,
                      -0.0012056810082867742
                    ],
                    [
                      0.004109660163521767,
                      -0.04457798972725868,
                      0.0003775090735871345,
                      0.014928204007446766,
                      0.00010588741861283779,
                      -0.002628948073834181,
                      0.0009835610399022698,
                      0.0025137935299426317,
                      0.0003150227421429008,
                      0.003185251960530877,
                      0.0034698019735515118,
                      -0.045384980738162994,
                      -0.004770846106112003,
                      -0.00008025000715861097,
                      -0.015366251580417156,
                      -0.00045299011981114745,
                      0.003999948967248201,
                      0.004287000745534897,
                      0.0041907369159162045,
                      -0.3561704456806183
                    ],
                    [
                      0.007059372030198574,
                      -0.00910413172096014,
                      0.00030407574377022684,
                      -0.005648682359606028,
                      -0.030173638835549355,
                      0.007675923872739077,
                      0.0027999805752187967,
                      0.001418543397448957,
                      -0.010659513995051384,
                      -0.003052089363336563,
                      -0.0006842975271865726,
                      -0.006778626702725887,
                      -0.007036476396024227,
                      -0.02764606848359108,
                      -0.0006599114858545363,
                      0.003067800309509039,
                      -0.0032959755044430494,
                      -0.001725065871141851,
                      -0.08378354460000992,
                      -0.029211103916168213
                    ],
                    [
                      -0.008281656540930271,
                      -0.0022419944871217012,
                      -0.00006890616350574419,
                      0.001934435567818582,
                      0.0018316550413146615,
                      0.0019365408224985003,
                      -0.0010128002613782883,
                      -0.002609679941087961,
                      0.0018461121944710612,
                      0.0012552253901958466,
                      -0.0014727609232068062,
                      -0.0011283931089565158,
                      0.001234599039889872,
                      -0.0030706145334988832,
                      0.0006924287299625576,
                      -0.0010281213326379657,
                      0.0006542562623508275,
                      -0.011499469168484211,
                      0.00006883335299789906,
                      0.011443644762039185
                    ],
                    [
                      -0.00997841451317072,
                      -0.0005268418462947011,
                      -0.015265625901520252,
                      0.01021431665867567,
                      -0.0013469337718561292,
                      0.00023095666256267577,
                      0.0013810183154419065,
                      -0.003804700216278434,
                      -0.0013092828448861837,
                      -0.002705542603507638,
                      -0.003982061054557562,
                      -0.000033856653317343444,
                      -0.0014968195464462042,
                      0.0002745321544352919,
                      -0.0001412550627719611,
                      -0.00024105528427753597,
                      -0.015104278922080994,
                      0.0022323899902403355,
                      -0.002207815181463957,
                      0.0007289689965546131
                    ],
                    [
                      0.000236653329920955,
                      -0.0011433109175413847,
                      -0.001160543761216104,
                      0.0022678147070109844,
                      0.00045029769535176456,
                      -0.0013458906905725598,
                      0.0002795314940158278,
                      0.0037789191119372845,
                      -0.01551961898803711,
                      -0.007421175483614206,
                      -0.020248161628842354,
                      0.0002453940687701106,
                      -0.00008022998372325674,
                      -0.0034960773773491383,
                      -0.005090692080557346,
                      -0.024354297667741776,
                      -0.000014747027307748795,
                      -0.0004980938392691314,
                      0.00250997394323349,
                      -0.0022762310691177845
                    ],
                    [
                      -0.002396979136392474,
                      -0.007468115072697401,
                      0.017248760908842087,
                      -0.0038749310187995434,
                      0.007553614675998688,
                      -0.004029107745736837,
                      -0.0019191160099580884,
                      0.0010338445426896214,
                      0.0020203867461532354,
                      -0.00098704535048455,
                      -0.0010026704985648394,
                      0.005551565904170275,
                      -0.012404016219079494,
                      0.0007715190877206624,
                      0.0045574321411550045,
                      -0.00026754889404401183,
                      0.0005712327547371387,
                      0.00025324663147330284,
                      -0.004634946119040251,
                      0.00042480332194827497
                    ],
                    [
                      0.0010166309075430036,
                      -0.0006316659273579717,
                      -0.004556839819997549,
                      0.003800662700086832,
                      0.004790439736098051,
                      -0.000741519674193114,
                      0.003914158325642347,
                      -0.004316340200603008,
                      -0.0014552668435499072,
                      -0.0007350781816057861,
                      -0.008618501015007496,
                      -0.0008006644202396274,
                      -0.003074586857110262,
                      -0.0022135258186608553,
                      -0.0033268725965172052,
                      -0.0012250728905200958,
                      -0.0006143938517197967,
                      -0.0005306611419655383,
                      -0.0005635191919282079,
                      -0.0007966472185216844
                    ],
                    [
                      -0.00590979028493166,
                      0.004671304952353239,
                      0.0006829114863649011,
                      0.005063388496637344,
                      0.026701724156737328,
                      0.0044758617877960205,
                      0.0004534487088676542,
                      0.013853705488145351,
                      -0.001468526548705995,
                      -0.0015718688955530524,
                      0.003252994967624545,
                      -0.05340326577425003,
                      0.0068720378912985325,
                      -0.0010301423026248813,
                      -0.08850221335887909,
                      0.00024916845723055303,
                      -0.0030456148087978363,
                      0.00015895946125965565,
                      -0.0018662255024537444,
                      0.004570897668600082
                    ]
                  ]
                }
              ],
              "layout": {
                "coloraxis": {
                  "cmid": 0,
                  "colorscale": [
                    [
                      0,
                      "rgb(103,0,31)"
                    ],
                    [
                      0.1,
                      "rgb(178,24,43)"
                    ],
                    [
                      0.2,
                      "rgb(214,96,77)"
                    ],
                    [
                      0.3,
                      "rgb(244,165,130)"
                    ],
                    [
                      0.4,
                      "rgb(253,219,199)"
                    ],
                    [
                      0.5,
                      "rgb(247,247,247)"
                    ],
                    [
                      0.6,
                      "rgb(209,229,240)"
                    ],
                    [
                      0.7,
                      "rgb(146,197,222)"
                    ],
                    [
                      0.8,
                      "rgb(67,147,195)"
                    ],
                    [
                      0.9,
                      "rgb(33,102,172)"
                    ],
                    [
                      1,
                      "rgb(5,48,97)"
                    ]
                  ]
                },
                "template": {
                  "data": {
                    "bar": [
                      {
                        "error_x": {
                          "color": "#2a3f5f"
                        },
                        "error_y": {
                          "color": "#2a3f5f"
                        },
                        "marker": {
                          "line": {
                            "color": "#E5ECF6",
                            "width": 0.5
                          },
                          "pattern": {
                            "fillmode": "overlay",
                            "size": 10,
                            "solidity": 0.2
                          }
                        },
                        "type": "bar"
                      }
                    ],
                    "barpolar": [
                      {
                        "marker": {
                          "line": {
                            "color": "#E5ECF6",
                            "width": 0.5
                          },
                          "pattern": {
                            "fillmode": "overlay",
                            "size": 10,
                            "solidity": 0.2
                          }
                        },
                        "type": "barpolar"
                      }
                    ],
                    "carpet": [
                      {
                        "aaxis": {
                          "endlinecolor": "#2a3f5f",
                          "gridcolor": "white",
                          "linecolor": "white",
                          "minorgridcolor": "white",
                          "startlinecolor": "#2a3f5f"
                        },
                        "baxis": {
                          "endlinecolor": "#2a3f5f",
                          "gridcolor": "white",
                          "linecolor": "white",
                          "minorgridcolor": "white",
                          "startlinecolor": "#2a3f5f"
                        },
                        "type": "carpet"
                      }
                    ],
                    "choropleth": [
                      {
                        "colorbar": {
                          "outlinewidth": 0,
                          "ticks": ""
                        },
                        "type": "choropleth"
                      }
                    ],
                    "contour": [
                      {
                        "colorbar": {
                          "outlinewidth": 0,
                          "ticks": ""
                        },
                        "colorscale": [
                          [
                            0,
                            "#0d0887"
                          ],
                          [
                            0.1111111111111111,
                            "#46039f"
                          ],
                          [
                            0.2222222222222222,
                            "#7201a8"
                          ],
                          [
                            0.3333333333333333,
                            "#9c179e"
                          ],
                          [
                            0.4444444444444444,
                            "#bd3786"
                          ],
                          [
                            0.5555555555555556,
                            "#d8576b"
                          ],
                          [
                            0.6666666666666666,
                            "#ed7953"
                          ],
                          [
                            0.7777777777777778,
                            "#fb9f3a"
                          ],
                          [
                            0.8888888888888888,
                            "#fdca26"
                          ],
                          [
                            1,
                            "#f0f921"
                          ]
                        ],
                        "type": "contour"
                      }
                    ],
                    "contourcarpet": [
                      {
                        "colorbar": {
                          "outlinewidth": 0,
                          "ticks": ""
                        },
                        "type": "contourcarpet"
                      }
                    ],
                    "heatmap": [
                      {
                        "colorbar": {
                          "outlinewidth": 0,
                          "ticks": ""
                        },
                        "colorscale": [
                          [
                            0,
                            "#0d0887"
                          ],
                          [
                            0.1111111111111111,
                            "#46039f"
                          ],
                          [
                            0.2222222222222222,
                            "#7201a8"
                          ],
                          [
                            0.3333333333333333,
                            "#9c179e"
                          ],
                          [
                            0.4444444444444444,
                            "#bd3786"
                          ],
                          [
                            0.5555555555555556,
                            "#d8576b"
                          ],
                          [
                            0.6666666666666666,
                            "#ed7953"
                          ],
                          [
                            0.7777777777777778,
                            "#fb9f3a"
                          ],
                          [
                            0.8888888888888888,
                            "#fdca26"
                          ],
                          [
                            1,
                            "#f0f921"
                          ]
                        ],
                        "type": "heatmap"
                      }
                    ],
                    "heatmapgl": [
                      {
                        "colorbar": {
                          "outlinewidth": 0,
                          "ticks": ""
                        },
                        "colorscale": [
                          [
                            0,
                            "#0d0887"
                          ],
                          [
                            0.1111111111111111,
                            "#46039f"
                          ],
                          [
                            0.2222222222222222,
                            "#7201a8"
                          ],
                          [
                            0.3333333333333333,
                            "#9c179e"
                          ],
                          [
                            0.4444444444444444,
                            "#bd3786"
                          ],
                          [
                            0.5555555555555556,
                            "#d8576b"
                          ],
                          [
                            0.6666666666666666,
                            "#ed7953"
                          ],
                          [
                            0.7777777777777778,
                            "#fb9f3a"
                          ],
                          [
                            0.8888888888888888,
                            "#fdca26"
                          ],
                          [
                            1,
                            "#f0f921"
                          ]
                        ],
                        "type": "heatmapgl"
                      }
                    ],
                    "histogram": [
                      {
                        "marker": {
                          "pattern": {
                            "fillmode": "overlay",
                            "size": 10,
                            "solidity": 0.2
                          }
                        },
                        "type": "histogram"
                      }
                    ],
                    "histogram2d": [
                      {
                        "colorbar": {
                          "outlinewidth": 0,
                          "ticks": ""
                        },
                        "colorscale": [
                          [
                            0,
                            "#0d0887"
                          ],
                          [
                            0.1111111111111111,
                            "#46039f"
                          ],
                          [
                            0.2222222222222222,
                            "#7201a8"
                          ],
                          [
                            0.3333333333333333,
                            "#9c179e"
                          ],
                          [
                            0.4444444444444444,
                            "#bd3786"
                          ],
                          [
                            0.5555555555555556,
                            "#d8576b"
                          ],
                          [
                            0.6666666666666666,
                            "#ed7953"
                          ],
                          [
                            0.7777777777777778,
                            "#fb9f3a"
                          ],
                          [
                            0.8888888888888888,
                            "#fdca26"
                          ],
                          [
                            1,
                            "#f0f921"
                          ]
                        ],
                        "type": "histogram2d"
                      }
                    ],
                    "histogram2dcontour": [
                      {
                        "colorbar": {
                          "outlinewidth": 0,
                          "ticks": ""
                        },
                        "colorscale": [
                          [
                            0,
                            "#0d0887"
                          ],
                          [
                            0.1111111111111111,
                            "#46039f"
                          ],
                          [
                            0.2222222222222222,
                            "#7201a8"
                          ],
                          [
                            0.3333333333333333,
                            "#9c179e"
                          ],
                          [
                            0.4444444444444444,
                            "#bd3786"
                          ],
                          [
                            0.5555555555555556,
                            "#d8576b"
                          ],
                          [
                            0.6666666666666666,
                            "#ed7953"
                          ],
                          [
                            0.7777777777777778,
                            "#fb9f3a"
                          ],
                          [
                            0.8888888888888888,
                            "#fdca26"
                          ],
                          [
                            1,
                            "#f0f921"
                          ]
                        ],
                        "type": "histogram2dcontour"
                      }
                    ],
                    "mesh3d": [
                      {
                        "colorbar": {
                          "outlinewidth": 0,
                          "ticks": ""
                        },
                        "type": "mesh3d"
                      }
                    ],
                    "parcoords": [
                      {
                        "line": {
                          "colorbar": {
                            "outlinewidth": 0,
                            "ticks": ""
                          }
                        },
                        "type": "parcoords"
                      }
                    ],
                    "pie": [
                      {
                        "automargin": true,
                        "type": "pie"
                      }
                    ],
                    "scatter": [
                      {
                        "fillpattern": {
                          "fillmode": "overlay",
                          "size": 10,
                          "solidity": 0.2
                        },
                        "type": "scatter"
                      }
                    ],
                    "scatter3d": [
                      {
                        "line": {
                          "colorbar": {
                            "outlinewidth": 0,
                            "ticks": ""
                          }
                        },
                        "marker": {
                          "colorbar": {
                            "outlinewidth": 0,
                            "ticks": ""
                          }
                        },
                        "type": "scatter3d"
                      }
                    ],
                    "scattercarpet": [
                      {
                        "marker": {
                          "colorbar": {
                            "outlinewidth": 0,
                            "ticks": ""
                          }
                        },
                        "type": "scattercarpet"
                      }
                    ],
                    "scattergeo": [
                      {
                        "marker": {
                          "colorbar": {
                            "outlinewidth": 0,
                            "ticks": ""
                          }
                        },
                        "type": "scattergeo"
                      }
                    ],
                    "scattergl": [
                      {
                        "marker": {
                          "colorbar": {
                            "outlinewidth": 0,
                            "ticks": ""
                          }
                        },
                        "type": "scattergl"
                      }
                    ],
                    "scattermapbox": [
                      {
                        "marker": {
                          "colorbar": {
                            "outlinewidth": 0,
                            "ticks": ""
                          }
                        },
                        "type": "scattermapbox"
                      }
                    ],
                    "scatterpolar": [
                      {
                        "marker": {
                          "colorbar": {
                            "outlinewidth": 0,
                            "ticks": ""
                          }
                        },
                        "type": "scatterpolar"
                      }
                    ],
                    "scatterpolargl": [
                      {
                        "marker": {
                          "colorbar": {
                            "outlinewidth": 0,
                            "ticks": ""
                          }
                        },
                        "type": "scatterpolargl"
                      }
                    ],
                    "scatterternary": [
                      {
                        "marker": {
                          "colorbar": {
                            "outlinewidth": 0,
                            "ticks": ""
                          }
                        },
                        "type": "scatterternary"
                      }
                    ],
                    "surface": [
                      {
                        "colorbar": {
                          "outlinewidth": 0,
                          "ticks": ""
                        },
                        "colorscale": [
                          [
                            0,
                            "#0d0887"
                          ],
                          [
                            0.1111111111111111,
                            "#46039f"
                          ],
                          [
                            0.2222222222222222,
                            "#7201a8"
                          ],
                          [
                            0.3333333333333333,
                            "#9c179e"
                          ],
                          [
                            0.4444444444444444,
                            "#bd3786"
                          ],
                          [
                            0.5555555555555556,
                            "#d8576b"
                          ],
                          [
                            0.6666666666666666,
                            "#ed7953"
                          ],
                          [
                            0.7777777777777778,
                            "#fb9f3a"
                          ],
                          [
                            0.8888888888888888,
                            "#fdca26"
                          ],
                          [
                            1,
                            "#f0f921"
                          ]
                        ],
                        "type": "surface"
                      }
                    ],
                    "table": [
                      {
                        "cells": {
                          "fill": {
                            "color": "#EBF0F8"
                          },
                          "line": {
                            "color": "white"
                          }
                        },
                        "header": {
                          "fill": {
                            "color": "#C8D4E3"
                          },
                          "line": {
                            "color": "white"
                          }
                        },
                        "type": "table"
                      }
                    ]
                  },
                  "layout": {
                    "annotationdefaults": {
                      "arrowcolor": "#2a3f5f",
                      "arrowhead": 0,
                      "arrowwidth": 1
                    },
                    "autotypenumbers": "strict",
                    "coloraxis": {
                      "colorbar": {
                        "outlinewidth": 0,
                        "ticks": ""
                      }
                    },
                    "colorscale": {
                      "diverging": [
                        [
                          0,
                          "#8e0152"
                        ],
                        [
                          0.1,
                          "#c51b7d"
                        ],
                        [
                          0.2,
                          "#de77ae"
                        ],
                        [
                          0.3,
                          "#f1b6da"
                        ],
                        [
                          0.4,
                          "#fde0ef"
                        ],
                        [
                          0.5,
                          "#f7f7f7"
                        ],
                        [
                          0.6,
                          "#e6f5d0"
                        ],
                        [
                          0.7,
                          "#b8e186"
                        ],
                        [
                          0.8,
                          "#7fbc41"
                        ],
                        [
                          0.9,
                          "#4d9221"
                        ],
                        [
                          1,
                          "#276419"
                        ]
                      ],
                      "sequential": [
                        [
                          0,
                          "#0d0887"
                        ],
                        [
                          0.1111111111111111,
                          "#46039f"
                        ],
                        [
                          0.2222222222222222,
                          "#7201a8"
                        ],
                        [
                          0.3333333333333333,
                          "#9c179e"
                        ],
                        [
                          0.4444444444444444,
                          "#bd3786"
                        ],
                        [
                          0.5555555555555556,
                          "#d8576b"
                        ],
                        [
                          0.6666666666666666,
                          "#ed7953"
                        ],
                        [
                          0.7777777777777778,
                          "#fb9f3a"
                        ],
                        [
                          0.8888888888888888,
                          "#fdca26"
                        ],
                        [
                          1,
                          "#f0f921"
                        ]
                      ],
                      "sequentialminus": [
                        [
                          0,
                          "#0d0887"
                        ],
                        [
                          0.1111111111111111,
                          "#46039f"
                        ],
                        [
                          0.2222222222222222,
                          "#7201a8"
                        ],
                        [
                          0.3333333333333333,
                          "#9c179e"
                        ],
                        [
                          0.4444444444444444,
                          "#bd3786"
                        ],
                        [
                          0.5555555555555556,
                          "#d8576b"
                        ],
                        [
                          0.6666666666666666,
                          "#ed7953"
                        ],
                        [
                          0.7777777777777778,
                          "#fb9f3a"
                        ],
                        [
                          0.8888888888888888,
                          "#fdca26"
                        ],
                        [
                          1,
                          "#f0f921"
                        ]
                      ]
                    },
                    "colorway": [
                      "#636efa",
                      "#EF553B",
                      "#00cc96",
                      "#ab63fa",
                      "#FFA15A",
                      "#19d3f3",
                      "#FF6692",
                      "#B6E880",
                      "#FF97FF",
                      "#FECB52"
                    ],
                    "font": {
                      "color": "#2a3f5f"
                    },
                    "geo": {
                      "bgcolor": "white",
                      "lakecolor": "white",
                      "landcolor": "#E5ECF6",
                      "showlakes": true,
                      "showland": true,
                      "subunitcolor": "white"
                    },
                    "hoverlabel": {
                      "align": "left"
                    },
                    "hovermode": "closest",
                    "mapbox": {
                      "style": "light"
                    },
                    "paper_bgcolor": "white",
                    "plot_bgcolor": "#E5ECF6",
                    "polar": {
                      "angularaxis": {
                        "gridcolor": "white",
                        "linecolor": "white",
                        "ticks": ""
                      },
                      "bgcolor": "#E5ECF6",
                      "radialaxis": {
                        "gridcolor": "white",
                        "linecolor": "white",
                        "ticks": ""
                      }
                    },
                    "scene": {
                      "xaxis": {
                        "backgroundcolor": "#E5ECF6",
                        "gridcolor": "white",
                        "gridwidth": 2,
                        "linecolor": "white",
                        "showbackground": true,
                        "ticks": "",
                        "zerolinecolor": "white"
                      },
                      "yaxis": {
                        "backgroundcolor": "#E5ECF6",
                        "gridcolor": "white",
                        "gridwidth": 2,
                        "linecolor": "white",
                        "showbackground": true,
                        "ticks": "",
                        "zerolinecolor": "white"
                      },
                      "zaxis": {
                        "backgroundcolor": "#E5ECF6",
                        "gridcolor": "white",
                        "gridwidth": 2,
                        "linecolor": "white",
                        "showbackground": true,
                        "ticks": "",
                        "zerolinecolor": "white"
                      }
                    },
                    "shapedefaults": {
                      "line": {
                        "color": "#2a3f5f"
                      }
                    },
                    "ternary": {
                      "aaxis": {
                        "gridcolor": "white",
                        "linecolor": "white",
                        "ticks": ""
                      },
                      "baxis": {
                        "gridcolor": "white",
                        "linecolor": "white",
                        "ticks": ""
                      },
                      "bgcolor": "#E5ECF6",
                      "caxis": {
                        "gridcolor": "white",
                        "linecolor": "white",
                        "ticks": ""
                      }
                    },
                    "title": {
                      "x": 0.05
                    },
                    "xaxis": {
                      "automargin": true,
                      "gridcolor": "white",
                      "linecolor": "white",
                      "ticks": "",
                      "title": {
                        "standoff": 15
                      },
                      "zerolinecolor": "white",
                      "zerolinewidth": 2
                    },
                    "yaxis": {
                      "automargin": true,
                      "gridcolor": "white",
                      "linecolor": "white",
                      "ticks": "",
                      "title": {
                        "standoff": 15
                      },
                      "zerolinecolor": "white",
                      "zerolinewidth": 2
                    }
                  }
                },
                "title": {
                  "text": "Logit Difference From Each Head for Elided Prompts"
                },
                "xaxis": {
                  "anchor": "y",
                  "constrain": "domain",
                  "domain": [
                    0,
                    1
                  ],
                  "scaleanchor": "y",
                  "title": {
                    "text": "Head"
                  }
                },
                "yaxis": {
                  "anchor": "x",
                  "autorange": "reversed",
                  "constrain": "domain",
                  "domain": [
                    0,
                    1
                  ],
                  "title": {
                    "text": "Layer"
                  }
                }
              }
            }
          },
          "metadata": {},
          "output_type": "display_data"
        }
      ],
      "source": [
        "elided_per_head_residual, labels = elided_cache.stack_head_results(\n",
        "    layer=-1, pos_slice=-1, return_labels=True\n",
        ")\n",
        "elided_per_head_logit_diffs = residual_stack_to_logit_diff(\n",
        "    elided_per_head_residual, elided_cache, elided_logit_diff_directions\n",
        ")\n",
        "elided_per_head_logit_diffs = einops.rearrange(\n",
        "    elided_per_head_logit_diffs,\n",
        "    \"(layer head_index) -> layer head_index\",\n",
        "    layer=model.cfg.n_layers,\n",
        "    head_index=model.cfg.n_heads,\n",
        ")\n",
        "imshow(\n",
        "    elided_per_head_logit_diffs,\n",
        "    labels={\"x\": \"Head\", \"y\": \"Layer\"},\n",
        "    title=\"Logit Difference From Each Head for Elided Prompts\",\n",
        ")"
      ]
    },
    {
      "cell_type": "markdown",
      "metadata": {
        "id": "mwVr-ocHUvUT"
      },
      "source": [
        "## Attention Analysis"
      ]
    },
    {
      "cell_type": "markdown",
      "metadata": {
        "id": "H6zKy0y_UvUT"
      },
      "source": [
        "Attention heads are particularly easy to study because we can look directly at their attention patterns and study from what positions they move information from and two. This is particularly easy here as we're looking at the direct effect on the logits so we need only look at the attention patterns from the final token.\n",
        "\n",
        "We use Alan Cooney's circuitsvis library to visualize the attention patterns! We visualize the top 3 positive and negative heads by direct logit attribution, and show these for the first prompt (as an illustration).\n",
        "\n",
        "<details> <summary>Interpreting Attention Patterns</summary>\n",
        "An easy mistake to make when looking at attention patterns is thinking that they must convey information about the <i>token</i> looked at (maybe accounting for the context of the token). But actually, all we can confidently say is that it moves information from the *residual stream position* corresponding to that input token. Especially later on in the model, there may be components in the residual stream that are nothing to do with the input token! Eg the period at the end of a sentence may contain summary information for that sentence, and the head may solely move that, rather than caring about whether it ends in \".\", \"!\" or \"?\"\n",
        "</details>"
      ]
    },
    {
      "cell_type": "code",
      "execution_count": 41,
      "metadata": {
        "id": "z1gv2tW3UvUT"
      },
      "outputs": [],
      "source": [
        "def visualize_attention_patterns(\n",
        "    heads: Union[List[int], int, Float[torch.Tensor, \"heads\"]],\n",
        "    local_cache: ActivationCache,\n",
        "    local_tokens: torch.Tensor,\n",
        "    title: Optional[str] = \"\",\n",
        "    max_width: Optional[int] = 700,\n",
        ") -> str:\n",
        "    # If a single head is given, convert to a list\n",
        "    if isinstance(heads, int):\n",
        "        heads = [heads]\n",
        "\n",
        "    # Create the plotting data\n",
        "    labels: List[str] = []\n",
        "    patterns: List[Float[torch.Tensor, \"dest_pos src_pos\"]] = []\n",
        "\n",
        "    # Assume we have a single batch item\n",
        "    batch_index = 0\n",
        "\n",
        "    for head in heads:\n",
        "        # Set the label\n",
        "        layer = head // model.cfg.n_heads\n",
        "        head_index = head % model.cfg.n_heads\n",
        "        labels.append(f\"L{layer}H{head_index}\")\n",
        "\n",
        "        # Get the attention patterns for the head\n",
        "        # Attention patterns have shape [batch, head_index, query_pos, key_pos]\n",
        "        patterns.append(local_cache[\"attn\", layer][batch_index, head_index])\n",
        "\n",
        "    # Convert the tokens to strings (for the axis labels)\n",
        "    str_tokens = model.to_str_tokens(local_tokens)\n",
        "\n",
        "    # Combine the patterns into a single tensor\n",
        "    patterns: Float[torch.Tensor, \"head_index dest_pos src_pos\"] = torch.stack(\n",
        "        patterns, dim=0\n",
        "    )\n",
        "\n",
        "    # Circuitsvis Plot (note we get the code version so we can concatenate with the title)\n",
        "    plot = attention_heads(\n",
        "        attention=patterns, tokens=str_tokens, attention_head_names=labels\n",
        "    ).show_code()\n",
        "\n",
        "    # Display the title\n",
        "    title_html = f\"<h2>{title}</h2><br/>\"\n",
        "\n",
        "    # Return the visualisation as raw code\n",
        "    return f\"<div style='max-width: {str(max_width)}px;'>{title_html + plot}</div>\""
      ]
    },
    {
      "cell_type": "markdown",
      "metadata": {
        "id": "5PxMmdS8UvUT"
      },
      "source": [
        "Similar to expectation that the 'opposition words' will be highly-attended to, and eliding them spreads attention everywhere.\n"
      ]
    },
    {
      "cell_type": "code",
      "execution_count": 42,
      "metadata": {
        "id": "_G4aqmWrUvUT",
        "outputId": "725bb7f9-8754-439a-d50f-41ea2f124b58"
      },
      "outputs": [
        {
          "data": {
            "text/html": [
              "<div style='max-width: 700px;'><h2>Top 3 Positive Logit Attribution Heads for Original Prompts</h2><br/><div id=\"circuits-vis-fe1e52fc-9663\" style=\"margin: 15px 0;\"/>\n",
              "    <script crossorigin type=\"module\">\n",
              "    import { render, AttentionHeads } from \"https://unpkg.com/circuitsvis@1.43.2/dist/cdn/esm.js\";\n",
              "    render(\n",
              "      \"circuits-vis-fe1e52fc-9663\",\n",
              "      AttentionHeads,\n",
              "      {\"attention\": [[[1.0, 0.0, 0.0, 0.0, 0.0, 0.0, 0.0, 0.0, 0.0, 0.0, 0.0, 0.0, 0.0, 0.0, 0.0], [0.6765326857566833, 0.32346731424331665, 0.0, 0.0, 0.0, 0.0, 0.0, 0.0, 0.0, 0.0, 0.0, 0.0, 0.0, 0.0, 0.0], [0.0043693892657756805, 0.013298570178449154, 0.9823320508003235, 0.0, 0.0, 0.0, 0.0, 0.0, 0.0, 0.0, 0.0, 0.0, 0.0, 0.0, 0.0], [0.0008050542674027383, 0.0015512116951867938, 0.44280317425727844, 0.5548405647277832, 0.0, 0.0, 0.0, 0.0, 0.0, 0.0, 0.0, 0.0, 0.0, 0.0, 0.0], [0.0007530718576163054, 0.000691395194735378, 0.2436230629682541, 0.38385599851608276, 0.3710764944553375, 0.0, 0.0, 0.0, 0.0, 0.0, 0.0, 0.0, 0.0, 0.0, 0.0], [0.04130689054727554, 0.004632896278053522, 0.33098769187927246, 0.32702675461769104, 0.22948504984378815, 0.06656070798635483, 0.0, 0.0, 0.0, 0.0, 0.0, 0.0, 0.0, 0.0, 0.0], [0.034203533083200455, 0.019848834723234177, 0.20062410831451416, 0.35100257396698, 0.36159104108810425, 0.020840119570493698, 0.011889752931892872, 0.0, 0.0, 0.0, 0.0, 0.0, 0.0, 0.0, 0.0], [0.83440762758255, 0.0019150135340169072, 0.009684056974947453, 0.006156605668365955, 0.0073883566074073315, 0.006009246688336134, 0.007801717612892389, 0.12663733959197998, 0.0, 0.0, 0.0, 0.0, 0.0, 0.0, 0.0], [0.7910282015800476, 0.013229678384959698, 0.012868939898908138, 0.007999083958566189, 0.006616602651774883, 0.002237397711724043, 0.03296453505754471, 0.08511266112327576, 0.04794283211231232, 0.0, 0.0, 0.0, 0.0, 0.0, 0.0], [0.8995211720466614, 0.013825717382133007, 0.005935760214924812, 0.0029678589198738337, 0.0019191163592040539, 0.0004945340333506465, 0.004719229880720377, 0.0325128473341465, 0.036009781062603, 0.0020939665846526623, 0.0, 0.0, 0.0, 0.0, 0.0], [0.7607471942901611, 0.011301146820187569, 0.00740118557587266, 0.01051105186343193, 0.010302679613232613, 0.053928226232528687, 0.025450032204389572, 0.013480122201144695, 0.09042241424322128, 0.0015050428919494152, 0.014950848184525967, 0.0, 0.0, 0.0, 0.0], [0.5087858438491821, 0.009039543569087982, 0.010864265263080597, 0.005797430872917175, 0.006096933968365192, 0.00849196221679449, 0.028505219146609306, 0.07213248312473297, 0.08203902840614319, 0.008458291180431843, 0.2015746831893921, 0.05821428820490837, 0.0, 0.0, 0.0], [0.7887219190597534, 0.0079656932502985, 0.008100704289972782, 0.002707722131162882, 0.0017616477562114596, 0.0014922635164111853, 0.004529794678092003, 0.014804214239120483, 0.05460406839847565, 0.0021492824889719486, 0.019143251702189445, 0.014864818193018436, 0.07915475219488144, 0.0, 0.0], [0.8309259414672852, 0.0049467734061181545, 0.0033617259468883276, 0.001845520338974893, 0.0017645028419792652, 0.007916185073554516, 0.005689847283065319, 0.004181745462119579, 0.02850872464478016, 0.012361162342131138, 0.044966451823711395, 0.011861137114465237, 0.0397699698805809, 0.0019002612680196762, 0.0], [0.11270414292812347, 0.002493475563824177, 0.0007150988676585257, 0.00021404145809356123, 0.0002073627256322652, 0.0005873196059837937, 0.0005001391982659698, 0.007555503863841295, 0.05223255604505539, 0.004795238375663757, 0.7247586846351624, 0.031919196248054504, 0.048997897654771805, 0.0039724744856357574, 0.008346829563379288]], [[1.0, 0.0, 0.0, 0.0, 0.0, 0.0, 0.0, 0.0, 0.0, 0.0, 0.0, 0.0, 0.0, 0.0, 0.0], [0.9981532692909241, 0.0018467269837856293, 0.0, 0.0, 0.0, 0.0, 0.0, 0.0, 0.0, 0.0, 0.0, 0.0, 0.0, 0.0, 0.0], [0.984093964099884, 0.0045181214809417725, 0.011387927457690239, 0.0, 0.0, 0.0, 0.0, 0.0, 0.0, 0.0, 0.0, 0.0, 0.0, 0.0, 0.0], [0.9545325636863708, 0.002093646442517638, 0.006315220147371292, 0.037058569490909576, 0.0, 0.0, 0.0, 0.0, 0.0, 0.0, 0.0, 0.0, 0.0, 0.0, 0.0], [0.8353595733642578, 0.0016506167594343424, 0.006384547799825668, 0.046261999756097794, 0.11034334450960159, 0.0, 0.0, 0.0, 0.0, 0.0, 0.0, 0.0, 0.0, 0.0, 0.0], [0.9056432247161865, 0.016066545620560646, 0.011782797053456306, 0.014283230528235435, 0.024873889982700348, 0.027350321412086487, 0.0, 0.0, 0.0, 0.0, 0.0, 0.0, 0.0, 0.0, 0.0], [0.9278149604797363, 0.01046768855303526, 0.006636468227952719, 0.0049047828651964664, 0.0067843301221728325, 0.025272171944379807, 0.018119623884558678, 0.0, 0.0, 0.0, 0.0, 0.0, 0.0, 0.0, 0.0], [0.8618771433830261, 0.008447369560599327, 0.003203142434358597, 0.0020002590026706457, 0.0017282855696976185, 0.007900366559624672, 0.027440881356596947, 0.08740260452032089, 0.0, 0.0, 0.0, 0.0, 0.0, 0.0, 0.0], [0.8122045993804932, 0.0037862800527364016, 0.0022796145640313625, 0.0021874597296118736, 0.002697388641536236, 0.004038793034851551, 0.004387271590530872, 0.015635551884770393, 0.15278315544128418, 0.0, 0.0, 0.0, 0.0, 0.0, 0.0], [0.7377675771713257, 0.0018228592816740274, 0.0011662361212074757, 0.0008595596300438046, 0.0007086368277668953, 0.003317883936688304, 0.005404328461736441, 0.01225788053125143, 0.2015186846256256, 0.0351763479411602, 0.0, 0.0, 0.0, 0.0, 0.0], [0.4442934989929199, 0.007640847470611334, 0.004086965229362249, 0.003113317769020796, 0.0023931539617478848, 0.005536829587072134, 0.0101248724386096, 0.04577343538403511, 0.37602558732032776, 0.06385485082864761, 0.03715665638446808, 0.0, 0.0, 0.0, 0.0], [0.13681921362876892, 0.008312378078699112, 0.004862569738179445, 0.0018886993639171124, 0.001180057181045413, 0.012346582487225533, 0.015123022720217705, 0.015084017999470234, 0.05926354229450226, 0.09183119982481003, 0.5843298435211182, 0.06895887106657028, 0.0, 0.0, 0.0], [0.4159567058086395, 0.008868986740708351, 0.010682787746191025, 0.005400314927101135, 0.003479550126940012, 0.013143411837518215, 0.01690266653895378, 0.007332691457122564, 0.06086929887533188, 0.019225075840950012, 0.18721798062324524, 0.06645139306783676, 0.18446914851665497, 0.0, 0.0], [0.4162525534629822, 0.0031935919541865587, 0.0015661343932151794, 0.001074721571058035, 0.0009125603828579187, 0.006628348026424646, 0.021542105823755264, 0.029892906546592712, 0.048977985978126526, 0.06997943669557571, 0.045747336000204086, 0.15467478334903717, 0.15723916888237, 0.04231833294034004, 0.0], [0.005337000824511051, 0.00010700883285608143, 6.42542727291584e-05, 6.230921280803159e-05, 8.471717592328787e-05, 0.00014904273848515004, 0.00028262630803510547, 0.00032653548987582326, 0.002855562837794423, 0.0009207515977323055, 0.972080647945404, 0.013371437788009644, 0.003140035318210721, 0.0006970642716623843, 0.0005209649098105729]], [[1.0, 0.0, 0.0, 0.0, 0.0, 0.0, 0.0, 0.0, 0.0, 0.0, 0.0, 0.0, 0.0, 0.0, 0.0], [0.9756217002868652, 0.024378320202231407, 0.0, 0.0, 0.0, 0.0, 0.0, 0.0, 0.0, 0.0, 0.0, 0.0, 0.0, 0.0, 0.0], [0.9531285166740417, 0.014679217711091042, 0.03219226747751236, 0.0, 0.0, 0.0, 0.0, 0.0, 0.0, 0.0, 0.0, 0.0, 0.0, 0.0, 0.0], [0.8224473595619202, 0.03180458024144173, 0.09291660785675049, 0.05283142998814583, 0.0, 0.0, 0.0, 0.0, 0.0, 0.0, 0.0, 0.0, 0.0, 0.0, 0.0], [0.7526732683181763, 0.04466436058282852, 0.093429334461689, 0.06366941332817078, 0.045563705265522, 0.0, 0.0, 0.0, 0.0, 0.0, 0.0, 0.0, 0.0, 0.0, 0.0], [0.763110339641571, 0.014996775425970554, 0.04306027665734291, 0.07408498972654343, 0.05785128101706505, 0.04689633101224899, 0.0, 0.0, 0.0, 0.0, 0.0, 0.0, 0.0, 0.0, 0.0], [0.1265607327222824, 0.002436036942526698, 0.018382851034402847, 0.03031531162559986, 0.024839140474796295, 0.03421422839164734, 0.7632517218589783, 0.0, 0.0, 0.0, 0.0, 0.0, 0.0, 0.0, 0.0], [0.3506433665752411, 0.02958342805504799, 0.06416799128055573, 0.04826647415757179, 0.03830491006374359, 0.12280364334583282, 0.3348364531993866, 0.011393709108233452, 0.0, 0.0, 0.0, 0.0, 0.0, 0.0, 0.0], [0.569642186164856, 0.015458567999303341, 0.02315419912338257, 0.022641656920313835, 0.026525011286139488, 0.035351622849702835, 0.22928166389465332, 0.02769097127020359, 0.050254084169864655, 0.0, 0.0, 0.0, 0.0, 0.0, 0.0], [0.6111671328544617, 0.01378646306693554, 0.01192544586956501, 0.007270625326782465, 0.004834494087845087, 0.03875819593667984, 0.20103567838668823, 0.013598985970020294, 0.0793805718421936, 0.018242405727505684, 0.0, 0.0, 0.0, 0.0, 0.0], [0.4398091435432434, 0.0034956722520291805, 0.013157724402844906, 0.01170695386826992, 0.007150054443627596, 0.0427250899374485, 0.06734160333871841, 0.01192104909569025, 0.08038497716188431, 0.05992396920919418, 0.2623838186264038, 0.0, 0.0, 0.0, 0.0], [0.3642560541629791, 0.004302377346903086, 0.004491840023547411, 0.006345066241919994, 0.005979221314191818, 0.012694302946329117, 0.02581879310309887, 0.04591789469122887, 0.11816783994436264, 0.07421955466270447, 0.15356826782226562, 0.1842387616634369, 0.0, 0.0, 0.0], [0.47946760058403015, 0.016393287107348442, 0.02885131537914276, 0.025292742997407913, 0.0229792520403862, 0.037200819700956345, 0.07238783687353134, 0.016235584393143654, 0.029706479981541634, 0.022965721786022186, 0.0449548214673996, 0.04415002465248108, 0.15941455960273743, 0.0, 0.0], [0.4677160084247589, 0.011970090679824352, 0.044652990996837616, 0.03837423399090767, 0.03856224939227104, 0.04437285661697388, 0.09440019726753235, 0.009153059683740139, 0.025973107665777206, 0.011646195314824581, 0.028904439881443977, 0.05548824369907379, 0.09745792299509048, 0.0313284695148468, 0.0], [0.0057867649011313915, 3.946459764847532e-05, 3.53566138073802e-05, 5.371993756853044e-05, 8.76203557709232e-05, 0.0001174520148197189, 0.00022592318418901414, 0.003388464916497469, 0.00784270465373993, 0.018879201263189316, 0.9256427884101868, 0.030926812440156937, 0.005565576255321503, 0.000489295634906739, 0.0009189600241370499]]], \"attentionHeadNames\": [\"L19H19\", \"L17H11\", \"L15H11\"], \"tokens\": [\"<|endoftext|>\", \"\\n\\n\", \"\\n\\n\", \"\\n\\n\", \"\\n\\n\", \"\\n\", \"\\n\", \"Instead\", \" of\", \" turning\", \" left\", \",\", \" the\", \" character\", \" turned\"]}\n",
              "    )\n",
              "    </script></div><div style='max-width: 700px;'><h2>Top 3 Negative Logit Attribution Heads for Original Prompts</h2><br/><div id=\"circuits-vis-a2a46997-fef5\" style=\"margin: 15px 0;\"/>\n",
              "    <script crossorigin type=\"module\">\n",
              "    import { render, AttentionHeads } from \"https://unpkg.com/circuitsvis@1.43.2/dist/cdn/esm.js\";\n",
              "    render(\n",
              "      \"circuits-vis-a2a46997-fef5\",\n",
              "      AttentionHeads,\n",
              "      {\"attention\": [[[1.0, 0.0, 0.0, 0.0, 0.0, 0.0, 0.0, 0.0, 0.0, 0.0, 0.0, 0.0, 0.0, 0.0, 0.0], [0.9853278994560242, 0.014672060497105122, 0.0, 0.0, 0.0, 0.0, 0.0, 0.0, 0.0, 0.0, 0.0, 0.0, 0.0, 0.0, 0.0], [0.9925682544708252, 0.004072741139680147, 0.003359058639034629, 0.0, 0.0, 0.0, 0.0, 0.0, 0.0, 0.0, 0.0, 0.0, 0.0, 0.0, 0.0], [0.9958879351615906, 0.0015046909684315324, 0.0016554782632738352, 0.0009519567247480154, 0.0, 0.0, 0.0, 0.0, 0.0, 0.0, 0.0, 0.0, 0.0, 0.0, 0.0], [0.9955293536186218, 0.0013139148941263556, 0.001138746039941907, 0.0005802203668281436, 0.0014378069899976254, 0.0, 0.0, 0.0, 0.0, 0.0, 0.0, 0.0, 0.0, 0.0, 0.0], [0.3624114394187927, 0.001160317100584507, 0.00033076273393817246, 0.00023242943279910833, 0.0010517238406464458, 0.6348132491111755, 0.0, 0.0, 0.0, 0.0, 0.0, 0.0, 0.0, 0.0, 0.0], [0.682954728603363, 0.004232640378177166, 0.0007859207107685506, 0.0008059617830440402, 0.0035124593414366245, 0.25697335600852966, 0.05073489993810654, 0.0, 0.0, 0.0, 0.0, 0.0, 0.0, 0.0, 0.0], [0.9860894680023193, 0.0025199351366609335, 0.00026801464264281094, 0.00016449709073640406, 0.0002662649203557521, 0.0014841373777016997, 0.0012294870102778077, 0.007978199981153011, 0.0, 0.0, 0.0, 0.0, 0.0, 0.0, 0.0], [0.9334670305252075, 0.010010240599513054, 0.0006739824893884361, 0.00023530663747806102, 0.00019411271205171943, 0.0020468179136514664, 0.0012085138587281108, 0.005079703871160746, 0.04708437994122505, 0.0, 0.0, 0.0, 0.0, 0.0, 0.0], [0.9688886404037476, 0.0013028926914557815, 9.880517609417439e-05, 2.6544126740191132e-05, 2.488406425982248e-05, 5.6054748711176217e-05, 4.419924152898602e-05, 0.001052892068400979, 0.00909374002367258, 0.019411390647292137, 0.0, 0.0, 0.0, 0.0, 0.0], [0.9445366859436035, 0.0009999263565987349, 7.546735287178308e-05, 4.026130773127079e-05, 2.8955744710401632e-05, 0.00031192111782729626, 0.00023543402494397014, 0.0015186613891273737, 0.01838715933263302, 0.005708095617592335, 0.028157323598861694, 0.0, 0.0, 0.0, 0.0], [0.8497148156166077, 0.002846066839993, 0.0001279876596527174, 5.636047717416659e-05, 4.901607826468535e-05, 0.0007171710603870451, 0.0007084025419317186, 0.005049108061939478, 0.0243472121655941, 0.029090195894241333, 0.021452561020851135, 0.06584112346172333, 0.0, 0.0, 0.0], [0.9329919219017029, 0.0033539258874952793, 0.0004048760165460408, 0.00010900187771767378, 9.327924635726959e-05, 0.0006708887522108853, 0.00034981605131179094, 0.0009322543628513813, 0.004490452352911234, 0.01028544083237648, 0.02864236570894718, 0.004248707089573145, 0.013427107594907284, 0.0, 0.0], [0.8399949669837952, 0.005147300194948912, 0.0005179820582270622, 0.00014877090870868415, 0.00013607156870421022, 0.0025171046145260334, 0.0007124124094843864, 0.004255325999110937, 0.014914270490407944, 0.028452223166823387, 0.020403563976287842, 0.03308260440826416, 0.03660453110933304, 0.013112939894199371, 0.0], [0.9356389045715332, 0.0006891796365380287, 0.00010344257316319272, 4.356546560302377e-05, 2.8845315682701766e-05, 5.4442552936961874e-05, 9.954808047041297e-05, 0.00047606753651052713, 0.005051456857472658, 0.002181154675781727, 0.0066425069235265255, 0.019509417936205864, 0.019797001034021378, 0.00532524986192584, 0.0043591526336967945]], [[1.0, 0.0, 0.0, 0.0, 0.0, 0.0, 0.0, 0.0, 0.0, 0.0, 0.0, 0.0, 0.0, 0.0, 0.0], [7.716791757308837e-17, 1.0, 0.0, 0.0, 0.0, 0.0, 0.0, 0.0, 0.0, 0.0, 0.0, 0.0, 0.0, 0.0, 0.0], [5.612939925596976e-17, 2.827907792379847e-06, 0.9999971389770508, 0.0, 0.0, 0.0, 0.0, 0.0, 0.0, 0.0, 0.0, 0.0, 0.0, 0.0, 0.0], [2.3476507044118853e-15, 1.5092319927134668e-07, 0.023192089051008224, 0.976807713508606, 0.0, 0.0, 0.0, 0.0, 0.0, 0.0, 0.0, 0.0, 0.0, 0.0, 0.0], [2.421855237514335e-14, 7.045630301405481e-09, 0.00012001377763226628, 0.09033764153718948, 0.9095423221588135, 0.0, 0.0, 0.0, 0.0, 0.0, 0.0, 0.0, 0.0, 0.0, 0.0], [0.00035488849971443415, 1.0359486705968646e-12, 3.6437530076538494e-11, 4.622624949490728e-09, 5.1450456339807715e-08, 0.9996449947357178, 0.0, 0.0, 0.0, 0.0, 0.0, 0.0, 0.0, 0.0, 0.0], [1.0333346978086411e-07, 5.2974116612187735e-20, 2.157301513199016e-18, 3.4259139583272754e-16, 1.1340822486834157e-15, 2.006323285286271e-08, 0.9999998807907104, 0.0, 0.0, 0.0, 0.0, 0.0, 0.0, 0.0, 0.0], [2.197396190636828e-23, 8.17564689630887e-19, 3.1861527011250784e-21, 4.1022549897138413e-23, 5.1234048237193185e-23, 2.4238897241232498e-27, 3.107238878015866e-32, 1.0, 0.0, 0.0, 0.0, 0.0, 0.0, 0.0, 0.0], [3.7078859284329333e-32, 4.8743327931105294e-32, 1.895646858921352e-31, 2.623853854312251e-32, 6.586533619947288e-33, 5.40337530998469e-36, 0.0, 2.416561217073908e-18, 1.0, 0.0, 0.0, 0.0, 0.0, 0.0, 0.0], [8.531506808433932e-27, 4.275799162658967e-25, 5.447374282637095e-29, 4.353873389931556e-29, 2.723089440997369e-28, 1.1410591254357117e-32, 7.584929461242628e-33, 4.982411246638835e-17, 4.519038233248675e-18, 1.0, 0.0, 0.0, 0.0, 0.0, 0.0], [1.4347591108090398e-21, 7.091083002983319e-25, 7.367806869115551e-22, 4.164699287839641e-21, 2.919297894335971e-21, 1.1755829387849045e-26, 3.912177908146803e-29, 2.1510891800035895e-18, 2.559183598710811e-25, 6.0022793642649665e-18, 1.0, 0.0, 0.0, 0.0, 0.0], [5.056068040104295e-32, 7.082788866811827e-31, 2.0601960376127343e-30, 3.338951442829192e-32, 6.568389680971353e-34, 0.0, 0.0, 1.2485670102747873e-22, 1.3288421113015835e-25, 1.1692669709880143e-20, 2.2229863010591287e-14, 1.0, 0.0, 0.0, 0.0], [2.0001149663349782e-19, 5.356005825877889e-23, 5.790153995255883e-26, 3.3459233309133936e-26, 1.3194059173907012e-26, 1.4780592499030596e-26, 1.392378136684595e-29, 2.31296819444736e-22, 3.1599406210818728e-25, 6.809421609196958e-17, 5.336161454518691e-16, 3.601081165912853e-16, 1.0, 0.0, 0.0], [2.1387766467446695e-24, 3.1016587145875293e-26, 4.98625291453496e-24, 6.930465499261598e-25, 2.642204306452402e-25, 2.751319289540276e-31, 1.0143138715153971e-32, 2.948201972473435e-23, 1.1789202055999782e-25, 3.3909577740318063e-20, 7.555583762808293e-12, 1.678446098741463e-14, 2.0326721570881475e-21, 1.0, 0.0], [3.786608075707758e-22, 2.1104679787303608e-23, 2.4151817539066242e-23, 1.1096473426879188e-22, 3.3540338128144387e-21, 1.6330631762823975e-26, 1.7329615440726337e-29, 3.680577596981364e-23, 9.230861404470006e-24, 3.00110447831823e-14, 4.564781885818547e-09, 5.826292553041247e-18, 8.557975979285474e-19, 4.210480163309438e-14, 1.0]], [[1.0, 0.0, 0.0, 0.0, 0.0, 0.0, 0.0, 0.0, 0.0, 0.0, 0.0, 0.0, 0.0, 0.0, 0.0], [0.9114735126495361, 0.08852642774581909, 0.0, 0.0, 0.0, 0.0, 0.0, 0.0, 0.0, 0.0, 0.0, 0.0, 0.0, 0.0, 0.0], [0.9578344821929932, 0.03718690574169159, 0.0049786134622991085, 0.0, 0.0, 0.0, 0.0, 0.0, 0.0, 0.0, 0.0, 0.0, 0.0, 0.0, 0.0], [0.9595012068748474, 0.03291947767138481, 0.005491475109010935, 0.002087912755087018, 0.0, 0.0, 0.0, 0.0, 0.0, 0.0, 0.0, 0.0, 0.0, 0.0, 0.0], [0.982955276966095, 0.011698991991579533, 0.0032263947650790215, 0.0014838902279734612, 0.000635429285466671, 0.0, 0.0, 0.0, 0.0, 0.0, 0.0, 0.0, 0.0, 0.0, 0.0], [0.5933464169502258, 0.33410143852233887, 0.030199356377124786, 0.022503122687339783, 0.007459305226802826, 0.012390322983264923, 0.0, 0.0, 0.0, 0.0, 0.0, 0.0, 0.0, 0.0, 0.0], [0.8641870021820068, 0.09482970833778381, 0.02150615304708481, 0.010962877422571182, 0.0027962843887507915, 0.0023474472109228373, 0.0033706440590322018, 0.0, 0.0, 0.0, 0.0, 0.0, 0.0, 0.0, 0.0], [0.9479447603225708, 0.003594630863517523, 0.001472608419135213, 0.0011058523086830974, 0.0009988422971218824, 0.0019433381967246532, 0.005561924539506435, 0.03737805411219597, 0.0, 0.0, 0.0, 0.0, 0.0, 0.0, 0.0], [0.9303722977638245, 0.0011440101079642773, 0.000835999206174165, 0.0004992698668502271, 0.00033461261773481965, 0.0023271264508366585, 0.001789943315088749, 0.0093704704195261, 0.05332614481449127, 0.0, 0.0, 0.0, 0.0, 0.0, 0.0], [0.8681177496910095, 0.001356430002488196, 0.0005829788860864937, 0.00014892253966536373, 5.9478679759195074e-05, 0.0004402967169880867, 0.00132268900051713, 0.02284950017929077, 0.03606962785124779, 0.06905239820480347, 0.0, 0.0, 0.0, 0.0, 0.0], [0.8960960507392883, 0.0014558776747435331, 0.0004907655529677868, 0.00023109748144634068, 0.0001836907904362306, 0.0004456527822185308, 0.0013897607568651438, 0.0027352157048881054, 0.02042369544506073, 0.03373831510543823, 0.0428098626434803, 0.0, 0.0, 0.0, 0.0], [0.7036833763122559, 0.002051261253654957, 0.000734784989617765, 0.000511946331243962, 0.00021249899873510003, 0.0010716342367231846, 0.003844125894829631, 0.03269808366894722, 0.043774060904979706, 0.03008410893380642, 0.019125211983919144, 0.1622089296579361, 0.0, 0.0, 0.0], [0.7656380534172058, 0.0025407285429537296, 0.001218643388710916, 0.0007727829506620765, 0.0001832561829360202, 0.0014503124402835965, 0.006023992318660021, 0.008131439797580242, 0.009921304881572723, 0.0037121023051440716, 0.015045924112200737, 0.10569247603416443, 0.07966895401477814, 0.0, 0.0], [0.5828171372413635, 0.0019901779014617205, 0.0010201114928349853, 0.00038512208266183734, 0.0001437637984054163, 0.0014635686529800296, 0.0026558577083051205, 0.012150334194302559, 0.011857611127197742, 0.06099366024136543, 0.01097687054425478, 0.07634192705154419, 0.030135508626699448, 0.20706836879253387, 0.0], [0.8004044890403748, 0.003282279008999467, 0.0005339133786037564, 6.325490539893508e-05, 2.0819466953980736e-05, 0.000228127944865264, 0.0005416852654889226, 0.00349599402397871, 0.007875602692365646, 0.004723347723484039, 0.07905906438827515, 0.07338618487119675, 0.01072861161082983, 0.004950183909386396, 0.010706447996199131]]], \"attentionHeadNames\": [\"L24H19\", \"L31H14\", \"L16H15\"], \"tokens\": [\"<|endoftext|>\", \"\\n\\n\", \"\\n\\n\", \"\\n\\n\", \"\\n\\n\", \"\\n\", \"\\n\", \"Instead\", \" of\", \" turning\", \" left\", \",\", \" the\", \" character\", \" turned\"]}\n",
              "    )\n",
              "    </script></div>"
            ],
            "text/plain": [
              "<IPython.core.display.HTML object>"
            ]
          },
          "execution_count": 42,
          "metadata": {},
          "output_type": "execute_result"
        }
      ],
      "source": [
        "top_k = 3\n",
        "orig_prompts, orig_answers = unzip(prompts_and_answers)\n",
        "orig_tokens = model.to_tokens(leftpad(prompts, model), prepend_bos=True)\n",
        "top_positive_logit_attr_heads = torch.topk(\n",
        "    orig_per_head_logit_diffs.flatten(), k=top_k\n",
        ").indices\n",
        "\n",
        "positive_html = visualize_attention_patterns(\n",
        "    top_positive_logit_attr_heads,\n",
        "    orig_cache,\n",
        "    orig_tokens[0],\n",
        "    f\"Top {top_k} Positive Logit Attribution Heads for Original Prompts\",\n",
        ")\n",
        "\n",
        "top_negative_logit_attr_heads = torch.topk(\n",
        "    -orig_per_head_logit_diffs.flatten(), k=top_k\n",
        ").indices\n",
        "\n",
        "negative_html = visualize_attention_patterns(\n",
        "    top_negative_logit_attr_heads,\n",
        "    orig_cache,\n",
        "    orig_tokens[0],\n",
        "    title=f\"Top {top_k} Negative Logit Attribution Heads for Original Prompts\",\n",
        ")\n",
        "\n",
        "HTML(positive_html + negative_html)"
      ]
    },
    {
      "cell_type": "code",
      "execution_count": 43,
      "metadata": {},
      "outputs": [
        {
          "data": {
            "text/html": [
              "<div style='max-width: 700px;'><h2>Top 3 Positive Logit Attribution Heads for Elided Prompts</h2><br/><div id=\"circuits-vis-12d67bcf-eb2d\" style=\"margin: 15px 0;\"/>\n",
              "    <script crossorigin type=\"module\">\n",
              "    import { render, AttentionHeads } from \"https://unpkg.com/circuitsvis@1.43.2/dist/cdn/esm.js\";\n",
              "    render(\n",
              "      \"circuits-vis-12d67bcf-eb2d\",\n",
              "      AttentionHeads,\n",
              "      {\"attention\": [[[1.0, 0.0, 0.0, 0.0, 0.0, 0.0, 0.0, 0.0, 0.0, 0.0, 0.0, 0.0, 0.0, 0.0, 0.0], [0.9981532692909241, 0.0018467269837856293, 0.0, 0.0, 0.0, 0.0, 0.0, 0.0, 0.0, 0.0, 0.0, 0.0, 0.0, 0.0, 0.0], [0.984093964099884, 0.0045181214809417725, 0.011387927457690239, 0.0, 0.0, 0.0, 0.0, 0.0, 0.0, 0.0, 0.0, 0.0, 0.0, 0.0, 0.0], [0.9545325636863708, 0.002093646442517638, 0.006315220147371292, 0.037058569490909576, 0.0, 0.0, 0.0, 0.0, 0.0, 0.0, 0.0, 0.0, 0.0, 0.0, 0.0], [0.8353595733642578, 0.0016506167594343424, 0.006384547799825668, 0.046261999756097794, 0.11034334450960159, 0.0, 0.0, 0.0, 0.0, 0.0, 0.0, 0.0, 0.0, 0.0, 0.0], [0.9056432247161865, 0.016066545620560646, 0.011782797053456306, 0.014283230528235435, 0.024873889982700348, 0.027350321412086487, 0.0, 0.0, 0.0, 0.0, 0.0, 0.0, 0.0, 0.0, 0.0], [0.9278149604797363, 0.01046768855303526, 0.006636468227952719, 0.0049047828651964664, 0.0067843301221728325, 0.025272171944379807, 0.018119623884558678, 0.0, 0.0, 0.0, 0.0, 0.0, 0.0, 0.0, 0.0], [0.8771611452102661, 0.013454592786729336, 0.0012257786002010107, 0.0005081144627183676, 0.000713655143044889, 0.007556460797786713, 0.02018372155725956, 0.0791965126991272, 0.0, 0.0, 0.0, 0.0, 0.0, 0.0, 0.0], [0.7093223333358765, 0.008270425722002983, 0.0060808658599853516, 0.004137404263019562, 0.003033104119822383, 0.007934574969112873, 0.012518221512436867, 0.05633363872766495, 0.19236956536769867, 0.0, 0.0, 0.0, 0.0, 0.0, 0.0], [0.753068208694458, 0.00637530442327261, 0.0025227218866348267, 0.0017150574130937457, 0.0012656428152695298, 0.003558093449100852, 0.004418045748025179, 0.04381898418068886, 0.13137641549110413, 0.05188152939081192, 0.0, 0.0, 0.0, 0.0, 0.0], [0.40538519620895386, 0.029542967677116394, 0.007450422737747431, 0.004910510033369064, 0.0033564011100679636, 0.004356083460152149, 0.007181502413004637, 0.151871919631958, 0.17692138254642487, 0.11106270551681519, 0.09796091914176941, 0.0, 0.0, 0.0, 0.0], [0.07734711468219757, 0.017959190532565117, 0.0023647185880690813, 0.0007773156394250691, 0.00047277327394112945, 0.0016078928019851446, 0.002910107607021928, 0.08265089243650436, 0.06253756582736969, 0.18732976913452148, 0.5075047612190247, 0.05653786659240723, 0.0, 0.0, 0.0], [0.25996842980384827, 0.025215545669198036, 0.010572893545031548, 0.0047171940095722675, 0.0027679589111357927, 0.005500692408531904, 0.009996666572988033, 0.08203425258398056, 0.0718003585934639, 0.05038449168205261, 0.18789148330688477, 0.08982759714126587, 0.1993224173784256, 0.0, 0.0], [0.3222689628601074, 0.004251714795827866, 0.001127262832596898, 0.0006413328810594976, 0.0004926525871269405, 0.0032952860929071903, 0.009246266447007656, 0.059614215046167374, 0.1326611191034317, 0.0960349440574646, 0.030126653611660004, 0.12088888883590698, 0.16853821277618408, 0.0508124902844429, 0.0], [0.060209207236766815, 0.0019070885609835386, 0.00042133734677918255, 0.00032573085627518594, 0.00036396863288246095, 0.0015017809346318245, 0.0028513153083622456, 0.01790676824748516, 0.021871309727430344, 0.007270513102412224, 0.6902023553848267, 0.11449436098337173, 0.0515206903219223, 0.01994727924466133, 0.009206370450556278]], [[1.0, 0.0, 0.0, 0.0, 0.0, 0.0, 0.0, 0.0, 0.0, 0.0, 0.0, 0.0, 0.0, 0.0, 0.0], [0.6765326857566833, 0.32346731424331665, 0.0, 0.0, 0.0, 0.0, 0.0, 0.0, 0.0, 0.0, 0.0, 0.0, 0.0, 0.0, 0.0], [0.0043693892657756805, 0.013298570178449154, 0.9823320508003235, 0.0, 0.0, 0.0, 0.0, 0.0, 0.0, 0.0, 0.0, 0.0, 0.0, 0.0, 0.0], [0.0008050542674027383, 0.0015512116951867938, 0.44280317425727844, 0.5548405647277832, 0.0, 0.0, 0.0, 0.0, 0.0, 0.0, 0.0, 0.0, 0.0, 0.0, 0.0], [0.0007530718576163054, 0.000691395194735378, 0.2436230629682541, 0.38385599851608276, 0.3710764944553375, 0.0, 0.0, 0.0, 0.0, 0.0, 0.0, 0.0, 0.0, 0.0, 0.0], [0.04130689054727554, 0.004632896278053522, 0.33098769187927246, 0.32702675461769104, 0.22948504984378815, 0.06656070798635483, 0.0, 0.0, 0.0, 0.0, 0.0, 0.0, 0.0, 0.0, 0.0], [0.034203533083200455, 0.019848834723234177, 0.20062410831451416, 0.35100257396698, 0.36159104108810425, 0.020840119570493698, 0.011889752931892872, 0.0, 0.0, 0.0, 0.0, 0.0, 0.0, 0.0, 0.0], [0.6510385274887085, 0.021279945969581604, 0.035660017281770706, 0.020783212035894394, 0.00977020151913166, 0.0034931607078760862, 0.012316158972680569, 0.24565881490707397, 0.0, 0.0, 0.0, 0.0, 0.0, 0.0, 0.0], [0.8477374315261841, 0.009848096407949924, 0.01346750557422638, 0.007814587093889713, 0.005063147284090519, 0.0050594499334692955, 0.0170021653175354, 0.030398186296224594, 0.06360947340726852, 0.0, 0.0, 0.0, 0.0, 0.0, 0.0], [0.9300464391708374, 0.006477255839854479, 0.0022711623460054398, 0.0010160745587199926, 0.0005693712155334651, 0.0003894385590683669, 0.001859797164797783, 0.01696915552020073, 0.03390461951494217, 0.006496709305793047, 0.0, 0.0, 0.0, 0.0, 0.0], [0.8381890058517456, 0.015237638726830482, 0.006885449402034283, 0.006351623218506575, 0.004200969822704792, 0.03146807476878166, 0.010276357643306255, 0.02768394537270069, 0.03247496858239174, 0.0032424016389995813, 0.023989655077457428, 0.0, 0.0, 0.0, 0.0], [0.3287953734397888, 0.009891032241284847, 0.0074159856885671616, 0.0047516473568975925, 0.004451974760740995, 0.024950901046395302, 0.020304139703512192, 0.10388994216918945, 0.11050581932067871, 0.018519969657063484, 0.18261584639549255, 0.1839074194431305, 0.0, 0.0, 0.0], [0.6126357913017273, 0.006450552958995104, 0.007947963662445545, 0.0032006639521569014, 0.0020098204258829355, 0.004609083756804466, 0.004597669467329979, 0.04470561444759369, 0.049000341445207596, 0.010634060017764568, 0.06345869600772858, 0.058012258261442184, 0.1327374428510666, 0.0, 0.0], [0.7418676018714905, 0.0016723677981644869, 0.0009154640138149261, 0.0007315321126952767, 0.0007657659007236362, 0.0055094934068620205, 0.003038806142285466, 0.004520641639828682, 0.021687081083655357, 0.004743699915707111, 0.02169123850762844, 0.09637612849473953, 0.09361721575260162, 0.0028628925792872906, 0.0], [0.2019660919904709, 0.005959318485110998, 0.0028722009155899286, 0.001219164696522057, 0.0009318981319665909, 0.0020629449281841516, 0.0008308987016789615, 0.03083827905356884, 0.042297184467315674, 0.00850929506123066, 0.4712137281894684, 0.1115037202835083, 0.05792631581425667, 0.02848644182085991, 0.03338256850838661]], [[1.0, 0.0, 0.0, 0.0, 0.0, 0.0, 0.0, 0.0, 0.0, 0.0, 0.0, 0.0, 0.0, 0.0, 0.0], [0.9573287963867188, 0.04267121106386185, 0.0, 0.0, 0.0, 0.0, 0.0, 0.0, 0.0, 0.0, 0.0, 0.0, 0.0, 0.0, 0.0], [0.7389559745788574, 0.0800977423787117, 0.18094633519649506, 0.0, 0.0, 0.0, 0.0, 0.0, 0.0, 0.0, 0.0, 0.0, 0.0, 0.0, 0.0], [0.5608043670654297, 0.0718734934926033, 0.09725449979305267, 0.27006766200065613, 0.0, 0.0, 0.0, 0.0, 0.0, 0.0, 0.0, 0.0, 0.0, 0.0, 0.0], [0.6397227048873901, 0.060941170901060104, 0.05306519567966461, 0.10963836312294006, 0.13663256168365479, 0.0, 0.0, 0.0, 0.0, 0.0, 0.0, 0.0, 0.0, 0.0, 0.0], [0.9709872007369995, 0.010396169498562813, 0.004097944125533104, 0.0025154126342386007, 0.0019635523203760386, 0.010039701126515865, 0.0, 0.0, 0.0, 0.0, 0.0, 0.0, 0.0, 0.0, 0.0], [0.9241871237754822, 0.03469907119870186, 0.013927605003118515, 0.005443179979920387, 0.003576069138944149, 0.006243922282010317, 0.011923049576580524, 0.0, 0.0, 0.0, 0.0, 0.0, 0.0, 0.0, 0.0], [0.9469674825668335, 0.017540128901600838, 0.00558294216170907, 0.0038278643041849136, 0.006053040735423565, 0.0029884078539907932, 0.002782512456178665, 0.014257684350013733, 0.0, 0.0, 0.0, 0.0, 0.0, 0.0, 0.0], [0.9045627117156982, 0.027146972715854645, 0.011852647177875042, 0.00468059116974473, 0.003979130182415247, 0.005201189778745174, 0.005823095794767141, 0.013118281960487366, 0.02363528124988079, 0.0, 0.0, 0.0, 0.0, 0.0, 0.0], [0.9256089925765991, 0.01265874132514, 0.005196326412260532, 0.0028219891246408224, 0.002795279026031494, 0.007173891644924879, 0.006395602598786354, 0.012961666099727154, 0.01859360933303833, 0.005793957971036434, 0.0, 0.0, 0.0, 0.0, 0.0], [0.7587969899177551, 0.011605778709053993, 0.0020033097825944424, 0.001127505674958229, 0.0011486455332487822, 0.008179308846592903, 0.006042443215847015, 0.012401102110743523, 0.020787358283996582, 0.03166327625513077, 0.14624428749084473, 0.0, 0.0, 0.0, 0.0], [0.3512507379055023, 0.014923293143510818, 0.004065693821758032, 0.0018568290397524834, 0.002451140433549881, 0.005720658227801323, 0.004207149147987366, 0.015700988471508026, 0.03084399737417698, 0.17841137945652008, 0.2456539422273636, 0.1449141502380371, 0.0, 0.0, 0.0], [0.44348639249801636, 0.006293438840657473, 0.002127345185726881, 0.001162589294835925, 0.0010025969240814447, 0.008259136229753494, 0.015938252210617065, 0.012850104831159115, 0.02151971124112606, 0.029615040868520737, 0.19228807091712952, 0.12297496944665909, 0.14248241484165192, 0.0, 0.0], [0.5457569360733032, 0.0025888304226100445, 0.0009852328803390265, 0.0005775889148935676, 0.0007089520804584026, 0.006765077356249094, 0.003288042265921831, 0.01574878767132759, 0.04014665633440018, 0.05962527170777321, 0.09738855808973312, 0.06638941168785095, 0.08684663474559784, 0.07318396866321564, 0.0], [0.101512610912323, 0.0023746772203594446, 0.0009881847072392702, 0.0006192990695126355, 0.0008506280719302595, 0.004140764009207487, 0.010466102510690689, 0.023240268230438232, 0.02991689182817936, 0.007549588102847338, 0.4510323405265808, 0.2057153284549713, 0.10777884721755981, 0.01538239885121584, 0.03843207657337189]]], \"attentionHeadNames\": [\"L17H11\", \"L19H19\", \"L17H18\"], \"tokens\": [\"<|endoftext|>\", \"\\n\\n\", \"\\n\\n\", \"\\n\\n\", \"\\n\\n\", \"\\n\", \"\\n\", \"...\", \" of\", \" turning\", \" left\", \",\", \" the\", \" character\", \" turned\"]}\n",
              "    )\n",
              "    </script></div><div style='max-width: 700px;'><h2>Top 3 Negative Logit Attribution Heads for Elided Prompts</h2><br/><div id=\"circuits-vis-c6482822-f40c\" style=\"margin: 15px 0;\"/>\n",
              "    <script crossorigin type=\"module\">\n",
              "    import { render, AttentionHeads } from \"https://unpkg.com/circuitsvis@1.43.2/dist/cdn/esm.js\";\n",
              "    render(\n",
              "      \"circuits-vis-c6482822-f40c\",\n",
              "      AttentionHeads,\n",
              "      {\"attention\": [[[1.0, 0.0, 0.0, 0.0, 0.0, 0.0, 0.0, 0.0, 0.0, 0.0, 0.0, 0.0, 0.0, 0.0, 0.0], [0.9853278994560242, 0.014672060497105122, 0.0, 0.0, 0.0, 0.0, 0.0, 0.0, 0.0, 0.0, 0.0, 0.0, 0.0, 0.0, 0.0], [0.9925682544708252, 0.004072741139680147, 0.003359058639034629, 0.0, 0.0, 0.0, 0.0, 0.0, 0.0, 0.0, 0.0, 0.0, 0.0, 0.0, 0.0], [0.9958879351615906, 0.0015046909684315324, 0.0016554782632738352, 0.0009519567247480154, 0.0, 0.0, 0.0, 0.0, 0.0, 0.0, 0.0, 0.0, 0.0, 0.0, 0.0], [0.9955293536186218, 0.0013139148941263556, 0.001138746039941907, 0.0005802203668281436, 0.0014378069899976254, 0.0, 0.0, 0.0, 0.0, 0.0, 0.0, 0.0, 0.0, 0.0, 0.0], [0.3624114394187927, 0.001160317100584507, 0.00033076273393817246, 0.00023242943279910833, 0.0010517238406464458, 0.6348132491111755, 0.0, 0.0, 0.0, 0.0, 0.0, 0.0, 0.0, 0.0, 0.0], [0.682954728603363, 0.004232640378177166, 0.0007859207107685506, 0.0008059617830440402, 0.0035124593414366245, 0.25697335600852966, 0.05073489993810654, 0.0, 0.0, 0.0, 0.0, 0.0, 0.0, 0.0, 0.0], [0.9496973156929016, 0.012284252792596817, 0.0009787678718566895, 0.0007984029944054782, 0.0026249652728438377, 0.010922939516603947, 0.0039964718744158745, 0.018696852028369904, 0.0, 0.0, 0.0, 0.0, 0.0, 0.0, 0.0], [0.948967695236206, 0.009348536841571331, 0.0009767160518094897, 0.00032166653545573354, 0.00047089639701880515, 0.0020560319535434246, 0.001979085151106119, 0.015864821150898933, 0.020014522597193718, 0.0, 0.0, 0.0, 0.0, 0.0, 0.0], [0.9545483589172363, 0.002771838800981641, 0.00017574583762325346, 3.6818521039094776e-05, 3.8176189264049754e-05, 8.023871487239376e-05, 4.923781307297759e-05, 0.003848834428936243, 0.003247483866289258, 0.035203393548727036, 0.0, 0.0, 0.0, 0.0, 0.0], [0.958888053894043, 0.0019317924743518233, 0.0001607428421266377, 5.426056668511592e-05, 3.8986119761830196e-05, 0.00045431687613017857, 0.0003045479825232178, 0.0051086582243442535, 0.005671208258718252, 0.005418192595243454, 0.02196923829615116, 0.0, 0.0, 0.0, 0.0], [0.8537861704826355, 0.006086802575737238, 0.0003628740960266441, 9.4306975370273e-05, 7.254705997183919e-05, 0.0009012158261612058, 0.0010666347807273269, 0.014529976062476635, 0.018599767237901688, 0.02548055723309517, 0.0159768033772707, 0.06304241716861725, 0.0, 0.0, 0.0], [0.9235050082206726, 0.00532017694786191, 0.000893486081622541, 0.00020083402341697365, 0.00016687448078300804, 0.0013990949373692274, 0.0010330574586987495, 0.007024217862635851, 0.004670847672969103, 0.013638102449476719, 0.02401701547205448, 0.0049482714384794235, 0.013183056376874447, 0.0, 0.0], [0.8762159943580627, 0.003260302823036909, 0.0007488830015063286, 0.0002525515155866742, 0.0003264116821810603, 0.004546137992292643, 0.0013546424452215433, 0.01277406420558691, 0.02043909579515457, 0.018635857850313187, 0.01164642907679081, 0.01983492635190487, 0.020715724676847458, 0.009248984977602959, 0.0], [0.9258485436439514, 0.0008149385103024542, 0.00010188315354753286, 2.7156002033734694e-05, 1.8977661966346204e-05, 7.330030348384753e-05, 5.146408511791378e-05, 0.002997206524014473, 0.0039314813911914825, 0.0012558778980746865, 0.0059857554733753204, 0.021163947880268097, 0.028932679444551468, 0.0017470342572778463, 0.007049746345728636]], [[1.0, 0.0, 0.0, 0.0, 0.0, 0.0, 0.0, 0.0, 0.0, 0.0, 0.0, 0.0, 0.0, 0.0, 0.0], [0.9898998141288757, 0.010100236162543297, 0.0, 0.0, 0.0, 0.0, 0.0, 0.0, 0.0, 0.0, 0.0, 0.0, 0.0, 0.0, 0.0], [0.9630363583564758, 0.030766969546675682, 0.006196701433509588, 0.0, 0.0, 0.0, 0.0, 0.0, 0.0, 0.0, 0.0, 0.0, 0.0, 0.0, 0.0], [0.9558758735656738, 0.033099886029958725, 0.0074377041310071945, 0.00358649343252182, 0.0, 0.0, 0.0, 0.0, 0.0, 0.0, 0.0, 0.0, 0.0, 0.0, 0.0], [0.9800035357475281, 0.014428187161684036, 0.0030947213526815176, 0.0014887599973008037, 0.0009848043555393815, 0.0, 0.0, 0.0, 0.0, 0.0, 0.0, 0.0, 0.0, 0.0, 0.0], [0.9532395601272583, 0.012941918335855007, 0.0042739990167319775, 0.0046937656588852406, 0.004561495501548052, 0.020289242267608643, 0.0, 0.0, 0.0, 0.0, 0.0, 0.0, 0.0, 0.0, 0.0], [0.9546369910240173, 0.02013958990573883, 0.005274301394820213, 0.0033878835383802652, 0.0034576139878481627, 0.009336840361356735, 0.0037667874712496996, 0.0, 0.0, 0.0, 0.0, 0.0, 0.0, 0.0, 0.0], [0.854222297668457, 0.01244303211569786, 0.009161494672298431, 0.006575182545930147, 0.005786999594420195, 0.018500041216611862, 0.018848538398742676, 0.07446250319480896, 0.0, 0.0, 0.0, 0.0, 0.0, 0.0, 0.0], [0.8757057785987854, 0.013539363630115986, 0.009214852005243301, 0.003960564732551575, 0.0027992944233119488, 0.010963371023535728, 0.008401725441217422, 0.05387934669852257, 0.021535754203796387, 0.0, 0.0, 0.0, 0.0, 0.0, 0.0], [0.8070910573005676, 0.009047095663845539, 0.008707786910235882, 0.005163184832781553, 0.003949339501559734, 0.024232998490333557, 0.01300306711345911, 0.05689730867743492, 0.05534219741821289, 0.01656600646674633, 0.0, 0.0, 0.0, 0.0, 0.0], [0.6631965041160583, 0.014486044645309448, 0.0027703146915882826, 0.0011942493729293346, 0.0009106253855861723, 0.0012375472579151392, 0.0008640086161904037, 0.031489450484514236, 0.05146007612347603, 0.022545546293258667, 0.20984560251235962, 0.0, 0.0, 0.0, 0.0], [0.5137909054756165, 0.01364643033593893, 0.008317706175148487, 0.0049349963665008545, 0.0035012855660170317, 0.005538282450288534, 0.0015404114965349436, 0.025580447167158127, 0.023711228743195534, 0.016423260793089867, 0.19527184963226318, 0.1877431720495224, 0.0, 0.0, 0.0], [0.5664489269256592, 0.01689569093286991, 0.004655496217310429, 0.002686859806999564, 0.0020499066449701786, 0.007111658807843924, 0.007484219502657652, 0.025985058397054672, 0.01812667027115822, 0.008354630321264267, 0.09605240821838379, 0.1099635437130928, 0.13418492674827576, 0.0, 0.0], [0.503672182559967, 0.006235240492969751, 0.0035344704519957304, 0.003939904738217592, 0.0057154083624482155, 0.017785295844078064, 0.008406659588217735, 0.06461109966039658, 0.05987118184566498, 0.03719373047351837, 0.04332161694765091, 0.10632028430700302, 0.12653642892837524, 0.012856530025601387, 0.0], [0.320145845413208, 0.009419932961463928, 0.0033717432525008917, 0.0017783960793167353, 0.0015784080605953932, 0.001955829095095396, 0.002937170211225748, 0.012387632392346859, 0.012935064733028412, 0.006316203624010086, 0.16431626677513123, 0.18580235540866852, 0.2306942343711853, 0.0033310982398688793, 0.04302980378270149]], [[1.0, 0.0, 0.0, 0.0, 0.0, 0.0, 0.0, 0.0, 0.0, 0.0, 0.0, 0.0, 0.0, 0.0, 0.0], [0.8817928433418274, 0.11820713430643082, 0.0, 0.0, 0.0, 0.0, 0.0, 0.0, 0.0, 0.0, 0.0, 0.0, 0.0, 0.0, 0.0], [0.5665919780731201, 0.09536086022853851, 0.33804720640182495, 0.0, 0.0, 0.0, 0.0, 0.0, 0.0, 0.0, 0.0, 0.0, 0.0, 0.0, 0.0], [0.09653238207101822, 0.06364232301712036, 0.1850406974554062, 0.654784619808197, 0.0, 0.0, 0.0, 0.0, 0.0, 0.0, 0.0, 0.0, 0.0, 0.0, 0.0], [0.07696935534477234, 0.044246286153793335, 0.09909580647945404, 0.3834546208381653, 0.3962338864803314, 0.0, 0.0, 0.0, 0.0, 0.0, 0.0, 0.0, 0.0, 0.0, 0.0], [0.7549217343330383, 0.05164844170212746, 0.06769073754549026, 0.05764490365982056, 0.05901290103793144, 0.009081298485398293, 0.0, 0.0, 0.0, 0.0, 0.0, 0.0, 0.0, 0.0, 0.0], [0.6723562479019165, 0.12341789901256561, 0.06959088891744614, 0.06207386776804924, 0.046587023884058, 0.017813287675380707, 0.008160737343132496, 0.0, 0.0, 0.0, 0.0, 0.0, 0.0, 0.0, 0.0], [0.9787020683288574, 0.00736502418294549, 0.0020406683906912804, 0.0014236979186534882, 0.0012844466837123036, 0.0009409432532265782, 0.000759184651542455, 0.007484014146029949, 0.0, 0.0, 0.0, 0.0, 0.0, 0.0, 0.0], [0.9483105540275574, 0.014716672711074352, 0.005333650857210159, 0.004655221942812204, 0.00675286864861846, 0.0028622064273804426, 0.0010034061269834638, 0.005020579788833857, 0.011344741098582745, 0.0, 0.0, 0.0, 0.0, 0.0, 0.0], [0.9806692004203796, 0.001280699041672051, 0.00046437577111646533, 0.0007807238725945354, 0.0018425732851028442, 0.005207529291510582, 0.0009993842104449868, 0.001443946734070778, 0.0028730060439556837, 0.004438592586666346, 0.0, 0.0, 0.0, 0.0, 0.0], [0.9580109119415283, 0.003628338919952512, 0.0007760560256429017, 0.00036742258816957474, 0.00044860676280222833, 0.0006042230525054038, 0.00017429949366487563, 0.0005542301805689931, 0.0008789553539827466, 0.0008187094354070723, 0.033738285303115845, 0.0, 0.0, 0.0, 0.0], [0.9489890933036804, 0.011247768998146057, 0.0006694348412565887, 0.00031747142202220857, 0.0003451717784628272, 0.0010849189711734653, 0.0013664917787536979, 0.003106796182692051, 0.0026899483054876328, 0.0017258424777537584, 0.022319156676530838, 0.006137896794825792, 0.0, 0.0, 0.0], [0.8001571893692017, 0.011290902271866798, 0.0019206278957426548, 0.0007752367528155446, 0.0006337371305562556, 0.002336067846044898, 0.0014143438311293721, 0.003127429401502013, 0.0036433038767427206, 0.001441939384676516, 0.15154334902763367, 0.009165887720882893, 0.0125499926507473, 0.0, 0.0], [0.8778281807899475, 0.008820096030831337, 0.0014008288271725178, 0.0012572825653478503, 0.0017619611462578177, 0.011849040165543556, 0.003598324256017804, 0.0027057721745222807, 0.009117057546973228, 0.002661573002114892, 0.04204176366329193, 0.007887192070484161, 0.005147086456418037, 0.023923972621560097, 0.0], [0.8415835499763489, 0.0010382410837337375, 0.0003012547385878861, 0.00044510356383398175, 0.0007426384254358709, 0.0021948532667011023, 0.000541078916285187, 0.001032007159665227, 0.002299104118719697, 0.0010448205284774303, 0.11085716634988785, 0.013943926431238651, 0.007117780391126871, 0.013787468895316124, 0.0030708645936101675]]], \"attentionHeadNames\": [\"L24H19\", \"L17H13\", \"L22H13\"], \"tokens\": [\"<|endoftext|>\", \"\\n\\n\", \"\\n\\n\", \"\\n\\n\", \"\\n\\n\", \"\\n\", \"\\n\", \"...\", \" of\", \" turning\", \" left\", \",\", \" the\", \" character\", \" turned\"]}\n",
              "    )\n",
              "    </script></div>"
            ],
            "text/plain": [
              "<IPython.core.display.HTML object>"
            ]
          },
          "execution_count": 43,
          "metadata": {},
          "output_type": "execute_result"
        }
      ],
      "source": [
        "top_k = 3\n",
        "elided_prompts, elided_answers = unzip(elided_prompts_and_answers)\n",
        "elided_tokens = model.to_tokens(leftpad(elided_prompts, model), prepend_bos=True)\n",
        "top_positive_logit_attr_heads = torch.topk(\n",
        "    elided_per_head_logit_diffs.flatten(), k=top_k\n",
        ").indices\n",
        "\n",
        "positive_html = visualize_attention_patterns(\n",
        "    top_positive_logit_attr_heads,\n",
        "    elided_cache,\n",
        "    elided_tokens[0],\n",
        "    f\"Top {top_k} Positive Logit Attribution Heads for Elided Prompts\",\n",
        ")\n",
        "\n",
        "top_negative_logit_attr_heads = torch.topk(\n",
        "    -elided_per_head_logit_diffs.flatten(), k=top_k\n",
        ").indices\n",
        "\n",
        "negative_html = visualize_attention_patterns(\n",
        "    top_negative_logit_attr_heads,\n",
        "    elided_cache,\n",
        "    elided_tokens[0],\n",
        "    title=f\"Top {top_k} Negative Logit Attribution Heads for Elided Prompts\",\n",
        ")\n",
        "\n",
        "HTML(positive_html + negative_html)"
      ]
    },
    {
      "cell_type": "code",
      "execution_count": null,
      "metadata": {},
      "outputs": [],
      "source": []
    }
  ],
  "metadata": {
    "colab": {
      "collapsed_sections": [
        "MMopFnxQUvUT",
        "mwVr-ocHUvUT",
        "-MIQr-v7UvUT"
      ],
      "provenance": [],
      "toc_visible": true
    },
    "kernelspec": {
      "display_name": "Python 3",
      "name": "python3"
    },
    "language_info": {
      "codemirror_mode": {
        "name": "ipython",
        "version": 3
      },
      "file_extension": ".py",
      "mimetype": "text/x-python",
      "name": "python",
      "nbconvert_exporter": "python",
      "pygments_lexer": "ipython3",
      "version": "3.12.2"
    },
    "vscode": {
      "interpreter": {
        "hash": "eb812820b5094695c8a581672e17220e30dd2c15d704c018326e3cc2e1a566f1"
      }
    },
    "widgets": {
      "application/vnd.jupyter.widget-state+json": {
        "0050efa334d445c497b7e32d05b2b418": {
          "model_module": "@jupyter-widgets/controls",
          "model_module_version": "1.5.0",
          "model_name": "FloatProgressModel",
          "state": {
            "_dom_classes": [],
            "_model_module": "@jupyter-widgets/controls",
            "_model_module_version": "1.5.0",
            "_model_name": "FloatProgressModel",
            "_view_count": null,
            "_view_module": "@jupyter-widgets/controls",
            "_view_module_version": "1.5.0",
            "_view_name": "ProgressView",
            "bar_style": "success",
            "description": "",
            "description_tooltip": null,
            "layout": "IPY_MODEL_e553276b0656466fb9475d0191ec86e6",
            "max": 548105171,
            "min": 0,
            "orientation": "horizontal",
            "style": "IPY_MODEL_5a78f2d0c99e41a7a9fa0d5d4fa9837e",
            "value": 548105171
          }
        },
        "02c4be08db3b4647b0acb3f6848b9b4a": {
          "model_module": "@jupyter-widgets/base",
          "model_module_version": "1.2.0",
          "model_name": "LayoutModel",
          "state": {
            "_model_module": "@jupyter-widgets/base",
            "_model_module_version": "1.2.0",
            "_model_name": "LayoutModel",
            "_view_count": null,
            "_view_module": "@jupyter-widgets/base",
            "_view_module_version": "1.2.0",
            "_view_name": "LayoutView",
            "align_content": null,
            "align_items": null,
            "align_self": null,
            "border": null,
            "bottom": null,
            "display": null,
            "flex": null,
            "flex_flow": null,
            "grid_area": null,
            "grid_auto_columns": null,
            "grid_auto_flow": null,
            "grid_auto_rows": null,
            "grid_column": null,
            "grid_gap": null,
            "grid_row": null,
            "grid_template_areas": null,
            "grid_template_columns": null,
            "grid_template_rows": null,
            "height": null,
            "justify_content": null,
            "justify_items": null,
            "left": null,
            "margin": null,
            "max_height": null,
            "max_width": null,
            "min_height": null,
            "min_width": null,
            "object_fit": null,
            "object_position": null,
            "order": null,
            "overflow": null,
            "overflow_x": null,
            "overflow_y": null,
            "padding": null,
            "right": null,
            "top": null,
            "visibility": null,
            "width": null
          }
        },
        "0a18c08387854554814aa9add5afeeab": {
          "model_module": "@jupyter-widgets/controls",
          "model_module_version": "1.5.0",
          "model_name": "HTMLModel",
          "state": {
            "_dom_classes": [],
            "_model_module": "@jupyter-widgets/controls",
            "_model_module_version": "1.5.0",
            "_model_name": "HTMLModel",
            "_view_count": null,
            "_view_module": "@jupyter-widgets/controls",
            "_view_module_version": "1.5.0",
            "_view_name": "HTMLView",
            "description": "",
            "description_tooltip": null,
            "layout": "IPY_MODEL_cea8142b11e849f4bf116e2473fb7c7c",
            "placeholder": "​",
            "style": "IPY_MODEL_4ba7db2b34274aa8a7e6294787227811",
            "value": "config.json: 100%"
          }
        },
        "0d9e2b301a164982a88e5338b411fa52": {
          "model_module": "@jupyter-widgets/controls",
          "model_module_version": "1.5.0",
          "model_name": "HBoxModel",
          "state": {
            "_dom_classes": [],
            "_model_module": "@jupyter-widgets/controls",
            "_model_module_version": "1.5.0",
            "_model_name": "HBoxModel",
            "_view_count": null,
            "_view_module": "@jupyter-widgets/controls",
            "_view_module_version": "1.5.0",
            "_view_name": "HBoxView",
            "box_style": "",
            "children": [
              "IPY_MODEL_baf3b7e5c9e44640bb49484d8637e312",
              "IPY_MODEL_8fdecb8c71ba4f70b536d80fcf683269",
              "IPY_MODEL_6372e354db5b4978814f55e304a43bbf"
            ],
            "layout": "IPY_MODEL_d57099823cfe4d8cb52fe39b0d425a91"
          }
        },
        "17244fc31e5a4b3a9c90ed903e07d87a": {
          "model_module": "@jupyter-widgets/base",
          "model_module_version": "1.2.0",
          "model_name": "LayoutModel",
          "state": {
            "_model_module": "@jupyter-widgets/base",
            "_model_module_version": "1.2.0",
            "_model_name": "LayoutModel",
            "_view_count": null,
            "_view_module": "@jupyter-widgets/base",
            "_view_module_version": "1.2.0",
            "_view_name": "LayoutView",
            "align_content": null,
            "align_items": null,
            "align_self": null,
            "border": null,
            "bottom": null,
            "display": null,
            "flex": null,
            "flex_flow": null,
            "grid_area": null,
            "grid_auto_columns": null,
            "grid_auto_flow": null,
            "grid_auto_rows": null,
            "grid_column": null,
            "grid_gap": null,
            "grid_row": null,
            "grid_template_areas": null,
            "grid_template_columns": null,
            "grid_template_rows": null,
            "height": null,
            "justify_content": null,
            "justify_items": null,
            "left": null,
            "margin": null,
            "max_height": null,
            "max_width": null,
            "min_height": null,
            "min_width": null,
            "object_fit": null,
            "object_position": null,
            "order": null,
            "overflow": null,
            "overflow_x": null,
            "overflow_y": null,
            "padding": null,
            "right": null,
            "top": null,
            "visibility": null,
            "width": null
          }
        },
        "180bd58c72c947589acc869bda6fad34": {
          "model_module": "@jupyter-widgets/base",
          "model_module_version": "1.2.0",
          "model_name": "LayoutModel",
          "state": {
            "_model_module": "@jupyter-widgets/base",
            "_model_module_version": "1.2.0",
            "_model_name": "LayoutModel",
            "_view_count": null,
            "_view_module": "@jupyter-widgets/base",
            "_view_module_version": "1.2.0",
            "_view_name": "LayoutView",
            "align_content": null,
            "align_items": null,
            "align_self": null,
            "border": null,
            "bottom": null,
            "display": null,
            "flex": null,
            "flex_flow": null,
            "grid_area": null,
            "grid_auto_columns": null,
            "grid_auto_flow": null,
            "grid_auto_rows": null,
            "grid_column": null,
            "grid_gap": null,
            "grid_row": null,
            "grid_template_areas": null,
            "grid_template_columns": null,
            "grid_template_rows": null,
            "height": null,
            "justify_content": null,
            "justify_items": null,
            "left": null,
            "margin": null,
            "max_height": null,
            "max_width": null,
            "min_height": null,
            "min_width": null,
            "object_fit": null,
            "object_position": null,
            "order": null,
            "overflow": null,
            "overflow_x": null,
            "overflow_y": null,
            "padding": null,
            "right": null,
            "top": null,
            "visibility": null,
            "width": null
          }
        },
        "1b7826c43c594ad9bdb3a534b1408730": {
          "model_module": "@jupyter-widgets/controls",
          "model_module_version": "1.5.0",
          "model_name": "HTMLModel",
          "state": {
            "_dom_classes": [],
            "_model_module": "@jupyter-widgets/controls",
            "_model_module_version": "1.5.0",
            "_model_name": "HTMLModel",
            "_view_count": null,
            "_view_module": "@jupyter-widgets/controls",
            "_view_module_version": "1.5.0",
            "_view_name": "HTMLView",
            "description": "",
            "description_tooltip": null,
            "layout": "IPY_MODEL_ee079b60629a4bfe9ece69fb0498ec13",
            "placeholder": "​",
            "style": "IPY_MODEL_7668936874a24615b4ac65b29ae10dbe",
            "value": "generation_config.json: 100%"
          }
        },
        "1d551623c7d545efbadb4625c3e32318": {
          "model_module": "@jupyter-widgets/controls",
          "model_module_version": "1.5.0",
          "model_name": "HTMLModel",
          "state": {
            "_dom_classes": [],
            "_model_module": "@jupyter-widgets/controls",
            "_model_module_version": "1.5.0",
            "_model_name": "HTMLModel",
            "_view_count": null,
            "_view_module": "@jupyter-widgets/controls",
            "_view_module_version": "1.5.0",
            "_view_name": "HTMLView",
            "description": "",
            "description_tooltip": null,
            "layout": "IPY_MODEL_fb7a11b2399b4f4abfc0783b891f771f",
            "placeholder": "​",
            "style": "IPY_MODEL_97ef8a6d9f6a4c40b102df76662726f1",
            "value": " 456k/456k [00:00&lt;00:00, 6.32MB/s]"
          }
        },
        "23ac6ea0519e47009a8c5fb32fcaa784": {
          "model_module": "@jupyter-widgets/controls",
          "model_module_version": "1.5.0",
          "model_name": "DescriptionStyleModel",
          "state": {
            "_model_module": "@jupyter-widgets/controls",
            "_model_module_version": "1.5.0",
            "_model_name": "DescriptionStyleModel",
            "_view_count": null,
            "_view_module": "@jupyter-widgets/base",
            "_view_module_version": "1.2.0",
            "_view_name": "StyleView",
            "description_width": ""
          }
        },
        "2728a9eeb93e4ad48591589f7773fb78": {
          "model_module": "@jupyter-widgets/controls",
          "model_module_version": "1.5.0",
          "model_name": "ProgressStyleModel",
          "state": {
            "_model_module": "@jupyter-widgets/controls",
            "_model_module_version": "1.5.0",
            "_model_name": "ProgressStyleModel",
            "_view_count": null,
            "_view_module": "@jupyter-widgets/base",
            "_view_module_version": "1.2.0",
            "_view_name": "StyleView",
            "bar_color": null,
            "description_width": ""
          }
        },
        "28e300ddd9d04ca79a2deed1934c1350": {
          "model_module": "@jupyter-widgets/controls",
          "model_module_version": "1.5.0",
          "model_name": "HBoxModel",
          "state": {
            "_dom_classes": [],
            "_model_module": "@jupyter-widgets/controls",
            "_model_module_version": "1.5.0",
            "_model_name": "HBoxModel",
            "_view_count": null,
            "_view_module": "@jupyter-widgets/controls",
            "_view_module_version": "1.5.0",
            "_view_name": "HBoxView",
            "box_style": "",
            "children": [
              "IPY_MODEL_fe494df9fc9947d392f267cdf02ac11c",
              "IPY_MODEL_7ab69441f18f48798083743fc0f9a082",
              "IPY_MODEL_588c6b9447624feab359a089381d2da5"
            ],
            "layout": "IPY_MODEL_7b53fea799b24ea0a1ff572142ebff70"
          }
        },
        "2901ab9892fe4549935e17c02e3cd518": {
          "model_module": "@jupyter-widgets/controls",
          "model_module_version": "1.5.0",
          "model_name": "ProgressStyleModel",
          "state": {
            "_model_module": "@jupyter-widgets/controls",
            "_model_module_version": "1.5.0",
            "_model_name": "ProgressStyleModel",
            "_view_count": null,
            "_view_module": "@jupyter-widgets/base",
            "_view_module_version": "1.2.0",
            "_view_name": "StyleView",
            "bar_color": null,
            "description_width": ""
          }
        },
        "2a582ddf58a74d198dd20cd0379ccdb7": {
          "model_module": "@jupyter-widgets/base",
          "model_module_version": "1.2.0",
          "model_name": "LayoutModel",
          "state": {
            "_model_module": "@jupyter-widgets/base",
            "_model_module_version": "1.2.0",
            "_model_name": "LayoutModel",
            "_view_count": null,
            "_view_module": "@jupyter-widgets/base",
            "_view_module_version": "1.2.0",
            "_view_name": "LayoutView",
            "align_content": null,
            "align_items": null,
            "align_self": null,
            "border": null,
            "bottom": null,
            "display": null,
            "flex": null,
            "flex_flow": null,
            "grid_area": null,
            "grid_auto_columns": null,
            "grid_auto_flow": null,
            "grid_auto_rows": null,
            "grid_column": null,
            "grid_gap": null,
            "grid_row": null,
            "grid_template_areas": null,
            "grid_template_columns": null,
            "grid_template_rows": null,
            "height": null,
            "justify_content": null,
            "justify_items": null,
            "left": null,
            "margin": null,
            "max_height": null,
            "max_width": null,
            "min_height": null,
            "min_width": null,
            "object_fit": null,
            "object_position": null,
            "order": null,
            "overflow": null,
            "overflow_x": null,
            "overflow_y": null,
            "padding": null,
            "right": null,
            "top": null,
            "visibility": null,
            "width": null
          }
        },
        "2a7efa4301a449d18cab488fc677aa38": {
          "model_module": "@jupyter-widgets/controls",
          "model_module_version": "1.5.0",
          "model_name": "HBoxModel",
          "state": {
            "_dom_classes": [],
            "_model_module": "@jupyter-widgets/controls",
            "_model_module_version": "1.5.0",
            "_model_name": "HBoxModel",
            "_view_count": null,
            "_view_module": "@jupyter-widgets/controls",
            "_view_module_version": "1.5.0",
            "_view_name": "HBoxView",
            "box_style": "",
            "children": [
              "IPY_MODEL_447d6e89ffd64ba18cc97b1d7efb5bb0",
              "IPY_MODEL_0050efa334d445c497b7e32d05b2b418",
              "IPY_MODEL_51bb3746c81d487cac301f70e5e6dc4f"
            ],
            "layout": "IPY_MODEL_180bd58c72c947589acc869bda6fad34"
          }
        },
        "2f19e662c8b64e31afbe36f20c353d19": {
          "model_module": "@jupyter-widgets/controls",
          "model_module_version": "1.5.0",
          "model_name": "HTMLModel",
          "state": {
            "_dom_classes": [],
            "_model_module": "@jupyter-widgets/controls",
            "_model_module_version": "1.5.0",
            "_model_name": "HTMLModel",
            "_view_count": null,
            "_view_module": "@jupyter-widgets/controls",
            "_view_module_version": "1.5.0",
            "_view_name": "HTMLView",
            "description": "",
            "description_tooltip": null,
            "layout": "IPY_MODEL_93808192885f4a88bb9d24a916ff6518",
            "placeholder": "​",
            "style": "IPY_MODEL_b3ed7930c6e2471c9112e1d22227928a",
            "value": " 1.04M/1.04M [00:00&lt;00:00, 6.76MB/s]"
          }
        },
        "31267fb131bc4ec5ae8ea6a81a3121bd": {
          "model_module": "@jupyter-widgets/controls",
          "model_module_version": "1.5.0",
          "model_name": "DescriptionStyleModel",
          "state": {
            "_model_module": "@jupyter-widgets/controls",
            "_model_module_version": "1.5.0",
            "_model_name": "DescriptionStyleModel",
            "_view_count": null,
            "_view_module": "@jupyter-widgets/base",
            "_view_module_version": "1.2.0",
            "_view_name": "StyleView",
            "description_width": ""
          }
        },
        "350c5f32d6ca4d1fbea825f5efde6c1e": {
          "model_module": "@jupyter-widgets/controls",
          "model_module_version": "1.5.0",
          "model_name": "DescriptionStyleModel",
          "state": {
            "_model_module": "@jupyter-widgets/controls",
            "_model_module_version": "1.5.0",
            "_model_name": "DescriptionStyleModel",
            "_view_count": null,
            "_view_module": "@jupyter-widgets/base",
            "_view_module_version": "1.2.0",
            "_view_name": "StyleView",
            "description_width": ""
          }
        },
        "37f96285cf10444d825f72c9c0639e5a": {
          "model_module": "@jupyter-widgets/base",
          "model_module_version": "1.2.0",
          "model_name": "LayoutModel",
          "state": {
            "_model_module": "@jupyter-widgets/base",
            "_model_module_version": "1.2.0",
            "_model_name": "LayoutModel",
            "_view_count": null,
            "_view_module": "@jupyter-widgets/base",
            "_view_module_version": "1.2.0",
            "_view_name": "LayoutView",
            "align_content": null,
            "align_items": null,
            "align_self": null,
            "border": null,
            "bottom": null,
            "display": null,
            "flex": null,
            "flex_flow": null,
            "grid_area": null,
            "grid_auto_columns": null,
            "grid_auto_flow": null,
            "grid_auto_rows": null,
            "grid_column": null,
            "grid_gap": null,
            "grid_row": null,
            "grid_template_areas": null,
            "grid_template_columns": null,
            "grid_template_rows": null,
            "height": null,
            "justify_content": null,
            "justify_items": null,
            "left": null,
            "margin": null,
            "max_height": null,
            "max_width": null,
            "min_height": null,
            "min_width": null,
            "object_fit": null,
            "object_position": null,
            "order": null,
            "overflow": null,
            "overflow_x": null,
            "overflow_y": null,
            "padding": null,
            "right": null,
            "top": null,
            "visibility": null,
            "width": null
          }
        },
        "39bb1b106cce43039b62513491b19fdb": {
          "model_module": "@jupyter-widgets/controls",
          "model_module_version": "1.5.0",
          "model_name": "ProgressStyleModel",
          "state": {
            "_model_module": "@jupyter-widgets/controls",
            "_model_module_version": "1.5.0",
            "_model_name": "ProgressStyleModel",
            "_view_count": null,
            "_view_module": "@jupyter-widgets/base",
            "_view_module_version": "1.2.0",
            "_view_name": "StyleView",
            "bar_color": null,
            "description_width": ""
          }
        },
        "426396e543ce4f44821bd2c2aeaf5984": {
          "model_module": "@jupyter-widgets/controls",
          "model_module_version": "1.5.0",
          "model_name": "HBoxModel",
          "state": {
            "_dom_classes": [],
            "_model_module": "@jupyter-widgets/controls",
            "_model_module_version": "1.5.0",
            "_model_name": "HBoxModel",
            "_view_count": null,
            "_view_module": "@jupyter-widgets/controls",
            "_view_module_version": "1.5.0",
            "_view_name": "HBoxView",
            "box_style": "",
            "children": [
              "IPY_MODEL_dbdc9fb7f0ad44f6a6951e694f844a54",
              "IPY_MODEL_82bf2768ce934a21b344cb1fb8e2489b",
              "IPY_MODEL_1d551623c7d545efbadb4625c3e32318"
            ],
            "layout": "IPY_MODEL_b992a3cea7d04643a32054ab68eeb21a"
          }
        },
        "447d6e89ffd64ba18cc97b1d7efb5bb0": {
          "model_module": "@jupyter-widgets/controls",
          "model_module_version": "1.5.0",
          "model_name": "HTMLModel",
          "state": {
            "_dom_classes": [],
            "_model_module": "@jupyter-widgets/controls",
            "_model_module_version": "1.5.0",
            "_model_name": "HTMLModel",
            "_view_count": null,
            "_view_module": "@jupyter-widgets/controls",
            "_view_module_version": "1.5.0",
            "_view_name": "HTMLView",
            "description": "",
            "description_tooltip": null,
            "layout": "IPY_MODEL_9772dc35b853475f976aa820bd32ca92",
            "placeholder": "​",
            "style": "IPY_MODEL_4c4cb693e8a34c9f92c9588899482ad9",
            "value": "model.safetensors: 100%"
          }
        },
        "4592aa762bcf4e82884790bcbd29d75b": {
          "model_module": "@jupyter-widgets/base",
          "model_module_version": "1.2.0",
          "model_name": "LayoutModel",
          "state": {
            "_model_module": "@jupyter-widgets/base",
            "_model_module_version": "1.2.0",
            "_model_name": "LayoutModel",
            "_view_count": null,
            "_view_module": "@jupyter-widgets/base",
            "_view_module_version": "1.2.0",
            "_view_name": "LayoutView",
            "align_content": null,
            "align_items": null,
            "align_self": null,
            "border": null,
            "bottom": null,
            "display": null,
            "flex": null,
            "flex_flow": null,
            "grid_area": null,
            "grid_auto_columns": null,
            "grid_auto_flow": null,
            "grid_auto_rows": null,
            "grid_column": null,
            "grid_gap": null,
            "grid_row": null,
            "grid_template_areas": null,
            "grid_template_columns": null,
            "grid_template_rows": null,
            "height": null,
            "justify_content": null,
            "justify_items": null,
            "left": null,
            "margin": null,
            "max_height": null,
            "max_width": null,
            "min_height": null,
            "min_width": null,
            "object_fit": null,
            "object_position": null,
            "order": null,
            "overflow": null,
            "overflow_x": null,
            "overflow_y": null,
            "padding": null,
            "right": null,
            "top": null,
            "visibility": null,
            "width": null
          }
        },
        "45eb7146b0c34cb696fa67029ae982d4": {
          "model_module": "@jupyter-widgets/controls",
          "model_module_version": "1.5.0",
          "model_name": "DescriptionStyleModel",
          "state": {
            "_model_module": "@jupyter-widgets/controls",
            "_model_module_version": "1.5.0",
            "_model_name": "DescriptionStyleModel",
            "_view_count": null,
            "_view_module": "@jupyter-widgets/base",
            "_view_module_version": "1.2.0",
            "_view_name": "StyleView",
            "description_width": ""
          }
        },
        "4af43d9e8bed4ed1acf0a00ceeffc2e6": {
          "model_module": "@jupyter-widgets/controls",
          "model_module_version": "1.5.0",
          "model_name": "HBoxModel",
          "state": {
            "_dom_classes": [],
            "_model_module": "@jupyter-widgets/controls",
            "_model_module_version": "1.5.0",
            "_model_name": "HBoxModel",
            "_view_count": null,
            "_view_module": "@jupyter-widgets/controls",
            "_view_module_version": "1.5.0",
            "_view_name": "HBoxView",
            "box_style": "",
            "children": [
              "IPY_MODEL_7e7619127ae94376a1e5fc3c8d2bb161",
              "IPY_MODEL_a844d8eb3b3d4584a18ebb4184c3ec7f",
              "IPY_MODEL_2f19e662c8b64e31afbe36f20c353d19"
            ],
            "layout": "IPY_MODEL_d79c15b322534595b46f211537e82801"
          }
        },
        "4ba7db2b34274aa8a7e6294787227811": {
          "model_module": "@jupyter-widgets/controls",
          "model_module_version": "1.5.0",
          "model_name": "DescriptionStyleModel",
          "state": {
            "_model_module": "@jupyter-widgets/controls",
            "_model_module_version": "1.5.0",
            "_model_name": "DescriptionStyleModel",
            "_view_count": null,
            "_view_module": "@jupyter-widgets/base",
            "_view_module_version": "1.2.0",
            "_view_name": "StyleView",
            "description_width": ""
          }
        },
        "4c4cb693e8a34c9f92c9588899482ad9": {
          "model_module": "@jupyter-widgets/controls",
          "model_module_version": "1.5.0",
          "model_name": "DescriptionStyleModel",
          "state": {
            "_model_module": "@jupyter-widgets/controls",
            "_model_module_version": "1.5.0",
            "_model_name": "DescriptionStyleModel",
            "_view_count": null,
            "_view_module": "@jupyter-widgets/base",
            "_view_module_version": "1.2.0",
            "_view_name": "StyleView",
            "description_width": ""
          }
        },
        "4dbcd8382cef4e67a240b64a8dba1f23": {
          "model_module": "@jupyter-widgets/controls",
          "model_module_version": "1.5.0",
          "model_name": "DescriptionStyleModel",
          "state": {
            "_model_module": "@jupyter-widgets/controls",
            "_model_module_version": "1.5.0",
            "_model_name": "DescriptionStyleModel",
            "_view_count": null,
            "_view_module": "@jupyter-widgets/base",
            "_view_module_version": "1.2.0",
            "_view_name": "StyleView",
            "description_width": ""
          }
        },
        "4ece9f38b4a6494c9b534ce86e3000e4": {
          "model_module": "@jupyter-widgets/base",
          "model_module_version": "1.2.0",
          "model_name": "LayoutModel",
          "state": {
            "_model_module": "@jupyter-widgets/base",
            "_model_module_version": "1.2.0",
            "_model_name": "LayoutModel",
            "_view_count": null,
            "_view_module": "@jupyter-widgets/base",
            "_view_module_version": "1.2.0",
            "_view_name": "LayoutView",
            "align_content": null,
            "align_items": null,
            "align_self": null,
            "border": null,
            "bottom": null,
            "display": null,
            "flex": null,
            "flex_flow": null,
            "grid_area": null,
            "grid_auto_columns": null,
            "grid_auto_flow": null,
            "grid_auto_rows": null,
            "grid_column": null,
            "grid_gap": null,
            "grid_row": null,
            "grid_template_areas": null,
            "grid_template_columns": null,
            "grid_template_rows": null,
            "height": null,
            "justify_content": null,
            "justify_items": null,
            "left": null,
            "margin": null,
            "max_height": null,
            "max_width": null,
            "min_height": null,
            "min_width": null,
            "object_fit": null,
            "object_position": null,
            "order": null,
            "overflow": null,
            "overflow_x": null,
            "overflow_y": null,
            "padding": null,
            "right": null,
            "top": null,
            "visibility": null,
            "width": null
          }
        },
        "51bb3746c81d487cac301f70e5e6dc4f": {
          "model_module": "@jupyter-widgets/controls",
          "model_module_version": "1.5.0",
          "model_name": "HTMLModel",
          "state": {
            "_dom_classes": [],
            "_model_module": "@jupyter-widgets/controls",
            "_model_module_version": "1.5.0",
            "_model_name": "HTMLModel",
            "_view_count": null,
            "_view_module": "@jupyter-widgets/controls",
            "_view_module_version": "1.5.0",
            "_view_name": "HTMLView",
            "description": "",
            "description_tooltip": null,
            "layout": "IPY_MODEL_80ef0553e5ed416c9a93a440dea956ce",
            "placeholder": "​",
            "style": "IPY_MODEL_23ac6ea0519e47009a8c5fb32fcaa784",
            "value": " 548M/548M [00:06&lt;00:00, 72.2MB/s]"
          }
        },
        "565be69de12a45e49855063950fd42e7": {
          "model_module": "@jupyter-widgets/controls",
          "model_module_version": "1.5.0",
          "model_name": "DescriptionStyleModel",
          "state": {
            "_model_module": "@jupyter-widgets/controls",
            "_model_module_version": "1.5.0",
            "_model_name": "DescriptionStyleModel",
            "_view_count": null,
            "_view_module": "@jupyter-widgets/base",
            "_view_module_version": "1.2.0",
            "_view_name": "StyleView",
            "description_width": ""
          }
        },
        "5738d97e424b4ac498de11456d2b5552": {
          "model_module": "@jupyter-widgets/controls",
          "model_module_version": "1.5.0",
          "model_name": "FloatProgressModel",
          "state": {
            "_dom_classes": [],
            "_model_module": "@jupyter-widgets/controls",
            "_model_module_version": "1.5.0",
            "_model_name": "FloatProgressModel",
            "_view_count": null,
            "_view_module": "@jupyter-widgets/controls",
            "_view_module_version": "1.5.0",
            "_view_name": "ProgressView",
            "bar_style": "success",
            "description": "",
            "description_tooltip": null,
            "layout": "IPY_MODEL_02c4be08db3b4647b0acb3f6848b9b4a",
            "max": 124,
            "min": 0,
            "orientation": "horizontal",
            "style": "IPY_MODEL_d703461ef1b94addbf870d28445a3d08",
            "value": 124
          }
        },
        "588c6b9447624feab359a089381d2da5": {
          "model_module": "@jupyter-widgets/controls",
          "model_module_version": "1.5.0",
          "model_name": "HTMLModel",
          "state": {
            "_dom_classes": [],
            "_model_module": "@jupyter-widgets/controls",
            "_model_module_version": "1.5.0",
            "_model_name": "HTMLModel",
            "_view_count": null,
            "_view_module": "@jupyter-widgets/controls",
            "_view_module_version": "1.5.0",
            "_view_name": "HTMLView",
            "description": "",
            "description_tooltip": null,
            "layout": "IPY_MODEL_17244fc31e5a4b3a9c90ed903e07d87a",
            "placeholder": "​",
            "style": "IPY_MODEL_4dbcd8382cef4e67a240b64a8dba1f23",
            "value": " 1.36M/1.36M [00:00&lt;00:00, 16.1MB/s]"
          }
        },
        "5a78f2d0c99e41a7a9fa0d5d4fa9837e": {
          "model_module": "@jupyter-widgets/controls",
          "model_module_version": "1.5.0",
          "model_name": "ProgressStyleModel",
          "state": {
            "_model_module": "@jupyter-widgets/controls",
            "_model_module_version": "1.5.0",
            "_model_name": "ProgressStyleModel",
            "_view_count": null,
            "_view_module": "@jupyter-widgets/base",
            "_view_module_version": "1.2.0",
            "_view_name": "StyleView",
            "bar_color": null,
            "description_width": ""
          }
        },
        "5cdab890e268448a8823e0cb617f9be1": {
          "model_module": "@jupyter-widgets/base",
          "model_module_version": "1.2.0",
          "model_name": "LayoutModel",
          "state": {
            "_model_module": "@jupyter-widgets/base",
            "_model_module_version": "1.2.0",
            "_model_name": "LayoutModel",
            "_view_count": null,
            "_view_module": "@jupyter-widgets/base",
            "_view_module_version": "1.2.0",
            "_view_name": "LayoutView",
            "align_content": null,
            "align_items": null,
            "align_self": null,
            "border": null,
            "bottom": null,
            "display": null,
            "flex": null,
            "flex_flow": null,
            "grid_area": null,
            "grid_auto_columns": null,
            "grid_auto_flow": null,
            "grid_auto_rows": null,
            "grid_column": null,
            "grid_gap": null,
            "grid_row": null,
            "grid_template_areas": null,
            "grid_template_columns": null,
            "grid_template_rows": null,
            "height": null,
            "justify_content": null,
            "justify_items": null,
            "left": null,
            "margin": null,
            "max_height": null,
            "max_width": null,
            "min_height": null,
            "min_width": null,
            "object_fit": null,
            "object_position": null,
            "order": null,
            "overflow": null,
            "overflow_x": null,
            "overflow_y": null,
            "padding": null,
            "right": null,
            "top": null,
            "visibility": null,
            "width": null
          }
        },
        "6372e354db5b4978814f55e304a43bbf": {
          "model_module": "@jupyter-widgets/controls",
          "model_module_version": "1.5.0",
          "model_name": "HTMLModel",
          "state": {
            "_dom_classes": [],
            "_model_module": "@jupyter-widgets/controls",
            "_model_module_version": "1.5.0",
            "_model_name": "HTMLModel",
            "_view_count": null,
            "_view_module": "@jupyter-widgets/controls",
            "_view_module_version": "1.5.0",
            "_view_name": "HTMLView",
            "description": "",
            "description_tooltip": null,
            "layout": "IPY_MODEL_f3f3f972cb28474c90bd95203ed65677",
            "placeholder": "​",
            "style": "IPY_MODEL_6afee29c5d5e4b849a8331050c275d07",
            "value": " 26.0/26.0 [00:00&lt;00:00, 339B/s]"
          }
        },
        "661a4f819c6648729d3eac0d4d5a22b8": {
          "model_module": "@jupyter-widgets/base",
          "model_module_version": "1.2.0",
          "model_name": "LayoutModel",
          "state": {
            "_model_module": "@jupyter-widgets/base",
            "_model_module_version": "1.2.0",
            "_model_name": "LayoutModel",
            "_view_count": null,
            "_view_module": "@jupyter-widgets/base",
            "_view_module_version": "1.2.0",
            "_view_name": "LayoutView",
            "align_content": null,
            "align_items": null,
            "align_self": null,
            "border": null,
            "bottom": null,
            "display": null,
            "flex": null,
            "flex_flow": null,
            "grid_area": null,
            "grid_auto_columns": null,
            "grid_auto_flow": null,
            "grid_auto_rows": null,
            "grid_column": null,
            "grid_gap": null,
            "grid_row": null,
            "grid_template_areas": null,
            "grid_template_columns": null,
            "grid_template_rows": null,
            "height": null,
            "justify_content": null,
            "justify_items": null,
            "left": null,
            "margin": null,
            "max_height": null,
            "max_width": null,
            "min_height": null,
            "min_width": null,
            "object_fit": null,
            "object_position": null,
            "order": null,
            "overflow": null,
            "overflow_x": null,
            "overflow_y": null,
            "padding": null,
            "right": null,
            "top": null,
            "visibility": null,
            "width": null
          }
        },
        "6afee29c5d5e4b849a8331050c275d07": {
          "model_module": "@jupyter-widgets/controls",
          "model_module_version": "1.5.0",
          "model_name": "DescriptionStyleModel",
          "state": {
            "_model_module": "@jupyter-widgets/controls",
            "_model_module_version": "1.5.0",
            "_model_name": "DescriptionStyleModel",
            "_view_count": null,
            "_view_module": "@jupyter-widgets/base",
            "_view_module_version": "1.2.0",
            "_view_name": "StyleView",
            "description_width": ""
          }
        },
        "6c41613d3c834ac5ac4cd415dda64c70": {
          "model_module": "@jupyter-widgets/controls",
          "model_module_version": "1.5.0",
          "model_name": "FloatProgressModel",
          "state": {
            "_dom_classes": [],
            "_model_module": "@jupyter-widgets/controls",
            "_model_module_version": "1.5.0",
            "_model_name": "FloatProgressModel",
            "_view_count": null,
            "_view_module": "@jupyter-widgets/controls",
            "_view_module_version": "1.5.0",
            "_view_name": "ProgressView",
            "bar_style": "success",
            "description": "",
            "description_tooltip": null,
            "layout": "IPY_MODEL_37f96285cf10444d825f72c9c0639e5a",
            "max": 665,
            "min": 0,
            "orientation": "horizontal",
            "style": "IPY_MODEL_2901ab9892fe4549935e17c02e3cd518",
            "value": 665
          }
        },
        "6e1c774e55ac4311b65374fe4a077e0d": {
          "model_module": "@jupyter-widgets/base",
          "model_module_version": "1.2.0",
          "model_name": "LayoutModel",
          "state": {
            "_model_module": "@jupyter-widgets/base",
            "_model_module_version": "1.2.0",
            "_model_name": "LayoutModel",
            "_view_count": null,
            "_view_module": "@jupyter-widgets/base",
            "_view_module_version": "1.2.0",
            "_view_name": "LayoutView",
            "align_content": null,
            "align_items": null,
            "align_self": null,
            "border": null,
            "bottom": null,
            "display": null,
            "flex": null,
            "flex_flow": null,
            "grid_area": null,
            "grid_auto_columns": null,
            "grid_auto_flow": null,
            "grid_auto_rows": null,
            "grid_column": null,
            "grid_gap": null,
            "grid_row": null,
            "grid_template_areas": null,
            "grid_template_columns": null,
            "grid_template_rows": null,
            "height": null,
            "justify_content": null,
            "justify_items": null,
            "left": null,
            "margin": null,
            "max_height": null,
            "max_width": null,
            "min_height": null,
            "min_width": null,
            "object_fit": null,
            "object_position": null,
            "order": null,
            "overflow": null,
            "overflow_x": null,
            "overflow_y": null,
            "padding": null,
            "right": null,
            "top": null,
            "visibility": null,
            "width": null
          }
        },
        "7668936874a24615b4ac65b29ae10dbe": {
          "model_module": "@jupyter-widgets/controls",
          "model_module_version": "1.5.0",
          "model_name": "DescriptionStyleModel",
          "state": {
            "_model_module": "@jupyter-widgets/controls",
            "_model_module_version": "1.5.0",
            "_model_name": "DescriptionStyleModel",
            "_view_count": null,
            "_view_module": "@jupyter-widgets/base",
            "_view_module_version": "1.2.0",
            "_view_name": "StyleView",
            "description_width": ""
          }
        },
        "7ab69441f18f48798083743fc0f9a082": {
          "model_module": "@jupyter-widgets/controls",
          "model_module_version": "1.5.0",
          "model_name": "FloatProgressModel",
          "state": {
            "_dom_classes": [],
            "_model_module": "@jupyter-widgets/controls",
            "_model_module_version": "1.5.0",
            "_model_name": "FloatProgressModel",
            "_view_count": null,
            "_view_module": "@jupyter-widgets/controls",
            "_view_module_version": "1.5.0",
            "_view_name": "ProgressView",
            "bar_style": "success",
            "description": "",
            "description_tooltip": null,
            "layout": "IPY_MODEL_a20af70ea1134e4eb61b781ce4ef0893",
            "max": 1355256,
            "min": 0,
            "orientation": "horizontal",
            "style": "IPY_MODEL_2728a9eeb93e4ad48591589f7773fb78",
            "value": 1355256
          }
        },
        "7b53fea799b24ea0a1ff572142ebff70": {
          "model_module": "@jupyter-widgets/base",
          "model_module_version": "1.2.0",
          "model_name": "LayoutModel",
          "state": {
            "_model_module": "@jupyter-widgets/base",
            "_model_module_version": "1.2.0",
            "_model_name": "LayoutModel",
            "_view_count": null,
            "_view_module": "@jupyter-widgets/base",
            "_view_module_version": "1.2.0",
            "_view_name": "LayoutView",
            "align_content": null,
            "align_items": null,
            "align_self": null,
            "border": null,
            "bottom": null,
            "display": null,
            "flex": null,
            "flex_flow": null,
            "grid_area": null,
            "grid_auto_columns": null,
            "grid_auto_flow": null,
            "grid_auto_rows": null,
            "grid_column": null,
            "grid_gap": null,
            "grid_row": null,
            "grid_template_areas": null,
            "grid_template_columns": null,
            "grid_template_rows": null,
            "height": null,
            "justify_content": null,
            "justify_items": null,
            "left": null,
            "margin": null,
            "max_height": null,
            "max_width": null,
            "min_height": null,
            "min_width": null,
            "object_fit": null,
            "object_position": null,
            "order": null,
            "overflow": null,
            "overflow_x": null,
            "overflow_y": null,
            "padding": null,
            "right": null,
            "top": null,
            "visibility": null,
            "width": null
          }
        },
        "7b63c56df4f04c199a94900280363265": {
          "model_module": "@jupyter-widgets/controls",
          "model_module_version": "1.5.0",
          "model_name": "HTMLModel",
          "state": {
            "_dom_classes": [],
            "_model_module": "@jupyter-widgets/controls",
            "_model_module_version": "1.5.0",
            "_model_name": "HTMLModel",
            "_view_count": null,
            "_view_module": "@jupyter-widgets/controls",
            "_view_module_version": "1.5.0",
            "_view_name": "HTMLView",
            "description": "",
            "description_tooltip": null,
            "layout": "IPY_MODEL_4ece9f38b4a6494c9b534ce86e3000e4",
            "placeholder": "​",
            "style": "IPY_MODEL_ca5d2a65d96f453dba5689899b3cf810",
            "value": " 665/665 [00:00&lt;00:00, 29.2kB/s]"
          }
        },
        "7e7619127ae94376a1e5fc3c8d2bb161": {
          "model_module": "@jupyter-widgets/controls",
          "model_module_version": "1.5.0",
          "model_name": "HTMLModel",
          "state": {
            "_dom_classes": [],
            "_model_module": "@jupyter-widgets/controls",
            "_model_module_version": "1.5.0",
            "_model_name": "HTMLModel",
            "_view_count": null,
            "_view_module": "@jupyter-widgets/controls",
            "_view_module_version": "1.5.0",
            "_view_name": "HTMLView",
            "description": "",
            "description_tooltip": null,
            "layout": "IPY_MODEL_abf8d0a05204438da464db8c975c286c",
            "placeholder": "​",
            "style": "IPY_MODEL_31267fb131bc4ec5ae8ea6a81a3121bd",
            "value": "vocab.json: 100%"
          }
        },
        "80ef0553e5ed416c9a93a440dea956ce": {
          "model_module": "@jupyter-widgets/base",
          "model_module_version": "1.2.0",
          "model_name": "LayoutModel",
          "state": {
            "_model_module": "@jupyter-widgets/base",
            "_model_module_version": "1.2.0",
            "_model_name": "LayoutModel",
            "_view_count": null,
            "_view_module": "@jupyter-widgets/base",
            "_view_module_version": "1.2.0",
            "_view_name": "LayoutView",
            "align_content": null,
            "align_items": null,
            "align_self": null,
            "border": null,
            "bottom": null,
            "display": null,
            "flex": null,
            "flex_flow": null,
            "grid_area": null,
            "grid_auto_columns": null,
            "grid_auto_flow": null,
            "grid_auto_rows": null,
            "grid_column": null,
            "grid_gap": null,
            "grid_row": null,
            "grid_template_areas": null,
            "grid_template_columns": null,
            "grid_template_rows": null,
            "height": null,
            "justify_content": null,
            "justify_items": null,
            "left": null,
            "margin": null,
            "max_height": null,
            "max_width": null,
            "min_height": null,
            "min_width": null,
            "object_fit": null,
            "object_position": null,
            "order": null,
            "overflow": null,
            "overflow_x": null,
            "overflow_y": null,
            "padding": null,
            "right": null,
            "top": null,
            "visibility": null,
            "width": null
          }
        },
        "82bf2768ce934a21b344cb1fb8e2489b": {
          "model_module": "@jupyter-widgets/controls",
          "model_module_version": "1.5.0",
          "model_name": "FloatProgressModel",
          "state": {
            "_dom_classes": [],
            "_model_module": "@jupyter-widgets/controls",
            "_model_module_version": "1.5.0",
            "_model_name": "FloatProgressModel",
            "_view_count": null,
            "_view_module": "@jupyter-widgets/controls",
            "_view_module_version": "1.5.0",
            "_view_name": "ProgressView",
            "bar_style": "success",
            "description": "",
            "description_tooltip": null,
            "layout": "IPY_MODEL_5cdab890e268448a8823e0cb617f9be1",
            "max": 456318,
            "min": 0,
            "orientation": "horizontal",
            "style": "IPY_MODEL_8c06ef621708420faa398adc83a571b4",
            "value": 456318
          }
        },
        "85b0aad8f51346a6bcc6a492401d88a6": {
          "model_module": "@jupyter-widgets/controls",
          "model_module_version": "1.5.0",
          "model_name": "ProgressStyleModel",
          "state": {
            "_model_module": "@jupyter-widgets/controls",
            "_model_module_version": "1.5.0",
            "_model_name": "ProgressStyleModel",
            "_view_count": null,
            "_view_module": "@jupyter-widgets/base",
            "_view_module_version": "1.2.0",
            "_view_name": "StyleView",
            "bar_color": null,
            "description_width": ""
          }
        },
        "8c06ef621708420faa398adc83a571b4": {
          "model_module": "@jupyter-widgets/controls",
          "model_module_version": "1.5.0",
          "model_name": "ProgressStyleModel",
          "state": {
            "_model_module": "@jupyter-widgets/controls",
            "_model_module_version": "1.5.0",
            "_model_name": "ProgressStyleModel",
            "_view_count": null,
            "_view_module": "@jupyter-widgets/base",
            "_view_module_version": "1.2.0",
            "_view_name": "StyleView",
            "bar_color": null,
            "description_width": ""
          }
        },
        "8fdecb8c71ba4f70b536d80fcf683269": {
          "model_module": "@jupyter-widgets/controls",
          "model_module_version": "1.5.0",
          "model_name": "FloatProgressModel",
          "state": {
            "_dom_classes": [],
            "_model_module": "@jupyter-widgets/controls",
            "_model_module_version": "1.5.0",
            "_model_name": "FloatProgressModel",
            "_view_count": null,
            "_view_module": "@jupyter-widgets/controls",
            "_view_module_version": "1.5.0",
            "_view_name": "ProgressView",
            "bar_style": "success",
            "description": "",
            "description_tooltip": null,
            "layout": "IPY_MODEL_661a4f819c6648729d3eac0d4d5a22b8",
            "max": 26,
            "min": 0,
            "orientation": "horizontal",
            "style": "IPY_MODEL_39bb1b106cce43039b62513491b19fdb",
            "value": 26
          }
        },
        "93808192885f4a88bb9d24a916ff6518": {
          "model_module": "@jupyter-widgets/base",
          "model_module_version": "1.2.0",
          "model_name": "LayoutModel",
          "state": {
            "_model_module": "@jupyter-widgets/base",
            "_model_module_version": "1.2.0",
            "_model_name": "LayoutModel",
            "_view_count": null,
            "_view_module": "@jupyter-widgets/base",
            "_view_module_version": "1.2.0",
            "_view_name": "LayoutView",
            "align_content": null,
            "align_items": null,
            "align_self": null,
            "border": null,
            "bottom": null,
            "display": null,
            "flex": null,
            "flex_flow": null,
            "grid_area": null,
            "grid_auto_columns": null,
            "grid_auto_flow": null,
            "grid_auto_rows": null,
            "grid_column": null,
            "grid_gap": null,
            "grid_row": null,
            "grid_template_areas": null,
            "grid_template_columns": null,
            "grid_template_rows": null,
            "height": null,
            "justify_content": null,
            "justify_items": null,
            "left": null,
            "margin": null,
            "max_height": null,
            "max_width": null,
            "min_height": null,
            "min_width": null,
            "object_fit": null,
            "object_position": null,
            "order": null,
            "overflow": null,
            "overflow_x": null,
            "overflow_y": null,
            "padding": null,
            "right": null,
            "top": null,
            "visibility": null,
            "width": null
          }
        },
        "9772dc35b853475f976aa820bd32ca92": {
          "model_module": "@jupyter-widgets/base",
          "model_module_version": "1.2.0",
          "model_name": "LayoutModel",
          "state": {
            "_model_module": "@jupyter-widgets/base",
            "_model_module_version": "1.2.0",
            "_model_name": "LayoutModel",
            "_view_count": null,
            "_view_module": "@jupyter-widgets/base",
            "_view_module_version": "1.2.0",
            "_view_name": "LayoutView",
            "align_content": null,
            "align_items": null,
            "align_self": null,
            "border": null,
            "bottom": null,
            "display": null,
            "flex": null,
            "flex_flow": null,
            "grid_area": null,
            "grid_auto_columns": null,
            "grid_auto_flow": null,
            "grid_auto_rows": null,
            "grid_column": null,
            "grid_gap": null,
            "grid_row": null,
            "grid_template_areas": null,
            "grid_template_columns": null,
            "grid_template_rows": null,
            "height": null,
            "justify_content": null,
            "justify_items": null,
            "left": null,
            "margin": null,
            "max_height": null,
            "max_width": null,
            "min_height": null,
            "min_width": null,
            "object_fit": null,
            "object_position": null,
            "order": null,
            "overflow": null,
            "overflow_x": null,
            "overflow_y": null,
            "padding": null,
            "right": null,
            "top": null,
            "visibility": null,
            "width": null
          }
        },
        "97ef8a6d9f6a4c40b102df76662726f1": {
          "model_module": "@jupyter-widgets/controls",
          "model_module_version": "1.5.0",
          "model_name": "DescriptionStyleModel",
          "state": {
            "_model_module": "@jupyter-widgets/controls",
            "_model_module_version": "1.5.0",
            "_model_name": "DescriptionStyleModel",
            "_view_count": null,
            "_view_module": "@jupyter-widgets/base",
            "_view_module_version": "1.2.0",
            "_view_name": "StyleView",
            "description_width": ""
          }
        },
        "9a9fae0f77ac4a8aaca9f2bdd0246c68": {
          "model_module": "@jupyter-widgets/controls",
          "model_module_version": "1.5.0",
          "model_name": "HBoxModel",
          "state": {
            "_dom_classes": [],
            "_model_module": "@jupyter-widgets/controls",
            "_model_module_version": "1.5.0",
            "_model_name": "HBoxModel",
            "_view_count": null,
            "_view_module": "@jupyter-widgets/controls",
            "_view_module_version": "1.5.0",
            "_view_name": "HBoxView",
            "box_style": "",
            "children": [
              "IPY_MODEL_0a18c08387854554814aa9add5afeeab",
              "IPY_MODEL_6c41613d3c834ac5ac4cd415dda64c70",
              "IPY_MODEL_7b63c56df4f04c199a94900280363265"
            ],
            "layout": "IPY_MODEL_cdec85bab9ab43ee95f8f6d006d7a0c6"
          }
        },
        "a20af70ea1134e4eb61b781ce4ef0893": {
          "model_module": "@jupyter-widgets/base",
          "model_module_version": "1.2.0",
          "model_name": "LayoutModel",
          "state": {
            "_model_module": "@jupyter-widgets/base",
            "_model_module_version": "1.2.0",
            "_model_name": "LayoutModel",
            "_view_count": null,
            "_view_module": "@jupyter-widgets/base",
            "_view_module_version": "1.2.0",
            "_view_name": "LayoutView",
            "align_content": null,
            "align_items": null,
            "align_self": null,
            "border": null,
            "bottom": null,
            "display": null,
            "flex": null,
            "flex_flow": null,
            "grid_area": null,
            "grid_auto_columns": null,
            "grid_auto_flow": null,
            "grid_auto_rows": null,
            "grid_column": null,
            "grid_gap": null,
            "grid_row": null,
            "grid_template_areas": null,
            "grid_template_columns": null,
            "grid_template_rows": null,
            "height": null,
            "justify_content": null,
            "justify_items": null,
            "left": null,
            "margin": null,
            "max_height": null,
            "max_width": null,
            "min_height": null,
            "min_width": null,
            "object_fit": null,
            "object_position": null,
            "order": null,
            "overflow": null,
            "overflow_x": null,
            "overflow_y": null,
            "padding": null,
            "right": null,
            "top": null,
            "visibility": null,
            "width": null
          }
        },
        "a2ff4eea105c4d70b8f08d354636b406": {
          "model_module": "@jupyter-widgets/base",
          "model_module_version": "1.2.0",
          "model_name": "LayoutModel",
          "state": {
            "_model_module": "@jupyter-widgets/base",
            "_model_module_version": "1.2.0",
            "_model_name": "LayoutModel",
            "_view_count": null,
            "_view_module": "@jupyter-widgets/base",
            "_view_module_version": "1.2.0",
            "_view_name": "LayoutView",
            "align_content": null,
            "align_items": null,
            "align_self": null,
            "border": null,
            "bottom": null,
            "display": null,
            "flex": null,
            "flex_flow": null,
            "grid_area": null,
            "grid_auto_columns": null,
            "grid_auto_flow": null,
            "grid_auto_rows": null,
            "grid_column": null,
            "grid_gap": null,
            "grid_row": null,
            "grid_template_areas": null,
            "grid_template_columns": null,
            "grid_template_rows": null,
            "height": null,
            "justify_content": null,
            "justify_items": null,
            "left": null,
            "margin": null,
            "max_height": null,
            "max_width": null,
            "min_height": null,
            "min_width": null,
            "object_fit": null,
            "object_position": null,
            "order": null,
            "overflow": null,
            "overflow_x": null,
            "overflow_y": null,
            "padding": null,
            "right": null,
            "top": null,
            "visibility": null,
            "width": null
          }
        },
        "a42a30810c0a43299d36f7acd3b3d0f4": {
          "model_module": "@jupyter-widgets/base",
          "model_module_version": "1.2.0",
          "model_name": "LayoutModel",
          "state": {
            "_model_module": "@jupyter-widgets/base",
            "_model_module_version": "1.2.0",
            "_model_name": "LayoutModel",
            "_view_count": null,
            "_view_module": "@jupyter-widgets/base",
            "_view_module_version": "1.2.0",
            "_view_name": "LayoutView",
            "align_content": null,
            "align_items": null,
            "align_self": null,
            "border": null,
            "bottom": null,
            "display": null,
            "flex": null,
            "flex_flow": null,
            "grid_area": null,
            "grid_auto_columns": null,
            "grid_auto_flow": null,
            "grid_auto_rows": null,
            "grid_column": null,
            "grid_gap": null,
            "grid_row": null,
            "grid_template_areas": null,
            "grid_template_columns": null,
            "grid_template_rows": null,
            "height": null,
            "justify_content": null,
            "justify_items": null,
            "left": null,
            "margin": null,
            "max_height": null,
            "max_width": null,
            "min_height": null,
            "min_width": null,
            "object_fit": null,
            "object_position": null,
            "order": null,
            "overflow": null,
            "overflow_x": null,
            "overflow_y": null,
            "padding": null,
            "right": null,
            "top": null,
            "visibility": null,
            "width": null
          }
        },
        "a844d8eb3b3d4584a18ebb4184c3ec7f": {
          "model_module": "@jupyter-widgets/controls",
          "model_module_version": "1.5.0",
          "model_name": "FloatProgressModel",
          "state": {
            "_dom_classes": [],
            "_model_module": "@jupyter-widgets/controls",
            "_model_module_version": "1.5.0",
            "_model_name": "FloatProgressModel",
            "_view_count": null,
            "_view_module": "@jupyter-widgets/controls",
            "_view_module_version": "1.5.0",
            "_view_name": "ProgressView",
            "bar_style": "success",
            "description": "",
            "description_tooltip": null,
            "layout": "IPY_MODEL_a2ff4eea105c4d70b8f08d354636b406",
            "max": 1042301,
            "min": 0,
            "orientation": "horizontal",
            "style": "IPY_MODEL_85b0aad8f51346a6bcc6a492401d88a6",
            "value": 1042301
          }
        },
        "abf8d0a05204438da464db8c975c286c": {
          "model_module": "@jupyter-widgets/base",
          "model_module_version": "1.2.0",
          "model_name": "LayoutModel",
          "state": {
            "_model_module": "@jupyter-widgets/base",
            "_model_module_version": "1.2.0",
            "_model_name": "LayoutModel",
            "_view_count": null,
            "_view_module": "@jupyter-widgets/base",
            "_view_module_version": "1.2.0",
            "_view_name": "LayoutView",
            "align_content": null,
            "align_items": null,
            "align_self": null,
            "border": null,
            "bottom": null,
            "display": null,
            "flex": null,
            "flex_flow": null,
            "grid_area": null,
            "grid_auto_columns": null,
            "grid_auto_flow": null,
            "grid_auto_rows": null,
            "grid_column": null,
            "grid_gap": null,
            "grid_row": null,
            "grid_template_areas": null,
            "grid_template_columns": null,
            "grid_template_rows": null,
            "height": null,
            "justify_content": null,
            "justify_items": null,
            "left": null,
            "margin": null,
            "max_height": null,
            "max_width": null,
            "min_height": null,
            "min_width": null,
            "object_fit": null,
            "object_position": null,
            "order": null,
            "overflow": null,
            "overflow_x": null,
            "overflow_y": null,
            "padding": null,
            "right": null,
            "top": null,
            "visibility": null,
            "width": null
          }
        },
        "afeb094c4c204251b793f6c15a382569": {
          "model_module": "@jupyter-widgets/base",
          "model_module_version": "1.2.0",
          "model_name": "LayoutModel",
          "state": {
            "_model_module": "@jupyter-widgets/base",
            "_model_module_version": "1.2.0",
            "_model_name": "LayoutModel",
            "_view_count": null,
            "_view_module": "@jupyter-widgets/base",
            "_view_module_version": "1.2.0",
            "_view_name": "LayoutView",
            "align_content": null,
            "align_items": null,
            "align_self": null,
            "border": null,
            "bottom": null,
            "display": null,
            "flex": null,
            "flex_flow": null,
            "grid_area": null,
            "grid_auto_columns": null,
            "grid_auto_flow": null,
            "grid_auto_rows": null,
            "grid_column": null,
            "grid_gap": null,
            "grid_row": null,
            "grid_template_areas": null,
            "grid_template_columns": null,
            "grid_template_rows": null,
            "height": null,
            "justify_content": null,
            "justify_items": null,
            "left": null,
            "margin": null,
            "max_height": null,
            "max_width": null,
            "min_height": null,
            "min_width": null,
            "object_fit": null,
            "object_position": null,
            "order": null,
            "overflow": null,
            "overflow_x": null,
            "overflow_y": null,
            "padding": null,
            "right": null,
            "top": null,
            "visibility": null,
            "width": null
          }
        },
        "b3ed7930c6e2471c9112e1d22227928a": {
          "model_module": "@jupyter-widgets/controls",
          "model_module_version": "1.5.0",
          "model_name": "DescriptionStyleModel",
          "state": {
            "_model_module": "@jupyter-widgets/controls",
            "_model_module_version": "1.5.0",
            "_model_name": "DescriptionStyleModel",
            "_view_count": null,
            "_view_module": "@jupyter-widgets/base",
            "_view_module_version": "1.2.0",
            "_view_name": "StyleView",
            "description_width": ""
          }
        },
        "b992a3cea7d04643a32054ab68eeb21a": {
          "model_module": "@jupyter-widgets/base",
          "model_module_version": "1.2.0",
          "model_name": "LayoutModel",
          "state": {
            "_model_module": "@jupyter-widgets/base",
            "_model_module_version": "1.2.0",
            "_model_name": "LayoutModel",
            "_view_count": null,
            "_view_module": "@jupyter-widgets/base",
            "_view_module_version": "1.2.0",
            "_view_name": "LayoutView",
            "align_content": null,
            "align_items": null,
            "align_self": null,
            "border": null,
            "bottom": null,
            "display": null,
            "flex": null,
            "flex_flow": null,
            "grid_area": null,
            "grid_auto_columns": null,
            "grid_auto_flow": null,
            "grid_auto_rows": null,
            "grid_column": null,
            "grid_gap": null,
            "grid_row": null,
            "grid_template_areas": null,
            "grid_template_columns": null,
            "grid_template_rows": null,
            "height": null,
            "justify_content": null,
            "justify_items": null,
            "left": null,
            "margin": null,
            "max_height": null,
            "max_width": null,
            "min_height": null,
            "min_width": null,
            "object_fit": null,
            "object_position": null,
            "order": null,
            "overflow": null,
            "overflow_x": null,
            "overflow_y": null,
            "padding": null,
            "right": null,
            "top": null,
            "visibility": null,
            "width": null
          }
        },
        "baf3b7e5c9e44640bb49484d8637e312": {
          "model_module": "@jupyter-widgets/controls",
          "model_module_version": "1.5.0",
          "model_name": "HTMLModel",
          "state": {
            "_dom_classes": [],
            "_model_module": "@jupyter-widgets/controls",
            "_model_module_version": "1.5.0",
            "_model_name": "HTMLModel",
            "_view_count": null,
            "_view_module": "@jupyter-widgets/controls",
            "_view_module_version": "1.5.0",
            "_view_name": "HTMLView",
            "description": "",
            "description_tooltip": null,
            "layout": "IPY_MODEL_afeb094c4c204251b793f6c15a382569",
            "placeholder": "​",
            "style": "IPY_MODEL_ca1603a475cd46b4a4138513d09dae16",
            "value": "tokenizer_config.json: 100%"
          }
        },
        "ca1603a475cd46b4a4138513d09dae16": {
          "model_module": "@jupyter-widgets/controls",
          "model_module_version": "1.5.0",
          "model_name": "DescriptionStyleModel",
          "state": {
            "_model_module": "@jupyter-widgets/controls",
            "_model_module_version": "1.5.0",
            "_model_name": "DescriptionStyleModel",
            "_view_count": null,
            "_view_module": "@jupyter-widgets/base",
            "_view_module_version": "1.2.0",
            "_view_name": "StyleView",
            "description_width": ""
          }
        },
        "ca5d2a65d96f453dba5689899b3cf810": {
          "model_module": "@jupyter-widgets/controls",
          "model_module_version": "1.5.0",
          "model_name": "DescriptionStyleModel",
          "state": {
            "_model_module": "@jupyter-widgets/controls",
            "_model_module_version": "1.5.0",
            "_model_name": "DescriptionStyleModel",
            "_view_count": null,
            "_view_module": "@jupyter-widgets/base",
            "_view_module_version": "1.2.0",
            "_view_name": "StyleView",
            "description_width": ""
          }
        },
        "cdec85bab9ab43ee95f8f6d006d7a0c6": {
          "model_module": "@jupyter-widgets/base",
          "model_module_version": "1.2.0",
          "model_name": "LayoutModel",
          "state": {
            "_model_module": "@jupyter-widgets/base",
            "_model_module_version": "1.2.0",
            "_model_name": "LayoutModel",
            "_view_count": null,
            "_view_module": "@jupyter-widgets/base",
            "_view_module_version": "1.2.0",
            "_view_name": "LayoutView",
            "align_content": null,
            "align_items": null,
            "align_self": null,
            "border": null,
            "bottom": null,
            "display": null,
            "flex": null,
            "flex_flow": null,
            "grid_area": null,
            "grid_auto_columns": null,
            "grid_auto_flow": null,
            "grid_auto_rows": null,
            "grid_column": null,
            "grid_gap": null,
            "grid_row": null,
            "grid_template_areas": null,
            "grid_template_columns": null,
            "grid_template_rows": null,
            "height": null,
            "justify_content": null,
            "justify_items": null,
            "left": null,
            "margin": null,
            "max_height": null,
            "max_width": null,
            "min_height": null,
            "min_width": null,
            "object_fit": null,
            "object_position": null,
            "order": null,
            "overflow": null,
            "overflow_x": null,
            "overflow_y": null,
            "padding": null,
            "right": null,
            "top": null,
            "visibility": null,
            "width": null
          }
        },
        "cea8142b11e849f4bf116e2473fb7c7c": {
          "model_module": "@jupyter-widgets/base",
          "model_module_version": "1.2.0",
          "model_name": "LayoutModel",
          "state": {
            "_model_module": "@jupyter-widgets/base",
            "_model_module_version": "1.2.0",
            "_model_name": "LayoutModel",
            "_view_count": null,
            "_view_module": "@jupyter-widgets/base",
            "_view_module_version": "1.2.0",
            "_view_name": "LayoutView",
            "align_content": null,
            "align_items": null,
            "align_self": null,
            "border": null,
            "bottom": null,
            "display": null,
            "flex": null,
            "flex_flow": null,
            "grid_area": null,
            "grid_auto_columns": null,
            "grid_auto_flow": null,
            "grid_auto_rows": null,
            "grid_column": null,
            "grid_gap": null,
            "grid_row": null,
            "grid_template_areas": null,
            "grid_template_columns": null,
            "grid_template_rows": null,
            "height": null,
            "justify_content": null,
            "justify_items": null,
            "left": null,
            "margin": null,
            "max_height": null,
            "max_width": null,
            "min_height": null,
            "min_width": null,
            "object_fit": null,
            "object_position": null,
            "order": null,
            "overflow": null,
            "overflow_x": null,
            "overflow_y": null,
            "padding": null,
            "right": null,
            "top": null,
            "visibility": null,
            "width": null
          }
        },
        "d57099823cfe4d8cb52fe39b0d425a91": {
          "model_module": "@jupyter-widgets/base",
          "model_module_version": "1.2.0",
          "model_name": "LayoutModel",
          "state": {
            "_model_module": "@jupyter-widgets/base",
            "_model_module_version": "1.2.0",
            "_model_name": "LayoutModel",
            "_view_count": null,
            "_view_module": "@jupyter-widgets/base",
            "_view_module_version": "1.2.0",
            "_view_name": "LayoutView",
            "align_content": null,
            "align_items": null,
            "align_self": null,
            "border": null,
            "bottom": null,
            "display": null,
            "flex": null,
            "flex_flow": null,
            "grid_area": null,
            "grid_auto_columns": null,
            "grid_auto_flow": null,
            "grid_auto_rows": null,
            "grid_column": null,
            "grid_gap": null,
            "grid_row": null,
            "grid_template_areas": null,
            "grid_template_columns": null,
            "grid_template_rows": null,
            "height": null,
            "justify_content": null,
            "justify_items": null,
            "left": null,
            "margin": null,
            "max_height": null,
            "max_width": null,
            "min_height": null,
            "min_width": null,
            "object_fit": null,
            "object_position": null,
            "order": null,
            "overflow": null,
            "overflow_x": null,
            "overflow_y": null,
            "padding": null,
            "right": null,
            "top": null,
            "visibility": null,
            "width": null
          }
        },
        "d703461ef1b94addbf870d28445a3d08": {
          "model_module": "@jupyter-widgets/controls",
          "model_module_version": "1.5.0",
          "model_name": "ProgressStyleModel",
          "state": {
            "_model_module": "@jupyter-widgets/controls",
            "_model_module_version": "1.5.0",
            "_model_name": "ProgressStyleModel",
            "_view_count": null,
            "_view_module": "@jupyter-widgets/base",
            "_view_module_version": "1.2.0",
            "_view_name": "StyleView",
            "bar_color": null,
            "description_width": ""
          }
        },
        "d79c15b322534595b46f211537e82801": {
          "model_module": "@jupyter-widgets/base",
          "model_module_version": "1.2.0",
          "model_name": "LayoutModel",
          "state": {
            "_model_module": "@jupyter-widgets/base",
            "_model_module_version": "1.2.0",
            "_model_name": "LayoutModel",
            "_view_count": null,
            "_view_module": "@jupyter-widgets/base",
            "_view_module_version": "1.2.0",
            "_view_name": "LayoutView",
            "align_content": null,
            "align_items": null,
            "align_self": null,
            "border": null,
            "bottom": null,
            "display": null,
            "flex": null,
            "flex_flow": null,
            "grid_area": null,
            "grid_auto_columns": null,
            "grid_auto_flow": null,
            "grid_auto_rows": null,
            "grid_column": null,
            "grid_gap": null,
            "grid_row": null,
            "grid_template_areas": null,
            "grid_template_columns": null,
            "grid_template_rows": null,
            "height": null,
            "justify_content": null,
            "justify_items": null,
            "left": null,
            "margin": null,
            "max_height": null,
            "max_width": null,
            "min_height": null,
            "min_width": null,
            "object_fit": null,
            "object_position": null,
            "order": null,
            "overflow": null,
            "overflow_x": null,
            "overflow_y": null,
            "padding": null,
            "right": null,
            "top": null,
            "visibility": null,
            "width": null
          }
        },
        "dbdc9fb7f0ad44f6a6951e694f844a54": {
          "model_module": "@jupyter-widgets/controls",
          "model_module_version": "1.5.0",
          "model_name": "HTMLModel",
          "state": {
            "_dom_classes": [],
            "_model_module": "@jupyter-widgets/controls",
            "_model_module_version": "1.5.0",
            "_model_name": "HTMLModel",
            "_view_count": null,
            "_view_module": "@jupyter-widgets/controls",
            "_view_module_version": "1.5.0",
            "_view_name": "HTMLView",
            "description": "",
            "description_tooltip": null,
            "layout": "IPY_MODEL_a42a30810c0a43299d36f7acd3b3d0f4",
            "placeholder": "​",
            "style": "IPY_MODEL_350c5f32d6ca4d1fbea825f5efde6c1e",
            "value": "merges.txt: 100%"
          }
        },
        "de44ce469f5b4f4fb0c0dffab210a073": {
          "model_module": "@jupyter-widgets/controls",
          "model_module_version": "1.5.0",
          "model_name": "HTMLModel",
          "state": {
            "_dom_classes": [],
            "_model_module": "@jupyter-widgets/controls",
            "_model_module_version": "1.5.0",
            "_model_name": "HTMLModel",
            "_view_count": null,
            "_view_module": "@jupyter-widgets/controls",
            "_view_module_version": "1.5.0",
            "_view_name": "HTMLView",
            "description": "",
            "description_tooltip": null,
            "layout": "IPY_MODEL_6e1c774e55ac4311b65374fe4a077e0d",
            "placeholder": "​",
            "style": "IPY_MODEL_565be69de12a45e49855063950fd42e7",
            "value": " 124/124 [00:00&lt;00:00, 3.54kB/s]"
          }
        },
        "e553276b0656466fb9475d0191ec86e6": {
          "model_module": "@jupyter-widgets/base",
          "model_module_version": "1.2.0",
          "model_name": "LayoutModel",
          "state": {
            "_model_module": "@jupyter-widgets/base",
            "_model_module_version": "1.2.0",
            "_model_name": "LayoutModel",
            "_view_count": null,
            "_view_module": "@jupyter-widgets/base",
            "_view_module_version": "1.2.0",
            "_view_name": "LayoutView",
            "align_content": null,
            "align_items": null,
            "align_self": null,
            "border": null,
            "bottom": null,
            "display": null,
            "flex": null,
            "flex_flow": null,
            "grid_area": null,
            "grid_auto_columns": null,
            "grid_auto_flow": null,
            "grid_auto_rows": null,
            "grid_column": null,
            "grid_gap": null,
            "grid_row": null,
            "grid_template_areas": null,
            "grid_template_columns": null,
            "grid_template_rows": null,
            "height": null,
            "justify_content": null,
            "justify_items": null,
            "left": null,
            "margin": null,
            "max_height": null,
            "max_width": null,
            "min_height": null,
            "min_width": null,
            "object_fit": null,
            "object_position": null,
            "order": null,
            "overflow": null,
            "overflow_x": null,
            "overflow_y": null,
            "padding": null,
            "right": null,
            "top": null,
            "visibility": null,
            "width": null
          }
        },
        "eda30a70270b4f32b6adefb0692b3cbe": {
          "model_module": "@jupyter-widgets/controls",
          "model_module_version": "1.5.0",
          "model_name": "HBoxModel",
          "state": {
            "_dom_classes": [],
            "_model_module": "@jupyter-widgets/controls",
            "_model_module_version": "1.5.0",
            "_model_name": "HBoxModel",
            "_view_count": null,
            "_view_module": "@jupyter-widgets/controls",
            "_view_module_version": "1.5.0",
            "_view_name": "HBoxView",
            "box_style": "",
            "children": [
              "IPY_MODEL_1b7826c43c594ad9bdb3a534b1408730",
              "IPY_MODEL_5738d97e424b4ac498de11456d2b5552",
              "IPY_MODEL_de44ce469f5b4f4fb0c0dffab210a073"
            ],
            "layout": "IPY_MODEL_4592aa762bcf4e82884790bcbd29d75b"
          }
        },
        "ee079b60629a4bfe9ece69fb0498ec13": {
          "model_module": "@jupyter-widgets/base",
          "model_module_version": "1.2.0",
          "model_name": "LayoutModel",
          "state": {
            "_model_module": "@jupyter-widgets/base",
            "_model_module_version": "1.2.0",
            "_model_name": "LayoutModel",
            "_view_count": null,
            "_view_module": "@jupyter-widgets/base",
            "_view_module_version": "1.2.0",
            "_view_name": "LayoutView",
            "align_content": null,
            "align_items": null,
            "align_self": null,
            "border": null,
            "bottom": null,
            "display": null,
            "flex": null,
            "flex_flow": null,
            "grid_area": null,
            "grid_auto_columns": null,
            "grid_auto_flow": null,
            "grid_auto_rows": null,
            "grid_column": null,
            "grid_gap": null,
            "grid_row": null,
            "grid_template_areas": null,
            "grid_template_columns": null,
            "grid_template_rows": null,
            "height": null,
            "justify_content": null,
            "justify_items": null,
            "left": null,
            "margin": null,
            "max_height": null,
            "max_width": null,
            "min_height": null,
            "min_width": null,
            "object_fit": null,
            "object_position": null,
            "order": null,
            "overflow": null,
            "overflow_x": null,
            "overflow_y": null,
            "padding": null,
            "right": null,
            "top": null,
            "visibility": null,
            "width": null
          }
        },
        "f3f3f972cb28474c90bd95203ed65677": {
          "model_module": "@jupyter-widgets/base",
          "model_module_version": "1.2.0",
          "model_name": "LayoutModel",
          "state": {
            "_model_module": "@jupyter-widgets/base",
            "_model_module_version": "1.2.0",
            "_model_name": "LayoutModel",
            "_view_count": null,
            "_view_module": "@jupyter-widgets/base",
            "_view_module_version": "1.2.0",
            "_view_name": "LayoutView",
            "align_content": null,
            "align_items": null,
            "align_self": null,
            "border": null,
            "bottom": null,
            "display": null,
            "flex": null,
            "flex_flow": null,
            "grid_area": null,
            "grid_auto_columns": null,
            "grid_auto_flow": null,
            "grid_auto_rows": null,
            "grid_column": null,
            "grid_gap": null,
            "grid_row": null,
            "grid_template_areas": null,
            "grid_template_columns": null,
            "grid_template_rows": null,
            "height": null,
            "justify_content": null,
            "justify_items": null,
            "left": null,
            "margin": null,
            "max_height": null,
            "max_width": null,
            "min_height": null,
            "min_width": null,
            "object_fit": null,
            "object_position": null,
            "order": null,
            "overflow": null,
            "overflow_x": null,
            "overflow_y": null,
            "padding": null,
            "right": null,
            "top": null,
            "visibility": null,
            "width": null
          }
        },
        "fb7a11b2399b4f4abfc0783b891f771f": {
          "model_module": "@jupyter-widgets/base",
          "model_module_version": "1.2.0",
          "model_name": "LayoutModel",
          "state": {
            "_model_module": "@jupyter-widgets/base",
            "_model_module_version": "1.2.0",
            "_model_name": "LayoutModel",
            "_view_count": null,
            "_view_module": "@jupyter-widgets/base",
            "_view_module_version": "1.2.0",
            "_view_name": "LayoutView",
            "align_content": null,
            "align_items": null,
            "align_self": null,
            "border": null,
            "bottom": null,
            "display": null,
            "flex": null,
            "flex_flow": null,
            "grid_area": null,
            "grid_auto_columns": null,
            "grid_auto_flow": null,
            "grid_auto_rows": null,
            "grid_column": null,
            "grid_gap": null,
            "grid_row": null,
            "grid_template_areas": null,
            "grid_template_columns": null,
            "grid_template_rows": null,
            "height": null,
            "justify_content": null,
            "justify_items": null,
            "left": null,
            "margin": null,
            "max_height": null,
            "max_width": null,
            "min_height": null,
            "min_width": null,
            "object_fit": null,
            "object_position": null,
            "order": null,
            "overflow": null,
            "overflow_x": null,
            "overflow_y": null,
            "padding": null,
            "right": null,
            "top": null,
            "visibility": null,
            "width": null
          }
        },
        "fe494df9fc9947d392f267cdf02ac11c": {
          "model_module": "@jupyter-widgets/controls",
          "model_module_version": "1.5.0",
          "model_name": "HTMLModel",
          "state": {
            "_dom_classes": [],
            "_model_module": "@jupyter-widgets/controls",
            "_model_module_version": "1.5.0",
            "_model_name": "HTMLModel",
            "_view_count": null,
            "_view_module": "@jupyter-widgets/controls",
            "_view_module_version": "1.5.0",
            "_view_name": "HTMLView",
            "description": "",
            "description_tooltip": null,
            "layout": "IPY_MODEL_2a582ddf58a74d198dd20cd0379ccdb7",
            "placeholder": "​",
            "style": "IPY_MODEL_45eb7146b0c34cb696fa67029ae982d4",
            "value": "tokenizer.json: 100%"
          }
        }
      }
    }
  },
  "nbformat": 4,
  "nbformat_minor": 0
}
